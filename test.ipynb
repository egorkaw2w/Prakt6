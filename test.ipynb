{
 "cells": [
  {
   "cell_type": "code",
   "execution_count": 537,
   "metadata": {},
   "outputs": [],
   "source": [
    "import numpy as np\n",
    "import pandas as pd\n",
    "import seaborn as sns\n",
    "from sklearn.ensemble import RandomForestClassifier\n",
    "from sklearn.metrics import r2_score, mean_absolute_error, max_error, mean_squared_error, confusion_matrix, accuracy_score, recall_score, precision_score, f1_score\n",
    "from sklearn.preprocessing import StandardScaler, OrdinalEncoder\n",
    "\n",
    "import keras\n",
    "\n",
    "import plotly.express as px\n",
    "\n",
    "import warnings\n",
    "warnings.simplefilter(action='ignore', category=FutureWarning)"
   ]
  },
  {
   "cell_type": "code",
   "execution_count": 538,
   "metadata": {},
   "outputs": [],
   "source": [
    "df = pd.read_csv(\"./student_depression_dataset.csv\", nrows=1000)\n"
   ]
  },
  {
   "cell_type": "code",
   "execution_count": null,
   "metadata": {},
   "outputs": [
    {
     "data": {
      "text/html": [
       "<div>\n",
       "<style scoped>\n",
       "    .dataframe tbody tr th:only-of-type {\n",
       "        vertical-align: middle;\n",
       "    }\n",
       "\n",
       "    .dataframe tbody tr th {\n",
       "        vertical-align: top;\n",
       "    }\n",
       "\n",
       "    .dataframe thead th {\n",
       "        text-align: right;\n",
       "    }\n",
       "</style>\n",
       "<table border=\"1\" class=\"dataframe\">\n",
       "  <thead>\n",
       "    <tr style=\"text-align: right;\">\n",
       "      <th></th>\n",
       "      <th>Gender</th>\n",
       "      <th>Academic Pressure</th>\n",
       "      <th>Have you ever had suicidal thoughts ?</th>\n",
       "      <th>Financial Stress</th>\n",
       "      <th>Depression</th>\n",
       "    </tr>\n",
       "  </thead>\n",
       "  <tbody>\n",
       "    <tr>\n",
       "      <th>0</th>\n",
       "      <td>1.0</td>\n",
       "      <td>5.0</td>\n",
       "      <td>1.0</td>\n",
       "      <td>1.0</td>\n",
       "      <td>1</td>\n",
       "    </tr>\n",
       "    <tr>\n",
       "      <th>1</th>\n",
       "      <td>0.0</td>\n",
       "      <td>2.0</td>\n",
       "      <td>0.0</td>\n",
       "      <td>2.0</td>\n",
       "      <td>0</td>\n",
       "    </tr>\n",
       "    <tr>\n",
       "      <th>2</th>\n",
       "      <td>1.0</td>\n",
       "      <td>3.0</td>\n",
       "      <td>0.0</td>\n",
       "      <td>1.0</td>\n",
       "      <td>0</td>\n",
       "    </tr>\n",
       "    <tr>\n",
       "      <th>3</th>\n",
       "      <td>0.0</td>\n",
       "      <td>3.0</td>\n",
       "      <td>1.0</td>\n",
       "      <td>5.0</td>\n",
       "      <td>1</td>\n",
       "    </tr>\n",
       "    <tr>\n",
       "      <th>4</th>\n",
       "      <td>0.0</td>\n",
       "      <td>4.0</td>\n",
       "      <td>1.0</td>\n",
       "      <td>1.0</td>\n",
       "      <td>0</td>\n",
       "    </tr>\n",
       "    <tr>\n",
       "      <th>...</th>\n",
       "      <td>...</td>\n",
       "      <td>...</td>\n",
       "      <td>...</td>\n",
       "      <td>...</td>\n",
       "      <td>...</td>\n",
       "    </tr>\n",
       "    <tr>\n",
       "      <th>995</th>\n",
       "      <td>1.0</td>\n",
       "      <td>4.0</td>\n",
       "      <td>1.0</td>\n",
       "      <td>3.0</td>\n",
       "      <td>0</td>\n",
       "    </tr>\n",
       "    <tr>\n",
       "      <th>996</th>\n",
       "      <td>0.0</td>\n",
       "      <td>3.0</td>\n",
       "      <td>1.0</td>\n",
       "      <td>5.0</td>\n",
       "      <td>1</td>\n",
       "    </tr>\n",
       "    <tr>\n",
       "      <th>997</th>\n",
       "      <td>1.0</td>\n",
       "      <td>4.0</td>\n",
       "      <td>0.0</td>\n",
       "      <td>1.0</td>\n",
       "      <td>0</td>\n",
       "    </tr>\n",
       "    <tr>\n",
       "      <th>998</th>\n",
       "      <td>0.0</td>\n",
       "      <td>3.0</td>\n",
       "      <td>0.0</td>\n",
       "      <td>1.0</td>\n",
       "      <td>0</td>\n",
       "    </tr>\n",
       "    <tr>\n",
       "      <th>999</th>\n",
       "      <td>1.0</td>\n",
       "      <td>4.0</td>\n",
       "      <td>1.0</td>\n",
       "      <td>4.0</td>\n",
       "      <td>1</td>\n",
       "    </tr>\n",
       "  </tbody>\n",
       "</table>\n",
       "<p>1000 rows × 5 columns</p>\n",
       "</div>"
      ],
      "text/plain": [
       "     Gender  Academic Pressure  Have you ever had suicidal thoughts ?  \\\n",
       "0       1.0                5.0                                    1.0   \n",
       "1       0.0                2.0                                    0.0   \n",
       "2       1.0                3.0                                    0.0   \n",
       "3       0.0                3.0                                    1.0   \n",
       "4       0.0                4.0                                    1.0   \n",
       "..      ...                ...                                    ...   \n",
       "995     1.0                4.0                                    1.0   \n",
       "996     0.0                3.0                                    1.0   \n",
       "997     1.0                4.0                                    0.0   \n",
       "998     0.0                3.0                                    0.0   \n",
       "999     1.0                4.0                                    1.0   \n",
       "\n",
       "     Financial Stress  Depression  \n",
       "0                 1.0           1  \n",
       "1                 2.0           0  \n",
       "2                 1.0           0  \n",
       "3                 5.0           1  \n",
       "4                 1.0           0  \n",
       "..                ...         ...  \n",
       "995               3.0           0  \n",
       "996               5.0           1  \n",
       "997               1.0           0  \n",
       "998               1.0           0  \n",
       "999               4.0           1  \n",
       "\n",
       "[1000 rows x 5 columns]"
      ]
     },
     "execution_count": 539,
     "metadata": {},
     "output_type": "execute_result"
    }
   ],
   "source": [
    "df.replace('?', 0, inplace=True)\n",
    "df.drop([\"id\",\"Work Pressure\",\"Family History of Mental Illness\", \"Degree\", \"Study Satisfaction\", \"Sleep Duration\", \"Dietary Habits\",\"Gender\",\"Age\",\"City\",\"Profession\",\"CGPA\",\"Job Satisfaction\",\"Work/Study Hours\"], axis=1, inplace=True)\n",
    "Oenc = OrdinalEncoder()\n",
    "df[[\"Have you ever had suicidal thoughts ?\"]] = Oenc.fit_transform(df[[\"Have you ever had suicidal thoughts ?\" ]])\n",
    "df"
   ]
  },
  {
   "cell_type": "code",
   "execution_count": 540,
   "metadata": {},
   "outputs": [
    {
     "data": {
      "text/plain": [
       "<Axes: >"
      ]
     },
     "execution_count": 540,
     "metadata": {},
     "output_type": "execute_result"
    },
    {
     "data": {
      "image/png": "[encoded data removed]",
      "text/plain": [
       "<Figure size 640x480 with 2 Axes>"
      ]
     },
     "metadata": {},
     "output_type": "display_data"
    }
   ],
   "source": [
    "sns.heatmap(df.corr(), vmin=-1, center=0, vmax=1) "
   ]
  },
  {
   "cell_type": "code",
   "execution_count": 541,
   "metadata": {},
   "outputs": [],
   "source": [
    "train,validation, test = np.split(df, [int(.7*len(df)), int(.9*len(df))])\n"
   ]
  },
  {
   "cell_type": "code",
   "execution_count": 542,
   "metadata": {},
   "outputs": [
    {
     "data": {
      "text/html": [
       "<div>\n",
       "<style scoped>\n",
       "    .dataframe tbody tr th:only-of-type {\n",
       "        vertical-align: middle;\n",
       "    }\n",
       "\n",
       "    .dataframe tbody tr th {\n",
       "        vertical-align: top;\n",
       "    }\n",
       "\n",
       "    .dataframe thead th {\n",
       "        text-align: right;\n",
       "    }\n",
       "</style>\n",
       "<table border=\"1\" class=\"dataframe\">\n",
       "  <thead>\n",
       "    <tr style=\"text-align: right;\">\n",
       "      <th></th>\n",
       "      <th>Gender</th>\n",
       "      <th>Academic Pressure</th>\n",
       "      <th>Have you ever had suicidal thoughts ?</th>\n",
       "      <th>Financial Stress</th>\n",
       "      <th>Depression</th>\n",
       "    </tr>\n",
       "  </thead>\n",
       "  <tbody>\n",
       "    <tr>\n",
       "      <th>0</th>\n",
       "      <td>1.0</td>\n",
       "      <td>5.0</td>\n",
       "      <td>1.0</td>\n",
       "      <td>1.0</td>\n",
       "      <td>1</td>\n",
       "    </tr>\n",
       "    <tr>\n",
       "      <th>1</th>\n",
       "      <td>0.0</td>\n",
       "      <td>2.0</td>\n",
       "      <td>0.0</td>\n",
       "      <td>2.0</td>\n",
       "      <td>0</td>\n",
       "    </tr>\n",
       "    <tr>\n",
       "      <th>2</th>\n",
       "      <td>1.0</td>\n",
       "      <td>3.0</td>\n",
       "      <td>0.0</td>\n",
       "      <td>1.0</td>\n",
       "      <td>0</td>\n",
       "    </tr>\n",
       "    <tr>\n",
       "      <th>3</th>\n",
       "      <td>0.0</td>\n",
       "      <td>3.0</td>\n",
       "      <td>1.0</td>\n",
       "      <td>5.0</td>\n",
       "      <td>1</td>\n",
       "    </tr>\n",
       "    <tr>\n",
       "      <th>4</th>\n",
       "      <td>0.0</td>\n",
       "      <td>4.0</td>\n",
       "      <td>1.0</td>\n",
       "      <td>1.0</td>\n",
       "      <td>0</td>\n",
       "    </tr>\n",
       "    <tr>\n",
       "      <th>...</th>\n",
       "      <td>...</td>\n",
       "      <td>...</td>\n",
       "      <td>...</td>\n",
       "      <td>...</td>\n",
       "      <td>...</td>\n",
       "    </tr>\n",
       "    <tr>\n",
       "      <th>695</th>\n",
       "      <td>0.0</td>\n",
       "      <td>5.0</td>\n",
       "      <td>1.0</td>\n",
       "      <td>4.0</td>\n",
       "      <td>1</td>\n",
       "    </tr>\n",
       "    <tr>\n",
       "      <th>696</th>\n",
       "      <td>0.0</td>\n",
       "      <td>4.0</td>\n",
       "      <td>0.0</td>\n",
       "      <td>5.0</td>\n",
       "      <td>1</td>\n",
       "    </tr>\n",
       "    <tr>\n",
       "      <th>697</th>\n",
       "      <td>1.0</td>\n",
       "      <td>5.0</td>\n",
       "      <td>1.0</td>\n",
       "      <td>4.0</td>\n",
       "      <td>1</td>\n",
       "    </tr>\n",
       "    <tr>\n",
       "      <th>698</th>\n",
       "      <td>0.0</td>\n",
       "      <td>2.0</td>\n",
       "      <td>1.0</td>\n",
       "      <td>5.0</td>\n",
       "      <td>1</td>\n",
       "    </tr>\n",
       "    <tr>\n",
       "      <th>699</th>\n",
       "      <td>1.0</td>\n",
       "      <td>1.0</td>\n",
       "      <td>0.0</td>\n",
       "      <td>4.0</td>\n",
       "      <td>1</td>\n",
       "    </tr>\n",
       "  </tbody>\n",
       "</table>\n",
       "<p>700 rows × 5 columns</p>\n",
       "</div>"
      ],
      "text/plain": [
       "     Gender  Academic Pressure  Have you ever had suicidal thoughts ?  \\\n",
       "0       1.0                5.0                                    1.0   \n",
       "1       0.0                2.0                                    0.0   \n",
       "2       1.0                3.0                                    0.0   \n",
       "3       0.0                3.0                                    1.0   \n",
       "4       0.0                4.0                                    1.0   \n",
       "..      ...                ...                                    ...   \n",
       "695     0.0                5.0                                    1.0   \n",
       "696     0.0                4.0                                    0.0   \n",
       "697     1.0                5.0                                    1.0   \n",
       "698     0.0                2.0                                    1.0   \n",
       "699     1.0                1.0                                    0.0   \n",
       "\n",
       "     Financial Stress  Depression  \n",
       "0                 1.0           1  \n",
       "1                 2.0           0  \n",
       "2                 1.0           0  \n",
       "3                 5.0           1  \n",
       "4                 1.0           0  \n",
       "..                ...         ...  \n",
       "695               4.0           1  \n",
       "696               5.0           1  \n",
       "697               4.0           1  \n",
       "698               5.0           1  \n",
       "699               4.0           1  \n",
       "\n",
       "[700 rows x 5 columns]"
      ]
     },
     "execution_count": 542,
     "metadata": {},
     "output_type": "execute_result"
    }
   ],
   "source": [
    "train"
   ]
  },
  {
   "cell_type": "code",
   "execution_count": 543,
   "metadata": {},
   "outputs": [
    {
     "data": {
      "text/html": [
       "<div>\n",
       "<style scoped>\n",
       "    .dataframe tbody tr th:only-of-type {\n",
       "        vertical-align: middle;\n",
       "    }\n",
       "\n",
       "    .dataframe tbody tr th {\n",
       "        vertical-align: top;\n",
       "    }\n",
       "\n",
       "    .dataframe thead th {\n",
       "        text-align: right;\n",
       "    }\n",
       "</style>\n",
       "<table border=\"1\" class=\"dataframe\">\n",
       "  <thead>\n",
       "    <tr style=\"text-align: right;\">\n",
       "      <th></th>\n",
       "      <th>Gender</th>\n",
       "      <th>Academic Pressure</th>\n",
       "      <th>Have you ever had suicidal thoughts ?</th>\n",
       "      <th>Financial Stress</th>\n",
       "      <th>Depression</th>\n",
       "    </tr>\n",
       "  </thead>\n",
       "  <tbody>\n",
       "    <tr>\n",
       "      <th>700</th>\n",
       "      <td>0.0</td>\n",
       "      <td>5.0</td>\n",
       "      <td>0.0</td>\n",
       "      <td>5.0</td>\n",
       "      <td>0</td>\n",
       "    </tr>\n",
       "    <tr>\n",
       "      <th>701</th>\n",
       "      <td>0.0</td>\n",
       "      <td>5.0</td>\n",
       "      <td>1.0</td>\n",
       "      <td>5.0</td>\n",
       "      <td>1</td>\n",
       "    </tr>\n",
       "    <tr>\n",
       "      <th>702</th>\n",
       "      <td>0.0</td>\n",
       "      <td>2.0</td>\n",
       "      <td>1.0</td>\n",
       "      <td>2.0</td>\n",
       "      <td>1</td>\n",
       "    </tr>\n",
       "    <tr>\n",
       "      <th>703</th>\n",
       "      <td>0.0</td>\n",
       "      <td>4.0</td>\n",
       "      <td>0.0</td>\n",
       "      <td>4.0</td>\n",
       "      <td>1</td>\n",
       "    </tr>\n",
       "    <tr>\n",
       "      <th>704</th>\n",
       "      <td>1.0</td>\n",
       "      <td>4.0</td>\n",
       "      <td>1.0</td>\n",
       "      <td>1.0</td>\n",
       "      <td>0</td>\n",
       "    </tr>\n",
       "    <tr>\n",
       "      <th>...</th>\n",
       "      <td>...</td>\n",
       "      <td>...</td>\n",
       "      <td>...</td>\n",
       "      <td>...</td>\n",
       "      <td>...</td>\n",
       "    </tr>\n",
       "    <tr>\n",
       "      <th>895</th>\n",
       "      <td>0.0</td>\n",
       "      <td>3.0</td>\n",
       "      <td>0.0</td>\n",
       "      <td>1.0</td>\n",
       "      <td>0</td>\n",
       "    </tr>\n",
       "    <tr>\n",
       "      <th>896</th>\n",
       "      <td>0.0</td>\n",
       "      <td>5.0</td>\n",
       "      <td>1.0</td>\n",
       "      <td>1.0</td>\n",
       "      <td>1</td>\n",
       "    </tr>\n",
       "    <tr>\n",
       "      <th>897</th>\n",
       "      <td>1.0</td>\n",
       "      <td>1.0</td>\n",
       "      <td>1.0</td>\n",
       "      <td>5.0</td>\n",
       "      <td>0</td>\n",
       "    </tr>\n",
       "    <tr>\n",
       "      <th>898</th>\n",
       "      <td>1.0</td>\n",
       "      <td>5.0</td>\n",
       "      <td>0.0</td>\n",
       "      <td>2.0</td>\n",
       "      <td>1</td>\n",
       "    </tr>\n",
       "    <tr>\n",
       "      <th>899</th>\n",
       "      <td>0.0</td>\n",
       "      <td>5.0</td>\n",
       "      <td>1.0</td>\n",
       "      <td>2.0</td>\n",
       "      <td>1</td>\n",
       "    </tr>\n",
       "  </tbody>\n",
       "</table>\n",
       "<p>200 rows × 5 columns</p>\n",
       "</div>"
      ],
      "text/plain": [
       "     Gender  Academic Pressure  Have you ever had suicidal thoughts ?  \\\n",
       "700     0.0                5.0                                    0.0   \n",
       "701     0.0                5.0                                    1.0   \n",
       "702     0.0                2.0                                    1.0   \n",
       "703     0.0                4.0                                    0.0   \n",
       "704     1.0                4.0                                    1.0   \n",
       "..      ...                ...                                    ...   \n",
       "895     0.0                3.0                                    0.0   \n",
       "896     0.0                5.0                                    1.0   \n",
       "897     1.0                1.0                                    1.0   \n",
       "898     1.0                5.0                                    0.0   \n",
       "899     0.0                5.0                                    1.0   \n",
       "\n",
       "     Financial Stress  Depression  \n",
       "700               5.0           0  \n",
       "701               5.0           1  \n",
       "702               2.0           1  \n",
       "703               4.0           1  \n",
       "704               1.0           0  \n",
       "..                ...         ...  \n",
       "895               1.0           0  \n",
       "896               1.0           1  \n",
       "897               5.0           0  \n",
       "898               2.0           1  \n",
       "899               2.0           1  \n",
       "\n",
       "[200 rows x 5 columns]"
      ]
     },
     "execution_count": 543,
     "metadata": {},
     "output_type": "execute_result"
    }
   ],
   "source": [
    "validation "
   ]
  },
  {
   "cell_type": "code",
   "execution_count": 544,
   "metadata": {},
   "outputs": [
    {
     "data": {
      "text/html": [
       "<div>\n",
       "<style scoped>\n",
       "    .dataframe tbody tr th:only-of-type {\n",
       "        vertical-align: middle;\n",
       "    }\n",
       "\n",
       "    .dataframe tbody tr th {\n",
       "        vertical-align: top;\n",
       "    }\n",
       "\n",
       "    .dataframe thead th {\n",
       "        text-align: right;\n",
       "    }\n",
       "</style>\n",
       "<table border=\"1\" class=\"dataframe\">\n",
       "  <thead>\n",
       "    <tr style=\"text-align: right;\">\n",
       "      <th></th>\n",
       "      <th>Gender</th>\n",
       "      <th>Academic Pressure</th>\n",
       "      <th>Have you ever had suicidal thoughts ?</th>\n",
       "      <th>Financial Stress</th>\n",
       "      <th>Depression</th>\n",
       "    </tr>\n",
       "  </thead>\n",
       "  <tbody>\n",
       "    <tr>\n",
       "      <th>900</th>\n",
       "      <td>0.0</td>\n",
       "      <td>4.0</td>\n",
       "      <td>1.0</td>\n",
       "      <td>4.0</td>\n",
       "      <td>1</td>\n",
       "    </tr>\n",
       "    <tr>\n",
       "      <th>901</th>\n",
       "      <td>0.0</td>\n",
       "      <td>3.0</td>\n",
       "      <td>1.0</td>\n",
       "      <td>4.0</td>\n",
       "      <td>1</td>\n",
       "    </tr>\n",
       "    <tr>\n",
       "      <th>902</th>\n",
       "      <td>1.0</td>\n",
       "      <td>2.0</td>\n",
       "      <td>1.0</td>\n",
       "      <td>1.0</td>\n",
       "      <td>1</td>\n",
       "    </tr>\n",
       "    <tr>\n",
       "      <th>903</th>\n",
       "      <td>1.0</td>\n",
       "      <td>4.0</td>\n",
       "      <td>0.0</td>\n",
       "      <td>4.0</td>\n",
       "      <td>1</td>\n",
       "    </tr>\n",
       "    <tr>\n",
       "      <th>904</th>\n",
       "      <td>0.0</td>\n",
       "      <td>5.0</td>\n",
       "      <td>0.0</td>\n",
       "      <td>2.0</td>\n",
       "      <td>0</td>\n",
       "    </tr>\n",
       "    <tr>\n",
       "      <th>...</th>\n",
       "      <td>...</td>\n",
       "      <td>...</td>\n",
       "      <td>...</td>\n",
       "      <td>...</td>\n",
       "      <td>...</td>\n",
       "    </tr>\n",
       "    <tr>\n",
       "      <th>995</th>\n",
       "      <td>1.0</td>\n",
       "      <td>4.0</td>\n",
       "      <td>1.0</td>\n",
       "      <td>3.0</td>\n",
       "      <td>0</td>\n",
       "    </tr>\n",
       "    <tr>\n",
       "      <th>996</th>\n",
       "      <td>0.0</td>\n",
       "      <td>3.0</td>\n",
       "      <td>1.0</td>\n",
       "      <td>5.0</td>\n",
       "      <td>1</td>\n",
       "    </tr>\n",
       "    <tr>\n",
       "      <th>997</th>\n",
       "      <td>1.0</td>\n",
       "      <td>4.0</td>\n",
       "      <td>0.0</td>\n",
       "      <td>1.0</td>\n",
       "      <td>0</td>\n",
       "    </tr>\n",
       "    <tr>\n",
       "      <th>998</th>\n",
       "      <td>0.0</td>\n",
       "      <td>3.0</td>\n",
       "      <td>0.0</td>\n",
       "      <td>1.0</td>\n",
       "      <td>0</td>\n",
       "    </tr>\n",
       "    <tr>\n",
       "      <th>999</th>\n",
       "      <td>1.0</td>\n",
       "      <td>4.0</td>\n",
       "      <td>1.0</td>\n",
       "      <td>4.0</td>\n",
       "      <td>1</td>\n",
       "    </tr>\n",
       "  </tbody>\n",
       "</table>\n",
       "<p>100 rows × 5 columns</p>\n",
       "</div>"
      ],
      "text/plain": [
       "     Gender  Academic Pressure  Have you ever had suicidal thoughts ?  \\\n",
       "900     0.0                4.0                                    1.0   \n",
       "901     0.0                3.0                                    1.0   \n",
       "902     1.0                2.0                                    1.0   \n",
       "903     1.0                4.0                                    0.0   \n",
       "904     0.0                5.0                                    0.0   \n",
       "..      ...                ...                                    ...   \n",
       "995     1.0                4.0                                    1.0   \n",
       "996     0.0                3.0                                    1.0   \n",
       "997     1.0                4.0                                    0.0   \n",
       "998     0.0                3.0                                    0.0   \n",
       "999     1.0                4.0                                    1.0   \n",
       "\n",
       "     Financial Stress  Depression  \n",
       "900               4.0           1  \n",
       "901               4.0           1  \n",
       "902               1.0           1  \n",
       "903               4.0           1  \n",
       "904               2.0           0  \n",
       "..                ...         ...  \n",
       "995               3.0           0  \n",
       "996               5.0           1  \n",
       "997               1.0           0  \n",
       "998               1.0           0  \n",
       "999               4.0           1  \n",
       "\n",
       "[100 rows x 5 columns]"
      ]
     },
     "execution_count": 544,
     "metadata": {},
     "output_type": "execute_result"
    }
   ],
   "source": [
    "test"
   ]
  },
  {
   "cell_type": "code",
   "execution_count": 545,
   "metadata": {},
   "outputs": [],
   "source": [
    "Y_train = train['Depression']\n",
    "X_train = train.drop(columns='Depression')\n",
    "\n",
    "Y_valid = validation['Depression']\n",
    "X_valid = validation.drop(columns='Depression')\n",
    "\n",
    "Y_test = test['Depression']\n",
    "X_test = test.drop(columns='Depression')"
   ]
  },
  {
   "cell_type": "code",
   "execution_count": 546,
   "metadata": {},
   "outputs": [],
   "source": [
    "model_regression_1 = keras.Sequential([\n",
    "    keras.layers.InputLayer(shape=(3,)),  \n",
    "    keras.layers.Dense(8, activation='relu'),\n",
    "    keras.layers.Dense(18, activation='relu'),\n",
    "    keras.layers.Dense(10, activation='relu'),\n",
    "    keras.layers.Dense(7, activation='relu'),\n",
    "    keras.layers.Dense(1)\n",
    "])\n"
   ]
  },
  {
   "cell_type": "code",
   "execution_count": 547,
   "metadata": {},
   "outputs": [],
   "source": [
    "model_regression_1.compile(\n",
    "    optimizer=keras.optimizers.Adam(),\n",
    "    loss='mse',\n",
    "    metrics=['mean_absolute_error', 'r2_score']\n",
    ")"
   ]
  },
  {
   "cell_type": "code",
   "execution_count": 548,
   "metadata": {},
   "outputs": [
    {
     "name": "stdout",
     "output_type": "stream",
     "text": [
      "Epoch 1/1000\n"
     ]
    },
    {
     "ename": "ValueError",
     "evalue": "Exception encountered when calling Sequential.call().\n\n\u001b[1mInput 0 of layer \"dense_216\" is incompatible with the layer: expected axis -1 of input shape to have value 3, but received input with shape (None, 4)\u001b[0m\n\nArguments received by Sequential.call():\n  • inputs=tf.Tensor(shape=(None, 4), dtype=float32)\n  • training=True\n  • mask=None",
     "output_type": "error",
     "traceback": [
      "\u001b[1;31m---------------------------------------------------------------------------\u001b[0m",
      "\u001b[1;31mValueError\u001b[0m                                Traceback (most recent call last)",
      "Cell \u001b[1;32mIn[548], line 1\u001b[0m\n\u001b[1;32m----> 1\u001b[0m history \u001b[38;5;241m=\u001b[39m \u001b[43mmodel_regression_1\u001b[49m\u001b[38;5;241;43m.\u001b[39;49m\u001b[43mfit\u001b[49m\u001b[43m(\u001b[49m\n\u001b[0;32m      2\u001b[0m \u001b[43m    \u001b[49m\u001b[43mX_train\u001b[49m\u001b[43m,\u001b[49m\n\u001b[0;32m      3\u001b[0m \u001b[43m    \u001b[49m\u001b[43mY_train\u001b[49m\u001b[43m,\u001b[49m\n\u001b[0;32m      4\u001b[0m \u001b[43m    \u001b[49m\u001b[43mbatch_size\u001b[49m\u001b[38;5;241;43m=\u001b[39;49m\u001b[38;5;241;43m150\u001b[39;49m\u001b[43m,\u001b[49m\n\u001b[0;32m      5\u001b[0m \u001b[43m    \u001b[49m\u001b[43mepochs\u001b[49m\u001b[38;5;241;43m=\u001b[39;49m\u001b[38;5;241;43m1000\u001b[39;49m\u001b[43m,\u001b[49m\n\u001b[0;32m      6\u001b[0m \u001b[43m    \u001b[49m\u001b[43mvalidation_data\u001b[49m\u001b[38;5;241;43m=\u001b[39;49m\u001b[43m(\u001b[49m\u001b[43mX_valid\u001b[49m\u001b[43m,\u001b[49m\u001b[43m \u001b[49m\u001b[43mY_valid\u001b[49m\u001b[43m)\u001b[49m\u001b[43m,\u001b[49m\n\u001b[0;32m      7\u001b[0m \u001b[43m    \u001b[49m\u001b[43mverbose\u001b[49m\u001b[38;5;241;43m=\u001b[39;49m\u001b[38;5;124;43m'\u001b[39;49m\u001b[38;5;124;43mauto\u001b[39;49m\u001b[38;5;124;43m'\u001b[39;49m\u001b[43m,\u001b[49m\n\u001b[0;32m      8\u001b[0m \u001b[43m)\u001b[49m\n",
      "File \u001b[1;32mc:\\Users\\egorm\\AppData\\Local\\Programs\\Python\\Python310\\lib\\site-packages\\keras\\src\\utils\\traceback_utils.py:122\u001b[0m, in \u001b[0;36mfilter_traceback.<locals>.error_handler\u001b[1;34m(*args, **kwargs)\u001b[0m\n\u001b[0;32m    119\u001b[0m     filtered_tb \u001b[38;5;241m=\u001b[39m _process_traceback_frames(e\u001b[38;5;241m.\u001b[39m__traceback__)\n\u001b[0;32m    120\u001b[0m     \u001b[38;5;66;03m# To get the full stack trace, call:\u001b[39;00m\n\u001b[0;32m    121\u001b[0m     \u001b[38;5;66;03m# `keras.config.disable_traceback_filtering()`\u001b[39;00m\n\u001b[1;32m--> 122\u001b[0m     \u001b[38;5;28;01mraise\u001b[39;00m e\u001b[38;5;241m.\u001b[39mwith_traceback(filtered_tb) \u001b[38;5;28;01mfrom\u001b[39;00m \u001b[38;5;28;01mNone\u001b[39;00m\n\u001b[0;32m    123\u001b[0m \u001b[38;5;28;01mfinally\u001b[39;00m:\n\u001b[0;32m    124\u001b[0m     \u001b[38;5;28;01mdel\u001b[39;00m filtered_tb\n",
      "File \u001b[1;32mc:\\Users\\egorm\\AppData\\Local\\Programs\\Python\\Python310\\lib\\site-packages\\keras\\src\\layers\\input_spec.py:227\u001b[0m, in \u001b[0;36massert_input_compatibility\u001b[1;34m(input_spec, inputs, layer_name)\u001b[0m\n\u001b[0;32m    222\u001b[0m     \u001b[38;5;28;01mfor\u001b[39;00m axis, value \u001b[38;5;129;01min\u001b[39;00m spec\u001b[38;5;241m.\u001b[39maxes\u001b[38;5;241m.\u001b[39mitems():\n\u001b[0;32m    223\u001b[0m         \u001b[38;5;28;01mif\u001b[39;00m value \u001b[38;5;129;01mis\u001b[39;00m \u001b[38;5;129;01mnot\u001b[39;00m \u001b[38;5;28;01mNone\u001b[39;00m \u001b[38;5;129;01mand\u001b[39;00m shape[axis] \u001b[38;5;129;01mnot\u001b[39;00m \u001b[38;5;129;01min\u001b[39;00m {\n\u001b[0;32m    224\u001b[0m             value,\n\u001b[0;32m    225\u001b[0m             \u001b[38;5;28;01mNone\u001b[39;00m,\n\u001b[0;32m    226\u001b[0m         }:\n\u001b[1;32m--> 227\u001b[0m             \u001b[38;5;28;01mraise\u001b[39;00m \u001b[38;5;167;01mValueError\u001b[39;00m(\n\u001b[0;32m    228\u001b[0m                 \u001b[38;5;124mf\u001b[39m\u001b[38;5;124m'\u001b[39m\u001b[38;5;124mInput \u001b[39m\u001b[38;5;132;01m{\u001b[39;00minput_index\u001b[38;5;132;01m}\u001b[39;00m\u001b[38;5;124m of layer \u001b[39m\u001b[38;5;124m\"\u001b[39m\u001b[38;5;132;01m{\u001b[39;00mlayer_name\u001b[38;5;132;01m}\u001b[39;00m\u001b[38;5;124m\"\u001b[39m\u001b[38;5;124m is \u001b[39m\u001b[38;5;124m'\u001b[39m\n\u001b[0;32m    229\u001b[0m                 \u001b[38;5;124mf\u001b[39m\u001b[38;5;124m\"\u001b[39m\u001b[38;5;124mincompatible with the layer: expected axis \u001b[39m\u001b[38;5;132;01m{\u001b[39;00maxis\u001b[38;5;132;01m}\u001b[39;00m\u001b[38;5;124m \u001b[39m\u001b[38;5;124m\"\u001b[39m\n\u001b[0;32m    230\u001b[0m                 \u001b[38;5;124mf\u001b[39m\u001b[38;5;124m\"\u001b[39m\u001b[38;5;124mof input shape to have value \u001b[39m\u001b[38;5;132;01m{\u001b[39;00mvalue\u001b[38;5;132;01m}\u001b[39;00m\u001b[38;5;124m, \u001b[39m\u001b[38;5;124m\"\u001b[39m\n\u001b[0;32m    231\u001b[0m                 \u001b[38;5;124m\"\u001b[39m\u001b[38;5;124mbut received input with \u001b[39m\u001b[38;5;124m\"\u001b[39m\n\u001b[0;32m    232\u001b[0m                 \u001b[38;5;124mf\u001b[39m\u001b[38;5;124m\"\u001b[39m\u001b[38;5;124mshape \u001b[39m\u001b[38;5;132;01m{\u001b[39;00mshape\u001b[38;5;132;01m}\u001b[39;00m\u001b[38;5;124m\"\u001b[39m\n\u001b[0;32m    233\u001b[0m             )\n\u001b[0;32m    234\u001b[0m \u001b[38;5;66;03m# Check shape.\u001b[39;00m\n\u001b[0;32m    235\u001b[0m \u001b[38;5;28;01mif\u001b[39;00m spec\u001b[38;5;241m.\u001b[39mshape \u001b[38;5;129;01mis\u001b[39;00m \u001b[38;5;129;01mnot\u001b[39;00m \u001b[38;5;28;01mNone\u001b[39;00m:\n",
      "\u001b[1;31mValueError\u001b[0m: Exception encountered when calling Sequential.call().\n\n\u001b[1mInput 0 of layer \"dense_216\" is incompatible with the layer: expected axis -1 of input shape to have value 3, but received input with shape (None, 4)\u001b[0m\n\nArguments received by Sequential.call():\n  • inputs=tf.Tensor(shape=(None, 4), dtype=float32)\n  • training=True\n  • mask=None"
     ]
    }
   ],
   "source": [
    "history = model_regression_1.fit(\n",
    "    X_train,\n",
    "    Y_train,\n",
    "    batch_size=150,\n",
    "    epochs=1000,\n",
    "    validation_data=(X_valid, Y_valid),\n",
    "    verbose='auto',\n",
    ")"
   ]
  },
  {
   "cell_type": "code",
   "execution_count": null,
   "metadata": {},
   "outputs": [
    {
     "data": {
      "application/vnd.plotly.v1+json": {
       "config": {
        "plotlyServerURL": "https://plot.ly"
       },
       "data": [
        {
         "hovertemplate": "variable=loss<br>index=%{x}<br>value=%{y}<extra></extra>",
         "legendgroup": "loss",
         "line": {
          "color": "#636efa",
          "dash": "solid"
         },
         "marker": {
          "symbol": "circle"
         },
         "mode": "lines",
         "name": "loss",
         "showlegend": true,
         "type": "scattergl",
         "x": {
          "bdata": "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",
          "dtype": "i2"
         },
         "xaxis": "x",
         "y": {
          "bdata": "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",
          "dtype": "f8"
         },
         "yaxis": "y"
        },
        {
         "hovertemplate": "variable=val_loss<br>index=%{x}<br>value=%{y}<extra></extra>",
         "legendgroup": "val_loss",
         "line": {
          "color": "#EF553B",
          "dash": "solid"
         },
         "marker": {
          "symbol": "circle"
         },
         "mode": "lines",
         "name": "val_loss",
         "showlegend": true,
         "type": "scattergl",
         "x": {
          "bdata": "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",
          "dtype": "i2"
         },
         "xaxis": "x",
         "y": {
          "bdata": "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",
          "dtype": "f8"
         },
         "yaxis": "y"
        }
       ],
       "layout": {
        "legend": {
         "title": {
          "text": "variable"
         },
         "tracegroupgap": 0
        },
        "margin": {
         "t": 60
        },
        "template": {
         "data": {
          "bar": [
           {
            "error_x": {
             "color": "#2a3f5f"
            },
            "error_y": {
             "color": "#2a3f5f"
            },
            "marker": {
             "line": {
              "color": "#E5ECF6",
              "width": 0.5
             },
             "pattern": {
              "fillmode": "overlay",
              "size": 10,
              "solidity": 0.2
             }
            },
            "type": "bar"
           }
          ],
          "barpolar": [
           {
            "marker": {
             "line": {
              "color": "#E5ECF6",
              "width": 0.5
             },
             "pattern": {
              "fillmode": "overlay",
              "size": 10,
              "solidity": 0.2
             }
            },
            "type": "barpolar"
           }
          ],
          "carpet": [
           {
            "aaxis": {
             "endlinecolor": "#2a3f5f",
             "gridcolor": "white",
             "linecolor": "white",
             "minorgridcolor": "white",
             "startlinecolor": "#2a3f5f"
            },
            "baxis": {
             "endlinecolor": "#2a3f5f",
             "gridcolor": "white",
             "linecolor": "white",
             "minorgridcolor": "white",
             "startlinecolor": "#2a3f5f"
            },
            "type": "carpet"
           }
          ],
          "choropleth": [
           {
            "colorbar": {
             "outlinewidth": 0,
             "ticks": ""
            },
            "type": "choropleth"
           }
          ],
          "contour": [
           {
            "colorbar": {
             "outlinewidth": 0,
             "ticks": ""
            },
            "colorscale": [
             [
              0,
              "#0d0887"
             ],
             [
              0.1111111111111111,
              "#46039f"
             ],
             [
              0.2222222222222222,
              "#7201a8"
             ],
             [
              0.3333333333333333,
              "#9c179e"
             ],
             [
              0.4444444444444444,
              "#bd3786"
             ],
             [
              0.5555555555555556,
              "#d8576b"
             ],
             [
              0.6666666666666666,
              "#ed7953"
             ],
             [
              0.7777777777777778,
              "#fb9f3a"
             ],
             [
              0.8888888888888888,
              "#fdca26"
             ],
             [
              1,
              "#f0f921"
             ]
            ],
            "type": "contour"
           }
          ],
          "contourcarpet": [
           {
            "colorbar": {
             "outlinewidth": 0,
             "ticks": ""
            },
            "type": "contourcarpet"
           }
          ],
          "heatmap": [
           {
            "colorbar": {
             "outlinewidth": 0,
             "ticks": ""
            },
            "colorscale": [
             [
              0,
              "#0d0887"
             ],
             [
              0.1111111111111111,
              "#46039f"
             ],
             [
              0.2222222222222222,
              "#7201a8"
             ],
             [
              0.3333333333333333,
              "#9c179e"
             ],
             [
              0.4444444444444444,
              "#bd3786"
             ],
             [
              0.5555555555555556,
              "#d8576b"
             ],
             [
              0.6666666666666666,
              "#ed7953"
             ],
             [
              0.7777777777777778,
              "#fb9f3a"
             ],
             [
              0.8888888888888888,
              "#fdca26"
             ],
             [
              1,
              "#f0f921"
             ]
            ],
            "type": "heatmap"
           }
          ],
          "histogram": [
           {
            "marker": {
             "pattern": {
              "fillmode": "overlay",
              "size": 10,
              "solidity": 0.2
             }
            },
            "type": "histogram"
           }
          ],
          "histogram2d": [
           {
            "colorbar": {
             "outlinewidth": 0,
             "ticks": ""
            },
            "colorscale": [
             [
              0,
              "#0d0887"
             ],
             [
              0.1111111111111111,
              "#46039f"
             ],
             [
              0.2222222222222222,
              "#7201a8"
             ],
             [
              0.3333333333333333,
              "#9c179e"
             ],
             [
              0.4444444444444444,
              "#bd3786"
             ],
             [
              0.5555555555555556,
              "#d8576b"
             ],
             [
              0.6666666666666666,
              "#ed7953"
             ],
             [
              0.7777777777777778,
              "#fb9f3a"
             ],
             [
              0.8888888888888888,
              "#fdca26"
             ],
             [
              1,
              "#f0f921"
             ]
            ],
            "type": "histogram2d"
           }
          ],
          "histogram2dcontour": [
           {
            "colorbar": {
             "outlinewidth": 0,
             "ticks": ""
            },
            "colorscale": [
             [
              0,
              "#0d0887"
             ],
             [
              0.1111111111111111,
              "#46039f"
             ],
             [
              0.2222222222222222,
              "#7201a8"
             ],
             [
              0.3333333333333333,
              "#9c179e"
             ],
             [
              0.4444444444444444,
              "#bd3786"
             ],
             [
              0.5555555555555556,
              "#d8576b"
             ],
             [
              0.6666666666666666,
              "#ed7953"
             ],
             [
              0.7777777777777778,
              "#fb9f3a"
             ],
             [
              0.8888888888888888,
              "#fdca26"
             ],
             [
              1,
              "#f0f921"
             ]
            ],
            "type": "histogram2dcontour"
           }
          ],
          "mesh3d": [
           {
            "colorbar": {
             "outlinewidth": 0,
             "ticks": ""
            },
            "type": "mesh3d"
           }
          ],
          "parcoords": [
           {
            "line": {
             "colorbar": {
              "outlinewidth": 0,
              "ticks": ""
             }
            },
            "type": "parcoords"
           }
          ],
          "pie": [
           {
            "automargin": true,
            "type": "pie"
           }
          ],
          "scatter": [
           {
            "fillpattern": {
             "fillmode": "overlay",
             "size": 10,
             "solidity": 0.2
            },
            "type": "scatter"
           }
          ],
          "scatter3d": [
           {
            "line": {
             "colorbar": {
              "outlinewidth": 0,
              "ticks": ""
             }
            },
            "marker": {
             "colorbar": {
              "outlinewidth": 0,
              "ticks": ""
             }
            },
            "type": "scatter3d"
           }
          ],
          "scattercarpet": [
           {
            "marker": {
             "colorbar": {
              "outlinewidth": 0,
              "ticks": ""
             }
            },
            "type": "scattercarpet"
           }
          ],
          "scattergeo": [
           {
            "marker": {
             "colorbar": {
              "outlinewidth": 0,
              "ticks": ""
             }
            },
            "type": "scattergeo"
           }
          ],
          "scattergl": [
           {
            "marker": {
             "colorbar": {
              "outlinewidth": 0,
              "ticks": ""
             }
            },
            "type": "scattergl"
           }
          ],
          "scattermap": [
           {
            "marker": {
             "colorbar": {
              "outlinewidth": 0,
              "ticks": ""
             }
            },
            "type": "scattermap"
           }
          ],
          "scattermapbox": [
           {
            "marker": {
             "colorbar": {
              "outlinewidth": 0,
              "ticks": ""
             }
            },
            "type": "scattermapbox"
           }
          ],
          "scatterpolar": [
           {
            "marker": {
             "colorbar": {
              "outlinewidth": 0,
              "ticks": ""
             }
            },
            "type": "scatterpolar"
           }
          ],
          "scatterpolargl": [
           {
            "marker": {
             "colorbar": {
              "outlinewidth": 0,
              "ticks": ""
             }
            },
            "type": "scatterpolargl"
           }
          ],
          "scatterternary": [
           {
            "marker": {
             "colorbar": {
              "outlinewidth": 0,
              "ticks": ""
             }
            },
            "type": "scatterternary"
           }
          ],
          "surface": [
           {
            "colorbar": {
             "outlinewidth": 0,
             "ticks": ""
            },
            "colorscale": [
             [
              0,
              "#0d0887"
             ],
             [
              0.1111111111111111,
              "#46039f"
             ],
             [
              0.2222222222222222,
              "#7201a8"
             ],
             [
              0.3333333333333333,
              "#9c179e"
             ],
             [
              0.4444444444444444,
              "#bd3786"
             ],
             [
              0.5555555555555556,
              "#d8576b"
             ],
             [
              0.6666666666666666,
              "#ed7953"
             ],
             [
              0.7777777777777778,
              "#fb9f3a"
             ],
             [
              0.8888888888888888,
              "#fdca26"
             ],
             [
              1,
              "#f0f921"
             ]
            ],
            "type": "surface"
           }
          ],
          "table": [
           {
            "cells": {
             "fill": {
              "color": "#EBF0F8"
             },
             "line": {
              "color": "white"
             }
            },
            "header": {
             "fill": {
              "color": "#C8D4E3"
             },
             "line": {
              "color": "white"
             }
            },
            "type": "table"
           }
          ]
         },
         "layout": {
          "annotationdefaults": {
           "arrowcolor": "#2a3f5f",
           "arrowhead": 0,
           "arrowwidth": 1
          },
          "autotypenumbers": "strict",
          "coloraxis": {
           "colorbar": {
            "outlinewidth": 0,
            "ticks": ""
           }
          },
          "colorscale": {
           "diverging": [
            [
             0,
             "#8e0152"
            ],
            [
             0.1,
             "#c51b7d"
            ],
            [
             0.2,
             "#de77ae"
            ],
            [
             0.3,
             "#f1b6da"
            ],
            [
             0.4,
             "#fde0ef"
            ],
            [
             0.5,
             "#f7f7f7"
            ],
            [
             0.6,
             "#e6f5d0"
            ],
            [
             0.7,
             "#b8e186"
            ],
            [
             0.8,
             "#7fbc41"
            ],
            [
             0.9,
             "#4d9221"
            ],
            [
             1,
             "#276419"
            ]
           ],
           "sequential": [
            [
             0,
             "#0d0887"
            ],
            [
             0.1111111111111111,
             "#46039f"
            ],
            [
             0.2222222222222222,
             "#7201a8"
            ],
            [
             0.3333333333333333,
             "#9c179e"
            ],
            [
             0.4444444444444444,
             "#bd3786"
            ],
            [
             0.5555555555555556,
             "#d8576b"
            ],
            [
             0.6666666666666666,
             "#ed7953"
            ],
            [
             0.7777777777777778,
             "#fb9f3a"
            ],
            [
             0.8888888888888888,
             "#fdca26"
            ],
            [
             1,
             "#f0f921"
            ]
           ],
           "sequentialminus": [
            [
             0,
             "#0d0887"
            ],
            [
             0.1111111111111111,
             "#46039f"
            ],
            [
             0.2222222222222222,
             "#7201a8"
            ],
            [
             0.3333333333333333,
             "#9c179e"
            ],
            [
             0.4444444444444444,
             "#bd3786"
            ],
            [
             0.5555555555555556,
             "#d8576b"
            ],
            [
             0.6666666666666666,
             "#ed7953"
            ],
            [
             0.7777777777777778,
             "#fb9f3a"
            ],
            [
             0.8888888888888888,
             "#fdca26"
            ],
            [
             1,
             "#f0f921"
            ]
           ]
          },
          "colorway": [
           "#636efa",
           "#EF553B",
           "#00cc96",
           "#ab63fa",
           "#FFA15A",
           "#19d3f3",
           "#FF6692",
           "#B6E880",
           "#FF97FF",
           "#FECB52"
          ],
          "font": {
           "color": "#2a3f5f"
          },
          "geo": {
           "bgcolor": "white",
           "lakecolor": "white",
           "landcolor": "#E5ECF6",
           "showlakes": true,
           "showland": true,
           "subunitcolor": "white"
          },
          "hoverlabel": {
           "align": "left"
          },
          "hovermode": "closest",
          "mapbox": {
           "style": "light"
          },
          "paper_bgcolor": "white",
          "plot_bgcolor": "#E5ECF6",
          "polar": {
           "angularaxis": {
            "gridcolor": "white",
            "linecolor": "white",
            "ticks": ""
           },
           "bgcolor": "#E5ECF6",
           "radialaxis": {
            "gridcolor": "white",
            "linecolor": "white",
            "ticks": ""
           }
          },
          "scene": {
           "xaxis": {
            "backgroundcolor": "#E5ECF6",
            "gridcolor": "white",
            "gridwidth": 2,
            "linecolor": "white",
            "showbackground": true,
            "ticks": "",
            "zerolinecolor": "white"
           },
           "yaxis": {
            "backgroundcolor": "#E5ECF6",
            "gridcolor": "white",
            "gridwidth": 2,
            "linecolor": "white",
            "showbackground": true,
            "ticks": "",
            "zerolinecolor": "white"
           },
           "zaxis": {
            "backgroundcolor": "#E5ECF6",
            "gridcolor": "white",
            "gridwidth": 2,
            "linecolor": "white",
            "showbackground": true,
            "ticks": "",
            "zerolinecolor": "white"
           }
          },
          "shapedefaults": {
           "line": {
            "color": "#2a3f5f"
           }
          },
          "ternary": {
           "aaxis": {
            "gridcolor": "white",
            "linecolor": "white",
            "ticks": ""
           },
           "baxis": {
            "gridcolor": "white",
            "linecolor": "white",
            "ticks": ""
           },
           "bgcolor": "#E5ECF6",
           "caxis": {
            "gridcolor": "white",
            "linecolor": "white",
            "ticks": ""
           }
          },
          "title": {
           "x": 0.05
          },
          "xaxis": {
           "automargin": true,
           "gridcolor": "white",
           "linecolor": "white",
           "ticks": "",
           "title": {
            "standoff": 15
           },
           "zerolinecolor": "white",
           "zerolinewidth": 2
          },
          "yaxis": {
           "automargin": true,
           "gridcolor": "white",
           "linecolor": "white",
           "ticks": "",
           "title": {
            "standoff": 15
           },
           "zerolinecolor": "white",
           "zerolinewidth": 2
          }
         }
        },
        "xaxis": {
         "anchor": "y",
         "domain": [
          0,
          1
         ],
         "title": {
          "text": "index"
         }
        },
        "yaxis": {
         "anchor": "x",
         "domain": [
          0,
          1
         ],
         "title": {
          "text": "value"
         }
        }
       }
      }
     },
     "metadata": {},
     "output_type": "display_data"
    }
   ],
   "source": [
    "metrics = {'loss': history.history.get('loss'), 'val_loss': history.history.get('val_loss')}\n",
    "fig = px.line(metrics)\n",
    "fig.show()"
   ]
  },
  {
   "cell_type": "code",
   "execution_count": null,
   "metadata": {},
   "outputs": [],
   "source": []
  },
  {
   "cell_type": "code",
   "execution_count": null,
   "metadata": {},
   "outputs": [
    {
     "data": {
      "text/html": [
       "<div>\n",
       "<style scoped>\n",
       "    .dataframe tbody tr th:only-of-type {\n",
       "        vertical-align: middle;\n",
       "    }\n",
       "\n",
       "    .dataframe tbody tr th {\n",
       "        vertical-align: top;\n",
       "    }\n",
       "\n",
       "    .dataframe thead th {\n",
       "        text-align: right;\n",
       "    }\n",
       "</style>\n",
       "<table border=\"1\" class=\"dataframe\">\n",
       "  <thead>\n",
       "    <tr style=\"text-align: right;\">\n",
       "      <th></th>\n",
       "      <th>LongestShell</th>\n",
       "      <th>Diameter</th>\n",
       "      <th>Height</th>\n",
       "      <th>WholeWeight</th>\n",
       "      <th>ShuckedWeight</th>\n",
       "      <th>VisceraWeight</th>\n",
       "      <th>ShellWeight</th>\n",
       "      <th>Rings</th>\n",
       "    </tr>\n",
       "  </thead>\n",
       "  <tbody>\n",
       "    <tr>\n",
       "      <th>0</th>\n",
       "      <td>0.455</td>\n",
       "      <td>0.365</td>\n",
       "      <td>0.095</td>\n",
       "      <td>0.5140</td>\n",
       "      <td>0.2245</td>\n",
       "      <td>0.1010</td>\n",
       "      <td>0.150</td>\n",
       "      <td>15</td>\n",
       "    </tr>\n",
       "    <tr>\n",
       "      <th>1</th>\n",
       "      <td>0.350</td>\n",
       "      <td>0.265</td>\n",
       "      <td>0.090</td>\n",
       "      <td>0.2255</td>\n",
       "      <td>0.0995</td>\n",
       "      <td>0.0485</td>\n",
       "      <td>0.070</td>\n",
       "      <td>7</td>\n",
       "    </tr>\n",
       "    <tr>\n",
       "      <th>2</th>\n",
       "      <td>0.530</td>\n",
       "      <td>0.420</td>\n",
       "      <td>0.135</td>\n",
       "      <td>0.6770</td>\n",
       "      <td>0.2565</td>\n",
       "      <td>0.1415</td>\n",
       "      <td>0.210</td>\n",
       "      <td>9</td>\n",
       "    </tr>\n",
       "    <tr>\n",
       "      <th>3</th>\n",
       "      <td>0.440</td>\n",
       "      <td>0.365</td>\n",
       "      <td>0.125</td>\n",
       "      <td>0.5160</td>\n",
       "      <td>0.2155</td>\n",
       "      <td>0.1140</td>\n",
       "      <td>0.155</td>\n",
       "      <td>10</td>\n",
       "    </tr>\n",
       "    <tr>\n",
       "      <th>4</th>\n",
       "      <td>0.330</td>\n",
       "      <td>0.255</td>\n",
       "      <td>0.080</td>\n",
       "      <td>0.2050</td>\n",
       "      <td>0.0895</td>\n",
       "      <td>0.0395</td>\n",
       "      <td>0.055</td>\n",
       "      <td>7</td>\n",
       "    </tr>\n",
       "    <tr>\n",
       "      <th>...</th>\n",
       "      <td>...</td>\n",
       "      <td>...</td>\n",
       "      <td>...</td>\n",
       "      <td>...</td>\n",
       "      <td>...</td>\n",
       "      <td>...</td>\n",
       "      <td>...</td>\n",
       "      <td>...</td>\n",
       "    </tr>\n",
       "    <tr>\n",
       "      <th>995</th>\n",
       "      <td>0.580</td>\n",
       "      <td>0.490</td>\n",
       "      <td>0.130</td>\n",
       "      <td>1.1335</td>\n",
       "      <td>0.5860</td>\n",
       "      <td>0.2565</td>\n",
       "      <td>0.237</td>\n",
       "      <td>9</td>\n",
       "    </tr>\n",
       "    <tr>\n",
       "      <th>996</th>\n",
       "      <td>0.590</td>\n",
       "      <td>0.465</td>\n",
       "      <td>0.155</td>\n",
       "      <td>1.1360</td>\n",
       "      <td>0.5245</td>\n",
       "      <td>0.2615</td>\n",
       "      <td>0.275</td>\n",
       "      <td>11</td>\n",
       "    </tr>\n",
       "    <tr>\n",
       "      <th>997</th>\n",
       "      <td>0.590</td>\n",
       "      <td>0.470</td>\n",
       "      <td>0.160</td>\n",
       "      <td>1.2060</td>\n",
       "      <td>0.4790</td>\n",
       "      <td>0.2425</td>\n",
       "      <td>0.309</td>\n",
       "      <td>8</td>\n",
       "    </tr>\n",
       "    <tr>\n",
       "      <th>998</th>\n",
       "      <td>0.590</td>\n",
       "      <td>0.455</td>\n",
       "      <td>0.145</td>\n",
       "      <td>1.0630</td>\n",
       "      <td>0.5155</td>\n",
       "      <td>0.2445</td>\n",
       "      <td>0.250</td>\n",
       "      <td>8</td>\n",
       "    </tr>\n",
       "    <tr>\n",
       "      <th>999</th>\n",
       "      <td>0.595</td>\n",
       "      <td>0.470</td>\n",
       "      <td>0.155</td>\n",
       "      <td>1.1210</td>\n",
       "      <td>0.4515</td>\n",
       "      <td>0.1780</td>\n",
       "      <td>0.155</td>\n",
       "      <td>11</td>\n",
       "    </tr>\n",
       "  </tbody>\n",
       "</table>\n",
       "<p>1000 rows × 8 columns</p>\n",
       "</div>"
      ],
      "text/plain": [
       "     LongestShell  Diameter  Height  WholeWeight  ShuckedWeight  \\\n",
       "0           0.455     0.365   0.095       0.5140         0.2245   \n",
       "1           0.350     0.265   0.090       0.2255         0.0995   \n",
       "2           0.530     0.420   0.135       0.6770         0.2565   \n",
       "3           0.440     0.365   0.125       0.5160         0.2155   \n",
       "4           0.330     0.255   0.080       0.2050         0.0895   \n",
       "..            ...       ...     ...          ...            ...   \n",
       "995         0.580     0.490   0.130       1.1335         0.5860   \n",
       "996         0.590     0.465   0.155       1.1360         0.5245   \n",
       "997         0.590     0.470   0.160       1.2060         0.4790   \n",
       "998         0.590     0.455   0.145       1.0630         0.5155   \n",
       "999         0.595     0.470   0.155       1.1210         0.4515   \n",
       "\n",
       "     VisceraWeight  ShellWeight  Rings  \n",
       "0           0.1010        0.150     15  \n",
       "1           0.0485        0.070      7  \n",
       "2           0.1415        0.210      9  \n",
       "3           0.1140        0.155     10  \n",
       "4           0.0395        0.055      7  \n",
       "..             ...          ...    ...  \n",
       "995         0.2565        0.237      9  \n",
       "996         0.2615        0.275     11  \n",
       "997         0.2425        0.309      8  \n",
       "998         0.2445        0.250      8  \n",
       "999         0.1780        0.155     11  \n",
       "\n",
       "[1000 rows x 8 columns]"
      ]
     },
     "execution_count": 341,
     "metadata": {},
     "output_type": "execute_result"
    }
   ],
   "source": [
    "df2 = pd.read_csv(\"./abalone.csv\", nrows=1000)\n",
    "df2.drop([\"Type\"], axis=1, inplace=True)\n",
    "df2"
   ]
  },
  {
   "cell_type": "code",
   "execution_count": null,
   "metadata": {},
   "outputs": [
    {
     "data": {
      "text/plain": [
       "<Axes: >"
      ]
     },
     "execution_count": 342,
     "metadata": {},
     "output_type": "execute_result"
    },
    {
     "data": {
      "image/png": "[encoded data removed]",
      "text/plain": [
       "<Figure size 640x480 with 2 Axes>"
      ]
     },
     "metadata": {},
     "output_type": "display_data"
    }
   ],
   "source": [
    "sns.heatmap(df2.corr(), vmin=-1, center=0, vmax=1)"
   ]
  },
  {
   "cell_type": "code",
   "execution_count": null,
   "metadata": {},
   "outputs": [
    {
     "data": {
      "text/html": [
       "<div>\n",
       "<style scoped>\n",
       "    .dataframe tbody tr th:only-of-type {\n",
       "        vertical-align: middle;\n",
       "    }\n",
       "\n",
       "    .dataframe tbody tr th {\n",
       "        vertical-align: top;\n",
       "    }\n",
       "\n",
       "    .dataframe thead th {\n",
       "        text-align: right;\n",
       "    }\n",
       "</style>\n",
       "<table border=\"1\" class=\"dataframe\">\n",
       "  <thead>\n",
       "    <tr style=\"text-align: right;\">\n",
       "      <th></th>\n",
       "      <th>LongestShell</th>\n",
       "      <th>Diameter</th>\n",
       "      <th>Height</th>\n",
       "      <th>WholeWeight</th>\n",
       "      <th>ShellWeight</th>\n",
       "      <th>Rings</th>\n",
       "    </tr>\n",
       "  </thead>\n",
       "  <tbody>\n",
       "    <tr>\n",
       "      <th>0</th>\n",
       "      <td>0.455</td>\n",
       "      <td>0.365</td>\n",
       "      <td>0.095</td>\n",
       "      <td>0.5140</td>\n",
       "      <td>0.1500</td>\n",
       "      <td>15</td>\n",
       "    </tr>\n",
       "    <tr>\n",
       "      <th>1</th>\n",
       "      <td>0.350</td>\n",
       "      <td>0.265</td>\n",
       "      <td>0.090</td>\n",
       "      <td>0.2255</td>\n",
       "      <td>0.0700</td>\n",
       "      <td>7</td>\n",
       "    </tr>\n",
       "    <tr>\n",
       "      <th>2</th>\n",
       "      <td>0.530</td>\n",
       "      <td>0.420</td>\n",
       "      <td>0.135</td>\n",
       "      <td>0.6770</td>\n",
       "      <td>0.2100</td>\n",
       "      <td>9</td>\n",
       "    </tr>\n",
       "    <tr>\n",
       "      <th>3</th>\n",
       "      <td>0.440</td>\n",
       "      <td>0.365</td>\n",
       "      <td>0.125</td>\n",
       "      <td>0.5160</td>\n",
       "      <td>0.1550</td>\n",
       "      <td>10</td>\n",
       "    </tr>\n",
       "    <tr>\n",
       "      <th>4</th>\n",
       "      <td>0.330</td>\n",
       "      <td>0.255</td>\n",
       "      <td>0.080</td>\n",
       "      <td>0.2050</td>\n",
       "      <td>0.0550</td>\n",
       "      <td>7</td>\n",
       "    </tr>\n",
       "    <tr>\n",
       "      <th>...</th>\n",
       "      <td>...</td>\n",
       "      <td>...</td>\n",
       "      <td>...</td>\n",
       "      <td>...</td>\n",
       "      <td>...</td>\n",
       "      <td>...</td>\n",
       "    </tr>\n",
       "    <tr>\n",
       "      <th>695</th>\n",
       "      <td>0.315</td>\n",
       "      <td>0.230</td>\n",
       "      <td>0.090</td>\n",
       "      <td>0.1285</td>\n",
       "      <td>0.0400</td>\n",
       "      <td>7</td>\n",
       "    </tr>\n",
       "    <tr>\n",
       "      <th>696</th>\n",
       "      <td>0.155</td>\n",
       "      <td>0.105</td>\n",
       "      <td>0.050</td>\n",
       "      <td>0.0175</td>\n",
       "      <td>0.0050</td>\n",
       "      <td>4</td>\n",
       "    </tr>\n",
       "    <tr>\n",
       "      <th>697</th>\n",
       "      <td>0.280</td>\n",
       "      <td>0.205</td>\n",
       "      <td>0.100</td>\n",
       "      <td>0.1165</td>\n",
       "      <td>0.0300</td>\n",
       "      <td>5</td>\n",
       "    </tr>\n",
       "    <tr>\n",
       "      <th>698</th>\n",
       "      <td>0.430</td>\n",
       "      <td>0.335</td>\n",
       "      <td>0.120</td>\n",
       "      <td>0.4440</td>\n",
       "      <td>0.1400</td>\n",
       "      <td>13</td>\n",
       "    </tr>\n",
       "    <tr>\n",
       "      <th>699</th>\n",
       "      <td>0.395</td>\n",
       "      <td>0.315</td>\n",
       "      <td>0.105</td>\n",
       "      <td>0.3515</td>\n",
       "      <td>0.1195</td>\n",
       "      <td>16</td>\n",
       "    </tr>\n",
       "  </tbody>\n",
       "</table>\n",
       "<p>700 rows × 6 columns</p>\n",
       "</div>"
      ],
      "text/plain": [
       "     LongestShell  Diameter  Height  WholeWeight  ShellWeight  Rings\n",
       "0           0.455     0.365   0.095       0.5140       0.1500     15\n",
       "1           0.350     0.265   0.090       0.2255       0.0700      7\n",
       "2           0.530     0.420   0.135       0.6770       0.2100      9\n",
       "3           0.440     0.365   0.125       0.5160       0.1550     10\n",
       "4           0.330     0.255   0.080       0.2050       0.0550      7\n",
       "..            ...       ...     ...          ...          ...    ...\n",
       "695         0.315     0.230   0.090       0.1285       0.0400      7\n",
       "696         0.155     0.105   0.050       0.0175       0.0050      4\n",
       "697         0.280     0.205   0.100       0.1165       0.0300      5\n",
       "698         0.430     0.335   0.120       0.4440       0.1400     13\n",
       "699         0.395     0.315   0.105       0.3515       0.1195     16\n",
       "\n",
       "[700 rows x 6 columns]"
      ]
     },
     "execution_count": 343,
     "metadata": {},
     "output_type": "execute_result"
    }
   ],
   "source": [
    "df2 = df2.drop(columns=['ShuckedWeight', 'VisceraWeight'])\n",
    "train2,validation2, test2 = np.split(df2, [int(.7*len(df2)), int(.9*len(df2))])\n",
    "\n",
    "train2"
   ]
  },
  {
   "cell_type": "code",
   "execution_count": null,
   "metadata": {},
   "outputs": [],
   "source": [
    "Y_train2 = train2['LongestShell']\n",
    "X_train2 = train2.drop(columns='LongestShell')\n",
    "\n",
    "Y_valid2 = validation2['LongestShell']\n",
    "X_valid2 = validation2.drop(columns='LongestShell')\n",
    "\n",
    "Y_test2 = test2['LongestShell']\n",
    "X_test2 = test2.drop(columns='LongestShell')"
   ]
  },
  {
   "cell_type": "code",
   "execution_count": null,
   "metadata": {},
   "outputs": [
    {
     "name": "stdout",
     "output_type": "stream",
     "text": [
      "Epoch 1/500\n",
      "\u001b[1m5/5\u001b[0m \u001b[32m━━━━━━━━━━━━━━━━━━━━\u001b[0m\u001b[37m\u001b[0m \u001b[1m2s\u001b[0m 62ms/step - accuracy: 0.0000e+00 - f1_score: 0.6594 - loss: 0.6931 - val_accuracy: 0.0000e+00 - val_f1_score: 0.6563 - val_loss: 0.6931\n",
      "Epoch 2/500\n",
      "\u001b[1m5/5\u001b[0m \u001b[32m━━━━━━━━━━━━━━━━━━━━\u001b[0m\u001b[37m\u001b[0m \u001b[1m0s\u001b[0m 17ms/step - accuracy: 0.0000e+00 - f1_score: 0.6606 - loss: 0.6931 - val_accuracy: 0.0000e+00 - val_f1_score: 0.6563 - val_loss: 0.6931\n",
      "Epoch 3/500\n",
      "\u001b[1m5/5\u001b[0m \u001b[32m━━━━━━━━━━━━━━━━━━━━\u001b[0m\u001b[37m\u001b[0m \u001b[1m0s\u001b[0m 16ms/step - accuracy: 0.0000e+00 - f1_score: 0.6629 - loss: 0.6931 - val_accuracy: 0.0000e+00 - val_f1_score: 0.6563 - val_loss: 0.6930\n",
      "Epoch 4/500\n",
      "\u001b[1m5/5\u001b[0m \u001b[32m━━━━━━━━━━━━━━━━━━━━\u001b[0m\u001b[37m\u001b[0m \u001b[1m0s\u001b[0m 18ms/step - accuracy: 0.0000e+00 - f1_score: 0.6618 - loss: 0.6931 - val_accuracy: 0.0000e+00 - val_f1_score: 0.6563 - val_loss: 0.6930\n",
      "Epoch 5/500\n",
      "\u001b[1m5/5\u001b[0m \u001b[32m━━━━━━━━━━━━━━━━━━━━\u001b[0m\u001b[37m\u001b[0m \u001b[1m0s\u001b[0m 15ms/step - accuracy: 0.0000e+00 - f1_score: 0.6612 - loss: 0.6931 - val_accuracy: 0.0000e+00 - val_f1_score: 0.6563 - val_loss: 0.6930\n",
      "Epoch 6/500\n",
      "\u001b[1m5/5\u001b[0m \u001b[32m━━━━━━━━━━━━━━━━━━━━\u001b[0m\u001b[37m\u001b[0m \u001b[1m0s\u001b[0m 16ms/step - accuracy: 0.0000e+00 - f1_score: 0.6608 - loss: 0.6931 - val_accuracy: 0.0000e+00 - val_f1_score: 0.6563 - val_loss: 0.6930\n",
      "Epoch 7/500\n",
      "\u001b[1m5/5\u001b[0m \u001b[32m━━━━━━━━━━━━━━━━━━━━\u001b[0m\u001b[37m\u001b[0m \u001b[1m0s\u001b[0m 14ms/step - accuracy: 0.0000e+00 - f1_score: 0.6638 - loss: 0.6931 - val_accuracy: 0.0000e+00 - val_f1_score: 0.6563 - val_loss: 0.6930\n",
      "Epoch 8/500\n",
      "\u001b[1m5/5\u001b[0m \u001b[32m━━━━━━━━━━━━━━━━━━━━\u001b[0m\u001b[37m\u001b[0m \u001b[1m0s\u001b[0m 14ms/step - accuracy: 0.0000e+00 - f1_score: 0.6625 - loss: 0.6931 - val_accuracy: 0.0000e+00 - val_f1_score: 0.6563 - val_loss: 0.6930\n",
      "Epoch 9/500\n",
      "\u001b[1m5/5\u001b[0m \u001b[32m━━━━━━━━━━━━━━━━━━━━\u001b[0m\u001b[37m\u001b[0m \u001b[1m0s\u001b[0m 14ms/step - accuracy: 0.0000e+00 - f1_score: 0.6576 - loss: 0.6930 - val_accuracy: 0.0000e+00 - val_f1_score: 0.6563 - val_loss: 0.6929\n",
      "Epoch 10/500\n",
      "\u001b[1m5/5\u001b[0m \u001b[32m━━━━━━━━━━━━━━━━━━━━\u001b[0m\u001b[37m\u001b[0m \u001b[1m0s\u001b[0m 14ms/step - accuracy: 0.0000e+00 - f1_score: 0.6590 - loss: 0.6930 - val_accuracy: 0.0000e+00 - val_f1_score: 0.6563 - val_loss: 0.6929\n",
      "Epoch 11/500\n",
      "\u001b[1m5/5\u001b[0m \u001b[32m━━━━━━━━━━━━━━━━━━━━\u001b[0m\u001b[37m\u001b[0m \u001b[1m0s\u001b[0m 15ms/step - accuracy: 0.0000e+00 - f1_score: 0.6583 - loss: 0.6930 - val_accuracy: 0.0000e+00 - val_f1_score: 0.6563 - val_loss: 0.6929\n",
      "Epoch 12/500\n",
      "\u001b[1m5/5\u001b[0m \u001b[32m━━━━━━━━━━━━━━━━━━━━\u001b[0m\u001b[37m\u001b[0m \u001b[1m0s\u001b[0m 15ms/step - accuracy: 0.0000e+00 - f1_score: 0.6608 - loss: 0.6931 - val_accuracy: 0.0000e+00 - val_f1_score: 0.6563 - val_loss: 0.6929\n",
      "Epoch 13/500\n",
      "\u001b[1m5/5\u001b[0m \u001b[32m━━━━━━━━━━━━━━━━━━━━\u001b[0m\u001b[37m\u001b[0m \u001b[1m0s\u001b[0m 15ms/step - accuracy: 0.0000e+00 - f1_score: 0.6658 - loss: 0.6932 - val_accuracy: 0.0000e+00 - val_f1_score: 0.6563 - val_loss: 0.6929\n",
      "Epoch 14/500\n",
      "\u001b[1m5/5\u001b[0m \u001b[32m━━━━━━━━━━━━━━━━━━━━\u001b[0m\u001b[37m\u001b[0m \u001b[1m0s\u001b[0m 14ms/step - accuracy: 0.0000e+00 - f1_score: 0.6548 - loss: 0.6929 - val_accuracy: 0.0000e+00 - val_f1_score: 0.6563 - val_loss: 0.6929\n",
      "Epoch 15/500\n",
      "\u001b[1m5/5\u001b[0m \u001b[32m━━━━━━━━━━━━━━━━━━━━\u001b[0m\u001b[37m\u001b[0m \u001b[1m0s\u001b[0m 14ms/step - accuracy: 0.0000e+00 - f1_score: 0.6622 - loss: 0.6931 - val_accuracy: 0.0000e+00 - val_f1_score: 0.6563 - val_loss: 0.6929\n",
      "Epoch 16/500\n",
      "\u001b[1m5/5\u001b[0m \u001b[32m━━━━━━━━━━━━━━━━━━━━\u001b[0m\u001b[37m\u001b[0m \u001b[1m0s\u001b[0m 14ms/step - accuracy: 0.0000e+00 - f1_score: 0.6645 - loss: 0.6932 - val_accuracy: 0.0000e+00 - val_f1_score: 0.6563 - val_loss: 0.6929\n",
      "Epoch 17/500\n",
      "\u001b[1m5/5\u001b[0m \u001b[32m━━━━━━━━━━━━━━━━━━━━\u001b[0m\u001b[37m\u001b[0m \u001b[1m0s\u001b[0m 14ms/step - accuracy: 0.0000e+00 - f1_score: 0.6649 - loss: 0.6932 - val_accuracy: 0.0000e+00 - val_f1_score: 0.6563 - val_loss: 0.6929\n",
      "Epoch 18/500\n",
      "\u001b[1m5/5\u001b[0m \u001b[32m━━━━━━━━━━━━━━━━━━━━\u001b[0m\u001b[37m\u001b[0m \u001b[1m0s\u001b[0m 15ms/step - accuracy: 0.0000e+00 - f1_score: 0.6622 - loss: 0.6931 - val_accuracy: 0.0000e+00 - val_f1_score: 0.6563 - val_loss: 0.6929\n",
      "Epoch 19/500\n",
      "\u001b[1m5/5\u001b[0m \u001b[32m━━━━━━━━━━━━━━━━━━━━\u001b[0m\u001b[37m\u001b[0m \u001b[1m0s\u001b[0m 15ms/step - accuracy: 0.0000e+00 - f1_score: 0.6648 - loss: 0.6932 - val_accuracy: 0.0000e+00 - val_f1_score: 0.6563 - val_loss: 0.6929\n",
      "Epoch 20/500\n",
      "\u001b[1m5/5\u001b[0m \u001b[32m━━━━━━━━━━━━━━━━━━━━\u001b[0m\u001b[37m\u001b[0m \u001b[1m0s\u001b[0m 14ms/step - accuracy: 0.0000e+00 - f1_score: 0.6622 - loss: 0.6931 - val_accuracy: 0.0000e+00 - val_f1_score: 0.6563 - val_loss: 0.6929\n",
      "Epoch 21/500\n",
      "\u001b[1m5/5\u001b[0m \u001b[32m━━━━━━━━━━━━━━━━━━━━\u001b[0m\u001b[37m\u001b[0m \u001b[1m0s\u001b[0m 14ms/step - accuracy: 0.0000e+00 - f1_score: 0.6575 - loss: 0.6930 - val_accuracy: 0.0000e+00 - val_f1_score: 0.6563 - val_loss: 0.6929\n",
      "Epoch 22/500\n",
      "\u001b[1m5/5\u001b[0m \u001b[32m━━━━━━━━━━━━━━━━━━━━\u001b[0m\u001b[37m\u001b[0m \u001b[1m0s\u001b[0m 14ms/step - accuracy: 0.0000e+00 - f1_score: 0.6567 - loss: 0.6929 - val_accuracy: 0.0000e+00 - val_f1_score: 0.6563 - val_loss: 0.6929\n",
      "Epoch 23/500\n",
      "\u001b[1m5/5\u001b[0m \u001b[32m━━━━━━━━━━━━━━━━━━━━\u001b[0m\u001b[37m\u001b[0m \u001b[1m0s\u001b[0m 15ms/step - accuracy: 0.0000e+00 - f1_score: 0.6652 - loss: 0.6932 - val_accuracy: 0.0000e+00 - val_f1_score: 0.6563 - val_loss: 0.6929\n",
      "Epoch 24/500\n",
      "\u001b[1m5/5\u001b[0m \u001b[32m━━━━━━━━━━━━━━━━━━━━\u001b[0m\u001b[37m\u001b[0m \u001b[1m0s\u001b[0m 14ms/step - accuracy: 0.0000e+00 - f1_score: 0.6580 - loss: 0.6930 - val_accuracy: 0.0000e+00 - val_f1_score: 0.6563 - val_loss: 0.6929\n",
      "Epoch 25/500\n",
      "\u001b[1m5/5\u001b[0m \u001b[32m━━━━━━━━━━━━━━━━━━━━\u001b[0m\u001b[37m\u001b[0m \u001b[1m0s\u001b[0m 14ms/step - accuracy: 0.0000e+00 - f1_score: 0.6608 - loss: 0.6931 - val_accuracy: 0.0000e+00 - val_f1_score: 0.6563 - val_loss: 0.6929\n",
      "Epoch 26/500\n",
      "\u001b[1m5/5\u001b[0m \u001b[32m━━━━━━━━━━━━━━━━━━━━\u001b[0m\u001b[37m\u001b[0m \u001b[1m0s\u001b[0m 14ms/step - accuracy: 0.0000e+00 - f1_score: 0.6596 - loss: 0.6930 - val_accuracy: 0.0000e+00 - val_f1_score: 0.6563 - val_loss: 0.6929\n",
      "Epoch 27/500\n",
      "\u001b[1m5/5\u001b[0m \u001b[32m━━━━━━━━━━━━━━━━━━━━\u001b[0m\u001b[37m\u001b[0m \u001b[1m0s\u001b[0m 14ms/step - accuracy: 0.0000e+00 - f1_score: 0.6558 - loss: 0.6929 - val_accuracy: 0.0000e+00 - val_f1_score: 0.6563 - val_loss: 0.6929\n",
      "Epoch 28/500\n",
      "\u001b[1m5/5\u001b[0m \u001b[32m━━━━━━━━━━━━━━━━━━━━\u001b[0m\u001b[37m\u001b[0m \u001b[1m0s\u001b[0m 15ms/step - accuracy: 0.0000e+00 - f1_score: 0.6618 - loss: 0.6931 - val_accuracy: 0.0000e+00 - val_f1_score: 0.6563 - val_loss: 0.6929\n",
      "Epoch 29/500\n",
      "\u001b[1m5/5\u001b[0m \u001b[32m━━━━━━━━━━━━━━━━━━━━\u001b[0m\u001b[37m\u001b[0m \u001b[1m0s\u001b[0m 14ms/step - accuracy: 0.0000e+00 - f1_score: 0.6625 - loss: 0.6931 - val_accuracy: 0.0000e+00 - val_f1_score: 0.6563 - val_loss: 0.6929\n",
      "Epoch 30/500\n",
      "\u001b[1m5/5\u001b[0m \u001b[32m━━━━━━━━━━━━━━━━━━━━\u001b[0m\u001b[37m\u001b[0m \u001b[1m0s\u001b[0m 14ms/step - accuracy: 0.0000e+00 - f1_score: 0.6568 - loss: 0.6929 - val_accuracy: 0.0000e+00 - val_f1_score: 0.6563 - val_loss: 0.6929\n",
      "Epoch 31/500\n",
      "\u001b[1m5/5\u001b[0m \u001b[32m━━━━━━━━━━━━━━━━━━━━\u001b[0m\u001b[37m\u001b[0m \u001b[1m0s\u001b[0m 14ms/step - accuracy: 0.0000e+00 - f1_score: 0.6637 - loss: 0.6932 - val_accuracy: 0.0000e+00 - val_f1_score: 0.6563 - val_loss: 0.6929\n",
      "Epoch 32/500\n",
      "\u001b[1m5/5\u001b[0m \u001b[32m━━━━━━━━━━━━━━━━━━━━\u001b[0m\u001b[37m\u001b[0m \u001b[1m0s\u001b[0m 14ms/step - accuracy: 0.0000e+00 - f1_score: 0.6583 - loss: 0.6930 - val_accuracy: 0.0000e+00 - val_f1_score: 0.6563 - val_loss: 0.6929\n",
      "Epoch 33/500\n",
      "\u001b[1m5/5\u001b[0m \u001b[32m━━━━━━━━━━━━━━━━━━━━\u001b[0m\u001b[37m\u001b[0m \u001b[1m0s\u001b[0m 14ms/step - accuracy: 0.0000e+00 - f1_score: 0.6596 - loss: 0.6930 - val_accuracy: 0.0000e+00 - val_f1_score: 0.6563 - val_loss: 0.6929\n",
      "Epoch 34/500\n",
      "\u001b[1m5/5\u001b[0m \u001b[32m━━━━━━━━━━━━━━━━━━━━\u001b[0m\u001b[37m\u001b[0m \u001b[1m0s\u001b[0m 14ms/step - accuracy: 0.0000e+00 - f1_score: 0.6577 - loss: 0.6930 - val_accuracy: 0.0000e+00 - val_f1_score: 0.6563 - val_loss: 0.6929\n",
      "Epoch 35/500\n",
      "\u001b[1m5/5\u001b[0m \u001b[32m━━━━━━━━━━━━━━━━━━━━\u001b[0m\u001b[37m\u001b[0m \u001b[1m0s\u001b[0m 15ms/step - accuracy: 0.0000e+00 - f1_score: 0.6562 - loss: 0.6929 - val_accuracy: 0.0000e+00 - val_f1_score: 0.6563 - val_loss: 0.6929\n",
      "Epoch 36/500\n",
      "\u001b[1m5/5\u001b[0m \u001b[32m━━━━━━━━━━━━━━━━━━━━\u001b[0m\u001b[37m\u001b[0m \u001b[1m0s\u001b[0m 15ms/step - accuracy: 0.0000e+00 - f1_score: 0.6616 - loss: 0.6931 - val_accuracy: 0.0000e+00 - val_f1_score: 0.6563 - val_loss: 0.6929\n",
      "Epoch 37/500\n",
      "\u001b[1m5/5\u001b[0m \u001b[32m━━━━━━━━━━━━━━━━━━━━\u001b[0m\u001b[37m\u001b[0m \u001b[1m0s\u001b[0m 15ms/step - accuracy: 0.0000e+00 - f1_score: 0.6575 - loss: 0.6930 - val_accuracy: 0.0000e+00 - val_f1_score: 0.6563 - val_loss: 0.6929\n",
      "Epoch 38/500\n",
      "\u001b[1m5/5\u001b[0m \u001b[32m━━━━━━━━━━━━━━━━━━━━\u001b[0m\u001b[37m\u001b[0m \u001b[1m0s\u001b[0m 14ms/step - accuracy: 0.0000e+00 - f1_score: 0.6632 - loss: 0.6931 - val_accuracy: 0.0000e+00 - val_f1_score: 0.6563 - val_loss: 0.6929\n",
      "Epoch 39/500\n",
      "\u001b[1m5/5\u001b[0m \u001b[32m━━━━━━━━━━━━━━━━━━━━\u001b[0m\u001b[37m\u001b[0m \u001b[1m0s\u001b[0m 15ms/step - accuracy: 0.0000e+00 - f1_score: 0.6629 - loss: 0.6931 - val_accuracy: 0.0000e+00 - val_f1_score: 0.6563 - val_loss: 0.6929\n",
      "Epoch 40/500\n",
      "\u001b[1m5/5\u001b[0m \u001b[32m━━━━━━━━━━━━━━━━━━━━\u001b[0m\u001b[37m\u001b[0m \u001b[1m0s\u001b[0m 14ms/step - accuracy: 0.0000e+00 - f1_score: 0.6571 - loss: 0.6929 - val_accuracy: 0.0000e+00 - val_f1_score: 0.6563 - val_loss: 0.6929\n",
      "Epoch 41/500\n",
      "\u001b[1m5/5\u001b[0m \u001b[32m━━━━━━━━━━━━━━━━━━━━\u001b[0m\u001b[37m\u001b[0m \u001b[1m0s\u001b[0m 14ms/step - accuracy: 0.0000e+00 - f1_score: 0.6541 - loss: 0.6928 - val_accuracy: 0.0000e+00 - val_f1_score: 0.6563 - val_loss: 0.6929\n",
      "Epoch 42/500\n",
      "\u001b[1m5/5\u001b[0m \u001b[32m━━━━━━━━━━━━━━━━━━━━\u001b[0m\u001b[37m\u001b[0m \u001b[1m0s\u001b[0m 14ms/step - accuracy: 0.0000e+00 - f1_score: 0.6602 - loss: 0.6930 - val_accuracy: 0.0000e+00 - val_f1_score: 0.6563 - val_loss: 0.6929\n",
      "Epoch 43/500\n",
      "\u001b[1m5/5\u001b[0m \u001b[32m━━━━━━━━━━━━━━━━━━━━\u001b[0m\u001b[37m\u001b[0m \u001b[1m0s\u001b[0m 14ms/step - accuracy: 0.0000e+00 - f1_score: 0.6602 - loss: 0.6930 - val_accuracy: 0.0000e+00 - val_f1_score: 0.6563 - val_loss: 0.6929\n",
      "Epoch 44/500\n",
      "\u001b[1m5/5\u001b[0m \u001b[32m━━━━━━━━━━━━━━━━━━━━\u001b[0m\u001b[37m\u001b[0m \u001b[1m0s\u001b[0m 14ms/step - accuracy: 0.0000e+00 - f1_score: 0.6601 - loss: 0.6930 - val_accuracy: 0.0000e+00 - val_f1_score: 0.6563 - val_loss: 0.6929\n",
      "Epoch 45/500\n",
      "\u001b[1m5/5\u001b[0m \u001b[32m━━━━━━━━━━━━━━━━━━━━\u001b[0m\u001b[37m\u001b[0m \u001b[1m0s\u001b[0m 16ms/step - accuracy: 0.0000e+00 - f1_score: 0.6640 - loss: 0.6932 - val_accuracy: 0.0000e+00 - val_f1_score: 0.6563 - val_loss: 0.6929\n",
      "Epoch 46/500\n",
      "\u001b[1m5/5\u001b[0m \u001b[32m━━━━━━━━━━━━━━━━━━━━\u001b[0m\u001b[37m\u001b[0m \u001b[1m0s\u001b[0m 15ms/step - accuracy: 0.0000e+00 - f1_score: 0.6635 - loss: 0.6932 - val_accuracy: 0.0000e+00 - val_f1_score: 0.6563 - val_loss: 0.6929\n",
      "Epoch 47/500\n",
      "\u001b[1m5/5\u001b[0m \u001b[32m━━━━━━━━━━━━━━━━━━━━\u001b[0m\u001b[37m\u001b[0m \u001b[1m0s\u001b[0m 14ms/step - accuracy: 0.0000e+00 - f1_score: 0.6590 - loss: 0.6930 - val_accuracy: 0.0000e+00 - val_f1_score: 0.6563 - val_loss: 0.6929\n",
      "Epoch 48/500\n",
      "\u001b[1m5/5\u001b[0m \u001b[32m━━━━━━━━━━━━━━━━━━━━\u001b[0m\u001b[37m\u001b[0m \u001b[1m0s\u001b[0m 14ms/step - accuracy: 0.0000e+00 - f1_score: 0.6574 - loss: 0.6930 - val_accuracy: 0.0000e+00 - val_f1_score: 0.6563 - val_loss: 0.6929\n",
      "Epoch 49/500\n",
      "\u001b[1m5/5\u001b[0m \u001b[32m━━━━━━━━━━━━━━━━━━━━\u001b[0m\u001b[37m\u001b[0m \u001b[1m0s\u001b[0m 14ms/step - accuracy: 0.0000e+00 - f1_score: 0.6621 - loss: 0.6931 - val_accuracy: 0.0000e+00 - val_f1_score: 0.6563 - val_loss: 0.6929\n",
      "Epoch 50/500\n",
      "\u001b[1m5/5\u001b[0m \u001b[32m━━━━━━━━━━━━━━━━━━━━\u001b[0m\u001b[37m\u001b[0m \u001b[1m0s\u001b[0m 14ms/step - accuracy: 0.0000e+00 - f1_score: 0.6650 - loss: 0.6932 - val_accuracy: 0.0000e+00 - val_f1_score: 0.6563 - val_loss: 0.6929\n",
      "Epoch 51/500\n",
      "\u001b[1m5/5\u001b[0m \u001b[32m━━━━━━━━━━━━━━━━━━━━\u001b[0m\u001b[37m\u001b[0m \u001b[1m0s\u001b[0m 14ms/step - accuracy: 0.0000e+00 - f1_score: 0.6582 - loss: 0.6930 - val_accuracy: 0.0000e+00 - val_f1_score: 0.6563 - val_loss: 0.6929\n",
      "Epoch 52/500\n",
      "\u001b[1m5/5\u001b[0m \u001b[32m━━━━━━━━━━━━━━━━━━━━\u001b[0m\u001b[37m\u001b[0m \u001b[1m0s\u001b[0m 14ms/step - accuracy: 0.0000e+00 - f1_score: 0.6576 - loss: 0.6930 - val_accuracy: 0.0000e+00 - val_f1_score: 0.6563 - val_loss: 0.6929\n",
      "Epoch 53/500\n",
      "\u001b[1m5/5\u001b[0m \u001b[32m━━━━━━━━━━━━━━━━━━━━\u001b[0m\u001b[37m\u001b[0m \u001b[1m0s\u001b[0m 14ms/step - accuracy: 0.0000e+00 - f1_score: 0.6621 - loss: 0.6931 - val_accuracy: 0.0000e+00 - val_f1_score: 0.6563 - val_loss: 0.6929\n",
      "Epoch 54/500\n",
      "\u001b[1m5/5\u001b[0m \u001b[32m━━━━━━━━━━━━━━━━━━━━\u001b[0m\u001b[37m\u001b[0m \u001b[1m0s\u001b[0m 14ms/step - accuracy: 0.0000e+00 - f1_score: 0.6620 - loss: 0.6931 - val_accuracy: 0.0000e+00 - val_f1_score: 0.6563 - val_loss: 0.6929\n",
      "Epoch 55/500\n",
      "\u001b[1m5/5\u001b[0m \u001b[32m━━━━━━━━━━━━━━━━━━━━\u001b[0m\u001b[37m\u001b[0m \u001b[1m0s\u001b[0m 14ms/step - accuracy: 0.0000e+00 - f1_score: 0.6611 - loss: 0.6931 - val_accuracy: 0.0000e+00 - val_f1_score: 0.6563 - val_loss: 0.6929\n",
      "Epoch 56/500\n",
      "\u001b[1m5/5\u001b[0m \u001b[32m━━━━━━━━━━━━━━━━━━━━\u001b[0m\u001b[37m\u001b[0m \u001b[1m0s\u001b[0m 14ms/step - accuracy: 0.0000e+00 - f1_score: 0.6599 - loss: 0.6930 - val_accuracy: 0.0000e+00 - val_f1_score: 0.6563 - val_loss: 0.6929\n",
      "Epoch 57/500\n",
      "\u001b[1m5/5\u001b[0m \u001b[32m━━━━━━━━━━━━━━━━━━━━\u001b[0m\u001b[37m\u001b[0m \u001b[1m0s\u001b[0m 14ms/step - accuracy: 0.0000e+00 - f1_score: 0.6575 - loss: 0.6930 - val_accuracy: 0.0000e+00 - val_f1_score: 0.6563 - val_loss: 0.6929\n",
      "Epoch 58/500\n",
      "\u001b[1m5/5\u001b[0m \u001b[32m━━━━━━━━━━━━━━━━━━━━\u001b[0m\u001b[37m\u001b[0m \u001b[1m0s\u001b[0m 14ms/step - accuracy: 0.0000e+00 - f1_score: 0.6630 - loss: 0.6931 - val_accuracy: 0.0000e+00 - val_f1_score: 0.6563 - val_loss: 0.6929\n",
      "Epoch 59/500\n",
      "\u001b[1m5/5\u001b[0m \u001b[32m━━━━━━━━━━━━━━━━━━━━\u001b[0m\u001b[37m\u001b[0m \u001b[1m0s\u001b[0m 14ms/step - accuracy: 0.0000e+00 - f1_score: 0.6594 - loss: 0.6930 - val_accuracy: 0.0000e+00 - val_f1_score: 0.6563 - val_loss: 0.6929\n",
      "Epoch 60/500\n",
      "\u001b[1m5/5\u001b[0m \u001b[32m━━━━━━━━━━━━━━━━━━━━\u001b[0m\u001b[37m\u001b[0m \u001b[1m0s\u001b[0m 15ms/step - accuracy: 0.0000e+00 - f1_score: 0.6626 - loss: 0.6931 - val_accuracy: 0.0000e+00 - val_f1_score: 0.6563 - val_loss: 0.6929\n",
      "Epoch 61/500\n",
      "\u001b[1m5/5\u001b[0m \u001b[32m━━━━━━━━━━━━━━━━━━━━\u001b[0m\u001b[37m\u001b[0m \u001b[1m0s\u001b[0m 15ms/step - accuracy: 0.0000e+00 - f1_score: 0.6590 - loss: 0.6930 - val_accuracy: 0.0000e+00 - val_f1_score: 0.6563 - val_loss: 0.6929\n",
      "Epoch 62/500\n",
      "\u001b[1m5/5\u001b[0m \u001b[32m━━━━━━━━━━━━━━━━━━━━\u001b[0m\u001b[37m\u001b[0m \u001b[1m0s\u001b[0m 16ms/step - accuracy: 0.0000e+00 - f1_score: 0.6583 - loss: 0.6930 - val_accuracy: 0.0000e+00 - val_f1_score: 0.6563 - val_loss: 0.6929\n",
      "Epoch 63/500\n",
      "\u001b[1m5/5\u001b[0m \u001b[32m━━━━━━━━━━━━━━━━━━━━\u001b[0m\u001b[37m\u001b[0m \u001b[1m0s\u001b[0m 15ms/step - accuracy: 0.0000e+00 - f1_score: 0.6590 - loss: 0.6930 - val_accuracy: 0.0000e+00 - val_f1_score: 0.6563 - val_loss: 0.6929\n",
      "Epoch 64/500\n",
      "\u001b[1m5/5\u001b[0m \u001b[32m━━━━━━━━━━━━━━━━━━━━\u001b[0m\u001b[37m\u001b[0m \u001b[1m0s\u001b[0m 14ms/step - accuracy: 0.0000e+00 - f1_score: 0.6597 - loss: 0.6930 - val_accuracy: 0.0000e+00 - val_f1_score: 0.6563 - val_loss: 0.6929\n",
      "Epoch 65/500\n",
      "\u001b[1m5/5\u001b[0m \u001b[32m━━━━━━━━━━━━━━━━━━━━\u001b[0m\u001b[37m\u001b[0m \u001b[1m0s\u001b[0m 14ms/step - accuracy: 0.0000e+00 - f1_score: 0.6617 - loss: 0.6931 - val_accuracy: 0.0000e+00 - val_f1_score: 0.6563 - val_loss: 0.6929\n",
      "Epoch 66/500\n",
      "\u001b[1m5/5\u001b[0m \u001b[32m━━━━━━━━━━━━━━━━━━━━\u001b[0m\u001b[37m\u001b[0m \u001b[1m0s\u001b[0m 14ms/step - accuracy: 0.0000e+00 - f1_score: 0.6593 - loss: 0.6930 - val_accuracy: 0.0000e+00 - val_f1_score: 0.6563 - val_loss: 0.6929\n",
      "Epoch 67/500\n",
      "\u001b[1m5/5\u001b[0m \u001b[32m━━━━━━━━━━━━━━━━━━━━\u001b[0m\u001b[37m\u001b[0m \u001b[1m0s\u001b[0m 15ms/step - accuracy: 0.0000e+00 - f1_score: 0.6588 - loss: 0.6930 - val_accuracy: 0.0000e+00 - val_f1_score: 0.6563 - val_loss: 0.6929\n",
      "Epoch 68/500\n",
      "\u001b[1m5/5\u001b[0m \u001b[32m━━━━━━━━━━━━━━━━━━━━\u001b[0m\u001b[37m\u001b[0m \u001b[1m0s\u001b[0m 14ms/step - accuracy: 0.0000e+00 - f1_score: 0.6610 - loss: 0.6931 - val_accuracy: 0.0000e+00 - val_f1_score: 0.6563 - val_loss: 0.6929\n",
      "Epoch 69/500\n",
      "\u001b[1m5/5\u001b[0m \u001b[32m━━━━━━━━━━━━━━━━━━━━\u001b[0m\u001b[37m\u001b[0m \u001b[1m0s\u001b[0m 14ms/step - accuracy: 0.0000e+00 - f1_score: 0.6573 - loss: 0.6929 - val_accuracy: 0.0000e+00 - val_f1_score: 0.6563 - val_loss: 0.6929\n",
      "Epoch 70/500\n",
      "\u001b[1m5/5\u001b[0m \u001b[32m━━━━━━━━━━━━━━━━━━━━\u001b[0m\u001b[37m\u001b[0m \u001b[1m0s\u001b[0m 14ms/step - accuracy: 0.0000e+00 - f1_score: 0.6578 - loss: 0.6930 - val_accuracy: 0.0000e+00 - val_f1_score: 0.6563 - val_loss: 0.6929\n",
      "Epoch 71/500\n",
      "\u001b[1m5/5\u001b[0m \u001b[32m━━━━━━━━━━━━━━━━━━━━\u001b[0m\u001b[37m\u001b[0m \u001b[1m0s\u001b[0m 15ms/step - accuracy: 0.0000e+00 - f1_score: 0.6573 - loss: 0.6929 - val_accuracy: 0.0000e+00 - val_f1_score: 0.6563 - val_loss: 0.6929\n",
      "Epoch 72/500\n",
      "\u001b[1m5/5\u001b[0m \u001b[32m━━━━━━━━━━━━━━━━━━━━\u001b[0m\u001b[37m\u001b[0m \u001b[1m0s\u001b[0m 14ms/step - accuracy: 0.0000e+00 - f1_score: 0.6604 - loss: 0.6930 - val_accuracy: 0.0000e+00 - val_f1_score: 0.6563 - val_loss: 0.6929\n",
      "Epoch 73/500\n",
      "\u001b[1m5/5\u001b[0m \u001b[32m━━━━━━━━━━━━━━━━━━━━\u001b[0m\u001b[37m\u001b[0m \u001b[1m0s\u001b[0m 14ms/step - accuracy: 0.0000e+00 - f1_score: 0.6583 - loss: 0.6930 - val_accuracy: 0.0000e+00 - val_f1_score: 0.6563 - val_loss: 0.6929\n",
      "Epoch 74/500\n",
      "\u001b[1m5/5\u001b[0m \u001b[32m━━━━━━━━━━━━━━━━━━━━\u001b[0m\u001b[37m\u001b[0m \u001b[1m0s\u001b[0m 14ms/step - accuracy: 0.0000e+00 - f1_score: 0.6628 - loss: 0.6931 - val_accuracy: 0.0000e+00 - val_f1_score: 0.6563 - val_loss: 0.6929\n",
      "Epoch 75/500\n",
      "\u001b[1m5/5\u001b[0m \u001b[32m━━━━━━━━━━━━━━━━━━━━\u001b[0m\u001b[37m\u001b[0m \u001b[1m0s\u001b[0m 14ms/step - accuracy: 0.0000e+00 - f1_score: 0.6611 - loss: 0.6931 - val_accuracy: 0.0000e+00 - val_f1_score: 0.6563 - val_loss: 0.6929\n",
      "Epoch 76/500\n",
      "\u001b[1m5/5\u001b[0m \u001b[32m━━━━━━━━━━━━━━━━━━━━\u001b[0m\u001b[37m\u001b[0m \u001b[1m0s\u001b[0m 14ms/step - accuracy: 0.0000e+00 - f1_score: 0.6592 - loss: 0.6930 - val_accuracy: 0.0000e+00 - val_f1_score: 0.6563 - val_loss: 0.6929\n",
      "Epoch 77/500\n",
      "\u001b[1m5/5\u001b[0m \u001b[32m━━━━━━━━━━━━━━━━━━━━\u001b[0m\u001b[37m\u001b[0m \u001b[1m0s\u001b[0m 14ms/step - accuracy: 0.0000e+00 - f1_score: 0.6594 - loss: 0.6930 - val_accuracy: 0.0000e+00 - val_f1_score: 0.6563 - val_loss: 0.6929\n",
      "Epoch 78/500\n",
      "\u001b[1m5/5\u001b[0m \u001b[32m━━━━━━━━━━━━━━━━━━━━\u001b[0m\u001b[37m\u001b[0m \u001b[1m0s\u001b[0m 15ms/step - accuracy: 0.0000e+00 - f1_score: 0.6617 - loss: 0.6931 - val_accuracy: 0.0000e+00 - val_f1_score: 0.6563 - val_loss: 0.6929\n",
      "Epoch 79/500\n",
      "\u001b[1m5/5\u001b[0m \u001b[32m━━━━━━━━━━━━━━━━━━━━\u001b[0m\u001b[37m\u001b[0m \u001b[1m0s\u001b[0m 22ms/step - accuracy: 0.0000e+00 - f1_score: 0.6552 - loss: 0.6929 - val_accuracy: 0.0000e+00 - val_f1_score: 0.6563 - val_loss: 0.6929\n",
      "Epoch 80/500\n",
      "\u001b[1m5/5\u001b[0m \u001b[32m━━━━━━━━━━━━━━━━━━━━\u001b[0m\u001b[37m\u001b[0m \u001b[1m0s\u001b[0m 14ms/step - accuracy: 0.0000e+00 - f1_score: 0.6599 - loss: 0.6930 - val_accuracy: 0.0000e+00 - val_f1_score: 0.6563 - val_loss: 0.6929\n",
      "Epoch 81/500\n",
      "\u001b[1m5/5\u001b[0m \u001b[32m━━━━━━━━━━━━━━━━━━━━\u001b[0m\u001b[37m\u001b[0m \u001b[1m0s\u001b[0m 15ms/step - accuracy: 0.0000e+00 - f1_score: 0.6590 - loss: 0.6930 - val_accuracy: 0.0000e+00 - val_f1_score: 0.6563 - val_loss: 0.6929\n",
      "Epoch 82/500\n",
      "\u001b[1m5/5\u001b[0m \u001b[32m━━━━━━━━━━━━━━━━━━━━\u001b[0m\u001b[37m\u001b[0m \u001b[1m0s\u001b[0m 14ms/step - accuracy: 0.0000e+00 - f1_score: 0.6583 - loss: 0.6930 - val_accuracy: 0.0000e+00 - val_f1_score: 0.6563 - val_loss: 0.6929\n",
      "Epoch 83/500\n",
      "\u001b[1m5/5\u001b[0m \u001b[32m━━━━━━━━━━━━━━━━━━━━\u001b[0m\u001b[37m\u001b[0m \u001b[1m0s\u001b[0m 28ms/step - accuracy: 0.0000e+00 - f1_score: 0.6579 - loss: 0.6930 - val_accuracy: 0.0000e+00 - val_f1_score: 0.6563 - val_loss: 0.6929\n",
      "Epoch 84/500\n",
      "\u001b[1m5/5\u001b[0m \u001b[32m━━━━━━━━━━━━━━━━━━━━\u001b[0m\u001b[37m\u001b[0m \u001b[1m0s\u001b[0m 14ms/step - accuracy: 0.0000e+00 - f1_score: 0.6570 - loss: 0.6929 - val_accuracy: 0.0000e+00 - val_f1_score: 0.6563 - val_loss: 0.6929\n",
      "Epoch 85/500\n",
      "\u001b[1m5/5\u001b[0m \u001b[32m━━━━━━━━━━━━━━━━━━━━\u001b[0m\u001b[37m\u001b[0m \u001b[1m0s\u001b[0m 15ms/step - accuracy: 0.0000e+00 - f1_score: 0.6611 - loss: 0.6931 - val_accuracy: 0.0000e+00 - val_f1_score: 0.6563 - val_loss: 0.6929\n",
      "Epoch 86/500\n",
      "\u001b[1m5/5\u001b[0m \u001b[32m━━━━━━━━━━━━━━━━━━━━\u001b[0m\u001b[37m\u001b[0m \u001b[1m0s\u001b[0m 15ms/step - accuracy: 0.0000e+00 - f1_score: 0.6565 - loss: 0.6929 - val_accuracy: 0.0000e+00 - val_f1_score: 0.6563 - val_loss: 0.6929\n",
      "Epoch 87/500\n",
      "\u001b[1m5/5\u001b[0m \u001b[32m━━━━━━━━━━━━━━━━━━━━\u001b[0m\u001b[37m\u001b[0m \u001b[1m0s\u001b[0m 16ms/step - accuracy: 0.0000e+00 - f1_score: 0.6586 - loss: 0.6930 - val_accuracy: 0.0000e+00 - val_f1_score: 0.6563 - val_loss: 0.6929\n",
      "Epoch 88/500\n",
      "\u001b[1m5/5\u001b[0m \u001b[32m━━━━━━━━━━━━━━━━━━━━\u001b[0m\u001b[37m\u001b[0m \u001b[1m0s\u001b[0m 18ms/step - accuracy: 0.0000e+00 - f1_score: 0.6580 - loss: 0.6930 - val_accuracy: 0.0000e+00 - val_f1_score: 0.6563 - val_loss: 0.6929\n",
      "Epoch 89/500\n",
      "\u001b[1m5/5\u001b[0m \u001b[32m━━━━━━━━━━━━━━━━━━━━\u001b[0m\u001b[37m\u001b[0m \u001b[1m0s\u001b[0m 19ms/step - accuracy: 0.0000e+00 - f1_score: 0.6601 - loss: 0.6930 - val_accuracy: 0.0000e+00 - val_f1_score: 0.6563 - val_loss: 0.6929\n",
      "Epoch 90/500\n",
      "\u001b[1m5/5\u001b[0m \u001b[32m━━━━━━━━━━━━━━━━━━━━\u001b[0m\u001b[37m\u001b[0m \u001b[1m0s\u001b[0m 15ms/step - accuracy: 0.0000e+00 - f1_score: 0.6611 - loss: 0.6931 - val_accuracy: 0.0000e+00 - val_f1_score: 0.6563 - val_loss: 0.6929\n",
      "Epoch 91/500\n",
      "\u001b[1m5/5\u001b[0m \u001b[32m━━━━━━━━━━━━━━━━━━━━\u001b[0m\u001b[37m\u001b[0m \u001b[1m0s\u001b[0m 15ms/step - accuracy: 0.0000e+00 - f1_score: 0.6605 - loss: 0.6931 - val_accuracy: 0.0000e+00 - val_f1_score: 0.6563 - val_loss: 0.6929\n",
      "Epoch 92/500\n",
      "\u001b[1m5/5\u001b[0m \u001b[32m━━━━━━━━━━━━━━━━━━━━\u001b[0m\u001b[37m\u001b[0m \u001b[1m0s\u001b[0m 16ms/step - accuracy: 0.0000e+00 - f1_score: 0.6586 - loss: 0.6930 - val_accuracy: 0.0000e+00 - val_f1_score: 0.6563 - val_loss: 0.6929\n",
      "Epoch 93/500\n",
      "\u001b[1m5/5\u001b[0m \u001b[32m━━━━━━━━━━━━━━━━━━━━\u001b[0m\u001b[37m\u001b[0m \u001b[1m0s\u001b[0m 16ms/step - accuracy: 0.0000e+00 - f1_score: 0.6594 - loss: 0.6930 - val_accuracy: 0.0000e+00 - val_f1_score: 0.6563 - val_loss: 0.6929\n",
      "Epoch 94/500\n",
      "\u001b[1m5/5\u001b[0m \u001b[32m━━━━━━━━━━━━━━━━━━━━\u001b[0m\u001b[37m\u001b[0m \u001b[1m0s\u001b[0m 15ms/step - accuracy: 0.0000e+00 - f1_score: 0.6572 - loss: 0.6929 - val_accuracy: 0.0000e+00 - val_f1_score: 0.6563 - val_loss: 0.6929\n",
      "Epoch 95/500\n",
      "\u001b[1m5/5\u001b[0m \u001b[32m━━━━━━━━━━━━━━━━━━━━\u001b[0m\u001b[37m\u001b[0m \u001b[1m0s\u001b[0m 14ms/step - accuracy: 0.0000e+00 - f1_score: 0.6623 - loss: 0.6931 - val_accuracy: 0.0000e+00 - val_f1_score: 0.6563 - val_loss: 0.6929\n",
      "Epoch 96/500\n",
      "\u001b[1m5/5\u001b[0m \u001b[32m━━━━━━━━━━━━━━━━━━━━\u001b[0m\u001b[37m\u001b[0m \u001b[1m0s\u001b[0m 14ms/step - accuracy: 0.0000e+00 - f1_score: 0.6576 - loss: 0.6930 - val_accuracy: 0.0000e+00 - val_f1_score: 0.6563 - val_loss: 0.6929\n",
      "Epoch 97/500\n",
      "\u001b[1m5/5\u001b[0m \u001b[32m━━━━━━━━━━━━━━━━━━━━\u001b[0m\u001b[37m\u001b[0m \u001b[1m0s\u001b[0m 14ms/step - accuracy: 0.0000e+00 - f1_score: 0.6604 - loss: 0.6930 - val_accuracy: 0.0000e+00 - val_f1_score: 0.6563 - val_loss: 0.6929\n",
      "Epoch 98/500\n",
      "\u001b[1m5/5\u001b[0m \u001b[32m━━━━━━━━━━━━━━━━━━━━\u001b[0m\u001b[37m\u001b[0m \u001b[1m0s\u001b[0m 17ms/step - accuracy: 0.0000e+00 - f1_score: 0.6601 - loss: 0.6930 - val_accuracy: 0.0000e+00 - val_f1_score: 0.6563 - val_loss: 0.6929\n",
      "Epoch 99/500\n",
      "\u001b[1m5/5\u001b[0m \u001b[32m━━━━━━━━━━━━━━━━━━━━\u001b[0m\u001b[37m\u001b[0m \u001b[1m0s\u001b[0m 16ms/step - accuracy: 0.0000e+00 - f1_score: 0.6616 - loss: 0.6931 - val_accuracy: 0.0000e+00 - val_f1_score: 0.6563 - val_loss: 0.6929\n",
      "Epoch 100/500\n",
      "\u001b[1m5/5\u001b[0m \u001b[32m━━━━━━━━━━━━━━━━━━━━\u001b[0m\u001b[37m\u001b[0m \u001b[1m0s\u001b[0m 15ms/step - accuracy: 0.0000e+00 - f1_score: 0.6564 - loss: 0.6929 - val_accuracy: 0.0000e+00 - val_f1_score: 0.6563 - val_loss: 0.6929\n",
      "Epoch 101/500\n",
      "\u001b[1m5/5\u001b[0m \u001b[32m━━━━━━━━━━━━━━━━━━━━\u001b[0m\u001b[37m\u001b[0m \u001b[1m0s\u001b[0m 16ms/step - accuracy: 0.0000e+00 - f1_score: 0.6594 - loss: 0.6930 - val_accuracy: 0.0000e+00 - val_f1_score: 0.6563 - val_loss: 0.6929\n",
      "Epoch 102/500\n",
      "\u001b[1m5/5\u001b[0m \u001b[32m━━━━━━━━━━━━━━━━━━━━\u001b[0m\u001b[37m\u001b[0m \u001b[1m0s\u001b[0m 15ms/step - accuracy: 0.0000e+00 - f1_score: 0.6608 - loss: 0.6931 - val_accuracy: 0.0000e+00 - val_f1_score: 0.6563 - val_loss: 0.6929\n",
      "Epoch 103/500\n",
      "\u001b[1m5/5\u001b[0m \u001b[32m━━━━━━━━━━━━━━━━━━━━\u001b[0m\u001b[37m\u001b[0m \u001b[1m0s\u001b[0m 16ms/step - accuracy: 0.0000e+00 - f1_score: 0.6625 - loss: 0.6931 - val_accuracy: 0.0000e+00 - val_f1_score: 0.6563 - val_loss: 0.6929\n",
      "Epoch 104/500\n",
      "\u001b[1m5/5\u001b[0m \u001b[32m━━━━━━━━━━━━━━━━━━━━\u001b[0m\u001b[37m\u001b[0m \u001b[1m0s\u001b[0m 19ms/step - accuracy: 0.0000e+00 - f1_score: 0.6614 - loss: 0.6931 - val_accuracy: 0.0000e+00 - val_f1_score: 0.6563 - val_loss: 0.6929\n",
      "Epoch 105/500\n",
      "\u001b[1m5/5\u001b[0m \u001b[32m━━━━━━━━━━━━━━━━━━━━\u001b[0m\u001b[37m\u001b[0m \u001b[1m0s\u001b[0m 15ms/step - accuracy: 0.0000e+00 - f1_score: 0.6614 - loss: 0.6931 - val_accuracy: 0.0000e+00 - val_f1_score: 0.6563 - val_loss: 0.6929\n",
      "Epoch 106/500\n",
      "\u001b[1m5/5\u001b[0m \u001b[32m━━━━━━━━━━━━━━━━━━━━\u001b[0m\u001b[37m\u001b[0m \u001b[1m0s\u001b[0m 14ms/step - accuracy: 0.0000e+00 - f1_score: 0.6587 - loss: 0.6930 - val_accuracy: 0.0000e+00 - val_f1_score: 0.6563 - val_loss: 0.6929\n",
      "Epoch 107/500\n",
      "\u001b[1m5/5\u001b[0m \u001b[32m━━━━━━━━━━━━━━━━━━━━\u001b[0m\u001b[37m\u001b[0m \u001b[1m0s\u001b[0m 14ms/step - accuracy: 0.0000e+00 - f1_score: 0.6599 - loss: 0.6930 - val_accuracy: 0.0000e+00 - val_f1_score: 0.6563 - val_loss: 0.6929\n",
      "Epoch 108/500\n",
      "\u001b[1m5/5\u001b[0m \u001b[32m━━━━━━━━━━━━━━━━━━━━\u001b[0m\u001b[37m\u001b[0m \u001b[1m0s\u001b[0m 14ms/step - accuracy: 0.0000e+00 - f1_score: 0.6577 - loss: 0.6930 - val_accuracy: 0.0000e+00 - val_f1_score: 0.6563 - val_loss: 0.6929\n",
      "Epoch 109/500\n",
      "\u001b[1m5/5\u001b[0m \u001b[32m━━━━━━━━━━━━━━━━━━━━\u001b[0m\u001b[37m\u001b[0m \u001b[1m0s\u001b[0m 14ms/step - accuracy: 0.0000e+00 - f1_score: 0.6599 - loss: 0.6930 - val_accuracy: 0.0000e+00 - val_f1_score: 0.6563 - val_loss: 0.6929\n",
      "Epoch 110/500\n",
      "\u001b[1m5/5\u001b[0m \u001b[32m━━━━━━━━━━━━━━━━━━━━\u001b[0m\u001b[37m\u001b[0m \u001b[1m0s\u001b[0m 15ms/step - accuracy: 0.0000e+00 - f1_score: 0.6553 - loss: 0.6929 - val_accuracy: 0.0000e+00 - val_f1_score: 0.6563 - val_loss: 0.6929\n",
      "Epoch 111/500\n",
      "\u001b[1m5/5\u001b[0m \u001b[32m━━━━━━━━━━━━━━━━━━━━\u001b[0m\u001b[37m\u001b[0m \u001b[1m0s\u001b[0m 14ms/step - accuracy: 0.0000e+00 - f1_score: 0.6597 - loss: 0.6930 - val_accuracy: 0.0000e+00 - val_f1_score: 0.6563 - val_loss: 0.6929\n",
      "Epoch 112/500\n",
      "\u001b[1m5/5\u001b[0m \u001b[32m━━━━━━━━━━━━━━━━━━━━\u001b[0m\u001b[37m\u001b[0m \u001b[1m0s\u001b[0m 15ms/step - accuracy: 0.0000e+00 - f1_score: 0.6563 - loss: 0.6929 - val_accuracy: 0.0000e+00 - val_f1_score: 0.6563 - val_loss: 0.6929\n",
      "Epoch 113/500\n",
      "\u001b[1m5/5\u001b[0m \u001b[32m━━━━━━━━━━━━━━━━━━━━\u001b[0m\u001b[37m\u001b[0m \u001b[1m0s\u001b[0m 15ms/step - accuracy: 0.0000e+00 - f1_score: 0.6585 - loss: 0.6930 - val_accuracy: 0.0000e+00 - val_f1_score: 0.6563 - val_loss: 0.6929\n",
      "Epoch 114/500\n",
      "\u001b[1m5/5\u001b[0m \u001b[32m━━━━━━━━━━━━━━━━━━━━\u001b[0m\u001b[37m\u001b[0m \u001b[1m0s\u001b[0m 16ms/step - accuracy: 0.0000e+00 - f1_score: 0.6610 - loss: 0.6931 - val_accuracy: 0.0000e+00 - val_f1_score: 0.6563 - val_loss: 0.6929\n",
      "Epoch 115/500\n",
      "\u001b[1m5/5\u001b[0m \u001b[32m━━━━━━━━━━━━━━━━━━━━\u001b[0m\u001b[37m\u001b[0m \u001b[1m0s\u001b[0m 15ms/step - accuracy: 0.0000e+00 - f1_score: 0.6606 - loss: 0.6931 - val_accuracy: 0.0000e+00 - val_f1_score: 0.6563 - val_loss: 0.6929\n",
      "Epoch 116/500\n",
      "\u001b[1m5/5\u001b[0m \u001b[32m━━━━━━━━━━━━━━━━━━━━\u001b[0m\u001b[37m\u001b[0m \u001b[1m0s\u001b[0m 16ms/step - accuracy: 0.0000e+00 - f1_score: 0.6585 - loss: 0.6930 - val_accuracy: 0.0000e+00 - val_f1_score: 0.6563 - val_loss: 0.6929\n",
      "Epoch 117/500\n",
      "\u001b[1m5/5\u001b[0m \u001b[32m━━━━━━━━━━━━━━━━━━━━\u001b[0m\u001b[37m\u001b[0m \u001b[1m0s\u001b[0m 14ms/step - accuracy: 0.0000e+00 - f1_score: 0.6616 - loss: 0.6931 - val_accuracy: 0.0000e+00 - val_f1_score: 0.6563 - val_loss: 0.6929\n",
      "Epoch 118/500\n",
      "\u001b[1m5/5\u001b[0m \u001b[32m━━━━━━━━━━━━━━━━━━━━\u001b[0m\u001b[37m\u001b[0m \u001b[1m0s\u001b[0m 15ms/step - accuracy: 0.0000e+00 - f1_score: 0.6601 - loss: 0.6930 - val_accuracy: 0.0000e+00 - val_f1_score: 0.6563 - val_loss: 0.6929\n",
      "Epoch 119/500\n",
      "\u001b[1m5/5\u001b[0m \u001b[32m━━━━━━━━━━━━━━━━━━━━\u001b[0m\u001b[37m\u001b[0m \u001b[1m0s\u001b[0m 15ms/step - accuracy: 0.0000e+00 - f1_score: 0.6643 - loss: 0.6932 - val_accuracy: 0.0000e+00 - val_f1_score: 0.6563 - val_loss: 0.6929\n",
      "Epoch 120/500\n",
      "\u001b[1m5/5\u001b[0m \u001b[32m━━━━━━━━━━━━━━━━━━━━\u001b[0m\u001b[37m\u001b[0m \u001b[1m0s\u001b[0m 15ms/step - accuracy: 0.0000e+00 - f1_score: 0.6610 - loss: 0.6931 - val_accuracy: 0.0000e+00 - val_f1_score: 0.6563 - val_loss: 0.6929\n",
      "Epoch 121/500\n",
      "\u001b[1m5/5\u001b[0m \u001b[32m━━━━━━━━━━━━━━━━━━━━\u001b[0m\u001b[37m\u001b[0m \u001b[1m0s\u001b[0m 15ms/step - accuracy: 0.0000e+00 - f1_score: 0.6578 - loss: 0.6930 - val_accuracy: 0.0000e+00 - val_f1_score: 0.6563 - val_loss: 0.6929\n",
      "Epoch 122/500\n",
      "\u001b[1m5/5\u001b[0m \u001b[32m━━━━━━━━━━━━━━━━━━━━\u001b[0m\u001b[37m\u001b[0m \u001b[1m0s\u001b[0m 15ms/step - accuracy: 0.0000e+00 - f1_score: 0.6560 - loss: 0.6929 - val_accuracy: 0.0000e+00 - val_f1_score: 0.6563 - val_loss: 0.6929\n",
      "Epoch 123/500\n",
      "\u001b[1m5/5\u001b[0m \u001b[32m━━━━━━━━━━━━━━━━━━━━\u001b[0m\u001b[37m\u001b[0m \u001b[1m0s\u001b[0m 15ms/step - accuracy: 0.0000e+00 - f1_score: 0.6611 - loss: 0.6931 - val_accuracy: 0.0000e+00 - val_f1_score: 0.6563 - val_loss: 0.6929\n",
      "Epoch 124/500\n",
      "\u001b[1m5/5\u001b[0m \u001b[32m━━━━━━━━━━━━━━━━━━━━\u001b[0m\u001b[37m\u001b[0m \u001b[1m0s\u001b[0m 15ms/step - accuracy: 0.0000e+00 - f1_score: 0.6565 - loss: 0.6929 - val_accuracy: 0.0000e+00 - val_f1_score: 0.6563 - val_loss: 0.6929\n",
      "Epoch 125/500\n",
      "\u001b[1m5/5\u001b[0m \u001b[32m━━━━━━━━━━━━━━━━━━━━\u001b[0m\u001b[37m\u001b[0m \u001b[1m0s\u001b[0m 15ms/step - accuracy: 0.0000e+00 - f1_score: 0.6597 - loss: 0.6930 - val_accuracy: 0.0000e+00 - val_f1_score: 0.6563 - val_loss: 0.6929\n",
      "Epoch 126/500\n",
      "\u001b[1m5/5\u001b[0m \u001b[32m━━━━━━━━━━━━━━━━━━━━\u001b[0m\u001b[37m\u001b[0m \u001b[1m0s\u001b[0m 15ms/step - accuracy: 0.0000e+00 - f1_score: 0.6588 - loss: 0.6930 - val_accuracy: 0.0000e+00 - val_f1_score: 0.6563 - val_loss: 0.6929\n",
      "Epoch 127/500\n",
      "\u001b[1m5/5\u001b[0m \u001b[32m━━━━━━━━━━━━━━━━━━━━\u001b[0m\u001b[37m\u001b[0m \u001b[1m0s\u001b[0m 14ms/step - accuracy: 0.0000e+00 - f1_score: 0.6626 - loss: 0.6931 - val_accuracy: 0.0000e+00 - val_f1_score: 0.6563 - val_loss: 0.6929\n",
      "Epoch 128/500\n",
      "\u001b[1m5/5\u001b[0m \u001b[32m━━━━━━━━━━━━━━━━━━━━\u001b[0m\u001b[37m\u001b[0m \u001b[1m0s\u001b[0m 14ms/step - accuracy: 0.0000e+00 - f1_score: 0.6632 - loss: 0.6931 - val_accuracy: 0.0000e+00 - val_f1_score: 0.6563 - val_loss: 0.6929\n",
      "Epoch 129/500\n",
      "\u001b[1m5/5\u001b[0m \u001b[32m━━━━━━━━━━━━━━━━━━━━\u001b[0m\u001b[37m\u001b[0m \u001b[1m0s\u001b[0m 15ms/step - accuracy: 0.0000e+00 - f1_score: 0.6619 - loss: 0.6931 - val_accuracy: 0.0000e+00 - val_f1_score: 0.6563 - val_loss: 0.6929\n",
      "Epoch 130/500\n",
      "\u001b[1m5/5\u001b[0m \u001b[32m━━━━━━━━━━━━━━━━━━━━\u001b[0m\u001b[37m\u001b[0m \u001b[1m0s\u001b[0m 14ms/step - accuracy: 0.0000e+00 - f1_score: 0.6582 - loss: 0.6930 - val_accuracy: 0.0000e+00 - val_f1_score: 0.6563 - val_loss: 0.6929\n",
      "Epoch 131/500\n",
      "\u001b[1m5/5\u001b[0m \u001b[32m━━━━━━━━━━━━━━━━━━━━\u001b[0m\u001b[37m\u001b[0m \u001b[1m0s\u001b[0m 15ms/step - accuracy: 0.0000e+00 - f1_score: 0.6604 - loss: 0.6931 - val_accuracy: 0.0000e+00 - val_f1_score: 0.6563 - val_loss: 0.6929\n",
      "Epoch 132/500\n",
      "\u001b[1m5/5\u001b[0m \u001b[32m━━━━━━━━━━━━━━━━━━━━\u001b[0m\u001b[37m\u001b[0m \u001b[1m0s\u001b[0m 15ms/step - accuracy: 0.0000e+00 - f1_score: 0.6624 - loss: 0.6931 - val_accuracy: 0.0000e+00 - val_f1_score: 0.6563 - val_loss: 0.6929\n",
      "Epoch 133/500\n",
      "\u001b[1m5/5\u001b[0m \u001b[32m━━━━━━━━━━━━━━━━━━━━\u001b[0m\u001b[37m\u001b[0m \u001b[1m0s\u001b[0m 15ms/step - accuracy: 0.0000e+00 - f1_score: 0.6624 - loss: 0.6931 - val_accuracy: 0.0000e+00 - val_f1_score: 0.6563 - val_loss: 0.6929\n",
      "Epoch 134/500\n",
      "\u001b[1m5/5\u001b[0m \u001b[32m━━━━━━━━━━━━━━━━━━━━\u001b[0m\u001b[37m\u001b[0m \u001b[1m0s\u001b[0m 14ms/step - accuracy: 0.0000e+00 - f1_score: 0.6616 - loss: 0.6931 - val_accuracy: 0.0000e+00 - val_f1_score: 0.6563 - val_loss: 0.6929\n",
      "Epoch 135/500\n",
      "\u001b[1m5/5\u001b[0m \u001b[32m━━━━━━━━━━━━━━━━━━━━\u001b[0m\u001b[37m\u001b[0m \u001b[1m0s\u001b[0m 14ms/step - accuracy: 0.0000e+00 - f1_score: 0.6583 - loss: 0.6930 - val_accuracy: 0.0000e+00 - val_f1_score: 0.6563 - val_loss: 0.6929\n",
      "Epoch 136/500\n",
      "\u001b[1m5/5\u001b[0m \u001b[32m━━━━━━━━━━━━━━━━━━━━\u001b[0m\u001b[37m\u001b[0m \u001b[1m0s\u001b[0m 15ms/step - accuracy: 0.0000e+00 - f1_score: 0.6547 - loss: 0.6929 - val_accuracy: 0.0000e+00 - val_f1_score: 0.6563 - val_loss: 0.6929\n",
      "Epoch 137/500\n",
      "\u001b[1m5/5\u001b[0m \u001b[32m━━━━━━━━━━━━━━━━━━━━\u001b[0m\u001b[37m\u001b[0m \u001b[1m0s\u001b[0m 17ms/step - accuracy: 0.0000e+00 - f1_score: 0.6575 - loss: 0.6929 - val_accuracy: 0.0000e+00 - val_f1_score: 0.6563 - val_loss: 0.6929\n",
      "Epoch 138/500\n",
      "\u001b[1m5/5\u001b[0m \u001b[32m━━━━━━━━━━━━━━━━━━━━\u001b[0m\u001b[37m\u001b[0m \u001b[1m0s\u001b[0m 15ms/step - accuracy: 0.0000e+00 - f1_score: 0.6611 - loss: 0.6931 - val_accuracy: 0.0000e+00 - val_f1_score: 0.6563 - val_loss: 0.6929\n",
      "Epoch 139/500\n",
      "\u001b[1m5/5\u001b[0m \u001b[32m━━━━━━━━━━━━━━━━━━━━\u001b[0m\u001b[37m\u001b[0m \u001b[1m0s\u001b[0m 14ms/step - accuracy: 0.0000e+00 - f1_score: 0.6579 - loss: 0.6930 - val_accuracy: 0.0000e+00 - val_f1_score: 0.6563 - val_loss: 0.6929\n",
      "Epoch 140/500\n",
      "\u001b[1m5/5\u001b[0m \u001b[32m━━━━━━━━━━━━━━━━━━━━\u001b[0m\u001b[37m\u001b[0m \u001b[1m0s\u001b[0m 15ms/step - accuracy: 0.0000e+00 - f1_score: 0.6603 - loss: 0.6930 - val_accuracy: 0.0000e+00 - val_f1_score: 0.6563 - val_loss: 0.6929\n",
      "Epoch 141/500\n",
      "\u001b[1m5/5\u001b[0m \u001b[32m━━━━━━━━━━━━━━━━━━━━\u001b[0m\u001b[37m\u001b[0m \u001b[1m0s\u001b[0m 15ms/step - accuracy: 0.0000e+00 - f1_score: 0.6619 - loss: 0.6931 - val_accuracy: 0.0000e+00 - val_f1_score: 0.6563 - val_loss: 0.6929\n",
      "Epoch 142/500\n",
      "\u001b[1m5/5\u001b[0m \u001b[32m━━━━━━━━━━━━━━━━━━━━\u001b[0m\u001b[37m\u001b[0m \u001b[1m0s\u001b[0m 15ms/step - accuracy: 0.0000e+00 - f1_score: 0.6573 - loss: 0.6929 - val_accuracy: 0.0000e+00 - val_f1_score: 0.6563 - val_loss: 0.6929\n",
      "Epoch 143/500\n",
      "\u001b[1m5/5\u001b[0m \u001b[32m━━━━━━━━━━━━━━━━━━━━\u001b[0m\u001b[37m\u001b[0m \u001b[1m0s\u001b[0m 14ms/step - accuracy: 0.0000e+00 - f1_score: 0.6622 - loss: 0.6931 - val_accuracy: 0.0000e+00 - val_f1_score: 0.6563 - val_loss: 0.6929\n",
      "Epoch 144/500\n",
      "\u001b[1m5/5\u001b[0m \u001b[32m━━━━━━━━━━━━━━━━━━━━\u001b[0m\u001b[37m\u001b[0m \u001b[1m0s\u001b[0m 14ms/step - accuracy: 0.0000e+00 - f1_score: 0.6606 - loss: 0.6931 - val_accuracy: 0.0000e+00 - val_f1_score: 0.6563 - val_loss: 0.6929\n",
      "Epoch 145/500\n",
      "\u001b[1m5/5\u001b[0m \u001b[32m━━━━━━━━━━━━━━━━━━━━\u001b[0m\u001b[37m\u001b[0m \u001b[1m0s\u001b[0m 22ms/step - accuracy: 0.0000e+00 - f1_score: 0.6556 - loss: 0.6929 - val_accuracy: 0.0000e+00 - val_f1_score: 0.6563 - val_loss: 0.6929\n",
      "Epoch 146/500\n",
      "\u001b[1m5/5\u001b[0m \u001b[32m━━━━━━━━━━━━━━━━━━━━\u001b[0m\u001b[37m\u001b[0m \u001b[1m0s\u001b[0m 16ms/step - accuracy: 0.0000e+00 - f1_score: 0.6612 - loss: 0.6931 - val_accuracy: 0.0000e+00 - val_f1_score: 0.6563 - val_loss: 0.6929\n",
      "Epoch 147/500\n",
      "\u001b[1m5/5\u001b[0m \u001b[32m━━━━━━━━━━━━━━━━━━━━\u001b[0m\u001b[37m\u001b[0m \u001b[1m0s\u001b[0m 14ms/step - accuracy: 0.0000e+00 - f1_score: 0.6612 - loss: 0.6931 - val_accuracy: 0.0000e+00 - val_f1_score: 0.6563 - val_loss: 0.6929\n",
      "Epoch 148/500\n",
      "\u001b[1m5/5\u001b[0m \u001b[32m━━━━━━━━━━━━━━━━━━━━\u001b[0m\u001b[37m\u001b[0m \u001b[1m0s\u001b[0m 15ms/step - accuracy: 0.0000e+00 - f1_score: 0.6571 - loss: 0.6929 - val_accuracy: 0.0000e+00 - val_f1_score: 0.6563 - val_loss: 0.6929\n",
      "Epoch 149/500\n",
      "\u001b[1m5/5\u001b[0m \u001b[32m━━━━━━━━━━━━━━━━━━━━\u001b[0m\u001b[37m\u001b[0m \u001b[1m0s\u001b[0m 15ms/step - accuracy: 0.0000e+00 - f1_score: 0.6592 - loss: 0.6930 - val_accuracy: 0.0000e+00 - val_f1_score: 0.6563 - val_loss: 0.6929\n",
      "Epoch 150/500\n",
      "\u001b[1m5/5\u001b[0m \u001b[32m━━━━━━━━━━━━━━━━━━━━\u001b[0m\u001b[37m\u001b[0m \u001b[1m0s\u001b[0m 14ms/step - accuracy: 0.0000e+00 - f1_score: 0.6566 - loss: 0.6929 - val_accuracy: 0.0000e+00 - val_f1_score: 0.6563 - val_loss: 0.6929\n",
      "Epoch 151/500\n",
      "\u001b[1m5/5\u001b[0m \u001b[32m━━━━━━━━━━━━━━━━━━━━\u001b[0m\u001b[37m\u001b[0m \u001b[1m0s\u001b[0m 14ms/step - accuracy: 0.0000e+00 - f1_score: 0.6593 - loss: 0.6930 - val_accuracy: 0.0000e+00 - val_f1_score: 0.6563 - val_loss: 0.6929\n",
      "Epoch 152/500\n",
      "\u001b[1m5/5\u001b[0m \u001b[32m━━━━━━━━━━━━━━━━━━━━\u001b[0m\u001b[37m\u001b[0m \u001b[1m0s\u001b[0m 15ms/step - accuracy: 0.0000e+00 - f1_score: 0.6578 - loss: 0.6930 - val_accuracy: 0.0000e+00 - val_f1_score: 0.6563 - val_loss: 0.6929\n",
      "Epoch 153/500\n",
      "\u001b[1m5/5\u001b[0m \u001b[32m━━━━━━━━━━━━━━━━━━━━\u001b[0m\u001b[37m\u001b[0m \u001b[1m0s\u001b[0m 14ms/step - accuracy: 0.0000e+00 - f1_score: 0.6611 - loss: 0.6931 - val_accuracy: 0.0000e+00 - val_f1_score: 0.6563 - val_loss: 0.6929\n",
      "Epoch 154/500\n",
      "\u001b[1m5/5\u001b[0m \u001b[32m━━━━━━━━━━━━━━━━━━━━\u001b[0m\u001b[37m\u001b[0m \u001b[1m0s\u001b[0m 15ms/step - accuracy: 0.0000e+00 - f1_score: 0.6620 - loss: 0.6931 - val_accuracy: 0.0000e+00 - val_f1_score: 0.6563 - val_loss: 0.6929\n",
      "Epoch 155/500\n",
      "\u001b[1m5/5\u001b[0m \u001b[32m━━━━━━━━━━━━━━━━━━━━\u001b[0m\u001b[37m\u001b[0m \u001b[1m0s\u001b[0m 14ms/step - accuracy: 0.0000e+00 - f1_score: 0.6597 - loss: 0.6930 - val_accuracy: 0.0000e+00 - val_f1_score: 0.6563 - val_loss: 0.6929\n",
      "Epoch 156/500\n",
      "\u001b[1m5/5\u001b[0m \u001b[32m━━━━━━━━━━━━━━━━━━━━\u001b[0m\u001b[37m\u001b[0m \u001b[1m0s\u001b[0m 14ms/step - accuracy: 0.0000e+00 - f1_score: 0.6613 - loss: 0.6931 - val_accuracy: 0.0000e+00 - val_f1_score: 0.6563 - val_loss: 0.6929\n",
      "Epoch 157/500\n",
      "\u001b[1m5/5\u001b[0m \u001b[32m━━━━━━━━━━━━━━━━━━━━\u001b[0m\u001b[37m\u001b[0m \u001b[1m0s\u001b[0m 14ms/step - accuracy: 0.0000e+00 - f1_score: 0.6589 - loss: 0.6930 - val_accuracy: 0.0000e+00 - val_f1_score: 0.6563 - val_loss: 0.6929\n",
      "Epoch 158/500\n",
      "\u001b[1m5/5\u001b[0m \u001b[32m━━━━━━━━━━━━━━━━━━━━\u001b[0m\u001b[37m\u001b[0m \u001b[1m0s\u001b[0m 14ms/step - accuracy: 0.0000e+00 - f1_score: 0.6574 - loss: 0.6929 - val_accuracy: 0.0000e+00 - val_f1_score: 0.6563 - val_loss: 0.6929\n",
      "Epoch 159/500\n",
      "\u001b[1m5/5\u001b[0m \u001b[32m━━━━━━━━━━━━━━━━━━━━\u001b[0m\u001b[37m\u001b[0m \u001b[1m0s\u001b[0m 14ms/step - accuracy: 0.0000e+00 - f1_score: 0.6604 - loss: 0.6931 - val_accuracy: 0.0000e+00 - val_f1_score: 0.6563 - val_loss: 0.6929\n",
      "Epoch 160/500\n",
      "\u001b[1m5/5\u001b[0m \u001b[32m━━━━━━━━━━━━━━━━━━━━\u001b[0m\u001b[37m\u001b[0m \u001b[1m0s\u001b[0m 14ms/step - accuracy: 0.0000e+00 - f1_score: 0.6621 - loss: 0.6931 - val_accuracy: 0.0000e+00 - val_f1_score: 0.6563 - val_loss: 0.6929\n",
      "Epoch 161/500\n",
      "\u001b[1m5/5\u001b[0m \u001b[32m━━━━━━━━━━━━━━━━━━━━\u001b[0m\u001b[37m\u001b[0m \u001b[1m0s\u001b[0m 15ms/step - accuracy: 0.0000e+00 - f1_score: 0.6599 - loss: 0.6930 - val_accuracy: 0.0000e+00 - val_f1_score: 0.6563 - val_loss: 0.6929\n",
      "Epoch 162/500\n",
      "\u001b[1m5/5\u001b[0m \u001b[32m━━━━━━━━━━━━━━━━━━━━\u001b[0m\u001b[37m\u001b[0m \u001b[1m0s\u001b[0m 14ms/step - accuracy: 0.0000e+00 - f1_score: 0.6618 - loss: 0.6931 - val_accuracy: 0.0000e+00 - val_f1_score: 0.6563 - val_loss: 0.6929\n",
      "Epoch 163/500\n",
      "\u001b[1m5/5\u001b[0m \u001b[32m━━━━━━━━━━━━━━━━━━━━\u001b[0m\u001b[37m\u001b[0m \u001b[1m0s\u001b[0m 15ms/step - accuracy: 0.0000e+00 - f1_score: 0.6589 - loss: 0.6930 - val_accuracy: 0.0000e+00 - val_f1_score: 0.6563 - val_loss: 0.6929\n",
      "Epoch 164/500\n",
      "\u001b[1m5/5\u001b[0m \u001b[32m━━━━━━━━━━━━━━━━━━━━\u001b[0m\u001b[37m\u001b[0m \u001b[1m0s\u001b[0m 14ms/step - accuracy: 0.0000e+00 - f1_score: 0.6572 - loss: 0.6929 - val_accuracy: 0.0000e+00 - val_f1_score: 0.6563 - val_loss: 0.6929\n",
      "Epoch 165/500\n",
      "\u001b[1m5/5\u001b[0m \u001b[32m━━━━━━━━━━━━━━━━━━━━\u001b[0m\u001b[37m\u001b[0m \u001b[1m0s\u001b[0m 14ms/step - accuracy: 0.0000e+00 - f1_score: 0.6613 - loss: 0.6931 - val_accuracy: 0.0000e+00 - val_f1_score: 0.6563 - val_loss: 0.6929\n",
      "Epoch 166/500\n",
      "\u001b[1m5/5\u001b[0m \u001b[32m━━━━━━━━━━━━━━━━━━━━\u001b[0m\u001b[37m\u001b[0m \u001b[1m0s\u001b[0m 14ms/step - accuracy: 0.0000e+00 - f1_score: 0.6630 - loss: 0.6931 - val_accuracy: 0.0000e+00 - val_f1_score: 0.6563 - val_loss: 0.6929\n",
      "Epoch 167/500\n",
      "\u001b[1m5/5\u001b[0m \u001b[32m━━━━━━━━━━━━━━━━━━━━\u001b[0m\u001b[37m\u001b[0m \u001b[1m0s\u001b[0m 14ms/step - accuracy: 0.0000e+00 - f1_score: 0.6563 - loss: 0.6929 - val_accuracy: 0.0000e+00 - val_f1_score: 0.6563 - val_loss: 0.6929\n",
      "Epoch 168/500\n",
      "\u001b[1m5/5\u001b[0m \u001b[32m━━━━━━━━━━━━━━━━━━━━\u001b[0m\u001b[37m\u001b[0m \u001b[1m0s\u001b[0m 14ms/step - accuracy: 0.0000e+00 - f1_score: 0.6533 - loss: 0.6928 - val_accuracy: 0.0000e+00 - val_f1_score: 0.6563 - val_loss: 0.6929\n",
      "Epoch 169/500\n",
      "\u001b[1m5/5\u001b[0m \u001b[32m━━━━━━━━━━━━━━━━━━━━\u001b[0m\u001b[37m\u001b[0m \u001b[1m0s\u001b[0m 17ms/step - accuracy: 0.0000e+00 - f1_score: 0.6587 - loss: 0.6930 - val_accuracy: 0.0000e+00 - val_f1_score: 0.6563 - val_loss: 0.6929\n",
      "Epoch 170/500\n",
      "\u001b[1m5/5\u001b[0m \u001b[32m━━━━━━━━━━━━━━━━━━━━\u001b[0m\u001b[37m\u001b[0m \u001b[1m0s\u001b[0m 15ms/step - accuracy: 0.0000e+00 - f1_score: 0.6566 - loss: 0.6929 - val_accuracy: 0.0000e+00 - val_f1_score: 0.6563 - val_loss: 0.6929\n",
      "Epoch 171/500\n",
      "\u001b[1m5/5\u001b[0m \u001b[32m━━━━━━━━━━━━━━━━━━━━\u001b[0m\u001b[37m\u001b[0m \u001b[1m0s\u001b[0m 14ms/step - accuracy: 0.0000e+00 - f1_score: 0.6620 - loss: 0.6931 - val_accuracy: 0.0000e+00 - val_f1_score: 0.6563 - val_loss: 0.6929\n",
      "Epoch 172/500\n",
      "\u001b[1m5/5\u001b[0m \u001b[32m━━━━━━━━━━━━━━━━━━━━\u001b[0m\u001b[37m\u001b[0m \u001b[1m0s\u001b[0m 15ms/step - accuracy: 0.0000e+00 - f1_score: 0.6600 - loss: 0.6930 - val_accuracy: 0.0000e+00 - val_f1_score: 0.6563 - val_loss: 0.6929\n",
      "Epoch 173/500\n",
      "\u001b[1m5/5\u001b[0m \u001b[32m━━━━━━━━━━━━━━━━━━━━\u001b[0m\u001b[37m\u001b[0m \u001b[1m0s\u001b[0m 15ms/step - accuracy: 0.0000e+00 - f1_score: 0.6655 - loss: 0.6932 - val_accuracy: 0.0000e+00 - val_f1_score: 0.6563 - val_loss: 0.6929\n",
      "Epoch 174/500\n",
      "\u001b[1m5/5\u001b[0m \u001b[32m━━━━━━━━━━━━━━━━━━━━\u001b[0m\u001b[37m\u001b[0m \u001b[1m0s\u001b[0m 14ms/step - accuracy: 0.0000e+00 - f1_score: 0.6556 - loss: 0.6929 - val_accuracy: 0.0000e+00 - val_f1_score: 0.6563 - val_loss: 0.6929\n",
      "Epoch 175/500\n",
      "\u001b[1m5/5\u001b[0m \u001b[32m━━━━━━━━━━━━━━━━━━━━\u001b[0m\u001b[37m\u001b[0m \u001b[1m0s\u001b[0m 15ms/step - accuracy: 0.0000e+00 - f1_score: 0.6612 - loss: 0.6931 - val_accuracy: 0.0000e+00 - val_f1_score: 0.6563 - val_loss: 0.6929\n",
      "Epoch 176/500\n",
      "\u001b[1m5/5\u001b[0m \u001b[32m━━━━━━━━━━━━━━━━━━━━\u001b[0m\u001b[37m\u001b[0m \u001b[1m0s\u001b[0m 15ms/step - accuracy: 0.0000e+00 - f1_score: 0.6616 - loss: 0.6931 - val_accuracy: 0.0000e+00 - val_f1_score: 0.6563 - val_loss: 0.6929\n",
      "Epoch 177/500\n",
      "\u001b[1m5/5\u001b[0m \u001b[32m━━━━━━━━━━━━━━━━━━━━\u001b[0m\u001b[37m\u001b[0m \u001b[1m0s\u001b[0m 14ms/step - accuracy: 0.0000e+00 - f1_score: 0.6608 - loss: 0.6931 - val_accuracy: 0.0000e+00 - val_f1_score: 0.6563 - val_loss: 0.6929\n",
      "Epoch 178/500\n",
      "\u001b[1m5/5\u001b[0m \u001b[32m━━━━━━━━━━━━━━━━━━━━\u001b[0m\u001b[37m\u001b[0m \u001b[1m0s\u001b[0m 14ms/step - accuracy: 0.0000e+00 - f1_score: 0.6601 - loss: 0.6930 - val_accuracy: 0.0000e+00 - val_f1_score: 0.6563 - val_loss: 0.6929\n",
      "Epoch 179/500\n",
      "\u001b[1m5/5\u001b[0m \u001b[32m━━━━━━━━━━━━━━━━━━━━\u001b[0m\u001b[37m\u001b[0m \u001b[1m0s\u001b[0m 14ms/step - accuracy: 0.0000e+00 - f1_score: 0.6584 - loss: 0.6930 - val_accuracy: 0.0000e+00 - val_f1_score: 0.6563 - val_loss: 0.6929\n",
      "Epoch 180/500\n",
      "\u001b[1m5/5\u001b[0m \u001b[32m━━━━━━━━━━━━━━━━━━━━\u001b[0m\u001b[37m\u001b[0m \u001b[1m0s\u001b[0m 15ms/step - accuracy: 0.0000e+00 - f1_score: 0.6575 - loss: 0.6929 - val_accuracy: 0.0000e+00 - val_f1_score: 0.6563 - val_loss: 0.6929\n",
      "Epoch 181/500\n",
      "\u001b[1m5/5\u001b[0m \u001b[32m━━━━━━━━━━━━━━━━━━━━\u001b[0m\u001b[37m\u001b[0m \u001b[1m0s\u001b[0m 15ms/step - accuracy: 0.0000e+00 - f1_score: 0.6539 - loss: 0.6928 - val_accuracy: 0.0000e+00 - val_f1_score: 0.6563 - val_loss: 0.6929\n",
      "Epoch 182/500\n",
      "\u001b[1m5/5\u001b[0m \u001b[32m━━━━━━━━━━━━━━━━━━━━\u001b[0m\u001b[37m\u001b[0m \u001b[1m0s\u001b[0m 14ms/step - accuracy: 0.0000e+00 - f1_score: 0.6611 - loss: 0.6931 - val_accuracy: 0.0000e+00 - val_f1_score: 0.6563 - val_loss: 0.6929\n",
      "Epoch 183/500\n",
      "\u001b[1m5/5\u001b[0m \u001b[32m━━━━━━━━━━━━━━━━━━━━\u001b[0m\u001b[37m\u001b[0m \u001b[1m0s\u001b[0m 15ms/step - accuracy: 0.0000e+00 - f1_score: 0.6606 - loss: 0.6931 - val_accuracy: 0.0000e+00 - val_f1_score: 0.6563 - val_loss: 0.6929\n",
      "Epoch 184/500\n",
      "\u001b[1m5/5\u001b[0m \u001b[32m━━━━━━━━━━━━━━━━━━━━\u001b[0m\u001b[37m\u001b[0m \u001b[1m0s\u001b[0m 15ms/step - accuracy: 0.0000e+00 - f1_score: 0.6617 - loss: 0.6931 - val_accuracy: 0.0000e+00 - val_f1_score: 0.6563 - val_loss: 0.6929\n",
      "Epoch 185/500\n",
      "\u001b[1m5/5\u001b[0m \u001b[32m━━━━━━━━━━━━━━━━━━━━\u001b[0m\u001b[37m\u001b[0m \u001b[1m0s\u001b[0m 16ms/step - accuracy: 0.0000e+00 - f1_score: 0.6590 - loss: 0.6930 - val_accuracy: 0.0000e+00 - val_f1_score: 0.6563 - val_loss: 0.6929\n",
      "Epoch 186/500\n",
      "\u001b[1m5/5\u001b[0m \u001b[32m━━━━━━━━━━━━━━━━━━━━\u001b[0m\u001b[37m\u001b[0m \u001b[1m0s\u001b[0m 15ms/step - accuracy: 0.0000e+00 - f1_score: 0.6610 - loss: 0.6931 - val_accuracy: 0.0000e+00 - val_f1_score: 0.6563 - val_loss: 0.6929\n",
      "Epoch 187/500\n",
      "\u001b[1m5/5\u001b[0m \u001b[32m━━━━━━━━━━━━━━━━━━━━\u001b[0m\u001b[37m\u001b[0m \u001b[1m0s\u001b[0m 14ms/step - accuracy: 0.0000e+00 - f1_score: 0.6601 - loss: 0.6930 - val_accuracy: 0.0000e+00 - val_f1_score: 0.6563 - val_loss: 0.6929\n",
      "Epoch 188/500\n",
      "\u001b[1m5/5\u001b[0m \u001b[32m━━━━━━━━━━━━━━━━━━━━\u001b[0m\u001b[37m\u001b[0m \u001b[1m0s\u001b[0m 14ms/step - accuracy: 0.0000e+00 - f1_score: 0.6596 - loss: 0.6930 - val_accuracy: 0.0000e+00 - val_f1_score: 0.6563 - val_loss: 0.6929\n",
      "Epoch 189/500\n",
      "\u001b[1m5/5\u001b[0m \u001b[32m━━━━━━━━━━━━━━━━━━━━\u001b[0m\u001b[37m\u001b[0m \u001b[1m0s\u001b[0m 16ms/step - accuracy: 0.0000e+00 - f1_score: 0.6550 - loss: 0.6929 - val_accuracy: 0.0000e+00 - val_f1_score: 0.6563 - val_loss: 0.6929\n",
      "Epoch 190/500\n",
      "\u001b[1m5/5\u001b[0m \u001b[32m━━━━━━━━━━━━━━━━━━━━\u001b[0m\u001b[37m\u001b[0m \u001b[1m0s\u001b[0m 15ms/step - accuracy: 0.0000e+00 - f1_score: 0.6580 - loss: 0.6930 - val_accuracy: 0.0000e+00 - val_f1_score: 0.6563 - val_loss: 0.6929\n",
      "Epoch 191/500\n",
      "\u001b[1m5/5\u001b[0m \u001b[32m━━━━━━━━━━━━━━━━━━━━\u001b[0m\u001b[37m\u001b[0m \u001b[1m0s\u001b[0m 15ms/step - accuracy: 0.0000e+00 - f1_score: 0.6605 - loss: 0.6931 - val_accuracy: 0.0000e+00 - val_f1_score: 0.6563 - val_loss: 0.6929\n",
      "Epoch 192/500\n",
      "\u001b[1m5/5\u001b[0m \u001b[32m━━━━━━━━━━━━━━━━━━━━\u001b[0m\u001b[37m\u001b[0m \u001b[1m0s\u001b[0m 14ms/step - accuracy: 0.0000e+00 - f1_score: 0.6648 - loss: 0.6932 - val_accuracy: 0.0000e+00 - val_f1_score: 0.6563 - val_loss: 0.6929\n",
      "Epoch 193/500\n",
      "\u001b[1m5/5\u001b[0m \u001b[32m━━━━━━━━━━━━━━━━━━━━\u001b[0m\u001b[37m\u001b[0m \u001b[1m0s\u001b[0m 14ms/step - accuracy: 0.0000e+00 - f1_score: 0.6607 - loss: 0.6931 - val_accuracy: 0.0000e+00 - val_f1_score: 0.6563 - val_loss: 0.6929\n",
      "Epoch 194/500\n",
      "\u001b[1m5/5\u001b[0m \u001b[32m━━━━━━━━━━━━━━━━━━━━\u001b[0m\u001b[37m\u001b[0m \u001b[1m0s\u001b[0m 14ms/step - accuracy: 0.0000e+00 - f1_score: 0.6559 - loss: 0.6929 - val_accuracy: 0.0000e+00 - val_f1_score: 0.6563 - val_loss: 0.6929\n",
      "Epoch 195/500\n",
      "\u001b[1m5/5\u001b[0m \u001b[32m━━━━━━━━━━━━━━━━━━━━\u001b[0m\u001b[37m\u001b[0m \u001b[1m0s\u001b[0m 16ms/step - accuracy: 0.0000e+00 - f1_score: 0.6620 - loss: 0.6931 - val_accuracy: 0.0000e+00 - val_f1_score: 0.6563 - val_loss: 0.6929\n",
      "Epoch 196/500\n",
      "\u001b[1m5/5\u001b[0m \u001b[32m━━━━━━━━━━━━━━━━━━━━\u001b[0m\u001b[37m\u001b[0m \u001b[1m0s\u001b[0m 14ms/step - accuracy: 0.0000e+00 - f1_score: 0.6629 - loss: 0.6931 - val_accuracy: 0.0000e+00 - val_f1_score: 0.6563 - val_loss: 0.6929\n",
      "Epoch 197/500\n",
      "\u001b[1m5/5\u001b[0m \u001b[32m━━━━━━━━━━━━━━━━━━━━\u001b[0m\u001b[37m\u001b[0m \u001b[1m0s\u001b[0m 16ms/step - accuracy: 0.0000e+00 - f1_score: 0.6611 - loss: 0.6931 - val_accuracy: 0.0000e+00 - val_f1_score: 0.6563 - val_loss: 0.6929\n",
      "Epoch 198/500\n",
      "\u001b[1m5/5\u001b[0m \u001b[32m━━━━━━━━━━━━━━━━━━━━\u001b[0m\u001b[37m\u001b[0m \u001b[1m0s\u001b[0m 14ms/step - accuracy: 0.0000e+00 - f1_score: 0.6591 - loss: 0.6930 - val_accuracy: 0.0000e+00 - val_f1_score: 0.6563 - val_loss: 0.6929\n",
      "Epoch 199/500\n",
      "\u001b[1m5/5\u001b[0m \u001b[32m━━━━━━━━━━━━━━━━━━━━\u001b[0m\u001b[37m\u001b[0m \u001b[1m0s\u001b[0m 14ms/step - accuracy: 0.0000e+00 - f1_score: 0.6628 - loss: 0.6931 - val_accuracy: 0.0000e+00 - val_f1_score: 0.6563 - val_loss: 0.6929\n",
      "Epoch 200/500\n",
      "\u001b[1m5/5\u001b[0m \u001b[32m━━━━━━━━━━━━━━━━━━━━\u001b[0m\u001b[37m\u001b[0m \u001b[1m0s\u001b[0m 14ms/step - accuracy: 0.0000e+00 - f1_score: 0.6632 - loss: 0.6932 - val_accuracy: 0.0000e+00 - val_f1_score: 0.6563 - val_loss: 0.6929\n",
      "Epoch 201/500\n",
      "\u001b[1m5/5\u001b[0m \u001b[32m━━━━━━━━━━━━━━━━━━━━\u001b[0m\u001b[37m\u001b[0m \u001b[1m0s\u001b[0m 14ms/step - accuracy: 0.0000e+00 - f1_score: 0.6558 - loss: 0.6929 - val_accuracy: 0.0000e+00 - val_f1_score: 0.6563 - val_loss: 0.6929\n",
      "Epoch 202/500\n",
      "\u001b[1m5/5\u001b[0m \u001b[32m━━━━━━━━━━━━━━━━━━━━\u001b[0m\u001b[37m\u001b[0m \u001b[1m0s\u001b[0m 14ms/step - accuracy: 0.0000e+00 - f1_score: 0.6596 - loss: 0.6930 - val_accuracy: 0.0000e+00 - val_f1_score: 0.6563 - val_loss: 0.6929\n",
      "Epoch 203/500\n",
      "\u001b[1m5/5\u001b[0m \u001b[32m━━━━━━━━━━━━━━━━━━━━\u001b[0m\u001b[37m\u001b[0m \u001b[1m0s\u001b[0m 14ms/step - accuracy: 0.0000e+00 - f1_score: 0.6603 - loss: 0.6930 - val_accuracy: 0.0000e+00 - val_f1_score: 0.6563 - val_loss: 0.6929\n",
      "Epoch 204/500\n",
      "\u001b[1m5/5\u001b[0m \u001b[32m━━━━━━━━━━━━━━━━━━━━\u001b[0m\u001b[37m\u001b[0m \u001b[1m0s\u001b[0m 14ms/step - accuracy: 0.0000e+00 - f1_score: 0.6593 - loss: 0.6930 - val_accuracy: 0.0000e+00 - val_f1_score: 0.6563 - val_loss: 0.6929\n",
      "Epoch 205/500\n",
      "\u001b[1m5/5\u001b[0m \u001b[32m━━━━━━━━━━━━━━━━━━━━\u001b[0m\u001b[37m\u001b[0m \u001b[1m0s\u001b[0m 14ms/step - accuracy: 0.0000e+00 - f1_score: 0.6567 - loss: 0.6929 - val_accuracy: 0.0000e+00 - val_f1_score: 0.6563 - val_loss: 0.6929\n",
      "Epoch 206/500\n",
      "\u001b[1m5/5\u001b[0m \u001b[32m━━━━━━━━━━━━━━━━━━━━\u001b[0m\u001b[37m\u001b[0m \u001b[1m0s\u001b[0m 14ms/step - accuracy: 0.0000e+00 - f1_score: 0.6620 - loss: 0.6931 - val_accuracy: 0.0000e+00 - val_f1_score: 0.6563 - val_loss: 0.6929\n",
      "Epoch 207/500\n",
      "\u001b[1m5/5\u001b[0m \u001b[32m━━━━━━━━━━━━━━━━━━━━\u001b[0m\u001b[37m\u001b[0m \u001b[1m0s\u001b[0m 14ms/step - accuracy: 0.0000e+00 - f1_score: 0.6629 - loss: 0.6931 - val_accuracy: 0.0000e+00 - val_f1_score: 0.6563 - val_loss: 0.6929\n",
      "Epoch 208/500\n",
      "\u001b[1m5/5\u001b[0m \u001b[32m━━━━━━━━━━━━━━━━━━━━\u001b[0m\u001b[37m\u001b[0m \u001b[1m0s\u001b[0m 14ms/step - accuracy: 0.0000e+00 - f1_score: 0.6576 - loss: 0.6930 - val_accuracy: 0.0000e+00 - val_f1_score: 0.6563 - val_loss: 0.6929\n",
      "Epoch 209/500\n",
      "\u001b[1m5/5\u001b[0m \u001b[32m━━━━━━━━━━━━━━━━━━━━\u001b[0m\u001b[37m\u001b[0m \u001b[1m0s\u001b[0m 14ms/step - accuracy: 0.0000e+00 - f1_score: 0.6589 - loss: 0.6930 - val_accuracy: 0.0000e+00 - val_f1_score: 0.6563 - val_loss: 0.6929\n",
      "Epoch 210/500\n",
      "\u001b[1m5/5\u001b[0m \u001b[32m━━━━━━━━━━━━━━━━━━━━\u001b[0m\u001b[37m\u001b[0m \u001b[1m0s\u001b[0m 15ms/step - accuracy: 0.0000e+00 - f1_score: 0.6598 - loss: 0.6930 - val_accuracy: 0.0000e+00 - val_f1_score: 0.6563 - val_loss: 0.6929\n",
      "Epoch 211/500\n",
      "\u001b[1m5/5\u001b[0m \u001b[32m━━━━━━━━━━━━━━━━━━━━\u001b[0m\u001b[37m\u001b[0m \u001b[1m0s\u001b[0m 14ms/step - accuracy: 0.0000e+00 - f1_score: 0.6614 - loss: 0.6931 - val_accuracy: 0.0000e+00 - val_f1_score: 0.6563 - val_loss: 0.6929\n",
      "Epoch 212/500\n",
      "\u001b[1m5/5\u001b[0m \u001b[32m━━━━━━━━━━━━━━━━━━━━\u001b[0m\u001b[37m\u001b[0m \u001b[1m0s\u001b[0m 14ms/step - accuracy: 0.0000e+00 - f1_score: 0.6588 - loss: 0.6930 - val_accuracy: 0.0000e+00 - val_f1_score: 0.6563 - val_loss: 0.6929\n",
      "Epoch 213/500\n",
      "\u001b[1m5/5\u001b[0m \u001b[32m━━━━━━━━━━━━━━━━━━━━\u001b[0m\u001b[37m\u001b[0m \u001b[1m0s\u001b[0m 22ms/step - accuracy: 0.0000e+00 - f1_score: 0.6623 - loss: 0.6931 - val_accuracy: 0.0000e+00 - val_f1_score: 0.6563 - val_loss: 0.6929\n",
      "Epoch 214/500\n",
      "\u001b[1m5/5\u001b[0m \u001b[32m━━━━━━━━━━━━━━━━━━━━\u001b[0m\u001b[37m\u001b[0m \u001b[1m0s\u001b[0m 22ms/step - accuracy: 0.0000e+00 - f1_score: 0.6592 - loss: 0.6930 - val_accuracy: 0.0000e+00 - val_f1_score: 0.6563 - val_loss: 0.6929\n",
      "Epoch 215/500\n",
      "\u001b[1m5/5\u001b[0m \u001b[32m━━━━━━━━━━━━━━━━━━━━\u001b[0m\u001b[37m\u001b[0m \u001b[1m0s\u001b[0m 14ms/step - accuracy: 0.0000e+00 - f1_score: 0.6579 - loss: 0.6930 - val_accuracy: 0.0000e+00 - val_f1_score: 0.6563 - val_loss: 0.6929\n",
      "Epoch 216/500\n",
      "\u001b[1m5/5\u001b[0m \u001b[32m━━━━━━━━━━━━━━━━━━━━\u001b[0m\u001b[37m\u001b[0m \u001b[1m0s\u001b[0m 14ms/step - accuracy: 0.0000e+00 - f1_score: 0.6567 - loss: 0.6929 - val_accuracy: 0.0000e+00 - val_f1_score: 0.6563 - val_loss: 0.6929\n",
      "Epoch 217/500\n",
      "\u001b[1m5/5\u001b[0m \u001b[32m━━━━━━━━━━━━━━━━━━━━\u001b[0m\u001b[37m\u001b[0m \u001b[1m0s\u001b[0m 14ms/step - accuracy: 0.0000e+00 - f1_score: 0.6595 - loss: 0.6930 - val_accuracy: 0.0000e+00 - val_f1_score: 0.6563 - val_loss: 0.6929\n",
      "Epoch 218/500\n",
      "\u001b[1m5/5\u001b[0m \u001b[32m━━━━━━━━━━━━━━━━━━━━\u001b[0m\u001b[37m\u001b[0m \u001b[1m0s\u001b[0m 14ms/step - accuracy: 0.0000e+00 - f1_score: 0.6611 - loss: 0.6931 - val_accuracy: 0.0000e+00 - val_f1_score: 0.6563 - val_loss: 0.6929\n",
      "Epoch 219/500\n",
      "\u001b[1m5/5\u001b[0m \u001b[32m━━━━━━━━━━━━━━━━━━━━\u001b[0m\u001b[37m\u001b[0m \u001b[1m0s\u001b[0m 14ms/step - accuracy: 0.0000e+00 - f1_score: 0.6617 - loss: 0.6931 - val_accuracy: 0.0000e+00 - val_f1_score: 0.6563 - val_loss: 0.6929\n",
      "Epoch 220/500\n",
      "\u001b[1m5/5\u001b[0m \u001b[32m━━━━━━━━━━━━━━━━━━━━\u001b[0m\u001b[37m\u001b[0m \u001b[1m0s\u001b[0m 15ms/step - accuracy: 0.0000e+00 - f1_score: 0.6622 - loss: 0.6931 - val_accuracy: 0.0000e+00 - val_f1_score: 0.6563 - val_loss: 0.6929\n",
      "Epoch 221/500\n",
      "\u001b[1m5/5\u001b[0m \u001b[32m━━━━━━━━━━━━━━━━━━━━\u001b[0m\u001b[37m\u001b[0m \u001b[1m0s\u001b[0m 15ms/step - accuracy: 0.0000e+00 - f1_score: 0.6595 - loss: 0.6930 - val_accuracy: 0.0000e+00 - val_f1_score: 0.6563 - val_loss: 0.6929\n",
      "Epoch 222/500\n",
      "\u001b[1m5/5\u001b[0m \u001b[32m━━━━━━━━━━━━━━━━━━━━\u001b[0m\u001b[37m\u001b[0m \u001b[1m0s\u001b[0m 14ms/step - accuracy: 0.0000e+00 - f1_score: 0.6569 - loss: 0.6929 - val_accuracy: 0.0000e+00 - val_f1_score: 0.6563 - val_loss: 0.6929\n",
      "Epoch 223/500\n",
      "\u001b[1m5/5\u001b[0m \u001b[32m━━━━━━━━━━━━━━━━━━━━\u001b[0m\u001b[37m\u001b[0m \u001b[1m0s\u001b[0m 14ms/step - accuracy: 0.0000e+00 - f1_score: 0.6612 - loss: 0.6931 - val_accuracy: 0.0000e+00 - val_f1_score: 0.6563 - val_loss: 0.6929\n",
      "Epoch 224/500\n",
      "\u001b[1m5/5\u001b[0m \u001b[32m━━━━━━━━━━━━━━━━━━━━\u001b[0m\u001b[37m\u001b[0m \u001b[1m0s\u001b[0m 14ms/step - accuracy: 0.0000e+00 - f1_score: 0.6602 - loss: 0.6930 - val_accuracy: 0.0000e+00 - val_f1_score: 0.6563 - val_loss: 0.6929\n",
      "Epoch 225/500\n",
      "\u001b[1m5/5\u001b[0m \u001b[32m━━━━━━━━━━━━━━━━━━━━\u001b[0m\u001b[37m\u001b[0m \u001b[1m0s\u001b[0m 14ms/step - accuracy: 0.0000e+00 - f1_score: 0.6593 - loss: 0.6930 - val_accuracy: 0.0000e+00 - val_f1_score: 0.6563 - val_loss: 0.6929\n",
      "Epoch 226/500\n",
      "\u001b[1m5/5\u001b[0m \u001b[32m━━━━━━━━━━━━━━━━━━━━\u001b[0m\u001b[37m\u001b[0m \u001b[1m0s\u001b[0m 15ms/step - accuracy: 0.0000e+00 - f1_score: 0.6594 - loss: 0.6930 - val_accuracy: 0.0000e+00 - val_f1_score: 0.6563 - val_loss: 0.6929\n",
      "Epoch 227/500\n",
      "\u001b[1m5/5\u001b[0m \u001b[32m━━━━━━━━━━━━━━━━━━━━\u001b[0m\u001b[37m\u001b[0m \u001b[1m0s\u001b[0m 15ms/step - accuracy: 0.0000e+00 - f1_score: 0.6607 - loss: 0.6931 - val_accuracy: 0.0000e+00 - val_f1_score: 0.6563 - val_loss: 0.6929\n",
      "Epoch 228/500\n",
      "\u001b[1m5/5\u001b[0m \u001b[32m━━━━━━━━━━━━━━━━━━━━\u001b[0m\u001b[37m\u001b[0m \u001b[1m0s\u001b[0m 15ms/step - accuracy: 0.0000e+00 - f1_score: 0.6616 - loss: 0.6931 - val_accuracy: 0.0000e+00 - val_f1_score: 0.6563 - val_loss: 0.6929\n",
      "Epoch 229/500\n",
      "\u001b[1m5/5\u001b[0m \u001b[32m━━━━━━━━━━━━━━━━━━━━\u001b[0m\u001b[37m\u001b[0m \u001b[1m0s\u001b[0m 15ms/step - accuracy: 0.0000e+00 - f1_score: 0.6614 - loss: 0.6931 - val_accuracy: 0.0000e+00 - val_f1_score: 0.6563 - val_loss: 0.6929\n",
      "Epoch 230/500\n",
      "\u001b[1m5/5\u001b[0m \u001b[32m━━━━━━━━━━━━━━━━━━━━\u001b[0m\u001b[37m\u001b[0m \u001b[1m0s\u001b[0m 15ms/step - accuracy: 0.0000e+00 - f1_score: 0.6612 - loss: 0.6931 - val_accuracy: 0.0000e+00 - val_f1_score: 0.6563 - val_loss: 0.6929\n",
      "Epoch 231/500\n",
      "\u001b[1m5/5\u001b[0m \u001b[32m━━━━━━━━━━━━━━━━━━━━\u001b[0m\u001b[37m\u001b[0m \u001b[1m0s\u001b[0m 14ms/step - accuracy: 0.0000e+00 - f1_score: 0.6558 - loss: 0.6929 - val_accuracy: 0.0000e+00 - val_f1_score: 0.6563 - val_loss: 0.6929\n",
      "Epoch 232/500\n",
      "\u001b[1m5/5\u001b[0m \u001b[32m━━━━━━━━━━━━━━━━━━━━\u001b[0m\u001b[37m\u001b[0m \u001b[1m0s\u001b[0m 15ms/step - accuracy: 0.0000e+00 - f1_score: 0.6532 - loss: 0.6928 - val_accuracy: 0.0000e+00 - val_f1_score: 0.6563 - val_loss: 0.6929\n",
      "Epoch 233/500\n",
      "\u001b[1m5/5\u001b[0m \u001b[32m━━━━━━━━━━━━━━━━━━━━\u001b[0m\u001b[37m\u001b[0m \u001b[1m0s\u001b[0m 15ms/step - accuracy: 0.0000e+00 - f1_score: 0.6646 - loss: 0.6932 - val_accuracy: 0.0000e+00 - val_f1_score: 0.6563 - val_loss: 0.6929\n",
      "Epoch 234/500\n",
      "\u001b[1m5/5\u001b[0m \u001b[32m━━━━━━━━━━━━━━━━━━━━\u001b[0m\u001b[37m\u001b[0m \u001b[1m0s\u001b[0m 14ms/step - accuracy: 0.0000e+00 - f1_score: 0.6591 - loss: 0.6930 - val_accuracy: 0.0000e+00 - val_f1_score: 0.6563 - val_loss: 0.6929\n",
      "Epoch 235/500\n",
      "\u001b[1m5/5\u001b[0m \u001b[32m━━━━━━━━━━━━━━━━━━━━\u001b[0m\u001b[37m\u001b[0m \u001b[1m0s\u001b[0m 14ms/step - accuracy: 0.0000e+00 - f1_score: 0.6577 - loss: 0.6930 - val_accuracy: 0.0000e+00 - val_f1_score: 0.6563 - val_loss: 0.6929\n",
      "Epoch 236/500\n",
      "\u001b[1m5/5\u001b[0m \u001b[32m━━━━━━━━━━━━━━━━━━━━\u001b[0m\u001b[37m\u001b[0m \u001b[1m0s\u001b[0m 14ms/step - accuracy: 0.0000e+00 - f1_score: 0.6604 - loss: 0.6930 - val_accuracy: 0.0000e+00 - val_f1_score: 0.6563 - val_loss: 0.6929\n",
      "Epoch 237/500\n",
      "\u001b[1m5/5\u001b[0m \u001b[32m━━━━━━━━━━━━━━━━━━━━\u001b[0m\u001b[37m\u001b[0m \u001b[1m0s\u001b[0m 16ms/step - accuracy: 0.0000e+00 - f1_score: 0.6584 - loss: 0.6930 - val_accuracy: 0.0000e+00 - val_f1_score: 0.6563 - val_loss: 0.6929\n",
      "Epoch 238/500\n",
      "\u001b[1m5/5\u001b[0m \u001b[32m━━━━━━━━━━━━━━━━━━━━\u001b[0m\u001b[37m\u001b[0m \u001b[1m0s\u001b[0m 15ms/step - accuracy: 0.0000e+00 - f1_score: 0.6616 - loss: 0.6931 - val_accuracy: 0.0000e+00 - val_f1_score: 0.6563 - val_loss: 0.6929\n",
      "Epoch 239/500\n",
      "\u001b[1m5/5\u001b[0m \u001b[32m━━━━━━━━━━━━━━━━━━━━\u001b[0m\u001b[37m\u001b[0m \u001b[1m0s\u001b[0m 14ms/step - accuracy: 0.0000e+00 - f1_score: 0.6571 - loss: 0.6929 - val_accuracy: 0.0000e+00 - val_f1_score: 0.6563 - val_loss: 0.6929\n",
      "Epoch 240/500\n",
      "\u001b[1m5/5\u001b[0m \u001b[32m━━━━━━━━━━━━━━━━━━━━\u001b[0m\u001b[37m\u001b[0m \u001b[1m0s\u001b[0m 14ms/step - accuracy: 0.0000e+00 - f1_score: 0.6585 - loss: 0.6930 - val_accuracy: 0.0000e+00 - val_f1_score: 0.6563 - val_loss: 0.6929\n",
      "Epoch 241/500\n",
      "\u001b[1m5/5\u001b[0m \u001b[32m━━━━━━━━━━━━━━━━━━━━\u001b[0m\u001b[37m\u001b[0m \u001b[1m0s\u001b[0m 14ms/step - accuracy: 0.0000e+00 - f1_score: 0.6596 - loss: 0.6930 - val_accuracy: 0.0000e+00 - val_f1_score: 0.6563 - val_loss: 0.6929\n",
      "Epoch 242/500\n",
      "\u001b[1m5/5\u001b[0m \u001b[32m━━━━━━━━━━━━━━━━━━━━\u001b[0m\u001b[37m\u001b[0m \u001b[1m0s\u001b[0m 14ms/step - accuracy: 0.0000e+00 - f1_score: 0.6654 - loss: 0.6932 - val_accuracy: 0.0000e+00 - val_f1_score: 0.6563 - val_loss: 0.6929\n",
      "Epoch 243/500\n",
      "\u001b[1m5/5\u001b[0m \u001b[32m━━━━━━━━━━━━━━━━━━━━\u001b[0m\u001b[37m\u001b[0m \u001b[1m0s\u001b[0m 14ms/step - accuracy: 0.0000e+00 - f1_score: 0.6594 - loss: 0.6930 - val_accuracy: 0.0000e+00 - val_f1_score: 0.6563 - val_loss: 0.6929\n",
      "Epoch 244/500\n",
      "\u001b[1m5/5\u001b[0m \u001b[32m━━━━━━━━━━━━━━━━━━━━\u001b[0m\u001b[37m\u001b[0m \u001b[1m0s\u001b[0m 14ms/step - accuracy: 0.0000e+00 - f1_score: 0.6606 - loss: 0.6931 - val_accuracy: 0.0000e+00 - val_f1_score: 0.6563 - val_loss: 0.6929\n",
      "Epoch 245/500\n",
      "\u001b[1m5/5\u001b[0m \u001b[32m━━━━━━━━━━━━━━━━━━━━\u001b[0m\u001b[37m\u001b[0m \u001b[1m0s\u001b[0m 15ms/step - accuracy: 0.0000e+00 - f1_score: 0.6627 - loss: 0.6931 - val_accuracy: 0.0000e+00 - val_f1_score: 0.6563 - val_loss: 0.6929\n",
      "Epoch 246/500\n",
      "\u001b[1m5/5\u001b[0m \u001b[32m━━━━━━━━━━━━━━━━━━━━\u001b[0m\u001b[37m\u001b[0m \u001b[1m0s\u001b[0m 14ms/step - accuracy: 0.0000e+00 - f1_score: 0.6602 - loss: 0.6930 - val_accuracy: 0.0000e+00 - val_f1_score: 0.6563 - val_loss: 0.6929\n",
      "Epoch 247/500\n",
      "\u001b[1m5/5\u001b[0m \u001b[32m━━━━━━━━━━━━━━━━━━━━\u001b[0m\u001b[37m\u001b[0m \u001b[1m0s\u001b[0m 14ms/step - accuracy: 0.0000e+00 - f1_score: 0.6568 - loss: 0.6929 - val_accuracy: 0.0000e+00 - val_f1_score: 0.6563 - val_loss: 0.6929\n",
      "Epoch 248/500\n",
      "\u001b[1m5/5\u001b[0m \u001b[32m━━━━━━━━━━━━━━━━━━━━\u001b[0m\u001b[37m\u001b[0m \u001b[1m0s\u001b[0m 14ms/step - accuracy: 0.0000e+00 - f1_score: 0.6584 - loss: 0.6930 - val_accuracy: 0.0000e+00 - val_f1_score: 0.6563 - val_loss: 0.6929\n",
      "Epoch 249/500\n",
      "\u001b[1m5/5\u001b[0m \u001b[32m━━━━━━━━━━━━━━━━━━━━\u001b[0m\u001b[37m\u001b[0m \u001b[1m0s\u001b[0m 14ms/step - accuracy: 0.0000e+00 - f1_score: 0.6591 - loss: 0.6930 - val_accuracy: 0.0000e+00 - val_f1_score: 0.6563 - val_loss: 0.6929\n",
      "Epoch 250/500\n",
      "\u001b[1m5/5\u001b[0m \u001b[32m━━━━━━━━━━━━━━━━━━━━\u001b[0m\u001b[37m\u001b[0m \u001b[1m0s\u001b[0m 14ms/step - accuracy: 0.0000e+00 - f1_score: 0.6575 - loss: 0.6929 - val_accuracy: 0.0000e+00 - val_f1_score: 0.6563 - val_loss: 0.6929\n",
      "Epoch 251/500\n",
      "\u001b[1m5/5\u001b[0m \u001b[32m━━━━━━━━━━━━━━━━━━━━\u001b[0m\u001b[37m\u001b[0m \u001b[1m0s\u001b[0m 14ms/step - accuracy: 0.0000e+00 - f1_score: 0.6619 - loss: 0.6931 - val_accuracy: 0.0000e+00 - val_f1_score: 0.6563 - val_loss: 0.6929\n",
      "Epoch 252/500\n",
      "\u001b[1m5/5\u001b[0m \u001b[32m━━━━━━━━━━━━━━━━━━━━\u001b[0m\u001b[37m\u001b[0m \u001b[1m0s\u001b[0m 14ms/step - accuracy: 0.0000e+00 - f1_score: 0.6595 - loss: 0.6930 - val_accuracy: 0.0000e+00 - val_f1_score: 0.6563 - val_loss: 0.6929\n",
      "Epoch 253/500\n",
      "\u001b[1m5/5\u001b[0m \u001b[32m━━━━━━━━━━━━━━━━━━━━\u001b[0m\u001b[37m\u001b[0m \u001b[1m0s\u001b[0m 15ms/step - accuracy: 0.0000e+00 - f1_score: 0.6594 - loss: 0.6930 - val_accuracy: 0.0000e+00 - val_f1_score: 0.6563 - val_loss: 0.6929\n",
      "Epoch 254/500\n",
      "\u001b[1m5/5\u001b[0m \u001b[32m━━━━━━━━━━━━━━━━━━━━\u001b[0m\u001b[37m\u001b[0m \u001b[1m0s\u001b[0m 14ms/step - accuracy: 0.0000e+00 - f1_score: 0.6602 - loss: 0.6930 - val_accuracy: 0.0000e+00 - val_f1_score: 0.6563 - val_loss: 0.6929\n",
      "Epoch 255/500\n",
      "\u001b[1m5/5\u001b[0m \u001b[32m━━━━━━━━━━━━━━━━━━━━\u001b[0m\u001b[37m\u001b[0m \u001b[1m0s\u001b[0m 14ms/step - accuracy: 0.0000e+00 - f1_score: 0.6616 - loss: 0.6931 - val_accuracy: 0.0000e+00 - val_f1_score: 0.6563 - val_loss: 0.6929\n",
      "Epoch 256/500\n",
      "\u001b[1m5/5\u001b[0m \u001b[32m━━━━━━━━━━━━━━━━━━━━\u001b[0m\u001b[37m\u001b[0m \u001b[1m0s\u001b[0m 16ms/step - accuracy: 0.0000e+00 - f1_score: 0.6592 - loss: 0.6930 - val_accuracy: 0.0000e+00 - val_f1_score: 0.6563 - val_loss: 0.6929\n",
      "Epoch 257/500\n",
      "\u001b[1m5/5\u001b[0m \u001b[32m━━━━━━━━━━━━━━━━━━━━\u001b[0m\u001b[37m\u001b[0m \u001b[1m0s\u001b[0m 14ms/step - accuracy: 0.0000e+00 - f1_score: 0.6565 - loss: 0.6929 - val_accuracy: 0.0000e+00 - val_f1_score: 0.6563 - val_loss: 0.6929\n",
      "Epoch 258/500\n",
      "\u001b[1m5/5\u001b[0m \u001b[32m━━━━━━━━━━━━━━━━━━━━\u001b[0m\u001b[37m\u001b[0m \u001b[1m0s\u001b[0m 14ms/step - accuracy: 0.0000e+00 - f1_score: 0.6615 - loss: 0.6931 - val_accuracy: 0.0000e+00 - val_f1_score: 0.6563 - val_loss: 0.6929\n",
      "Epoch 259/500\n",
      "\u001b[1m5/5\u001b[0m \u001b[32m━━━━━━━━━━━━━━━━━━━━\u001b[0m\u001b[37m\u001b[0m \u001b[1m0s\u001b[0m 14ms/step - accuracy: 0.0000e+00 - f1_score: 0.6602 - loss: 0.6930 - val_accuracy: 0.0000e+00 - val_f1_score: 0.6563 - val_loss: 0.6929\n",
      "Epoch 260/500\n",
      "\u001b[1m5/5\u001b[0m \u001b[32m━━━━━━━━━━━━━━━━━━━━\u001b[0m\u001b[37m\u001b[0m \u001b[1m0s\u001b[0m 13ms/step - accuracy: 0.0000e+00 - f1_score: 0.6582 - loss: 0.6930 - val_accuracy: 0.0000e+00 - val_f1_score: 0.6563 - val_loss: 0.6929\n",
      "Epoch 261/500\n",
      "\u001b[1m5/5\u001b[0m \u001b[32m━━━━━━━━━━━━━━━━━━━━\u001b[0m\u001b[37m\u001b[0m \u001b[1m0s\u001b[0m 14ms/step - accuracy: 0.0000e+00 - f1_score: 0.6575 - loss: 0.6929 - val_accuracy: 0.0000e+00 - val_f1_score: 0.6563 - val_loss: 0.6929\n",
      "Epoch 262/500\n",
      "\u001b[1m5/5\u001b[0m \u001b[32m━━━━━━━━━━━━━━━━━━━━\u001b[0m\u001b[37m\u001b[0m \u001b[1m0s\u001b[0m 14ms/step - accuracy: 0.0000e+00 - f1_score: 0.6602 - loss: 0.6930 - val_accuracy: 0.0000e+00 - val_f1_score: 0.6563 - val_loss: 0.6929\n",
      "Epoch 263/500\n",
      "\u001b[1m5/5\u001b[0m \u001b[32m━━━━━━━━━━━━━━━━━━━━\u001b[0m\u001b[37m\u001b[0m \u001b[1m0s\u001b[0m 14ms/step - accuracy: 0.0000e+00 - f1_score: 0.6590 - loss: 0.6930 - val_accuracy: 0.0000e+00 - val_f1_score: 0.6563 - val_loss: 0.6929\n",
      "Epoch 264/500\n",
      "\u001b[1m5/5\u001b[0m \u001b[32m━━━━━━━━━━━━━━━━━━━━\u001b[0m\u001b[37m\u001b[0m \u001b[1m0s\u001b[0m 14ms/step - accuracy: 0.0000e+00 - f1_score: 0.6575 - loss: 0.6929 - val_accuracy: 0.0000e+00 - val_f1_score: 0.6563 - val_loss: 0.6929\n",
      "Epoch 265/500\n",
      "\u001b[1m5/5\u001b[0m \u001b[32m━━━━━━━━━━━━━━━━━━━━\u001b[0m\u001b[37m\u001b[0m \u001b[1m0s\u001b[0m 14ms/step - accuracy: 0.0000e+00 - f1_score: 0.6616 - loss: 0.6931 - val_accuracy: 0.0000e+00 - val_f1_score: 0.6563 - val_loss: 0.6929\n",
      "Epoch 266/500\n",
      "\u001b[1m5/5\u001b[0m \u001b[32m━━━━━━━━━━━━━━━━━━━━\u001b[0m\u001b[37m\u001b[0m \u001b[1m0s\u001b[0m 15ms/step - accuracy: 0.0000e+00 - f1_score: 0.6622 - loss: 0.6931 - val_accuracy: 0.0000e+00 - val_f1_score: 0.6563 - val_loss: 0.6929\n",
      "Epoch 267/500\n",
      "\u001b[1m5/5\u001b[0m \u001b[32m━━━━━━━━━━━━━━━━━━━━\u001b[0m\u001b[37m\u001b[0m \u001b[1m0s\u001b[0m 14ms/step - accuracy: 0.0000e+00 - f1_score: 0.6605 - loss: 0.6931 - val_accuracy: 0.0000e+00 - val_f1_score: 0.6563 - val_loss: 0.6929\n",
      "Epoch 268/500\n",
      "\u001b[1m5/5\u001b[0m \u001b[32m━━━━━━━━━━━━━━━━━━━━\u001b[0m\u001b[37m\u001b[0m \u001b[1m0s\u001b[0m 14ms/step - accuracy: 0.0000e+00 - f1_score: 0.6625 - loss: 0.6931 - val_accuracy: 0.0000e+00 - val_f1_score: 0.6563 - val_loss: 0.6929\n",
      "Epoch 269/500\n",
      "\u001b[1m5/5\u001b[0m \u001b[32m━━━━━━━━━━━━━━━━━━━━\u001b[0m\u001b[37m\u001b[0m \u001b[1m0s\u001b[0m 14ms/step - accuracy: 0.0000e+00 - f1_score: 0.6623 - loss: 0.6931 - val_accuracy: 0.0000e+00 - val_f1_score: 0.6563 - val_loss: 0.6929\n",
      "Epoch 270/500\n",
      "\u001b[1m5/5\u001b[0m \u001b[32m━━━━━━━━━━━━━━━━━━━━\u001b[0m\u001b[37m\u001b[0m \u001b[1m0s\u001b[0m 15ms/step - accuracy: 0.0000e+00 - f1_score: 0.6630 - loss: 0.6931 - val_accuracy: 0.0000e+00 - val_f1_score: 0.6563 - val_loss: 0.6929\n",
      "Epoch 271/500\n",
      "\u001b[1m5/5\u001b[0m \u001b[32m━━━━━━━━━━━━━━━━━━━━\u001b[0m\u001b[37m\u001b[0m \u001b[1m0s\u001b[0m 14ms/step - accuracy: 0.0000e+00 - f1_score: 0.6566 - loss: 0.6929 - val_accuracy: 0.0000e+00 - val_f1_score: 0.6563 - val_loss: 0.6929\n",
      "Epoch 272/500\n",
      "\u001b[1m5/5\u001b[0m \u001b[32m━━━━━━━━━━━━━━━━━━━━\u001b[0m\u001b[37m\u001b[0m \u001b[1m0s\u001b[0m 14ms/step - accuracy: 0.0000e+00 - f1_score: 0.6574 - loss: 0.6930 - val_accuracy: 0.0000e+00 - val_f1_score: 0.6563 - val_loss: 0.6929\n",
      "Epoch 273/500\n",
      "\u001b[1m5/5\u001b[0m \u001b[32m━━━━━━━━━━━━━━━━━━━━\u001b[0m\u001b[37m\u001b[0m \u001b[1m0s\u001b[0m 14ms/step - accuracy: 0.0000e+00 - f1_score: 0.6551 - loss: 0.6929 - val_accuracy: 0.0000e+00 - val_f1_score: 0.6563 - val_loss: 0.6929\n",
      "Epoch 274/500\n",
      "\u001b[1m5/5\u001b[0m \u001b[32m━━━━━━━━━━━━━━━━━━━━\u001b[0m\u001b[37m\u001b[0m \u001b[1m0s\u001b[0m 14ms/step - accuracy: 0.0000e+00 - f1_score: 0.6608 - loss: 0.6931 - val_accuracy: 0.0000e+00 - val_f1_score: 0.6563 - val_loss: 0.6929\n",
      "Epoch 275/500\n",
      "\u001b[1m5/5\u001b[0m \u001b[32m━━━━━━━━━━━━━━━━━━━━\u001b[0m\u001b[37m\u001b[0m \u001b[1m0s\u001b[0m 14ms/step - accuracy: 0.0000e+00 - f1_score: 0.6602 - loss: 0.6930 - val_accuracy: 0.0000e+00 - val_f1_score: 0.6563 - val_loss: 0.6929\n",
      "Epoch 276/500\n",
      "\u001b[1m5/5\u001b[0m \u001b[32m━━━━━━━━━━━━━━━━━━━━\u001b[0m\u001b[37m\u001b[0m \u001b[1m0s\u001b[0m 14ms/step - accuracy: 0.0000e+00 - f1_score: 0.6630 - loss: 0.6931 - val_accuracy: 0.0000e+00 - val_f1_score: 0.6563 - val_loss: 0.6929\n",
      "Epoch 277/500\n",
      "\u001b[1m5/5\u001b[0m \u001b[32m━━━━━━━━━━━━━━━━━━━━\u001b[0m\u001b[37m\u001b[0m \u001b[1m0s\u001b[0m 14ms/step - accuracy: 0.0000e+00 - f1_score: 0.6603 - loss: 0.6930 - val_accuracy: 0.0000e+00 - val_f1_score: 0.6563 - val_loss: 0.6929\n",
      "Epoch 278/500\n",
      "\u001b[1m5/5\u001b[0m \u001b[32m━━━━━━━━━━━━━━━━━━━━\u001b[0m\u001b[37m\u001b[0m \u001b[1m0s\u001b[0m 14ms/step - accuracy: 0.0000e+00 - f1_score: 0.6599 - loss: 0.6930 - val_accuracy: 0.0000e+00 - val_f1_score: 0.6563 - val_loss: 0.6929\n",
      "Epoch 279/500\n",
      "\u001b[1m5/5\u001b[0m \u001b[32m━━━━━━━━━━━━━━━━━━━━\u001b[0m\u001b[37m\u001b[0m \u001b[1m0s\u001b[0m 15ms/step - accuracy: 0.0000e+00 - f1_score: 0.6563 - loss: 0.6929 - val_accuracy: 0.0000e+00 - val_f1_score: 0.6563 - val_loss: 0.6929\n",
      "Epoch 280/500\n",
      "\u001b[1m5/5\u001b[0m \u001b[32m━━━━━━━━━━━━━━━━━━━━\u001b[0m\u001b[37m\u001b[0m \u001b[1m0s\u001b[0m 16ms/step - accuracy: 0.0000e+00 - f1_score: 0.6603 - loss: 0.6930 - val_accuracy: 0.0000e+00 - val_f1_score: 0.6563 - val_loss: 0.6929\n",
      "Epoch 281/500\n",
      "\u001b[1m5/5\u001b[0m \u001b[32m━━━━━━━━━━━━━━━━━━━━\u001b[0m\u001b[37m\u001b[0m \u001b[1m0s\u001b[0m 15ms/step - accuracy: 0.0000e+00 - f1_score: 0.6587 - loss: 0.6930 - val_accuracy: 0.0000e+00 - val_f1_score: 0.6563 - val_loss: 0.6929\n",
      "Epoch 282/500\n",
      "\u001b[1m5/5\u001b[0m \u001b[32m━━━━━━━━━━━━━━━━━━━━\u001b[0m\u001b[37m\u001b[0m \u001b[1m0s\u001b[0m 14ms/step - accuracy: 0.0000e+00 - f1_score: 0.6582 - loss: 0.6930 - val_accuracy: 0.0000e+00 - val_f1_score: 0.6563 - val_loss: 0.6929\n",
      "Epoch 283/500\n",
      "\u001b[1m5/5\u001b[0m \u001b[32m━━━━━━━━━━━━━━━━━━━━\u001b[0m\u001b[37m\u001b[0m \u001b[1m0s\u001b[0m 15ms/step - accuracy: 0.0000e+00 - f1_score: 0.6583 - loss: 0.6930 - val_accuracy: 0.0000e+00 - val_f1_score: 0.6563 - val_loss: 0.6929\n",
      "Epoch 284/500\n",
      "\u001b[1m5/5\u001b[0m \u001b[32m━━━━━━━━━━━━━━━━━━━━\u001b[0m\u001b[37m\u001b[0m \u001b[1m0s\u001b[0m 13ms/step - accuracy: 0.0000e+00 - f1_score: 0.6627 - loss: 0.6931 - val_accuracy: 0.0000e+00 - val_f1_score: 0.6563 - val_loss: 0.6929\n",
      "Epoch 285/500\n",
      "\u001b[1m5/5\u001b[0m \u001b[32m━━━━━━━━━━━━━━━━━━━━\u001b[0m\u001b[37m\u001b[0m \u001b[1m0s\u001b[0m 14ms/step - accuracy: 0.0000e+00 - f1_score: 0.6585 - loss: 0.6930 - val_accuracy: 0.0000e+00 - val_f1_score: 0.6563 - val_loss: 0.6929\n",
      "Epoch 286/500\n",
      "\u001b[1m5/5\u001b[0m \u001b[32m━━━━━━━━━━━━━━━━━━━━\u001b[0m\u001b[37m\u001b[0m \u001b[1m0s\u001b[0m 14ms/step - accuracy: 0.0000e+00 - f1_score: 0.6584 - loss: 0.6930 - val_accuracy: 0.0000e+00 - val_f1_score: 0.6563 - val_loss: 0.6929\n",
      "Epoch 287/500\n",
      "\u001b[1m5/5\u001b[0m \u001b[32m━━━━━━━━━━━━━━━━━━━━\u001b[0m\u001b[37m\u001b[0m \u001b[1m0s\u001b[0m 14ms/step - accuracy: 0.0000e+00 - f1_score: 0.6581 - loss: 0.6930 - val_accuracy: 0.0000e+00 - val_f1_score: 0.6563 - val_loss: 0.6929\n",
      "Epoch 288/500\n",
      "\u001b[1m5/5\u001b[0m \u001b[32m━━━━━━━━━━━━━━━━━━━━\u001b[0m\u001b[37m\u001b[0m \u001b[1m0s\u001b[0m 13ms/step - accuracy: 0.0000e+00 - f1_score: 0.6593 - loss: 0.6930 - val_accuracy: 0.0000e+00 - val_f1_score: 0.6563 - val_loss: 0.6929\n",
      "Epoch 289/500\n",
      "\u001b[1m5/5\u001b[0m \u001b[32m━━━━━━━━━━━━━━━━━━━━\u001b[0m\u001b[37m\u001b[0m \u001b[1m0s\u001b[0m 15ms/step - accuracy: 0.0000e+00 - f1_score: 0.6627 - loss: 0.6931 - val_accuracy: 0.0000e+00 - val_f1_score: 0.6563 - val_loss: 0.6929\n",
      "Epoch 290/500\n",
      "\u001b[1m5/5\u001b[0m \u001b[32m━━━━━━━━━━━━━━━━━━━━\u001b[0m\u001b[37m\u001b[0m \u001b[1m0s\u001b[0m 14ms/step - accuracy: 0.0000e+00 - f1_score: 0.6556 - loss: 0.6929 - val_accuracy: 0.0000e+00 - val_f1_score: 0.6563 - val_loss: 0.6929\n",
      "Epoch 291/500\n",
      "\u001b[1m5/5\u001b[0m \u001b[32m━━━━━━━━━━━━━━━━━━━━\u001b[0m\u001b[37m\u001b[0m \u001b[1m0s\u001b[0m 16ms/step - accuracy: 0.0000e+00 - f1_score: 0.6633 - loss: 0.6931 - val_accuracy: 0.0000e+00 - val_f1_score: 0.6563 - val_loss: 0.6929\n",
      "Epoch 292/500\n",
      "\u001b[1m5/5\u001b[0m \u001b[32m━━━━━━━━━━━━━━━━━━━━\u001b[0m\u001b[37m\u001b[0m \u001b[1m0s\u001b[0m 15ms/step - accuracy: 0.0000e+00 - f1_score: 0.6593 - loss: 0.6930 - val_accuracy: 0.0000e+00 - val_f1_score: 0.6563 - val_loss: 0.6929\n",
      "Epoch 293/500\n",
      "\u001b[1m5/5\u001b[0m \u001b[32m━━━━━━━━━━━━━━━━━━━━\u001b[0m\u001b[37m\u001b[0m \u001b[1m0s\u001b[0m 14ms/step - accuracy: 0.0000e+00 - f1_score: 0.6610 - loss: 0.6931 - val_accuracy: 0.0000e+00 - val_f1_score: 0.6563 - val_loss: 0.6929\n",
      "Epoch 294/500\n",
      "\u001b[1m5/5\u001b[0m \u001b[32m━━━━━━━━━━━━━━━━━━━━\u001b[0m\u001b[37m\u001b[0m \u001b[1m0s\u001b[0m 14ms/step - accuracy: 0.0000e+00 - f1_score: 0.6606 - loss: 0.6931 - val_accuracy: 0.0000e+00 - val_f1_score: 0.6563 - val_loss: 0.6929\n",
      "Epoch 295/500\n",
      "\u001b[1m5/5\u001b[0m \u001b[32m━━━━━━━━━━━━━━━━━━━━\u001b[0m\u001b[37m\u001b[0m \u001b[1m0s\u001b[0m 14ms/step - accuracy: 0.0000e+00 - f1_score: 0.6615 - loss: 0.6931 - val_accuracy: 0.0000e+00 - val_f1_score: 0.6563 - val_loss: 0.6929\n",
      "Epoch 296/500\n",
      "\u001b[1m5/5\u001b[0m \u001b[32m━━━━━━━━━━━━━━━━━━━━\u001b[0m\u001b[37m\u001b[0m \u001b[1m0s\u001b[0m 14ms/step - accuracy: 0.0000e+00 - f1_score: 0.6572 - loss: 0.6929 - val_accuracy: 0.0000e+00 - val_f1_score: 0.6563 - val_loss: 0.6929\n",
      "Epoch 297/500\n",
      "\u001b[1m5/5\u001b[0m \u001b[32m━━━━━━━━━━━━━━━━━━━━\u001b[0m\u001b[37m\u001b[0m \u001b[1m0s\u001b[0m 14ms/step - accuracy: 0.0000e+00 - f1_score: 0.6620 - loss: 0.6931 - val_accuracy: 0.0000e+00 - val_f1_score: 0.6563 - val_loss: 0.6929\n",
      "Epoch 298/500\n",
      "\u001b[1m5/5\u001b[0m \u001b[32m━━━━━━━━━━━━━━━━━━━━\u001b[0m\u001b[37m\u001b[0m \u001b[1m0s\u001b[0m 15ms/step - accuracy: 0.0000e+00 - f1_score: 0.6593 - loss: 0.6930 - val_accuracy: 0.0000e+00 - val_f1_score: 0.6563 - val_loss: 0.6929\n",
      "Epoch 299/500\n",
      "\u001b[1m5/5\u001b[0m \u001b[32m━━━━━━━━━━━━━━━━━━━━\u001b[0m\u001b[37m\u001b[0m \u001b[1m0s\u001b[0m 23ms/step - accuracy: 0.0000e+00 - f1_score: 0.6595 - loss: 0.6930 - val_accuracy: 0.0000e+00 - val_f1_score: 0.6563 - val_loss: 0.6929\n",
      "Epoch 300/500\n",
      "\u001b[1m5/5\u001b[0m \u001b[32m━━━━━━━━━━━━━━━━━━━━\u001b[0m\u001b[37m\u001b[0m \u001b[1m0s\u001b[0m 15ms/step - accuracy: 0.0000e+00 - f1_score: 0.6625 - loss: 0.6931 - val_accuracy: 0.0000e+00 - val_f1_score: 0.6563 - val_loss: 0.6929\n",
      "Epoch 301/500\n",
      "\u001b[1m5/5\u001b[0m \u001b[32m━━━━━━━━━━━━━━━━━━━━\u001b[0m\u001b[37m\u001b[0m \u001b[1m0s\u001b[0m 15ms/step - accuracy: 0.0000e+00 - f1_score: 0.6642 - loss: 0.6932 - val_accuracy: 0.0000e+00 - val_f1_score: 0.6563 - val_loss: 0.6929\n",
      "Epoch 302/500\n",
      "\u001b[1m5/5\u001b[0m \u001b[32m━━━━━━━━━━━━━━━━━━━━\u001b[0m\u001b[37m\u001b[0m \u001b[1m0s\u001b[0m 16ms/step - accuracy: 0.0000e+00 - f1_score: 0.6598 - loss: 0.6930 - val_accuracy: 0.0000e+00 - val_f1_score: 0.6563 - val_loss: 0.6929\n",
      "Epoch 303/500\n",
      "\u001b[1m5/5\u001b[0m \u001b[32m━━━━━━━━━━━━━━━━━━━━\u001b[0m\u001b[37m\u001b[0m \u001b[1m0s\u001b[0m 15ms/step - accuracy: 0.0000e+00 - f1_score: 0.6607 - loss: 0.6931 - val_accuracy: 0.0000e+00 - val_f1_score: 0.6563 - val_loss: 0.6929\n",
      "Epoch 304/500\n",
      "\u001b[1m5/5\u001b[0m \u001b[32m━━━━━━━━━━━━━━━━━━━━\u001b[0m\u001b[37m\u001b[0m \u001b[1m0s\u001b[0m 15ms/step - accuracy: 0.0000e+00 - f1_score: 0.6608 - loss: 0.6931 - val_accuracy: 0.0000e+00 - val_f1_score: 0.6563 - val_loss: 0.6929\n",
      "Epoch 305/500\n",
      "\u001b[1m5/5\u001b[0m \u001b[32m━━━━━━━━━━━━━━━━━━━━\u001b[0m\u001b[37m\u001b[0m \u001b[1m0s\u001b[0m 15ms/step - accuracy: 0.0000e+00 - f1_score: 0.6571 - loss: 0.6929 - val_accuracy: 0.0000e+00 - val_f1_score: 0.6563 - val_loss: 0.6929\n",
      "Epoch 306/500\n",
      "\u001b[1m5/5\u001b[0m \u001b[32m━━━━━━━━━━━━━━━━━━━━\u001b[0m\u001b[37m\u001b[0m \u001b[1m0s\u001b[0m 15ms/step - accuracy: 0.0000e+00 - f1_score: 0.6577 - loss: 0.6930 - val_accuracy: 0.0000e+00 - val_f1_score: 0.6563 - val_loss: 0.6929\n",
      "Epoch 307/500\n",
      "\u001b[1m5/5\u001b[0m \u001b[32m━━━━━━━━━━━━━━━━━━━━\u001b[0m\u001b[37m\u001b[0m \u001b[1m0s\u001b[0m 14ms/step - accuracy: 0.0000e+00 - f1_score: 0.6575 - loss: 0.6930 - val_accuracy: 0.0000e+00 - val_f1_score: 0.6563 - val_loss: 0.6929\n",
      "Epoch 308/500\n",
      "\u001b[1m5/5\u001b[0m \u001b[32m━━━━━━━━━━━━━━━━━━━━\u001b[0m\u001b[37m\u001b[0m \u001b[1m0s\u001b[0m 15ms/step - accuracy: 0.0000e+00 - f1_score: 0.6636 - loss: 0.6932 - val_accuracy: 0.0000e+00 - val_f1_score: 0.6563 - val_loss: 0.6929\n",
      "Epoch 309/500\n",
      "\u001b[1m5/5\u001b[0m \u001b[32m━━━━━━━━━━━━━━━━━━━━\u001b[0m\u001b[37m\u001b[0m \u001b[1m0s\u001b[0m 14ms/step - accuracy: 0.0000e+00 - f1_score: 0.6617 - loss: 0.6931 - val_accuracy: 0.0000e+00 - val_f1_score: 0.6563 - val_loss: 0.6929\n",
      "Epoch 310/500\n",
      "\u001b[1m5/5\u001b[0m \u001b[32m━━━━━━━━━━━━━━━━━━━━\u001b[0m\u001b[37m\u001b[0m \u001b[1m0s\u001b[0m 14ms/step - accuracy: 0.0000e+00 - f1_score: 0.6542 - loss: 0.6928 - val_accuracy: 0.0000e+00 - val_f1_score: 0.6563 - val_loss: 0.6929\n",
      "Epoch 311/500\n",
      "\u001b[1m5/5\u001b[0m \u001b[32m━━━━━━━━━━━━━━━━━━━━\u001b[0m\u001b[37m\u001b[0m \u001b[1m0s\u001b[0m 14ms/step - accuracy: 0.0000e+00 - f1_score: 0.6575 - loss: 0.6930 - val_accuracy: 0.0000e+00 - val_f1_score: 0.6563 - val_loss: 0.6929\n",
      "Epoch 312/500\n",
      "\u001b[1m5/5\u001b[0m \u001b[32m━━━━━━━━━━━━━━━━━━━━\u001b[0m\u001b[37m\u001b[0m \u001b[1m0s\u001b[0m 15ms/step - accuracy: 0.0000e+00 - f1_score: 0.6517 - loss: 0.6928 - val_accuracy: 0.0000e+00 - val_f1_score: 0.6563 - val_loss: 0.6929\n",
      "Epoch 313/500\n",
      "\u001b[1m5/5\u001b[0m \u001b[32m━━━━━━━━━━━━━━━━━━━━\u001b[0m\u001b[37m\u001b[0m \u001b[1m0s\u001b[0m 15ms/step - accuracy: 0.0000e+00 - f1_score: 0.6569 - loss: 0.6929 - val_accuracy: 0.0000e+00 - val_f1_score: 0.6563 - val_loss: 0.6929\n",
      "Epoch 314/500\n",
      "\u001b[1m5/5\u001b[0m \u001b[32m━━━━━━━━━━━━━━━━━━━━\u001b[0m\u001b[37m\u001b[0m \u001b[1m0s\u001b[0m 14ms/step - accuracy: 0.0000e+00 - f1_score: 0.6633 - loss: 0.6932 - val_accuracy: 0.0000e+00 - val_f1_score: 0.6563 - val_loss: 0.6929\n",
      "Epoch 315/500\n",
      "\u001b[1m5/5\u001b[0m \u001b[32m━━━━━━━━━━━━━━━━━━━━\u001b[0m\u001b[37m\u001b[0m \u001b[1m0s\u001b[0m 15ms/step - accuracy: 0.0000e+00 - f1_score: 0.6575 - loss: 0.6930 - val_accuracy: 0.0000e+00 - val_f1_score: 0.6563 - val_loss: 0.6929\n",
      "Epoch 316/500\n",
      "\u001b[1m5/5\u001b[0m \u001b[32m━━━━━━━━━━━━━━━━━━━━\u001b[0m\u001b[37m\u001b[0m \u001b[1m0s\u001b[0m 15ms/step - accuracy: 0.0000e+00 - f1_score: 0.6643 - loss: 0.6932 - val_accuracy: 0.0000e+00 - val_f1_score: 0.6563 - val_loss: 0.6929\n",
      "Epoch 317/500\n",
      "\u001b[1m5/5\u001b[0m \u001b[32m━━━━━━━━━━━━━━━━━━━━\u001b[0m\u001b[37m\u001b[0m \u001b[1m0s\u001b[0m 16ms/step - accuracy: 0.0000e+00 - f1_score: 0.6586 - loss: 0.6930 - val_accuracy: 0.0000e+00 - val_f1_score: 0.6563 - val_loss: 0.6929\n",
      "Epoch 318/500\n",
      "\u001b[1m5/5\u001b[0m \u001b[32m━━━━━━━━━━━━━━━━━━━━\u001b[0m\u001b[37m\u001b[0m \u001b[1m0s\u001b[0m 15ms/step - accuracy: 0.0000e+00 - f1_score: 0.6562 - loss: 0.6929 - val_accuracy: 0.0000e+00 - val_f1_score: 0.6563 - val_loss: 0.6929\n",
      "Epoch 319/500\n",
      "\u001b[1m5/5\u001b[0m \u001b[32m━━━━━━━━━━━━━━━━━━━━\u001b[0m\u001b[37m\u001b[0m \u001b[1m0s\u001b[0m 15ms/step - accuracy: 0.0000e+00 - f1_score: 0.6542 - loss: 0.6928 - val_accuracy: 0.0000e+00 - val_f1_score: 0.6563 - val_loss: 0.6929\n",
      "Epoch 320/500\n",
      "\u001b[1m5/5\u001b[0m \u001b[32m━━━━━━━━━━━━━━━━━━━━\u001b[0m\u001b[37m\u001b[0m \u001b[1m0s\u001b[0m 17ms/step - accuracy: 0.0000e+00 - f1_score: 0.6604 - loss: 0.6931 - val_accuracy: 0.0000e+00 - val_f1_score: 0.6563 - val_loss: 0.6929\n",
      "Epoch 321/500\n",
      "\u001b[1m5/5\u001b[0m \u001b[32m━━━━━━━━━━━━━━━━━━━━\u001b[0m\u001b[37m\u001b[0m \u001b[1m0s\u001b[0m 14ms/step - accuracy: 0.0000e+00 - f1_score: 0.6627 - loss: 0.6931 - val_accuracy: 0.0000e+00 - val_f1_score: 0.6563 - val_loss: 0.6929\n",
      "Epoch 322/500\n",
      "\u001b[1m5/5\u001b[0m \u001b[32m━━━━━━━━━━━━━━━━━━━━\u001b[0m\u001b[37m\u001b[0m \u001b[1m0s\u001b[0m 16ms/step - accuracy: 0.0000e+00 - f1_score: 0.6633 - loss: 0.6932 - val_accuracy: 0.0000e+00 - val_f1_score: 0.6563 - val_loss: 0.6929\n",
      "Epoch 323/500\n",
      "\u001b[1m5/5\u001b[0m \u001b[32m━━━━━━━━━━━━━━━━━━━━\u001b[0m\u001b[37m\u001b[0m \u001b[1m0s\u001b[0m 17ms/step - accuracy: 0.0000e+00 - f1_score: 0.6593 - loss: 0.6930 - val_accuracy: 0.0000e+00 - val_f1_score: 0.6563 - val_loss: 0.6929\n",
      "Epoch 324/500\n",
      "\u001b[1m5/5\u001b[0m \u001b[32m━━━━━━━━━━━━━━━━━━━━\u001b[0m\u001b[37m\u001b[0m \u001b[1m0s\u001b[0m 21ms/step - accuracy: 0.0000e+00 - f1_score: 0.6582 - loss: 0.6930 - val_accuracy: 0.0000e+00 - val_f1_score: 0.6563 - val_loss: 0.6929\n",
      "Epoch 325/500\n",
      "\u001b[1m5/5\u001b[0m \u001b[32m━━━━━━━━━━━━━━━━━━━━\u001b[0m\u001b[37m\u001b[0m \u001b[1m0s\u001b[0m 20ms/step - accuracy: 0.0000e+00 - f1_score: 0.6603 - loss: 0.6930 - val_accuracy: 0.0000e+00 - val_f1_score: 0.6563 - val_loss: 0.6929\n",
      "Epoch 326/500\n",
      "\u001b[1m5/5\u001b[0m \u001b[32m━━━━━━━━━━━━━━━━━━━━\u001b[0m\u001b[37m\u001b[0m \u001b[1m0s\u001b[0m 17ms/step - accuracy: 0.0000e+00 - f1_score: 0.6616 - loss: 0.6931 - val_accuracy: 0.0000e+00 - val_f1_score: 0.6563 - val_loss: 0.6929\n",
      "Epoch 327/500\n",
      "\u001b[1m5/5\u001b[0m \u001b[32m━━━━━━━━━━━━━━━━━━━━\u001b[0m\u001b[37m\u001b[0m \u001b[1m0s\u001b[0m 16ms/step - accuracy: 0.0000e+00 - f1_score: 0.6581 - loss: 0.6930 - val_accuracy: 0.0000e+00 - val_f1_score: 0.6563 - val_loss: 0.6929\n",
      "Epoch 328/500\n",
      "\u001b[1m5/5\u001b[0m \u001b[32m━━━━━━━━━━━━━━━━━━━━\u001b[0m\u001b[37m\u001b[0m \u001b[1m0s\u001b[0m 16ms/step - accuracy: 0.0000e+00 - f1_score: 0.6600 - loss: 0.6930 - val_accuracy: 0.0000e+00 - val_f1_score: 0.6563 - val_loss: 0.6929\n",
      "Epoch 329/500\n",
      "\u001b[1m5/5\u001b[0m \u001b[32m━━━━━━━━━━━━━━━━━━━━\u001b[0m\u001b[37m\u001b[0m \u001b[1m0s\u001b[0m 16ms/step - accuracy: 0.0000e+00 - f1_score: 0.6571 - loss: 0.6929 - val_accuracy: 0.0000e+00 - val_f1_score: 0.6563 - val_loss: 0.6929\n",
      "Epoch 330/500\n",
      "\u001b[1m5/5\u001b[0m \u001b[32m━━━━━━━━━━━━━━━━━━━━\u001b[0m\u001b[37m\u001b[0m \u001b[1m0s\u001b[0m 15ms/step - accuracy: 0.0000e+00 - f1_score: 0.6555 - loss: 0.6929 - val_accuracy: 0.0000e+00 - val_f1_score: 0.6563 - val_loss: 0.6929\n",
      "Epoch 331/500\n",
      "\u001b[1m5/5\u001b[0m \u001b[32m━━━━━━━━━━━━━━━━━━━━\u001b[0m\u001b[37m\u001b[0m \u001b[1m0s\u001b[0m 15ms/step - accuracy: 0.0000e+00 - f1_score: 0.6588 - loss: 0.6930 - val_accuracy: 0.0000e+00 - val_f1_score: 0.6563 - val_loss: 0.6929\n",
      "Epoch 332/500\n",
      "\u001b[1m5/5\u001b[0m \u001b[32m━━━━━━━━━━━━━━━━━━━━\u001b[0m\u001b[37m\u001b[0m \u001b[1m0s\u001b[0m 15ms/step - accuracy: 0.0000e+00 - f1_score: 0.6583 - loss: 0.6930 - val_accuracy: 0.0000e+00 - val_f1_score: 0.6563 - val_loss: 0.6929\n",
      "Epoch 333/500\n",
      "\u001b[1m5/5\u001b[0m \u001b[32m━━━━━━━━━━━━━━━━━━━━\u001b[0m\u001b[37m\u001b[0m \u001b[1m0s\u001b[0m 15ms/step - accuracy: 0.0000e+00 - f1_score: 0.6558 - loss: 0.6929 - val_accuracy: 0.0000e+00 - val_f1_score: 0.6563 - val_loss: 0.6929\n",
      "Epoch 334/500\n",
      "\u001b[1m5/5\u001b[0m \u001b[32m━━━━━━━━━━━━━━━━━━━━\u001b[0m\u001b[37m\u001b[0m \u001b[1m0s\u001b[0m 15ms/step - accuracy: 0.0000e+00 - f1_score: 0.6618 - loss: 0.6931 - val_accuracy: 0.0000e+00 - val_f1_score: 0.6563 - val_loss: 0.6929\n",
      "Epoch 335/500\n",
      "\u001b[1m5/5\u001b[0m \u001b[32m━━━━━━━━━━━━━━━━━━━━\u001b[0m\u001b[37m\u001b[0m \u001b[1m0s\u001b[0m 20ms/step - accuracy: 0.0000e+00 - f1_score: 0.6622 - loss: 0.6931 - val_accuracy: 0.0000e+00 - val_f1_score: 0.6563 - val_loss: 0.6929\n",
      "Epoch 336/500\n",
      "\u001b[1m5/5\u001b[0m \u001b[32m━━━━━━━━━━━━━━━━━━━━\u001b[0m\u001b[37m\u001b[0m \u001b[1m0s\u001b[0m 21ms/step - accuracy: 0.0000e+00 - f1_score: 0.6605 - loss: 0.6931 - val_accuracy: 0.0000e+00 - val_f1_score: 0.6563 - val_loss: 0.6929\n",
      "Epoch 337/500\n",
      "\u001b[1m5/5\u001b[0m \u001b[32m━━━━━━━━━━━━━━━━━━━━\u001b[0m\u001b[37m\u001b[0m \u001b[1m0s\u001b[0m 14ms/step - accuracy: 0.0000e+00 - f1_score: 0.6578 - loss: 0.6930 - val_accuracy: 0.0000e+00 - val_f1_score: 0.6563 - val_loss: 0.6929\n",
      "Epoch 338/500\n",
      "\u001b[1m5/5\u001b[0m \u001b[32m━━━━━━━━━━━━━━━━━━━━\u001b[0m\u001b[37m\u001b[0m \u001b[1m0s\u001b[0m 14ms/step - accuracy: 0.0000e+00 - f1_score: 0.6575 - loss: 0.6930 - val_accuracy: 0.0000e+00 - val_f1_score: 0.6563 - val_loss: 0.6929\n",
      "Epoch 339/500\n",
      "\u001b[1m5/5\u001b[0m \u001b[32m━━━━━━━━━━━━━━━━━━━━\u001b[0m\u001b[37m\u001b[0m \u001b[1m0s\u001b[0m 14ms/step - accuracy: 0.0000e+00 - f1_score: 0.6559 - loss: 0.6929 - val_accuracy: 0.0000e+00 - val_f1_score: 0.6563 - val_loss: 0.6929\n",
      "Epoch 340/500\n",
      "\u001b[1m5/5\u001b[0m \u001b[32m━━━━━━━━━━━━━━━━━━━━\u001b[0m\u001b[37m\u001b[0m \u001b[1m0s\u001b[0m 15ms/step - accuracy: 0.0000e+00 - f1_score: 0.6582 - loss: 0.6930 - val_accuracy: 0.0000e+00 - val_f1_score: 0.6563 - val_loss: 0.6929\n",
      "Epoch 341/500\n",
      "\u001b[1m5/5\u001b[0m \u001b[32m━━━━━━━━━━━━━━━━━━━━\u001b[0m\u001b[37m\u001b[0m \u001b[1m0s\u001b[0m 16ms/step - accuracy: 0.0000e+00 - f1_score: 0.6604 - loss: 0.6931 - val_accuracy: 0.0000e+00 - val_f1_score: 0.6563 - val_loss: 0.6929\n",
      "Epoch 342/500\n",
      "\u001b[1m5/5\u001b[0m \u001b[32m━━━━━━━━━━━━━━━━━━━━\u001b[0m\u001b[37m\u001b[0m \u001b[1m0s\u001b[0m 15ms/step - accuracy: 0.0000e+00 - f1_score: 0.6573 - loss: 0.6929 - val_accuracy: 0.0000e+00 - val_f1_score: 0.6563 - val_loss: 0.6929\n",
      "Epoch 343/500\n",
      "\u001b[1m5/5\u001b[0m \u001b[32m━━━━━━━━━━━━━━━━━━━━\u001b[0m\u001b[37m\u001b[0m \u001b[1m0s\u001b[0m 14ms/step - accuracy: 0.0000e+00 - f1_score: 0.6569 - loss: 0.6929 - val_accuracy: 0.0000e+00 - val_f1_score: 0.6563 - val_loss: 0.6929\n",
      "Epoch 344/500\n",
      "\u001b[1m5/5\u001b[0m \u001b[32m━━━━━━━━━━━━━━━━━━━━\u001b[0m\u001b[37m\u001b[0m \u001b[1m0s\u001b[0m 14ms/step - accuracy: 0.0000e+00 - f1_score: 0.6599 - loss: 0.6930 - val_accuracy: 0.0000e+00 - val_f1_score: 0.6563 - val_loss: 0.6929\n",
      "Epoch 345/500\n",
      "\u001b[1m5/5\u001b[0m \u001b[32m━━━━━━━━━━━━━━━━━━━━\u001b[0m\u001b[37m\u001b[0m \u001b[1m0s\u001b[0m 14ms/step - accuracy: 0.0000e+00 - f1_score: 0.6658 - loss: 0.6932 - val_accuracy: 0.0000e+00 - val_f1_score: 0.6563 - val_loss: 0.6929\n",
      "Epoch 346/500\n",
      "\u001b[1m5/5\u001b[0m \u001b[32m━━━━━━━━━━━━━━━━━━━━\u001b[0m\u001b[37m\u001b[0m \u001b[1m0s\u001b[0m 15ms/step - accuracy: 0.0000e+00 - f1_score: 0.6606 - loss: 0.6931 - val_accuracy: 0.0000e+00 - val_f1_score: 0.6563 - val_loss: 0.6929\n",
      "Epoch 347/500\n",
      "\u001b[1m5/5\u001b[0m \u001b[32m━━━━━━━━━━━━━━━━━━━━\u001b[0m\u001b[37m\u001b[0m \u001b[1m0s\u001b[0m 15ms/step - accuracy: 0.0000e+00 - f1_score: 0.6607 - loss: 0.6931 - val_accuracy: 0.0000e+00 - val_f1_score: 0.6563 - val_loss: 0.6929\n",
      "Epoch 348/500\n",
      "\u001b[1m5/5\u001b[0m \u001b[32m━━━━━━━━━━━━━━━━━━━━\u001b[0m\u001b[37m\u001b[0m \u001b[1m0s\u001b[0m 14ms/step - accuracy: 0.0000e+00 - f1_score: 0.6583 - loss: 0.6930 - val_accuracy: 0.0000e+00 - val_f1_score: 0.6563 - val_loss: 0.6929\n",
      "Epoch 349/500\n",
      "\u001b[1m5/5\u001b[0m \u001b[32m━━━━━━━━━━━━━━━━━━━━\u001b[0m\u001b[37m\u001b[0m \u001b[1m0s\u001b[0m 14ms/step - accuracy: 0.0000e+00 - f1_score: 0.6578 - loss: 0.6930 - val_accuracy: 0.0000e+00 - val_f1_score: 0.6563 - val_loss: 0.6929\n",
      "Epoch 350/500\n",
      "\u001b[1m5/5\u001b[0m \u001b[32m━━━━━━━━━━━━━━━━━━━━\u001b[0m\u001b[37m\u001b[0m \u001b[1m0s\u001b[0m 15ms/step - accuracy: 0.0000e+00 - f1_score: 0.6622 - loss: 0.6931 - val_accuracy: 0.0000e+00 - val_f1_score: 0.6563 - val_loss: 0.6929\n",
      "Epoch 351/500\n",
      "\u001b[1m5/5\u001b[0m \u001b[32m━━━━━━━━━━━━━━━━━━━━\u001b[0m\u001b[37m\u001b[0m \u001b[1m0s\u001b[0m 15ms/step - accuracy: 0.0000e+00 - f1_score: 0.6605 - loss: 0.6931 - val_accuracy: 0.0000e+00 - val_f1_score: 0.6563 - val_loss: 0.6929\n",
      "Epoch 352/500\n",
      "\u001b[1m5/5\u001b[0m \u001b[32m━━━━━━━━━━━━━━━━━━━━\u001b[0m\u001b[37m\u001b[0m \u001b[1m0s\u001b[0m 15ms/step - accuracy: 0.0000e+00 - f1_score: 0.6619 - loss: 0.6931 - val_accuracy: 0.0000e+00 - val_f1_score: 0.6563 - val_loss: 0.6929\n",
      "Epoch 353/500\n",
      "\u001b[1m5/5\u001b[0m \u001b[32m━━━━━━━━━━━━━━━━━━━━\u001b[0m\u001b[37m\u001b[0m \u001b[1m0s\u001b[0m 14ms/step - accuracy: 0.0000e+00 - f1_score: 0.6599 - loss: 0.6930 - val_accuracy: 0.0000e+00 - val_f1_score: 0.6563 - val_loss: 0.6929\n",
      "Epoch 354/500\n",
      "\u001b[1m5/5\u001b[0m \u001b[32m━━━━━━━━━━━━━━━━━━━━\u001b[0m\u001b[37m\u001b[0m \u001b[1m0s\u001b[0m 14ms/step - accuracy: 0.0000e+00 - f1_score: 0.6585 - loss: 0.6930 - val_accuracy: 0.0000e+00 - val_f1_score: 0.6563 - val_loss: 0.6929\n",
      "Epoch 355/500\n",
      "\u001b[1m5/5\u001b[0m \u001b[32m━━━━━━━━━━━━━━━━━━━━\u001b[0m\u001b[37m\u001b[0m \u001b[1m0s\u001b[0m 15ms/step - accuracy: 0.0000e+00 - f1_score: 0.6607 - loss: 0.6931 - val_accuracy: 0.0000e+00 - val_f1_score: 0.6563 - val_loss: 0.6929\n",
      "Epoch 356/500\n",
      "\u001b[1m5/5\u001b[0m \u001b[32m━━━━━━━━━━━━━━━━━━━━\u001b[0m\u001b[37m\u001b[0m \u001b[1m0s\u001b[0m 15ms/step - accuracy: 0.0000e+00 - f1_score: 0.6622 - loss: 0.6931 - val_accuracy: 0.0000e+00 - val_f1_score: 0.6563 - val_loss: 0.6929\n",
      "Epoch 357/500\n",
      "\u001b[1m5/5\u001b[0m \u001b[32m━━━━━━━━━━━━━━━━━━━━\u001b[0m\u001b[37m\u001b[0m \u001b[1m0s\u001b[0m 14ms/step - accuracy: 0.0000e+00 - f1_score: 0.6597 - loss: 0.6930 - val_accuracy: 0.0000e+00 - val_f1_score: 0.6563 - val_loss: 0.6929\n",
      "Epoch 358/500\n",
      "\u001b[1m5/5\u001b[0m \u001b[32m━━━━━━━━━━━━━━━━━━━━\u001b[0m\u001b[37m\u001b[0m \u001b[1m0s\u001b[0m 14ms/step - accuracy: 0.0000e+00 - f1_score: 0.6571 - loss: 0.6929 - val_accuracy: 0.0000e+00 - val_f1_score: 0.6563 - val_loss: 0.6929\n",
      "Epoch 359/500\n",
      "\u001b[1m5/5\u001b[0m \u001b[32m━━━━━━━━━━━━━━━━━━━━\u001b[0m\u001b[37m\u001b[0m \u001b[1m0s\u001b[0m 15ms/step - accuracy: 0.0000e+00 - f1_score: 0.6614 - loss: 0.6931 - val_accuracy: 0.0000e+00 - val_f1_score: 0.6563 - val_loss: 0.6929\n",
      "Epoch 360/500\n",
      "\u001b[1m5/5\u001b[0m \u001b[32m━━━━━━━━━━━━━━━━━━━━\u001b[0m\u001b[37m\u001b[0m \u001b[1m0s\u001b[0m 14ms/step - accuracy: 0.0000e+00 - f1_score: 0.6568 - loss: 0.6929 - val_accuracy: 0.0000e+00 - val_f1_score: 0.6563 - val_loss: 0.6929\n",
      "Epoch 361/500\n",
      "\u001b[1m5/5\u001b[0m \u001b[32m━━━━━━━━━━━━━━━━━━━━\u001b[0m\u001b[37m\u001b[0m \u001b[1m0s\u001b[0m 17ms/step - accuracy: 0.0000e+00 - f1_score: 0.6628 - loss: 0.6931 - val_accuracy: 0.0000e+00 - val_f1_score: 0.6563 - val_loss: 0.6929\n",
      "Epoch 362/500\n",
      "\u001b[1m5/5\u001b[0m \u001b[32m━━━━━━━━━━━━━━━━━━━━\u001b[0m\u001b[37m\u001b[0m \u001b[1m0s\u001b[0m 16ms/step - accuracy: 0.0000e+00 - f1_score: 0.6560 - loss: 0.6929 - val_accuracy: 0.0000e+00 - val_f1_score: 0.6563 - val_loss: 0.6929\n",
      "Epoch 363/500\n",
      "\u001b[1m5/5\u001b[0m \u001b[32m━━━━━━━━━━━━━━━━━━━━\u001b[0m\u001b[37m\u001b[0m \u001b[1m0s\u001b[0m 16ms/step - accuracy: 0.0000e+00 - f1_score: 0.6599 - loss: 0.6930 - val_accuracy: 0.0000e+00 - val_f1_score: 0.6563 - val_loss: 0.6929\n",
      "Epoch 364/500\n",
      "\u001b[1m5/5\u001b[0m \u001b[32m━━━━━━━━━━━━━━━━━━━━\u001b[0m\u001b[37m\u001b[0m \u001b[1m0s\u001b[0m 16ms/step - accuracy: 0.0000e+00 - f1_score: 0.6572 - loss: 0.6929 - val_accuracy: 0.0000e+00 - val_f1_score: 0.6563 - val_loss: 0.6929\n",
      "Epoch 365/500\n",
      "\u001b[1m5/5\u001b[0m \u001b[32m━━━━━━━━━━━━━━━━━━━━\u001b[0m\u001b[37m\u001b[0m \u001b[1m0s\u001b[0m 16ms/step - accuracy: 0.0000e+00 - f1_score: 0.6567 - loss: 0.6929 - val_accuracy: 0.0000e+00 - val_f1_score: 0.6563 - val_loss: 0.6929\n",
      "Epoch 366/500\n",
      "\u001b[1m5/5\u001b[0m \u001b[32m━━━━━━━━━━━━━━━━━━━━\u001b[0m\u001b[37m\u001b[0m \u001b[1m0s\u001b[0m 19ms/step - accuracy: 0.0000e+00 - f1_score: 0.6592 - loss: 0.6930 - val_accuracy: 0.0000e+00 - val_f1_score: 0.6563 - val_loss: 0.6929\n",
      "Epoch 367/500\n",
      "\u001b[1m5/5\u001b[0m \u001b[32m━━━━━━━━━━━━━━━━━━━━\u001b[0m\u001b[37m\u001b[0m \u001b[1m0s\u001b[0m 21ms/step - accuracy: 0.0000e+00 - f1_score: 0.6641 - loss: 0.6932 - val_accuracy: 0.0000e+00 - val_f1_score: 0.6563 - val_loss: 0.6929\n",
      "Epoch 368/500\n",
      "\u001b[1m5/5\u001b[0m \u001b[32m━━━━━━━━━━━━━━━━━━━━\u001b[0m\u001b[37m\u001b[0m \u001b[1m0s\u001b[0m 20ms/step - accuracy: 0.0000e+00 - f1_score: 0.6602 - loss: 0.6930 - val_accuracy: 0.0000e+00 - val_f1_score: 0.6563 - val_loss: 0.6929\n",
      "Epoch 369/500\n",
      "\u001b[1m5/5\u001b[0m \u001b[32m━━━━━━━━━━━━━━━━━━━━\u001b[0m\u001b[37m\u001b[0m \u001b[1m0s\u001b[0m 15ms/step - accuracy: 0.0000e+00 - f1_score: 0.6619 - loss: 0.6931 - val_accuracy: 0.0000e+00 - val_f1_score: 0.6563 - val_loss: 0.6929\n",
      "Epoch 370/500\n",
      "\u001b[1m5/5\u001b[0m \u001b[32m━━━━━━━━━━━━━━━━━━━━\u001b[0m\u001b[37m\u001b[0m \u001b[1m0s\u001b[0m 15ms/step - accuracy: 0.0000e+00 - f1_score: 0.6566 - loss: 0.6929 - val_accuracy: 0.0000e+00 - val_f1_score: 0.6563 - val_loss: 0.6929\n",
      "Epoch 371/500\n",
      "\u001b[1m5/5\u001b[0m \u001b[32m━━━━━━━━━━━━━━━━━━━━\u001b[0m\u001b[37m\u001b[0m \u001b[1m0s\u001b[0m 19ms/step - accuracy: 0.0000e+00 - f1_score: 0.6560 - loss: 0.6929 - val_accuracy: 0.0000e+00 - val_f1_score: 0.6563 - val_loss: 0.6929\n",
      "Epoch 372/500\n",
      "\u001b[1m5/5\u001b[0m \u001b[32m━━━━━━━━━━━━━━━━━━━━\u001b[0m\u001b[37m\u001b[0m \u001b[1m0s\u001b[0m 15ms/step - accuracy: 0.0000e+00 - f1_score: 0.6621 - loss: 0.6931 - val_accuracy: 0.0000e+00 - val_f1_score: 0.6563 - val_loss: 0.6929\n",
      "Epoch 373/500\n",
      "\u001b[1m5/5\u001b[0m \u001b[32m━━━━━━━━━━━━━━━━━━━━\u001b[0m\u001b[37m\u001b[0m \u001b[1m0s\u001b[0m 19ms/step - accuracy: 0.0000e+00 - f1_score: 0.6613 - loss: 0.6931 - val_accuracy: 0.0000e+00 - val_f1_score: 0.6563 - val_loss: 0.6929\n",
      "Epoch 374/500\n",
      "\u001b[1m5/5\u001b[0m \u001b[32m━━━━━━━━━━━━━━━━━━━━\u001b[0m\u001b[37m\u001b[0m \u001b[1m0s\u001b[0m 16ms/step - accuracy: 0.0000e+00 - f1_score: 0.6600 - loss: 0.6930 - val_accuracy: 0.0000e+00 - val_f1_score: 0.6563 - val_loss: 0.6929\n",
      "Epoch 375/500\n",
      "\u001b[1m5/5\u001b[0m \u001b[32m━━━━━━━━━━━━━━━━━━━━\u001b[0m\u001b[37m\u001b[0m \u001b[1m0s\u001b[0m 15ms/step - accuracy: 0.0000e+00 - f1_score: 0.6585 - loss: 0.6930 - val_accuracy: 0.0000e+00 - val_f1_score: 0.6563 - val_loss: 0.6929\n",
      "Epoch 376/500\n",
      "\u001b[1m5/5\u001b[0m \u001b[32m━━━━━━━━━━━━━━━━━━━━\u001b[0m\u001b[37m\u001b[0m \u001b[1m0s\u001b[0m 15ms/step - accuracy: 0.0000e+00 - f1_score: 0.6597 - loss: 0.6930 - val_accuracy: 0.0000e+00 - val_f1_score: 0.6563 - val_loss: 0.6929\n",
      "Epoch 377/500\n",
      "\u001b[1m5/5\u001b[0m \u001b[32m━━━━━━━━━━━━━━━━━━━━\u001b[0m\u001b[37m\u001b[0m \u001b[1m0s\u001b[0m 15ms/step - accuracy: 0.0000e+00 - f1_score: 0.6615 - loss: 0.6931 - val_accuracy: 0.0000e+00 - val_f1_score: 0.6563 - val_loss: 0.6929\n",
      "Epoch 378/500\n",
      "\u001b[1m5/5\u001b[0m \u001b[32m━━━━━━━━━━━━━━━━━━━━\u001b[0m\u001b[37m\u001b[0m \u001b[1m0s\u001b[0m 15ms/step - accuracy: 0.0000e+00 - f1_score: 0.6595 - loss: 0.6930 - val_accuracy: 0.0000e+00 - val_f1_score: 0.6563 - val_loss: 0.6929\n",
      "Epoch 379/500\n",
      "\u001b[1m5/5\u001b[0m \u001b[32m━━━━━━━━━━━━━━━━━━━━\u001b[0m\u001b[37m\u001b[0m \u001b[1m0s\u001b[0m 19ms/step - accuracy: 0.0000e+00 - f1_score: 0.6601 - loss: 0.6930 - val_accuracy: 0.0000e+00 - val_f1_score: 0.6563 - val_loss: 0.6929\n",
      "Epoch 380/500\n",
      "\u001b[1m5/5\u001b[0m \u001b[32m━━━━━━━━━━━━━━━━━━━━\u001b[0m\u001b[37m\u001b[0m \u001b[1m0s\u001b[0m 15ms/step - accuracy: 0.0000e+00 - f1_score: 0.6604 - loss: 0.6931 - val_accuracy: 0.0000e+00 - val_f1_score: 0.6563 - val_loss: 0.6929\n",
      "Epoch 381/500\n",
      "\u001b[1m5/5\u001b[0m \u001b[32m━━━━━━━━━━━━━━━━━━━━\u001b[0m\u001b[37m\u001b[0m \u001b[1m0s\u001b[0m 14ms/step - accuracy: 0.0000e+00 - f1_score: 0.6606 - loss: 0.6931 - val_accuracy: 0.0000e+00 - val_f1_score: 0.6563 - val_loss: 0.6929\n",
      "Epoch 382/500\n",
      "\u001b[1m5/5\u001b[0m \u001b[32m━━━━━━━━━━━━━━━━━━━━\u001b[0m\u001b[37m\u001b[0m \u001b[1m0s\u001b[0m 14ms/step - accuracy: 0.0000e+00 - f1_score: 0.6572 - loss: 0.6929 - val_accuracy: 0.0000e+00 - val_f1_score: 0.6563 - val_loss: 0.6929\n",
      "Epoch 383/500\n",
      "\u001b[1m5/5\u001b[0m \u001b[32m━━━━━━━━━━━━━━━━━━━━\u001b[0m\u001b[37m\u001b[0m \u001b[1m0s\u001b[0m 14ms/step - accuracy: 0.0000e+00 - f1_score: 0.6576 - loss: 0.6930 - val_accuracy: 0.0000e+00 - val_f1_score: 0.6563 - val_loss: 0.6929\n",
      "Epoch 384/500\n",
      "\u001b[1m5/5\u001b[0m \u001b[32m━━━━━━━━━━━━━━━━━━━━\u001b[0m\u001b[37m\u001b[0m \u001b[1m0s\u001b[0m 15ms/step - accuracy: 0.0000e+00 - f1_score: 0.6592 - loss: 0.6930 - val_accuracy: 0.0000e+00 - val_f1_score: 0.6563 - val_loss: 0.6929\n",
      "Epoch 385/500\n",
      "\u001b[1m5/5\u001b[0m \u001b[32m━━━━━━━━━━━━━━━━━━━━\u001b[0m\u001b[37m\u001b[0m \u001b[1m0s\u001b[0m 15ms/step - accuracy: 0.0000e+00 - f1_score: 0.6609 - loss: 0.6931 - val_accuracy: 0.0000e+00 - val_f1_score: 0.6563 - val_loss: 0.6929\n",
      "Epoch 386/500\n",
      "\u001b[1m5/5\u001b[0m \u001b[32m━━━━━━━━━━━━━━━━━━━━\u001b[0m\u001b[37m\u001b[0m \u001b[1m0s\u001b[0m 15ms/step - accuracy: 0.0000e+00 - f1_score: 0.6621 - loss: 0.6931 - val_accuracy: 0.0000e+00 - val_f1_score: 0.6563 - val_loss: 0.6929\n",
      "Epoch 387/500\n",
      "\u001b[1m5/5\u001b[0m \u001b[32m━━━━━━━━━━━━━━━━━━━━\u001b[0m\u001b[37m\u001b[0m \u001b[1m0s\u001b[0m 14ms/step - accuracy: 0.0000e+00 - f1_score: 0.6621 - loss: 0.6931 - val_accuracy: 0.0000e+00 - val_f1_score: 0.6563 - val_loss: 0.6929\n",
      "Epoch 388/500\n",
      "\u001b[1m5/5\u001b[0m \u001b[32m━━━━━━━━━━━━━━━━━━━━\u001b[0m\u001b[37m\u001b[0m \u001b[1m0s\u001b[0m 17ms/step - accuracy: 0.0000e+00 - f1_score: 0.6590 - loss: 0.6930 - val_accuracy: 0.0000e+00 - val_f1_score: 0.6563 - val_loss: 0.6929\n",
      "Epoch 389/500\n",
      "\u001b[1m5/5\u001b[0m \u001b[32m━━━━━━━━━━━━━━━━━━━━\u001b[0m\u001b[37m\u001b[0m \u001b[1m0s\u001b[0m 14ms/step - accuracy: 0.0000e+00 - f1_score: 0.6618 - loss: 0.6931 - val_accuracy: 0.0000e+00 - val_f1_score: 0.6563 - val_loss: 0.6929\n",
      "Epoch 390/500\n",
      "\u001b[1m5/5\u001b[0m \u001b[32m━━━━━━━━━━━━━━━━━━━━\u001b[0m\u001b[37m\u001b[0m \u001b[1m0s\u001b[0m 14ms/step - accuracy: 0.0000e+00 - f1_score: 0.6572 - loss: 0.6929 - val_accuracy: 0.0000e+00 - val_f1_score: 0.6563 - val_loss: 0.6929\n",
      "Epoch 391/500\n",
      "\u001b[1m5/5\u001b[0m \u001b[32m━━━━━━━━━━━━━━━━━━━━\u001b[0m\u001b[37m\u001b[0m \u001b[1m0s\u001b[0m 15ms/step - accuracy: 0.0000e+00 - f1_score: 0.6630 - loss: 0.6931 - val_accuracy: 0.0000e+00 - val_f1_score: 0.6563 - val_loss: 0.6929\n",
      "Epoch 392/500\n",
      "\u001b[1m5/5\u001b[0m \u001b[32m━━━━━━━━━━━━━━━━━━━━\u001b[0m\u001b[37m\u001b[0m \u001b[1m0s\u001b[0m 15ms/step - accuracy: 0.0000e+00 - f1_score: 0.6625 - loss: 0.6931 - val_accuracy: 0.0000e+00 - val_f1_score: 0.6563 - val_loss: 0.6929\n",
      "Epoch 393/500\n",
      "\u001b[1m5/5\u001b[0m \u001b[32m━━━━━━━━━━━━━━━━━━━━\u001b[0m\u001b[37m\u001b[0m \u001b[1m0s\u001b[0m 15ms/step - accuracy: 0.0000e+00 - f1_score: 0.6579 - loss: 0.6930 - val_accuracy: 0.0000e+00 - val_f1_score: 0.6563 - val_loss: 0.6929\n",
      "Epoch 394/500\n",
      "\u001b[1m5/5\u001b[0m \u001b[32m━━━━━━━━━━━━━━━━━━━━\u001b[0m\u001b[37m\u001b[0m \u001b[1m0s\u001b[0m 15ms/step - accuracy: 0.0000e+00 - f1_score: 0.6611 - loss: 0.6931 - val_accuracy: 0.0000e+00 - val_f1_score: 0.6563 - val_loss: 0.6929\n",
      "Epoch 395/500\n",
      "\u001b[1m5/5\u001b[0m \u001b[32m━━━━━━━━━━━━━━━━━━━━\u001b[0m\u001b[37m\u001b[0m \u001b[1m0s\u001b[0m 14ms/step - accuracy: 0.0000e+00 - f1_score: 0.6602 - loss: 0.6930 - val_accuracy: 0.0000e+00 - val_f1_score: 0.6563 - val_loss: 0.6929\n",
      "Epoch 396/500\n",
      "\u001b[1m5/5\u001b[0m \u001b[32m━━━━━━━━━━━━━━━━━━━━\u001b[0m\u001b[37m\u001b[0m \u001b[1m0s\u001b[0m 15ms/step - accuracy: 0.0000e+00 - f1_score: 0.6605 - loss: 0.6931 - val_accuracy: 0.0000e+00 - val_f1_score: 0.6563 - val_loss: 0.6929\n",
      "Epoch 397/500\n",
      "\u001b[1m5/5\u001b[0m \u001b[32m━━━━━━━━━━━━━━━━━━━━\u001b[0m\u001b[37m\u001b[0m \u001b[1m0s\u001b[0m 18ms/step - accuracy: 0.0000e+00 - f1_score: 0.6615 - loss: 0.6931 - val_accuracy: 0.0000e+00 - val_f1_score: 0.6563 - val_loss: 0.6929\n",
      "Epoch 398/500\n",
      "\u001b[1m5/5\u001b[0m \u001b[32m━━━━━━━━━━━━━━━━━━━━\u001b[0m\u001b[37m\u001b[0m \u001b[1m0s\u001b[0m 15ms/step - accuracy: 0.0000e+00 - f1_score: 0.6592 - loss: 0.6930 - val_accuracy: 0.0000e+00 - val_f1_score: 0.6563 - val_loss: 0.6929\n",
      "Epoch 399/500\n",
      "\u001b[1m5/5\u001b[0m \u001b[32m━━━━━━━━━━━━━━━━━━━━\u001b[0m\u001b[37m\u001b[0m \u001b[1m0s\u001b[0m 14ms/step - accuracy: 0.0000e+00 - f1_score: 0.6624 - loss: 0.6931 - val_accuracy: 0.0000e+00 - val_f1_score: 0.6563 - val_loss: 0.6929\n",
      "Epoch 400/500\n",
      "\u001b[1m5/5\u001b[0m \u001b[32m━━━━━━━━━━━━━━━━━━━━\u001b[0m\u001b[37m\u001b[0m \u001b[1m0s\u001b[0m 22ms/step - accuracy: 0.0000e+00 - f1_score: 0.6632 - loss: 0.6931 - val_accuracy: 0.0000e+00 - val_f1_score: 0.6563 - val_loss: 0.6929\n",
      "Epoch 401/500\n",
      "\u001b[1m5/5\u001b[0m \u001b[32m━━━━━━━━━━━━━━━━━━━━\u001b[0m\u001b[37m\u001b[0m \u001b[1m0s\u001b[0m 16ms/step - accuracy: 0.0000e+00 - f1_score: 0.6569 - loss: 0.6929 - val_accuracy: 0.0000e+00 - val_f1_score: 0.6563 - val_loss: 0.6929\n",
      "Epoch 402/500\n",
      "\u001b[1m5/5\u001b[0m \u001b[32m━━━━━━━━━━━━━━━━━━━━\u001b[0m\u001b[37m\u001b[0m \u001b[1m0s\u001b[0m 17ms/step - accuracy: 0.0000e+00 - f1_score: 0.6618 - loss: 0.6931 - val_accuracy: 0.0000e+00 - val_f1_score: 0.6563 - val_loss: 0.6929\n",
      "Epoch 403/500\n",
      "\u001b[1m5/5\u001b[0m \u001b[32m━━━━━━━━━━━━━━━━━━━━\u001b[0m\u001b[37m\u001b[0m \u001b[1m0s\u001b[0m 15ms/step - accuracy: 0.0000e+00 - f1_score: 0.6630 - loss: 0.6931 - val_accuracy: 0.0000e+00 - val_f1_score: 0.6563 - val_loss: 0.6929\n",
      "Epoch 404/500\n",
      "\u001b[1m5/5\u001b[0m \u001b[32m━━━━━━━━━━━━━━━━━━━━\u001b[0m\u001b[37m\u001b[0m \u001b[1m0s\u001b[0m 14ms/step - accuracy: 0.0000e+00 - f1_score: 0.6552 - loss: 0.6929 - val_accuracy: 0.0000e+00 - val_f1_score: 0.6563 - val_loss: 0.6929\n",
      "Epoch 405/500\n",
      "\u001b[1m5/5\u001b[0m \u001b[32m━━━━━━━━━━━━━━━━━━━━\u001b[0m\u001b[37m\u001b[0m \u001b[1m0s\u001b[0m 16ms/step - accuracy: 0.0000e+00 - f1_score: 0.6650 - loss: 0.6932 - val_accuracy: 0.0000e+00 - val_f1_score: 0.6563 - val_loss: 0.6929\n",
      "Epoch 406/500\n",
      "\u001b[1m5/5\u001b[0m \u001b[32m━━━━━━━━━━━━━━━━━━━━\u001b[0m\u001b[37m\u001b[0m \u001b[1m0s\u001b[0m 14ms/step - accuracy: 0.0000e+00 - f1_score: 0.6617 - loss: 0.6931 - val_accuracy: 0.0000e+00 - val_f1_score: 0.6563 - val_loss: 0.6929\n",
      "Epoch 407/500\n",
      "\u001b[1m5/5\u001b[0m \u001b[32m━━━━━━━━━━━━━━━━━━━━\u001b[0m\u001b[37m\u001b[0m \u001b[1m0s\u001b[0m 15ms/step - accuracy: 0.0000e+00 - f1_score: 0.6620 - loss: 0.6931 - val_accuracy: 0.0000e+00 - val_f1_score: 0.6563 - val_loss: 0.6929\n",
      "Epoch 408/500\n",
      "\u001b[1m5/5\u001b[0m \u001b[32m━━━━━━━━━━━━━━━━━━━━\u001b[0m\u001b[37m\u001b[0m \u001b[1m0s\u001b[0m 15ms/step - accuracy: 0.0000e+00 - f1_score: 0.6579 - loss: 0.6930 - val_accuracy: 0.0000e+00 - val_f1_score: 0.6563 - val_loss: 0.6929\n",
      "Epoch 409/500\n",
      "\u001b[1m5/5\u001b[0m \u001b[32m━━━━━━━━━━━━━━━━━━━━\u001b[0m\u001b[37m\u001b[0m \u001b[1m0s\u001b[0m 15ms/step - accuracy: 0.0000e+00 - f1_score: 0.6601 - loss: 0.6930 - val_accuracy: 0.0000e+00 - val_f1_score: 0.6563 - val_loss: 0.6929\n",
      "Epoch 410/500\n",
      "\u001b[1m5/5\u001b[0m \u001b[32m━━━━━━━━━━━━━━━━━━━━\u001b[0m\u001b[37m\u001b[0m \u001b[1m0s\u001b[0m 14ms/step - accuracy: 0.0000e+00 - f1_score: 0.6581 - loss: 0.6930 - val_accuracy: 0.0000e+00 - val_f1_score: 0.6563 - val_loss: 0.6929\n",
      "Epoch 411/500\n",
      "\u001b[1m5/5\u001b[0m \u001b[32m━━━━━━━━━━━━━━━━━━━━\u001b[0m\u001b[37m\u001b[0m \u001b[1m0s\u001b[0m 15ms/step - accuracy: 0.0000e+00 - f1_score: 0.6598 - loss: 0.6930 - val_accuracy: 0.0000e+00 - val_f1_score: 0.6563 - val_loss: 0.6929\n",
      "Epoch 412/500\n",
      "\u001b[1m5/5\u001b[0m \u001b[32m━━━━━━━━━━━━━━━━━━━━\u001b[0m\u001b[37m\u001b[0m \u001b[1m0s\u001b[0m 14ms/step - accuracy: 0.0000e+00 - f1_score: 0.6613 - loss: 0.6931 - val_accuracy: 0.0000e+00 - val_f1_score: 0.6563 - val_loss: 0.6929\n",
      "Epoch 413/500\n",
      "\u001b[1m5/5\u001b[0m \u001b[32m━━━━━━━━━━━━━━━━━━━━\u001b[0m\u001b[37m\u001b[0m \u001b[1m0s\u001b[0m 17ms/step - accuracy: 0.0000e+00 - f1_score: 0.6576 - loss: 0.6930 - val_accuracy: 0.0000e+00 - val_f1_score: 0.6563 - val_loss: 0.6929\n",
      "Epoch 414/500\n",
      "\u001b[1m5/5\u001b[0m \u001b[32m━━━━━━━━━━━━━━━━━━━━\u001b[0m\u001b[37m\u001b[0m \u001b[1m0s\u001b[0m 14ms/step - accuracy: 0.0000e+00 - f1_score: 0.6616 - loss: 0.6931 - val_accuracy: 0.0000e+00 - val_f1_score: 0.6563 - val_loss: 0.6929\n",
      "Epoch 415/500\n",
      "\u001b[1m5/5\u001b[0m \u001b[32m━━━━━━━━━━━━━━━━━━━━\u001b[0m\u001b[37m\u001b[0m \u001b[1m0s\u001b[0m 15ms/step - accuracy: 0.0000e+00 - f1_score: 0.6588 - loss: 0.6930 - val_accuracy: 0.0000e+00 - val_f1_score: 0.6563 - val_loss: 0.6929\n",
      "Epoch 416/500\n",
      "\u001b[1m5/5\u001b[0m \u001b[32m━━━━━━━━━━━━━━━━━━━━\u001b[0m\u001b[37m\u001b[0m \u001b[1m0s\u001b[0m 15ms/step - accuracy: 0.0000e+00 - f1_score: 0.6580 - loss: 0.6930 - val_accuracy: 0.0000e+00 - val_f1_score: 0.6563 - val_loss: 0.6929\n",
      "Epoch 417/500\n",
      "\u001b[1m5/5\u001b[0m \u001b[32m━━━━━━━━━━━━━━━━━━━━\u001b[0m\u001b[37m\u001b[0m \u001b[1m0s\u001b[0m 15ms/step - accuracy: 0.0000e+00 - f1_score: 0.6598 - loss: 0.6930 - val_accuracy: 0.0000e+00 - val_f1_score: 0.6563 - val_loss: 0.6929\n",
      "Epoch 418/500\n",
      "\u001b[1m5/5\u001b[0m \u001b[32m━━━━━━━━━━━━━━━━━━━━\u001b[0m\u001b[37m\u001b[0m \u001b[1m0s\u001b[0m 15ms/step - accuracy: 0.0000e+00 - f1_score: 0.6613 - loss: 0.6931 - val_accuracy: 0.0000e+00 - val_f1_score: 0.6563 - val_loss: 0.6929\n",
      "Epoch 419/500\n",
      "\u001b[1m5/5\u001b[0m \u001b[32m━━━━━━━━━━━━━━━━━━━━\u001b[0m\u001b[37m\u001b[0m \u001b[1m0s\u001b[0m 15ms/step - accuracy: 0.0000e+00 - f1_score: 0.6606 - loss: 0.6931 - val_accuracy: 0.0000e+00 - val_f1_score: 0.6563 - val_loss: 0.6929\n",
      "Epoch 420/500\n",
      "\u001b[1m5/5\u001b[0m \u001b[32m━━━━━━━━━━━━━━━━━━━━\u001b[0m\u001b[37m\u001b[0m \u001b[1m0s\u001b[0m 15ms/step - accuracy: 0.0000e+00 - f1_score: 0.6569 - loss: 0.6929 - val_accuracy: 0.0000e+00 - val_f1_score: 0.6563 - val_loss: 0.6929\n",
      "Epoch 421/500\n",
      "\u001b[1m5/5\u001b[0m \u001b[32m━━━━━━━━━━━━━━━━━━━━\u001b[0m\u001b[37m\u001b[0m \u001b[1m0s\u001b[0m 18ms/step - accuracy: 0.0000e+00 - f1_score: 0.6610 - loss: 0.6931 - val_accuracy: 0.0000e+00 - val_f1_score: 0.6563 - val_loss: 0.6929\n",
      "Epoch 422/500\n",
      "\u001b[1m5/5\u001b[0m \u001b[32m━━━━━━━━━━━━━━━━━━━━\u001b[0m\u001b[37m\u001b[0m \u001b[1m0s\u001b[0m 14ms/step - accuracy: 0.0000e+00 - f1_score: 0.6638 - loss: 0.6932 - val_accuracy: 0.0000e+00 - val_f1_score: 0.6563 - val_loss: 0.6929\n",
      "Epoch 423/500\n",
      "\u001b[1m5/5\u001b[0m \u001b[32m━━━━━━━━━━━━━━━━━━━━\u001b[0m\u001b[37m\u001b[0m \u001b[1m0s\u001b[0m 15ms/step - accuracy: 0.0000e+00 - f1_score: 0.6607 - loss: 0.6931 - val_accuracy: 0.0000e+00 - val_f1_score: 0.6563 - val_loss: 0.6929\n",
      "Epoch 424/500\n",
      "\u001b[1m5/5\u001b[0m \u001b[32m━━━━━━━━━━━━━━━━━━━━\u001b[0m\u001b[37m\u001b[0m \u001b[1m0s\u001b[0m 14ms/step - accuracy: 0.0000e+00 - f1_score: 0.6605 - loss: 0.6931 - val_accuracy: 0.0000e+00 - val_f1_score: 0.6563 - val_loss: 0.6929\n",
      "Epoch 425/500\n",
      "\u001b[1m5/5\u001b[0m \u001b[32m━━━━━━━━━━━━━━━━━━━━\u001b[0m\u001b[37m\u001b[0m \u001b[1m0s\u001b[0m 15ms/step - accuracy: 0.0000e+00 - f1_score: 0.6577 - loss: 0.6930 - val_accuracy: 0.0000e+00 - val_f1_score: 0.6563 - val_loss: 0.6929\n",
      "Epoch 426/500\n",
      "\u001b[1m5/5\u001b[0m \u001b[32m━━━━━━━━━━━━━━━━━━━━\u001b[0m\u001b[37m\u001b[0m \u001b[1m0s\u001b[0m 15ms/step - accuracy: 0.0000e+00 - f1_score: 0.6602 - loss: 0.6930 - val_accuracy: 0.0000e+00 - val_f1_score: 0.6563 - val_loss: 0.6929\n",
      "Epoch 427/500\n",
      "\u001b[1m5/5\u001b[0m \u001b[32m━━━━━━━━━━━━━━━━━━━━\u001b[0m\u001b[37m\u001b[0m \u001b[1m0s\u001b[0m 15ms/step - accuracy: 0.0000e+00 - f1_score: 0.6606 - loss: 0.6931 - val_accuracy: 0.0000e+00 - val_f1_score: 0.6563 - val_loss: 0.6929\n",
      "Epoch 428/500\n",
      "\u001b[1m5/5\u001b[0m \u001b[32m━━━━━━━━━━━━━━━━━━━━\u001b[0m\u001b[37m\u001b[0m \u001b[1m0s\u001b[0m 15ms/step - accuracy: 0.0000e+00 - f1_score: 0.6609 - loss: 0.6931 - val_accuracy: 0.0000e+00 - val_f1_score: 0.6563 - val_loss: 0.6929\n",
      "Epoch 429/500\n",
      "\u001b[1m5/5\u001b[0m \u001b[32m━━━━━━━━━━━━━━━━━━━━\u001b[0m\u001b[37m\u001b[0m \u001b[1m0s\u001b[0m 18ms/step - accuracy: 0.0000e+00 - f1_score: 0.6568 - loss: 0.6929 - val_accuracy: 0.0000e+00 - val_f1_score: 0.6563 - val_loss: 0.6929\n",
      "Epoch 430/500\n",
      "\u001b[1m5/5\u001b[0m \u001b[32m━━━━━━━━━━━━━━━━━━━━\u001b[0m\u001b[37m\u001b[0m \u001b[1m0s\u001b[0m 17ms/step - accuracy: 0.0000e+00 - f1_score: 0.6587 - loss: 0.6930 - val_accuracy: 0.0000e+00 - val_f1_score: 0.6563 - val_loss: 0.6929\n",
      "Epoch 431/500\n",
      "\u001b[1m5/5\u001b[0m \u001b[32m━━━━━━━━━━━━━━━━━━━━\u001b[0m\u001b[37m\u001b[0m \u001b[1m0s\u001b[0m 15ms/step - accuracy: 0.0000e+00 - f1_score: 0.6544 - loss: 0.6928 - val_accuracy: 0.0000e+00 - val_f1_score: 0.6563 - val_loss: 0.6929\n",
      "Epoch 432/500\n",
      "\u001b[1m5/5\u001b[0m \u001b[32m━━━━━━━━━━━━━━━━━━━━\u001b[0m\u001b[37m\u001b[0m \u001b[1m0s\u001b[0m 14ms/step - accuracy: 0.0000e+00 - f1_score: 0.6591 - loss: 0.6930 - val_accuracy: 0.0000e+00 - val_f1_score: 0.6563 - val_loss: 0.6929\n",
      "Epoch 433/500\n",
      "\u001b[1m5/5\u001b[0m \u001b[32m━━━━━━━━━━━━━━━━━━━━\u001b[0m\u001b[37m\u001b[0m \u001b[1m0s\u001b[0m 14ms/step - accuracy: 0.0000e+00 - f1_score: 0.6576 - loss: 0.6930 - val_accuracy: 0.0000e+00 - val_f1_score: 0.6563 - val_loss: 0.6929\n",
      "Epoch 434/500\n",
      "\u001b[1m5/5\u001b[0m \u001b[32m━━━━━━━━━━━━━━━━━━━━\u001b[0m\u001b[37m\u001b[0m \u001b[1m0s\u001b[0m 15ms/step - accuracy: 0.0000e+00 - f1_score: 0.6608 - loss: 0.6931 - val_accuracy: 0.0000e+00 - val_f1_score: 0.6563 - val_loss: 0.6929\n",
      "Epoch 435/500\n",
      "\u001b[1m5/5\u001b[0m \u001b[32m━━━━━━━━━━━━━━━━━━━━\u001b[0m\u001b[37m\u001b[0m \u001b[1m0s\u001b[0m 15ms/step - accuracy: 0.0000e+00 - f1_score: 0.6613 - loss: 0.6931 - val_accuracy: 0.0000e+00 - val_f1_score: 0.6563 - val_loss: 0.6929\n",
      "Epoch 436/500\n",
      "\u001b[1m5/5\u001b[0m \u001b[32m━━━━━━━━━━━━━━━━━━━━\u001b[0m\u001b[37m\u001b[0m \u001b[1m0s\u001b[0m 17ms/step - accuracy: 0.0000e+00 - f1_score: 0.6554 - loss: 0.6929 - val_accuracy: 0.0000e+00 - val_f1_score: 0.6563 - val_loss: 0.6929\n",
      "Epoch 437/500\n",
      "\u001b[1m5/5\u001b[0m \u001b[32m━━━━━━━━━━━━━━━━━━━━\u001b[0m\u001b[37m\u001b[0m \u001b[1m0s\u001b[0m 15ms/step - accuracy: 0.0000e+00 - f1_score: 0.6625 - loss: 0.6931 - val_accuracy: 0.0000e+00 - val_f1_score: 0.6563 - val_loss: 0.6929\n",
      "Epoch 438/500\n",
      "\u001b[1m5/5\u001b[0m \u001b[32m━━━━━━━━━━━━━━━━━━━━\u001b[0m\u001b[37m\u001b[0m \u001b[1m0s\u001b[0m 15ms/step - accuracy: 0.0000e+00 - f1_score: 0.6561 - loss: 0.6929 - val_accuracy: 0.0000e+00 - val_f1_score: 0.6563 - val_loss: 0.6929\n",
      "Epoch 439/500\n",
      "\u001b[1m5/5\u001b[0m \u001b[32m━━━━━━━━━━━━━━━━━━━━\u001b[0m\u001b[37m\u001b[0m \u001b[1m0s\u001b[0m 20ms/step - accuracy: 0.0000e+00 - f1_score: 0.6606 - loss: 0.6931 - val_accuracy: 0.0000e+00 - val_f1_score: 0.6563 - val_loss: 0.6929\n",
      "Epoch 440/500\n",
      "\u001b[1m5/5\u001b[0m \u001b[32m━━━━━━━━━━━━━━━━━━━━\u001b[0m\u001b[37m\u001b[0m \u001b[1m0s\u001b[0m 19ms/step - accuracy: 0.0000e+00 - f1_score: 0.6562 - loss: 0.6929 - val_accuracy: 0.0000e+00 - val_f1_score: 0.6563 - val_loss: 0.6929\n",
      "Epoch 441/500\n",
      "\u001b[1m5/5\u001b[0m \u001b[32m━━━━━━━━━━━━━━━━━━━━\u001b[0m\u001b[37m\u001b[0m \u001b[1m0s\u001b[0m 14ms/step - accuracy: 0.0000e+00 - f1_score: 0.6591 - loss: 0.6930 - val_accuracy: 0.0000e+00 - val_f1_score: 0.6563 - val_loss: 0.6929\n",
      "Epoch 442/500\n",
      "\u001b[1m5/5\u001b[0m \u001b[32m━━━━━━━━━━━━━━━━━━━━\u001b[0m\u001b[37m\u001b[0m \u001b[1m0s\u001b[0m 14ms/step - accuracy: 0.0000e+00 - f1_score: 0.6553 - loss: 0.6929 - val_accuracy: 0.0000e+00 - val_f1_score: 0.6563 - val_loss: 0.6929\n",
      "Epoch 443/500\n",
      "\u001b[1m5/5\u001b[0m \u001b[32m━━━━━━━━━━━━━━━━━━━━\u001b[0m\u001b[37m\u001b[0m \u001b[1m0s\u001b[0m 14ms/step - accuracy: 0.0000e+00 - f1_score: 0.6592 - loss: 0.6930 - val_accuracy: 0.0000e+00 - val_f1_score: 0.6563 - val_loss: 0.6929\n",
      "Epoch 444/500\n",
      "\u001b[1m5/5\u001b[0m \u001b[32m━━━━━━━━━━━━━━━━━━━━\u001b[0m\u001b[37m\u001b[0m \u001b[1m0s\u001b[0m 18ms/step - accuracy: 0.0000e+00 - f1_score: 0.6582 - loss: 0.6930 - val_accuracy: 0.0000e+00 - val_f1_score: 0.6563 - val_loss: 0.6929\n",
      "Epoch 445/500\n",
      "\u001b[1m5/5\u001b[0m \u001b[32m━━━━━━━━━━━━━━━━━━━━\u001b[0m\u001b[37m\u001b[0m \u001b[1m0s\u001b[0m 14ms/step - accuracy: 0.0000e+00 - f1_score: 0.6614 - loss: 0.6931 - val_accuracy: 0.0000e+00 - val_f1_score: 0.6563 - val_loss: 0.6929\n",
      "Epoch 446/500\n",
      "\u001b[1m5/5\u001b[0m \u001b[32m━━━━━━━━━━━━━━━━━━━━\u001b[0m\u001b[37m\u001b[0m \u001b[1m0s\u001b[0m 15ms/step - accuracy: 0.0000e+00 - f1_score: 0.6576 - loss: 0.6930 - val_accuracy: 0.0000e+00 - val_f1_score: 0.6563 - val_loss: 0.6929\n",
      "Epoch 447/500\n",
      "\u001b[1m5/5\u001b[0m \u001b[32m━━━━━━━━━━━━━━━━━━━━\u001b[0m\u001b[37m\u001b[0m \u001b[1m0s\u001b[0m 14ms/step - accuracy: 0.0000e+00 - f1_score: 0.6634 - loss: 0.6932 - val_accuracy: 0.0000e+00 - val_f1_score: 0.6563 - val_loss: 0.6929\n",
      "Epoch 448/500\n",
      "\u001b[1m5/5\u001b[0m \u001b[32m━━━━━━━━━━━━━━━━━━━━\u001b[0m\u001b[37m\u001b[0m \u001b[1m0s\u001b[0m 15ms/step - accuracy: 0.0000e+00 - f1_score: 0.6584 - loss: 0.6930 - val_accuracy: 0.0000e+00 - val_f1_score: 0.6563 - val_loss: 0.6929\n",
      "Epoch 449/500\n",
      "\u001b[1m5/5\u001b[0m \u001b[32m━━━━━━━━━━━━━━━━━━━━\u001b[0m\u001b[37m\u001b[0m \u001b[1m0s\u001b[0m 15ms/step - accuracy: 0.0000e+00 - f1_score: 0.6613 - loss: 0.6931 - val_accuracy: 0.0000e+00 - val_f1_score: 0.6563 - val_loss: 0.6929\n",
      "Epoch 450/500\n",
      "\u001b[1m5/5\u001b[0m \u001b[32m━━━━━━━━━━━━━━━━━━━━\u001b[0m\u001b[37m\u001b[0m \u001b[1m0s\u001b[0m 15ms/step - accuracy: 0.0000e+00 - f1_score: 0.6570 - loss: 0.6929 - val_accuracy: 0.0000e+00 - val_f1_score: 0.6563 - val_loss: 0.6929\n",
      "Epoch 451/500\n",
      "\u001b[1m5/5\u001b[0m \u001b[32m━━━━━━━━━━━━━━━━━━━━\u001b[0m\u001b[37m\u001b[0m \u001b[1m0s\u001b[0m 17ms/step - accuracy: 0.0000e+00 - f1_score: 0.6608 - loss: 0.6931 - val_accuracy: 0.0000e+00 - val_f1_score: 0.6563 - val_loss: 0.6929\n",
      "Epoch 452/500\n",
      "\u001b[1m5/5\u001b[0m \u001b[32m━━━━━━━━━━━━━━━━━━━━\u001b[0m\u001b[37m\u001b[0m \u001b[1m0s\u001b[0m 14ms/step - accuracy: 0.0000e+00 - f1_score: 0.6617 - loss: 0.6931 - val_accuracy: 0.0000e+00 - val_f1_score: 0.6563 - val_loss: 0.6929\n",
      "Epoch 453/500\n",
      "\u001b[1m5/5\u001b[0m \u001b[32m━━━━━━━━━━━━━━━━━━━━\u001b[0m\u001b[37m\u001b[0m \u001b[1m0s\u001b[0m 15ms/step - accuracy: 0.0000e+00 - f1_score: 0.6544 - loss: 0.6929 - val_accuracy: 0.0000e+00 - val_f1_score: 0.6563 - val_loss: 0.6929\n",
      "Epoch 454/500\n",
      "\u001b[1m5/5\u001b[0m \u001b[32m━━━━━━━━━━━━━━━━━━━━\u001b[0m\u001b[37m\u001b[0m \u001b[1m0s\u001b[0m 15ms/step - accuracy: 0.0000e+00 - f1_score: 0.6593 - loss: 0.6930 - val_accuracy: 0.0000e+00 - val_f1_score: 0.6563 - val_loss: 0.6929\n",
      "Epoch 455/500\n",
      "\u001b[1m5/5\u001b[0m \u001b[32m━━━━━━━━━━━━━━━━━━━━\u001b[0m\u001b[37m\u001b[0m \u001b[1m0s\u001b[0m 15ms/step - accuracy: 0.0000e+00 - f1_score: 0.6571 - loss: 0.6929 - val_accuracy: 0.0000e+00 - val_f1_score: 0.6563 - val_loss: 0.6929\n",
      "Epoch 456/500\n",
      "\u001b[1m5/5\u001b[0m \u001b[32m━━━━━━━━━━━━━━━━━━━━\u001b[0m\u001b[37m\u001b[0m \u001b[1m0s\u001b[0m 15ms/step - accuracy: 0.0000e+00 - f1_score: 0.6599 - loss: 0.6930 - val_accuracy: 0.0000e+00 - val_f1_score: 0.6563 - val_loss: 0.6929\n",
      "Epoch 457/500\n",
      "\u001b[1m5/5\u001b[0m \u001b[32m━━━━━━━━━━━━━━━━━━━━\u001b[0m\u001b[37m\u001b[0m \u001b[1m0s\u001b[0m 18ms/step - accuracy: 0.0000e+00 - f1_score: 0.6599 - loss: 0.6930 - val_accuracy: 0.0000e+00 - val_f1_score: 0.6563 - val_loss: 0.6929\n",
      "Epoch 458/500\n",
      "\u001b[1m5/5\u001b[0m \u001b[32m━━━━━━━━━━━━━━━━━━━━\u001b[0m\u001b[37m\u001b[0m \u001b[1m0s\u001b[0m 17ms/step - accuracy: 0.0000e+00 - f1_score: 0.6625 - loss: 0.6931 - val_accuracy: 0.0000e+00 - val_f1_score: 0.6563 - val_loss: 0.6929\n",
      "Epoch 459/500\n",
      "\u001b[1m5/5\u001b[0m \u001b[32m━━━━━━━━━━━━━━━━━━━━\u001b[0m\u001b[37m\u001b[0m \u001b[1m0s\u001b[0m 15ms/step - accuracy: 0.0000e+00 - f1_score: 0.6565 - loss: 0.6929 - val_accuracy: 0.0000e+00 - val_f1_score: 0.6563 - val_loss: 0.6929\n",
      "Epoch 460/500\n",
      "\u001b[1m5/5\u001b[0m \u001b[32m━━━━━━━━━━━━━━━━━━━━\u001b[0m\u001b[37m\u001b[0m \u001b[1m0s\u001b[0m 15ms/step - accuracy: 0.0000e+00 - f1_score: 0.6580 - loss: 0.6930 - val_accuracy: 0.0000e+00 - val_f1_score: 0.6563 - val_loss: 0.6929\n",
      "Epoch 461/500\n",
      "\u001b[1m5/5\u001b[0m \u001b[32m━━━━━━━━━━━━━━━━━━━━\u001b[0m\u001b[37m\u001b[0m \u001b[1m0s\u001b[0m 14ms/step - accuracy: 0.0000e+00 - f1_score: 0.6586 - loss: 0.6930 - val_accuracy: 0.0000e+00 - val_f1_score: 0.6563 - val_loss: 0.6929\n",
      "Epoch 462/500\n",
      "\u001b[1m5/5\u001b[0m \u001b[32m━━━━━━━━━━━━━━━━━━━━\u001b[0m\u001b[37m\u001b[0m \u001b[1m0s\u001b[0m 15ms/step - accuracy: 0.0000e+00 - f1_score: 0.6570 - loss: 0.6929 - val_accuracy: 0.0000e+00 - val_f1_score: 0.6563 - val_loss: 0.6929\n",
      "Epoch 463/500\n",
      "\u001b[1m5/5\u001b[0m \u001b[32m━━━━━━━━━━━━━━━━━━━━\u001b[0m\u001b[37m\u001b[0m \u001b[1m0s\u001b[0m 14ms/step - accuracy: 0.0000e+00 - f1_score: 0.6612 - loss: 0.6931 - val_accuracy: 0.0000e+00 - val_f1_score: 0.6563 - val_loss: 0.6929\n",
      "Epoch 464/500\n",
      "\u001b[1m5/5\u001b[0m \u001b[32m━━━━━━━━━━━━━━━━━━━━\u001b[0m\u001b[37m\u001b[0m \u001b[1m0s\u001b[0m 16ms/step - accuracy: 0.0000e+00 - f1_score: 0.6608 - loss: 0.6931 - val_accuracy: 0.0000e+00 - val_f1_score: 0.6563 - val_loss: 0.6929\n",
      "Epoch 465/500\n",
      "\u001b[1m5/5\u001b[0m \u001b[32m━━━━━━━━━━━━━━━━━━━━\u001b[0m\u001b[37m\u001b[0m \u001b[1m0s\u001b[0m 18ms/step - accuracy: 0.0000e+00 - f1_score: 0.6578 - loss: 0.6930 - val_accuracy: 0.0000e+00 - val_f1_score: 0.6563 - val_loss: 0.6929\n",
      "Epoch 466/500\n",
      "\u001b[1m5/5\u001b[0m \u001b[32m━━━━━━━━━━━━━━━━━━━━\u001b[0m\u001b[37m\u001b[0m \u001b[1m0s\u001b[0m 15ms/step - accuracy: 0.0000e+00 - f1_score: 0.6597 - loss: 0.6930 - val_accuracy: 0.0000e+00 - val_f1_score: 0.6563 - val_loss: 0.6929\n",
      "Epoch 467/500\n",
      "\u001b[1m5/5\u001b[0m \u001b[32m━━━━━━━━━━━━━━━━━━━━\u001b[0m\u001b[37m\u001b[0m \u001b[1m0s\u001b[0m 15ms/step - accuracy: 0.0000e+00 - f1_score: 0.6594 - loss: 0.6930 - val_accuracy: 0.0000e+00 - val_f1_score: 0.6563 - val_loss: 0.6929\n",
      "Epoch 468/500\n",
      "\u001b[1m5/5\u001b[0m \u001b[32m━━━━━━━━━━━━━━━━━━━━\u001b[0m\u001b[37m\u001b[0m \u001b[1m0s\u001b[0m 15ms/step - accuracy: 0.0000e+00 - f1_score: 0.6570 - loss: 0.6929 - val_accuracy: 0.0000e+00 - val_f1_score: 0.6563 - val_loss: 0.6929\n",
      "Epoch 469/500\n",
      "\u001b[1m5/5\u001b[0m \u001b[32m━━━━━━━━━━━━━━━━━━━━\u001b[0m\u001b[37m\u001b[0m \u001b[1m0s\u001b[0m 15ms/step - accuracy: 0.0000e+00 - f1_score: 0.6573 - loss: 0.6929 - val_accuracy: 0.0000e+00 - val_f1_score: 0.6563 - val_loss: 0.6929\n",
      "Epoch 470/500\n",
      "\u001b[1m5/5\u001b[0m \u001b[32m━━━━━━━━━━━━━━━━━━━━\u001b[0m\u001b[37m\u001b[0m \u001b[1m0s\u001b[0m 15ms/step - accuracy: 0.0000e+00 - f1_score: 0.6589 - loss: 0.6930 - val_accuracy: 0.0000e+00 - val_f1_score: 0.6563 - val_loss: 0.6929\n",
      "Epoch 471/500\n",
      "\u001b[1m5/5\u001b[0m \u001b[32m━━━━━━━━━━━━━━━━━━━━\u001b[0m\u001b[37m\u001b[0m \u001b[1m0s\u001b[0m 17ms/step - accuracy: 0.0000e+00 - f1_score: 0.6569 - loss: 0.6929 - val_accuracy: 0.0000e+00 - val_f1_score: 0.6563 - val_loss: 0.6929\n",
      "Epoch 472/500\n",
      "\u001b[1m5/5\u001b[0m \u001b[32m━━━━━━━━━━━━━━━━━━━━\u001b[0m\u001b[37m\u001b[0m \u001b[1m0s\u001b[0m 14ms/step - accuracy: 0.0000e+00 - f1_score: 0.6562 - loss: 0.6929 - val_accuracy: 0.0000e+00 - val_f1_score: 0.6563 - val_loss: 0.6929\n",
      "Epoch 473/500\n",
      "\u001b[1m5/5\u001b[0m \u001b[32m━━━━━━━━━━━━━━━━━━━━\u001b[0m\u001b[37m\u001b[0m \u001b[1m0s\u001b[0m 14ms/step - accuracy: 0.0000e+00 - f1_score: 0.6623 - loss: 0.6931 - val_accuracy: 0.0000e+00 - val_f1_score: 0.6563 - val_loss: 0.6929\n",
      "Epoch 474/500\n",
      "\u001b[1m5/5\u001b[0m \u001b[32m━━━━━━━━━━━━━━━━━━━━\u001b[0m\u001b[37m\u001b[0m \u001b[1m0s\u001b[0m 14ms/step - accuracy: 0.0000e+00 - f1_score: 0.6592 - loss: 0.6930 - val_accuracy: 0.0000e+00 - val_f1_score: 0.6563 - val_loss: 0.6929\n",
      "Epoch 475/500\n",
      "\u001b[1m5/5\u001b[0m \u001b[32m━━━━━━━━━━━━━━━━━━━━\u001b[0m\u001b[37m\u001b[0m \u001b[1m0s\u001b[0m 16ms/step - accuracy: 0.0000e+00 - f1_score: 0.6627 - loss: 0.6931 - val_accuracy: 0.0000e+00 - val_f1_score: 0.6563 - val_loss: 0.6929\n",
      "Epoch 476/500\n",
      "\u001b[1m5/5\u001b[0m \u001b[32m━━━━━━━━━━━━━━━━━━━━\u001b[0m\u001b[37m\u001b[0m \u001b[1m0s\u001b[0m 15ms/step - accuracy: 0.0000e+00 - f1_score: 0.6570 - loss: 0.6929 - val_accuracy: 0.0000e+00 - val_f1_score: 0.6563 - val_loss: 0.6929\n",
      "Epoch 477/500\n",
      "\u001b[1m5/5\u001b[0m \u001b[32m━━━━━━━━━━━━━━━━━━━━\u001b[0m\u001b[37m\u001b[0m \u001b[1m0s\u001b[0m 14ms/step - accuracy: 0.0000e+00 - f1_score: 0.6593 - loss: 0.6930 - val_accuracy: 0.0000e+00 - val_f1_score: 0.6563 - val_loss: 0.6929\n",
      "Epoch 478/500\n",
      "\u001b[1m5/5\u001b[0m \u001b[32m━━━━━━━━━━━━━━━━━━━━\u001b[0m\u001b[37m\u001b[0m \u001b[1m0s\u001b[0m 14ms/step - accuracy: 0.0000e+00 - f1_score: 0.6583 - loss: 0.6930 - val_accuracy: 0.0000e+00 - val_f1_score: 0.6563 - val_loss: 0.6929\n",
      "Epoch 479/500\n",
      "\u001b[1m5/5\u001b[0m \u001b[32m━━━━━━━━━━━━━━━━━━━━\u001b[0m\u001b[37m\u001b[0m \u001b[1m0s\u001b[0m 17ms/step - accuracy: 0.0000e+00 - f1_score: 0.6589 - loss: 0.6930 - val_accuracy: 0.0000e+00 - val_f1_score: 0.6563 - val_loss: 0.6929\n",
      "Epoch 480/500\n",
      "\u001b[1m5/5\u001b[0m \u001b[32m━━━━━━━━━━━━━━━━━━━━\u001b[0m\u001b[37m\u001b[0m \u001b[1m0s\u001b[0m 14ms/step - accuracy: 0.0000e+00 - f1_score: 0.6588 - loss: 0.6930 - val_accuracy: 0.0000e+00 - val_f1_score: 0.6563 - val_loss: 0.6929\n",
      "Epoch 481/500\n",
      "\u001b[1m5/5\u001b[0m \u001b[32m━━━━━━━━━━━━━━━━━━━━\u001b[0m\u001b[37m\u001b[0m \u001b[1m0s\u001b[0m 14ms/step - accuracy: 0.0000e+00 - f1_score: 0.6545 - loss: 0.6929 - val_accuracy: 0.0000e+00 - val_f1_score: 0.6563 - val_loss: 0.6929\n",
      "Epoch 482/500\n",
      "\u001b[1m5/5\u001b[0m \u001b[32m━━━━━━━━━━━━━━━━━━━━\u001b[0m\u001b[37m\u001b[0m \u001b[1m0s\u001b[0m 17ms/step - accuracy: 0.0000e+00 - f1_score: 0.6597 - loss: 0.6930 - val_accuracy: 0.0000e+00 - val_f1_score: 0.6563 - val_loss: 0.6929\n",
      "Epoch 483/500\n",
      "\u001b[1m5/5\u001b[0m \u001b[32m━━━━━━━━━━━━━━━━━━━━\u001b[0m\u001b[37m\u001b[0m \u001b[1m0s\u001b[0m 14ms/step - accuracy: 0.0000e+00 - f1_score: 0.6599 - loss: 0.6930 - val_accuracy: 0.0000e+00 - val_f1_score: 0.6563 - val_loss: 0.6929\n",
      "Epoch 484/500\n",
      "\u001b[1m5/5\u001b[0m \u001b[32m━━━━━━━━━━━━━━━━━━━━\u001b[0m\u001b[37m\u001b[0m \u001b[1m0s\u001b[0m 14ms/step - accuracy: 0.0000e+00 - f1_score: 0.6577 - loss: 0.6930 - val_accuracy: 0.0000e+00 - val_f1_score: 0.6563 - val_loss: 0.6929\n",
      "Epoch 485/500\n",
      "\u001b[1m5/5\u001b[0m \u001b[32m━━━━━━━━━━━━━━━━━━━━\u001b[0m\u001b[37m\u001b[0m \u001b[1m0s\u001b[0m 14ms/step - accuracy: 0.0000e+00 - f1_score: 0.6607 - loss: 0.6931 - val_accuracy: 0.0000e+00 - val_f1_score: 0.6563 - val_loss: 0.6929\n",
      "Epoch 486/500\n",
      "\u001b[1m5/5\u001b[0m \u001b[32m━━━━━━━━━━━━━━━━━━━━\u001b[0m\u001b[37m\u001b[0m \u001b[1m0s\u001b[0m 17ms/step - accuracy: 0.0000e+00 - f1_score: 0.6586 - loss: 0.6930 - val_accuracy: 0.0000e+00 - val_f1_score: 0.6563 - val_loss: 0.6929\n",
      "Epoch 487/500\n",
      "\u001b[1m5/5\u001b[0m \u001b[32m━━━━━━━━━━━━━━━━━━━━\u001b[0m\u001b[37m\u001b[0m \u001b[1m0s\u001b[0m 15ms/step - accuracy: 0.0000e+00 - f1_score: 0.6594 - loss: 0.6930 - val_accuracy: 0.0000e+00 - val_f1_score: 0.6563 - val_loss: 0.6929\n",
      "Epoch 488/500\n",
      "\u001b[1m5/5\u001b[0m \u001b[32m━━━━━━━━━━━━━━━━━━━━\u001b[0m\u001b[37m\u001b[0m \u001b[1m0s\u001b[0m 16ms/step - accuracy: 0.0000e+00 - f1_score: 0.6565 - loss: 0.6929 - val_accuracy: 0.0000e+00 - val_f1_score: 0.6563 - val_loss: 0.6929\n",
      "Epoch 489/500\n",
      "\u001b[1m5/5\u001b[0m \u001b[32m━━━━━━━━━━━━━━━━━━━━\u001b[0m\u001b[37m\u001b[0m \u001b[1m0s\u001b[0m 15ms/step - accuracy: 0.0000e+00 - f1_score: 0.6588 - loss: 0.6930 - val_accuracy: 0.0000e+00 - val_f1_score: 0.6563 - val_loss: 0.6929\n",
      "Epoch 490/500\n",
      "\u001b[1m5/5\u001b[0m \u001b[32m━━━━━━━━━━━━━━━━━━━━\u001b[0m\u001b[37m\u001b[0m \u001b[1m0s\u001b[0m 15ms/step - accuracy: 0.0000e+00 - f1_score: 0.6633 - loss: 0.6932 - val_accuracy: 0.0000e+00 - val_f1_score: 0.6563 - val_loss: 0.6929\n",
      "Epoch 491/500\n",
      "\u001b[1m5/5\u001b[0m \u001b[32m━━━━━━━━━━━━━━━━━━━━\u001b[0m\u001b[37m\u001b[0m \u001b[1m0s\u001b[0m 15ms/step - accuracy: 0.0000e+00 - f1_score: 0.6632 - loss: 0.6931 - val_accuracy: 0.0000e+00 - val_f1_score: 0.6563 - val_loss: 0.6929\n",
      "Epoch 492/500\n",
      "\u001b[1m5/5\u001b[0m \u001b[32m━━━━━━━━━━━━━━━━━━━━\u001b[0m\u001b[37m\u001b[0m \u001b[1m0s\u001b[0m 15ms/step - accuracy: 0.0000e+00 - f1_score: 0.6592 - loss: 0.6930 - val_accuracy: 0.0000e+00 - val_f1_score: 0.6563 - val_loss: 0.6929\n",
      "Epoch 493/500\n",
      "\u001b[1m5/5\u001b[0m \u001b[32m━━━━━━━━━━━━━━━━━━━━\u001b[0m\u001b[37m\u001b[0m \u001b[1m0s\u001b[0m 17ms/step - accuracy: 0.0000e+00 - f1_score: 0.6583 - loss: 0.6930 - val_accuracy: 0.0000e+00 - val_f1_score: 0.6563 - val_loss: 0.6929\n",
      "Epoch 494/500\n",
      "\u001b[1m5/5\u001b[0m \u001b[32m━━━━━━━━━━━━━━━━━━━━\u001b[0m\u001b[37m\u001b[0m \u001b[1m0s\u001b[0m 15ms/step - accuracy: 0.0000e+00 - f1_score: 0.6618 - loss: 0.6931 - val_accuracy: 0.0000e+00 - val_f1_score: 0.6563 - val_loss: 0.6929\n",
      "Epoch 495/500\n",
      "\u001b[1m5/5\u001b[0m \u001b[32m━━━━━━━━━━━━━━━━━━━━\u001b[0m\u001b[37m\u001b[0m \u001b[1m0s\u001b[0m 15ms/step - accuracy: 0.0000e+00 - f1_score: 0.6624 - loss: 0.6931 - val_accuracy: 0.0000e+00 - val_f1_score: 0.6563 - val_loss: 0.6929\n",
      "Epoch 496/500\n",
      "\u001b[1m5/5\u001b[0m \u001b[32m━━━━━━━━━━━━━━━━━━━━\u001b[0m\u001b[37m\u001b[0m \u001b[1m0s\u001b[0m 15ms/step - accuracy: 0.0000e+00 - f1_score: 0.6584 - loss: 0.6930 - val_accuracy: 0.0000e+00 - val_f1_score: 0.6563 - val_loss: 0.6929\n",
      "Epoch 497/500\n",
      "\u001b[1m5/5\u001b[0m \u001b[32m━━━━━━━━━━━━━━━━━━━━\u001b[0m\u001b[37m\u001b[0m \u001b[1m0s\u001b[0m 15ms/step - accuracy: 0.0000e+00 - f1_score: 0.6584 - loss: 0.6930 - val_accuracy: 0.0000e+00 - val_f1_score: 0.6563 - val_loss: 0.6929\n",
      "Epoch 498/500\n",
      "\u001b[1m5/5\u001b[0m \u001b[32m━━━━━━━━━━━━━━━━━━━━\u001b[0m\u001b[37m\u001b[0m \u001b[1m0s\u001b[0m 20ms/step - accuracy: 0.0000e+00 - f1_score: 0.6634 - loss: 0.6932 - val_accuracy: 0.0000e+00 - val_f1_score: 0.6563 - val_loss: 0.6929\n",
      "Epoch 499/500\n",
      "\u001b[1m5/5\u001b[0m \u001b[32m━━━━━━━━━━━━━━━━━━━━\u001b[0m\u001b[37m\u001b[0m \u001b[1m0s\u001b[0m 19ms/step - accuracy: 0.0000e+00 - f1_score: 0.6596 - loss: 0.6930 - val_accuracy: 0.0000e+00 - val_f1_score: 0.6563 - val_loss: 0.6929\n",
      "Epoch 500/500\n",
      "\u001b[1m5/5\u001b[0m \u001b[32m━━━━━━━━━━━━━━━━━━━━\u001b[0m\u001b[37m\u001b[0m \u001b[1m0s\u001b[0m 16ms/step - accuracy: 0.0000e+00 - f1_score: 0.6585 - loss: 0.6930 - val_accuracy: 0.0000e+00 - val_f1_score: 0.6563 - val_loss: 0.6929\n"
     ]
    }
   ],
   "source": [
    "model_classification = keras.Sequential([\n",
    "    keras. layers.InputLayer(shape=(5,)),\n",
    "    keras.layers.BatchNormalization(),\n",
    "    keras.layers.Dense (12, activation='relu'),\n",
    "    keras.layers.Dense (8, activation='relu'),\n",
    "    keras.layers.Dense (4, activation='relu'),\n",
    "    keras.layers.Dense (4, activation='relu'),\n",
    "    keras.layers.Dense (4, activation='relu'),\n",
    "    keras.layers.Dense (4, activation='relu'),\n",
    "    keras.layers.Dense (4, activation='relu'),\n",
    "    keras.layers.Dense (4, activation='relu'),\n",
    "    keras.layers.Dense (1, activation='sigmoid')\n",
    "])\n",
    "\n",
    "model_classification.compile(\n",
    "    optimizer=keras.optimizers.Adam(),\n",
    "    loss='binary_crossentropy',\n",
    "    metrics=['accuracy', 'f1_score']\n",
    ")\n",
    "\n",
    "history_2 = model_classification.fit(\n",
    "    X_train2,\n",
    "    Y_train2,\n",
    "    batch_size=150,\n",
    "    epochs=500,\n",
    "    validation_data=(X_valid2, Y_valid2),\n",
    "    verbose='auto',\n",
    ")"
   ]
  },
  {
   "cell_type": "code",
   "execution_count": null,
   "metadata": {},
   "outputs": [
    {
     "data": {
      "application/vnd.plotly.v1+json": {
       "config": {
        "plotlyServerURL": "https://plot.ly"
       },
       "data": [
        {
         "hovertemplate": "variable=loss<br>index=%{x}<br>value=%{y}<extra></extra>",
         "legendgroup": "loss",
         "line": {
          "color": "#636efa",
          "dash": "solid"
         },
         "marker": {
          "symbol": "circle"
         },
         "mode": "lines",
         "name": "loss",
         "orientation": "v",
         "showlegend": true,
         "type": "scatter",
         "x": {
          "bdata": "AAABAAIAAwAEAAUABgAHAAgACQAKAAsADAANAA4ADwAQABEAEgATABQAFQAWABcAGAAZABoAGwAcAB0AHgAfACAAIQAiACMAJAAlACYAJwAoACkAKgArACwALQAuAC8AMAAxADIAMwA0ADUANgA3ADgAOQA6ADsAPAA9AD4APwBAAEEAQgBDAEQARQBGAEcASABJAEoASwBMAE0ATgBPAFAAUQBSAFMAVABVAFYAVwBYAFkAWgBbAFwAXQBeAF8AYABhAGIAYwBkAGUAZgBnAGgAaQBqAGsAbABtAG4AbwBwAHEAcgBzAHQAdQB2AHcAeAB5AHoAewB8AH0AfgB/AIAAgQCCAIMAhACFAIYAhwCIAIkAigCLAIwAjQCOAI8AkACRAJIAkwCUAJUAlgCXAJgAmQCaAJsAnACdAJ4AnwCgAKEAogCjAKQApQCmAKcAqACpAKoAqwCsAK0ArgCvALAAsQCyALMAtAC1ALYAtwC4ALkAugC7ALwAvQC+AL8AwADBAMIAwwDEAMUAxgDHAMgAyQDKAMsAzADNAM4AzwDQANEA0gDTANQA1QDWANcA2ADZANoA2wDcAN0A3gDfAOAA4QDiAOMA5ADlAOYA5wDoAOkA6gDrAOwA7QDuAO8A8ADxAPIA8wD0APUA9gD3APgA+QD6APsA/AD9AP4A/wAAAQEBAgEDAQQBBQEGAQcBCAEJAQoBCwEMAQ0BDgEPARABEQESARMBFAEVARYBFwEYARkBGgEbARwBHQEeAR8BIAEhASIBIwEkASUBJgEnASgBKQEqASsBLAEtAS4BLwEwATEBMgEzATQBNQE2ATcBOAE5AToBOwE8AT0BPgE/AUABQQFCAUMBRAFFAUYBRwFIAUkBSgFLAUwBTQFOAU8BUAFRAVIBUwFUAVUBVgFXAVgBWQFaAVsBXAFdAV4BXwFgAWEBYgFjAWQBZQFmAWcBaAFpAWoBawFsAW0BbgFvAXABcQFyAXMBdAF1AXYBdwF4AXkBegF7AXwBfQF+AX8BgAGBAYIBgwGEAYUBhgGHAYgBiQGKAYsBjAGNAY4BjwGQAZEBkgGTAZQBlQGWAZcBmAGZAZoBmwGcAZ0BngGfAaABoQGiAaMBpAGlAaYBpwGoAakBqgGrAawBrQGuAa8BsAGxAbIBswG0AbUBtgG3AbgBuQG6AbsBvAG9Ab4BvwHAAcEBwgHDAcQBxQHGAccByAHJAcoBywHMAc0BzgHPAdAB0QHSAdMB1AHVAdYB1wHYAdkB2gHbAdwB3QHeAd8B4AHhAeIB4wHkAeUB5gHnAegB6QHqAesB7AHtAe4B7wHwAfEB8gHzAQ==",
          "dtype": "i2"
         },
         "xaxis": "x",
         "y": {
          "bdata": "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",
          "dtype": "f8"
         },
         "yaxis": "y"
        },
        {
         "hovertemplate": "variable=val_loss<br>index=%{x}<br>value=%{y}<extra></extra>",
         "legendgroup": "val_loss",
         "line": {
          "color": "#EF553B",
          "dash": "solid"
         },
         "marker": {
          "symbol": "circle"
         },
         "mode": "lines",
         "name": "val_loss",
         "orientation": "v",
         "showlegend": true,
         "type": "scatter",
         "x": {
          "bdata": "AAABAAIAAwAEAAUABgAHAAgACQAKAAsADAANAA4ADwAQABEAEgATABQAFQAWABcAGAAZABoAGwAcAB0AHgAfACAAIQAiACMAJAAlACYAJwAoACkAKgArACwALQAuAC8AMAAxADIAMwA0ADUANgA3ADgAOQA6ADsAPAA9AD4APwBAAEEAQgBDAEQARQBGAEcASABJAEoASwBMAE0ATgBPAFAAUQBSAFMAVABVAFYAVwBYAFkAWgBbAFwAXQBeAF8AYABhAGIAYwBkAGUAZgBnAGgAaQBqAGsAbABtAG4AbwBwAHEAcgBzAHQAdQB2AHcAeAB5AHoAewB8AH0AfgB/AIAAgQCCAIMAhACFAIYAhwCIAIkAigCLAIwAjQCOAI8AkACRAJIAkwCUAJUAlgCXAJgAmQCaAJsAnACdAJ4AnwCgAKEAogCjAKQApQCmAKcAqACpAKoAqwCsAK0ArgCvALAAsQCyALMAtAC1ALYAtwC4ALkAugC7ALwAvQC+AL8AwADBAMIAwwDEAMUAxgDHAMgAyQDKAMsAzADNAM4AzwDQANEA0gDTANQA1QDWANcA2ADZANoA2wDcAN0A3gDfAOAA4QDiAOMA5ADlAOYA5wDoAOkA6gDrAOwA7QDuAO8A8ADxAPIA8wD0APUA9gD3APgA+QD6APsA/AD9AP4A/wAAAQEBAgEDAQQBBQEGAQcBCAEJAQoBCwEMAQ0BDgEPARABEQESARMBFAEVARYBFwEYARkBGgEbARwBHQEeAR8BIAEhASIBIwEkASUBJgEnASgBKQEqASsBLAEtAS4BLwEwATEBMgEzATQBNQE2ATcBOAE5AToBOwE8AT0BPgE/AUABQQFCAUMBRAFFAUYBRwFIAUkBSgFLAUwBTQFOAU8BUAFRAVIBUwFUAVUBVgFXAVgBWQFaAVsBXAFdAV4BXwFgAWEBYgFjAWQBZQFmAWcBaAFpAWoBawFsAW0BbgFvAXABcQFyAXMBdAF1AXYBdwF4AXkBegF7AXwBfQF+AX8BgAGBAYIBgwGEAYUBhgGHAYgBiQGKAYsBjAGNAY4BjwGQAZEBkgGTAZQBlQGWAZcBmAGZAZoBmwGcAZ0BngGfAaABoQGiAaMBpAGlAaYBpwGoAakBqgGrAawBrQGuAa8BsAGxAbIBswG0AbUBtgG3AbgBuQG6AbsBvAG9Ab4BvwHAAcEBwgHDAcQBxQHGAccByAHJAcoBywHMAc0BzgHPAdAB0QHSAdMB1AHVAdYB1wHYAdkB2gHbAdwB3QHeAd8B4AHhAeIB4wHkAeUB5gHnAegB6QHqAesB7AHtAe4B7wHwAfEB8gHzAQ==",
          "dtype": "i2"
         },
         "xaxis": "x",
         "y": {
          "bdata": "AAAAgOMt5j8AAACAkS3mPwAAAGBWLeY/AAAAACst5j8AAACg/yzmPwAAAMDaLOY/AAAAgMEs5j8AAABgpizmPwAAAKCNLOY/AAAAgHws5j8AAADgcSzmPwAAACBpLOY/AAAAgGUs5j8AAACgWSzmPwAAAKBZLOY/AAAAgFos5j8AAAAAWyzmPwAAAABXLOY/AAAAYFYs5j8AAADgUyzmPwAAAOBOLOY/AAAA4E0s5j8AAAAgVCzmPwAAAMBRLOY/AAAAgFIs5j8AAAAgVCzmPwAAACBULOY/AAAAAFks5j8AAABgWyzmPwAAAABZLOY/AAAAQFss5j8AAABAVyzmPwAAAOBXLOY/AAAAgFUs5j8AAABgVizmPwAAAGBaLOY/AAAAAFks5j8AAAAAXCzmPwAAAGBaLOY/AAAAYFQs5j8AAACATSzmPwAAAABPLOY/AAAAIFIs5j8AAAAgVSzmPwAAAEBZLOY/AAAAgFos5j8AAACgVSzmPwAAAOBSLOY/AAAAIFQs5j8AAAAAWSzmPwAAAMBVLOY/AAAAgFUs5j8AAABgVCzmPwAAACBULOY/AAAAAFMs5j8AAAAATyzmPwAAAOBLLOY/AAAAoE8s5j8AAADgTSzmPwAAAABRLOY/AAAA4E4s5j8AAAAgTizmPwAAAIBNLOY/AAAAwE0s5j8AAABgUCzmPwAAACBRLOY/AAAA4FMs5j8AAAAgVizmPwAAAIBTLOY/AAAAoFAs5j8AAABgTyzmPwAAAKBRLOY/AAAAIFQs5j8AAADgWSzmPwAAAOBbLOY/AAAAYFcs5j8AAADAVizmPwAAAOBWLOY/AAAAAFMs5j8AAADAVSzmPwAAAGBXLOY/AAAAIFYs5j8AAAAgVCzmPwAAAOBSLOY/AAAAAFcs5j8AAADAVSzmPwAAAGBULOY/AAAA4FEs5j8AAADgUizmPwAAAIBULOY/AAAAIFEs5j8AAAAgTizmPwAAAGBOLOY/AAAAgEss5j8AAACATyzmPwAAAMBMLOY/AAAA4Ess5j8AAACATSzmPwAAAGBPLOY/AAAAIE0s5j8AAABgTyzmPwAAAMBQLOY/AAAAQFIs5j8AAADgUizmPwAAAGBTLOY/AAAAwFAs5j8AAADgUSzmPwAAAGBQLOY/AAAAoFAs5j8AAABgTCzmPwAAAABPLOY/AAAAQE8s5j8AAACgUSzmPwAAACBWLOY/AAAAYFcs5j8AAACAVizmPwAAAABXLOY/AAAAQFUs5j8AAAAAVyzmPwAAAABXLOY/AAAA4FEs5j8AAAAgTizmPwAAAIBSLOY/AAAAYE8s5j8AAAAAUyzmPwAAACBVLOY/AAAAIFgs5j8AAAAgWizmPwAAAABYLOY/AAAA4FEs5j8AAAAATyzmPwAAAMBQLOY/AAAAoE8s5j8AAABATizmPwAAAOBNLOY/AAAAoEks5j8AAACATCzmPwAAAMBQLOY/AAAAoFAs5j8AAABAUyzmPwAAAEBTLOY/AAAAAE8s5j8AAABgTyzmPwAAAIBMLOY/AAAA4Ecs5j8AAADASizmPwAAAMBKLOY/AAAAAEks5j8AAADgSyzmPwAAAOBLLOY/AAAAQE4s5j8AAAAATyzmPwAAAEBSLOY/AAAAgFMs5j8AAADATizmPwAAAABNLOY/AAAAYEos5j8AAADgRyzmPwAAAKBHLOY/AAAAoEks5j8AAABgRyzmPwAAAIBHLOY/AAAAwEQs5j8AAACAQyzmPwAAAMBFLOY/AAAA4Ecs5j8AAABARizmPwAAAMBELOY/AAAAwEgs5j8AAADASSzmPwAAACBSLOY/AAAA4FMs5j8AAAAAVyzmPwAAAKBPLOY/AAAA4E8s5j8AAABAUSzmPwAAAIBPLOY/AAAAgE8s5j8AAAAATSzmPwAAAMBKLOY/AAAAwEgs5j8AAACATCzmPwAAAIBNLOY/AAAAgEws5j8AAACASizmPwAAAIBLLOY/AAAAgEss5j8AAACASyzmPwAAAIBKLOY/AAAA4Ess5j8AAACAUSzmPwAAAOBXLOY/AAAAoFQs5j8AAACgTyzmPwAAAEBRLOY/AAAAAFAs5j8AAABgTCzmPwAAAOBJLOY/AAAAwEgs5j8AAAAgSSzmPwAAAMBFLOY/AAAAgEgs5j8AAACASizmPwAAAEBLLOY/AAAA4Eks5j8AAADATizmPwAAAABPLOY/AAAAoEss5j8AAACATCzmPwAAAOBNLOY/AAAAoE8s5j8AAACATizmPwAAAEBOLOY/AAAAQEss5j8AAAAASCzmPwAAACBILOY/AAAAYEgs5j8AAADASCzmPwAAAIBKLOY/AAAAAEws5j8AAADgSizmPwAAAKBILOY/AAAAAEss5j8AAADgSyzmPwAAAKBNLOY/AAAAYFAs5j8AAADgTyzmPwAAAOBRLOY/AAAAQFEs5j8AAAAgTizmPwAAAGBHLOY/AAAAAEMs5j8AAACgSCzmPwAAAOBGLOY/AAAAIEUs5j8AAADgRSzmPwAAAOBDLOY/AAAAgEUs5j8AAABgQyzmPwAAAIBELOY/AAAAwEUs5j8AAADASSzmPwAAAGBHLOY/AAAAgEks5j8AAACATSzmPwAAAOBLLOY/AAAAoEcs5j8AAAAARyzmPwAAAIBHLOY/AAAA4EYs5j8AAADASizmPwAAAEBKLOY/AAAAAEks5j8AAABgSCzmPwAAAOBHLOY/AAAA4EYs5j8AAADgQyzmPwAAAGBGLOY/AAAAYEYs5j8AAADgRizmPwAAAABHLOY/AAAA4Ecs5j8AAAAARyzmPwAAAKBHLOY/AAAAYEos5j8AAACgTCzmPwAAAMBNLOY/AAAAIFEs5j8AAADAVCzmPwAAAMBVLOY/AAAAYFQs5j8AAADgVSzmPwAAACBWLOY/AAAAAFss5j8AAADgWyzmPwAAAEBhLOY/AAAAoF8s5j8AAABAWyzmPwAAAMBWLOY/AAAAgFgs5j8AAAAgWCzmPwAAAABXLOY/AAAA4FYs5j8AAACAWCzmPwAAAEBVLOY/AAAAwFQs5j8AAADgUizmPwAAAABULOY/AAAA4FUs5j8AAADgUSzmPwAAAOBWLOY/AAAAwFUs5j8AAACAUyzmPwAAAKBRLOY/AAAAAFAs5j8AAADATCzmPwAAAIBNLOY/AAAAoEks5j8AAAAARyzmPwAAAGBMLOY/AAAAIFAs5j8AAABATyzmPwAAAABQLOY/AAAA4E8s5j8AAADgTSzmPwAAAGBPLOY/AAAAAFEs5j8AAAAgVCzmPwAAACBRLOY/AAAAoEss5j8AAAAATCzmPwAAAMBJLOY/AAAAwE0s5j8AAABgVizmPwAAAKBULOY/AAAAIFgs5j8AAADgUSzmPwAAAKBNLOY/AAAAgEos5j8AAACATCzmPwAAAMBMLOY/AAAAoE8s5j8AAABgTyzmPwAAAOBLLOY/AAAAYEws5j8AAAAgTSzmPwAAACBJLOY/AAAAQEks5j8AAABgRyzmPwAAACBFLOY/AAAAAEgs5j8AAAAARyzmPwAAAIBGLOY/AAAAwEws5j8AAABgUizmPwAAAABVLOY/AAAAgFMs5j8AAACAUSzmPwAAAABQLOY/AAAAoFAs5j8AAAAgUSzmPwAAAKBRLOY/AAAAQFMs5j8AAACAVizmPwAAAGBcLOY/AAAAIFks5j8AAACAVizmPwAAACBULOY/AAAA4FMs5j8AAAAAWCzmPwAAAOBWLOY/AAAAoFcs5j8AAADAVCzmPwAAAKBRLOY/AAAAAFAs5j8AAACgUCzmPwAAAIBOLOY/AAAAoEks5j8AAABASizmPwAAAGBHLOY/AAAAgEos5j8AAADASSzmPwAAAMBMLOY/AAAAgEws5j8AAACATSzmPwAAAABRLOY/AAAAoFgs5j8AAAAgWSzmPwAAAKBZLOY/AAAA4FEs5j8AAADATSzmPwAAAKBRLOY/AAAAwFIs5j8AAADgUizmPwAAAKBRLOY/AAAAYFMs5j8AAADAVSzmPwAAACBVLOY/AAAAgFUs5j8AAADgUyzmPwAAAEBTLOY/AAAAgE4s5j8AAAAgTSzmPwAAAKBNLOY/AAAAYE4s5j8AAACATizmPwAAAABNLOY/AAAAQEcs5j8AAADgSSzmPwAAAEBHLOY/AAAAAEws5j8AAACATSzmPwAAAOBJLOY/AAAAgEss5j8AAABASSzmPwAAAEBJLOY/AAAA4Ecs5j8AAADARSzmPwAAAKBHLOY/AAAAAEks5j8AAACARCzmPwAAACBFLOY/AAAAgEYs5j8AAAAARSzmPwAAAIBLLOY/AAAAgEks5j8AAADARizmPwAAAEBCLOY/AAAA4EEs5j8AAADgQizmPwAAAMBELOY/AAAAwEgs5j8AAADARizmPwAAAEBLLOY/AAAA4Eos5j8AAAAASyzmPwAAACBOLOY/AAAAIFEs5j8AAAAgVSzmPwAAAABVLOY/AAAA4FYs5j8AAABgWyzmPwAAAABYLOY/AAAAIFYs5j8AAABAVSzmPwAAAIBVLOY/AAAAQFcs5j8AAADgVyzmPwAAAMBVLOY/AAAAgFMs5j8AAACAUSzmPwAAACBWLOY/AAAA4FUs5j8AAAAgWizmPwAAAOBbLOY/AAAAwFYs5j8AAABgWizmPwAAAABULOY/AAAAwFQs5j8AAADgTyzmPwAAAGBPLOY/AAAA4E4s5j8AAACgUSzmPwAAAEBSLOY/AAAAwFQs5j8AAADgUizmPwAAAIBVLOY/AAAAQFIs5j8AAADgUyzmPwAAAIBRLOY/AAAAYFMs5j8AAAAAVCzmPwAAAIBRLOY/AAAAYFIs5j8AAACAUizmPwAAAEBTLOY/AAAAwFEs5j8AAABgUyzmPwAAAMBNLOY/AAAAoEws5j8AAACATCzmPwAAAIBMLOY/AAAA4E8s5j8AAADgUSzmPwAAAMBOLOY/AAAAwFAs5j8AAABgUyzmPwAAAGBQLOY/AAAAQFEs5j8AAADAUizmPwAAAKBQLOY/AAAAQFEs5j8AAABgVyzmPwAAACBWLOY/AAAAwFYs5j8AAACAUSzmPwAAAKBPLOY/AAAAYE4s5j8AAABAUSzmPwAAAGBQLOY/AAAAoEss5j8AAACgTyzmPwAAAIBSLOY/AAAAoFEs5j8AAADAVCzmPwAAAMBSLOY/AAAAwFQs5j8AAADgUizmPwAAAEBSLOY/AAAAIFYs5j8AAAAAWSzmPwAAAIBULOY/AAAAYFAs5j8AAAAAUyzmPwAAAEBVLOY/AAAA4FEs5j8AAABAUizmPwAAAABVLOY/AAAAQFEs5j8AAABAUSzmPw==",
          "dtype": "f8"
         },
         "yaxis": "y"
        }
       ],
       "layout": {
        "legend": {
         "title": {
          "text": "variable"
         },
         "tracegroupgap": 0
        },
        "margin": {
         "t": 60
        },
        "template": {
         "data": {
          "bar": [
           {
            "error_x": {
             "color": "#2a3f5f"
            },
            "error_y": {
             "color": "#2a3f5f"
            },
            "marker": {
             "line": {
              "color": "#E5ECF6",
              "width": 0.5
             },
             "pattern": {
              "fillmode": "overlay",
              "size": 10,
              "solidity": 0.2
             }
            },
            "type": "bar"
           }
          ],
          "barpolar": [
           {
            "marker": {
             "line": {
              "color": "#E5ECF6",
              "width": 0.5
             },
             "pattern": {
              "fillmode": "overlay",
              "size": 10,
              "solidity": 0.2
             }
            },
            "type": "barpolar"
           }
          ],
          "carpet": [
           {
            "aaxis": {
             "endlinecolor": "#2a3f5f",
             "gridcolor": "white",
             "linecolor": "white",
             "minorgridcolor": "white",
             "startlinecolor": "#2a3f5f"
            },
            "baxis": {
             "endlinecolor": "#2a3f5f",
             "gridcolor": "white",
             "linecolor": "white",
             "minorgridcolor": "white",
             "startlinecolor": "#2a3f5f"
            },
            "type": "carpet"
           }
          ],
          "choropleth": [
           {
            "colorbar": {
             "outlinewidth": 0,
             "ticks": ""
            },
            "type": "choropleth"
           }
          ],
          "contour": [
           {
            "colorbar": {
             "outlinewidth": 0,
             "ticks": ""
            },
            "colorscale": [
             [
              0,
              "#0d0887"
             ],
             [
              0.1111111111111111,
              "#46039f"
             ],
             [
              0.2222222222222222,
              "#7201a8"
             ],
             [
              0.3333333333333333,
              "#9c179e"
             ],
             [
              0.4444444444444444,
              "#bd3786"
             ],
             [
              0.5555555555555556,
              "#d8576b"
             ],
             [
              0.6666666666666666,
              "#ed7953"
             ],
             [
              0.7777777777777778,
              "#fb9f3a"
             ],
             [
              0.8888888888888888,
              "#fdca26"
             ],
             [
              1,
              "#f0f921"
             ]
            ],
            "type": "contour"
           }
          ],
          "contourcarpet": [
           {
            "colorbar": {
             "outlinewidth": 0,
             "ticks": ""
            },
            "type": "contourcarpet"
           }
          ],
          "heatmap": [
           {
            "colorbar": {
             "outlinewidth": 0,
             "ticks": ""
            },
            "colorscale": [
             [
              0,
              "#0d0887"
             ],
             [
              0.1111111111111111,
              "#46039f"
             ],
             [
              0.2222222222222222,
              "#7201a8"
             ],
             [
              0.3333333333333333,
              "#9c179e"
             ],
             [
              0.4444444444444444,
              "#bd3786"
             ],
             [
              0.5555555555555556,
              "#d8576b"
             ],
             [
              0.6666666666666666,
              "#ed7953"
             ],
             [
              0.7777777777777778,
              "#fb9f3a"
             ],
             [
              0.8888888888888888,
              "#fdca26"
             ],
             [
              1,
              "#f0f921"
             ]
            ],
            "type": "heatmap"
           }
          ],
          "histogram": [
           {
            "marker": {
             "pattern": {
              "fillmode": "overlay",
              "size": 10,
              "solidity": 0.2
             }
            },
            "type": "histogram"
           }
          ],
          "histogram2d": [
           {
            "colorbar": {
             "outlinewidth": 0,
             "ticks": ""
            },
            "colorscale": [
             [
              0,
              "#0d0887"
             ],
             [
              0.1111111111111111,
              "#46039f"
             ],
             [
              0.2222222222222222,
              "#7201a8"
             ],
             [
              0.3333333333333333,
              "#9c179e"
             ],
             [
              0.4444444444444444,
              "#bd3786"
             ],
             [
              0.5555555555555556,
              "#d8576b"
             ],
             [
              0.6666666666666666,
              "#ed7953"
             ],
             [
              0.7777777777777778,
              "#fb9f3a"
             ],
             [
              0.8888888888888888,
              "#fdca26"
             ],
             [
              1,
              "#f0f921"
             ]
            ],
            "type": "histogram2d"
           }
          ],
          "histogram2dcontour": [
           {
            "colorbar": {
             "outlinewidth": 0,
             "ticks": ""
            },
            "colorscale": [
             [
              0,
              "#0d0887"
             ],
             [
              0.1111111111111111,
              "#46039f"
             ],
             [
              0.2222222222222222,
              "#7201a8"
             ],
             [
              0.3333333333333333,
              "#9c179e"
             ],
             [
              0.4444444444444444,
              "#bd3786"
             ],
             [
              0.5555555555555556,
              "#d8576b"
             ],
             [
              0.6666666666666666,
              "#ed7953"
             ],
             [
              0.7777777777777778,
              "#fb9f3a"
             ],
             [
              0.8888888888888888,
              "#fdca26"
             ],
             [
              1,
              "#f0f921"
             ]
            ],
            "type": "histogram2dcontour"
           }
          ],
          "mesh3d": [
           {
            "colorbar": {
             "outlinewidth": 0,
             "ticks": ""
            },
            "type": "mesh3d"
           }
          ],
          "parcoords": [
           {
            "line": {
             "colorbar": {
              "outlinewidth": 0,
              "ticks": ""
             }
            },
            "type": "parcoords"
           }
          ],
          "pie": [
           {
            "automargin": true,
            "type": "pie"
           }
          ],
          "scatter": [
           {
            "fillpattern": {
             "fillmode": "overlay",
             "size": 10,
             "solidity": 0.2
            },
            "type": "scatter"
           }
          ],
          "scatter3d": [
           {
            "line": {
             "colorbar": {
              "outlinewidth": 0,
              "ticks": ""
             }
            },
            "marker": {
             "colorbar": {
              "outlinewidth": 0,
              "ticks": ""
             }
            },
            "type": "scatter3d"
           }
          ],
          "scattercarpet": [
           {
            "marker": {
             "colorbar": {
              "outlinewidth": 0,
              "ticks": ""
             }
            },
            "type": "scattercarpet"
           }
          ],
          "scattergeo": [
           {
            "marker": {
             "colorbar": {
              "outlinewidth": 0,
              "ticks": ""
             }
            },
            "type": "scattergeo"
           }
          ],
          "scattergl": [
           {
            "marker": {
             "colorbar": {
              "outlinewidth": 0,
              "ticks": ""
             }
            },
            "type": "scattergl"
           }
          ],
          "scattermap": [
           {
            "marker": {
             "colorbar": {
              "outlinewidth": 0,
              "ticks": ""
             }
            },
            "type": "scattermap"
           }
          ],
          "scattermapbox": [
           {
            "marker": {
             "colorbar": {
              "outlinewidth": 0,
              "ticks": ""
             }
            },
            "type": "scattermapbox"
           }
          ],
          "scatterpolar": [
           {
            "marker": {
             "colorbar": {
              "outlinewidth": 0,
              "ticks": ""
             }
            },
            "type": "scatterpolar"
           }
          ],
          "scatterpolargl": [
           {
            "marker": {
             "colorbar": {
              "outlinewidth": 0,
              "ticks": ""
             }
            },
            "type": "scatterpolargl"
           }
          ],
          "scatterternary": [
           {
            "marker": {
             "colorbar": {
              "outlinewidth": 0,
              "ticks": ""
             }
            },
            "type": "scatterternary"
           }
          ],
          "surface": [
           {
            "colorbar": {
             "outlinewidth": 0,
             "ticks": ""
            },
            "colorscale": [
             [
              0,
              "#0d0887"
             ],
             [
              0.1111111111111111,
              "#46039f"
             ],
             [
              0.2222222222222222,
              "#7201a8"
             ],
             [
              0.3333333333333333,
              "#9c179e"
             ],
             [
              0.4444444444444444,
              "#bd3786"
             ],
             [
              0.5555555555555556,
              "#d8576b"
             ],
             [
              0.6666666666666666,
              "#ed7953"
             ],
             [
              0.7777777777777778,
              "#fb9f3a"
             ],
             [
              0.8888888888888888,
              "#fdca26"
             ],
             [
              1,
              "#f0f921"
             ]
            ],
            "type": "surface"
           }
          ],
          "table": [
           {
            "cells": {
             "fill": {
              "color": "#EBF0F8"
             },
             "line": {
              "color": "white"
             }
            },
            "header": {
             "fill": {
              "color": "#C8D4E3"
             },
             "line": {
              "color": "white"
             }
            },
            "type": "table"
           }
          ]
         },
         "layout": {
          "annotationdefaults": {
           "arrowcolor": "#2a3f5f",
           "arrowhead": 0,
           "arrowwidth": 1
          },
          "autotypenumbers": "strict",
          "coloraxis": {
           "colorbar": {
            "outlinewidth": 0,
            "ticks": ""
           }
          },
          "colorscale": {
           "diverging": [
            [
             0,
             "#8e0152"
            ],
            [
             0.1,
             "#c51b7d"
            ],
            [
             0.2,
             "#de77ae"
            ],
            [
             0.3,
             "#f1b6da"
            ],
            [
             0.4,
             "#fde0ef"
            ],
            [
             0.5,
             "#f7f7f7"
            ],
            [
             0.6,
             "#e6f5d0"
            ],
            [
             0.7,
             "#b8e186"
            ],
            [
             0.8,
             "#7fbc41"
            ],
            [
             0.9,
             "#4d9221"
            ],
            [
             1,
             "#276419"
            ]
           ],
           "sequential": [
            [
             0,
             "#0d0887"
            ],
            [
             0.1111111111111111,
             "#46039f"
            ],
            [
             0.2222222222222222,
             "#7201a8"
            ],
            [
             0.3333333333333333,
             "#9c179e"
            ],
            [
             0.4444444444444444,
             "#bd3786"
            ],
            [
             0.5555555555555556,
             "#d8576b"
            ],
            [
             0.6666666666666666,
             "#ed7953"
            ],
            [
             0.7777777777777778,
             "#fb9f3a"
            ],
            [
             0.8888888888888888,
             "#fdca26"
            ],
            [
             1,
             "#f0f921"
            ]
           ],
           "sequentialminus": [
            [
             0,
             "#0d0887"
            ],
            [
             0.1111111111111111,
             "#46039f"
            ],
            [
             0.2222222222222222,
             "#7201a8"
            ],
            [
             0.3333333333333333,
             "#9c179e"
            ],
            [
             0.4444444444444444,
             "#bd3786"
            ],
            [
             0.5555555555555556,
             "#d8576b"
            ],
            [
             0.6666666666666666,
             "#ed7953"
            ],
            [
             0.7777777777777778,
             "#fb9f3a"
            ],
            [
             0.8888888888888888,
             "#fdca26"
            ],
            [
             1,
             "#f0f921"
            ]
           ]
          },
          "colorway": [
           "#636efa",
           "#EF553B",
           "#00cc96",
           "#ab63fa",
           "#FFA15A",
           "#19d3f3",
           "#FF6692",
           "#B6E880",
           "#FF97FF",
           "#FECB52"
          ],
          "font": {
           "color": "#2a3f5f"
          },
          "geo": {
           "bgcolor": "white",
           "lakecolor": "white",
           "landcolor": "#E5ECF6",
           "showlakes": true,
           "showland": true,
           "subunitcolor": "white"
          },
          "hoverlabel": {
           "align": "left"
          },
          "hovermode": "closest",
          "mapbox": {
           "style": "light"
          },
          "paper_bgcolor": "white",
          "plot_bgcolor": "#E5ECF6",
          "polar": {
           "angularaxis": {
            "gridcolor": "white",
            "linecolor": "white",
            "ticks": ""
           },
           "bgcolor": "#E5ECF6",
           "radialaxis": {
            "gridcolor": "white",
            "linecolor": "white",
            "ticks": ""
           }
          },
          "scene": {
           "xaxis": {
            "backgroundcolor": "#E5ECF6",
            "gridcolor": "white",
            "gridwidth": 2,
            "linecolor": "white",
            "showbackground": true,
            "ticks": "",
            "zerolinecolor": "white"
           },
           "yaxis": {
            "backgroundcolor": "#E5ECF6",
            "gridcolor": "white",
            "gridwidth": 2,
            "linecolor": "white",
            "showbackground": true,
            "ticks": "",
            "zerolinecolor": "white"
           },
           "zaxis": {
            "backgroundcolor": "#E5ECF6",
            "gridcolor": "white",
            "gridwidth": 2,
            "linecolor": "white",
            "showbackground": true,
            "ticks": "",
            "zerolinecolor": "white"
           }
          },
          "shapedefaults": {
           "line": {
            "color": "#2a3f5f"
           }
          },
          "ternary": {
           "aaxis": {
            "gridcolor": "white",
            "linecolor": "white",
            "ticks": ""
           },
           "baxis": {
            "gridcolor": "white",
            "linecolor": "white",
            "ticks": ""
           },
           "bgcolor": "#E5ECF6",
           "caxis": {
            "gridcolor": "white",
            "linecolor": "white",
            "ticks": ""
           }
          },
          "title": {
           "x": 0.05
          },
          "xaxis": {
           "automargin": true,
           "gridcolor": "white",
           "linecolor": "white",
           "ticks": "",
           "title": {
            "standoff": 15
           },
           "zerolinecolor": "white",
           "zerolinewidth": 2
          },
          "yaxis": {
           "automargin": true,
           "gridcolor": "white",
           "linecolor": "white",
           "ticks": "",
           "title": {
            "standoff": 15
           },
           "zerolinecolor": "white",
           "zerolinewidth": 2
          }
         }
        },
        "xaxis": {
         "anchor": "y",
         "domain": [
          0,
          1
         ],
         "title": {
          "text": "index"
         }
        },
        "yaxis": {
         "anchor": "x",
         "domain": [
          0,
          1
         ],
         "title": {
          "text": "value"
         }
        }
       }
      }
     },
     "metadata": {},
     "output_type": "display_data"
    }
   ],
   "source": [
    "metrics_2 = {'loss': history_2.history.get('loss'), 'val_loss': history_2.history.get('val_loss')}\n",
    "fig = px.line(metrics_2)\n",
    "fig.show()"
   ]
  },
  {
   "cell_type": "code",
   "execution_count": null,
   "metadata": {},
   "outputs": [
    {
     "name": "stdout",
     "output_type": "stream",
     "text": [
      "\u001b[1m4/4\u001b[0m \u001b[32m━━━━━━━━━━━━━━━━━━━━\u001b[0m\u001b[37m\u001b[0m \u001b[1m0s\u001b[0m 13ms/step\n",
      "\u001b[1m4/4\u001b[0m \u001b[32m━━━━━━━━━━━━━━━━━━━━\u001b[0m\u001b[37m\u001b[0m \u001b[1m0s\u001b[0m 22ms/step\n"
     ]
    }
   ],
   "source": [
    "Y_pred_1 = model_regression_1.predict(X_test)\n",
    "Y_pred_2 = model_classification.predict(X_test2)"
   ]
  },
  {
   "cell_type": "code",
   "execution_count": null,
   "metadata": {},
   "outputs": [
    {
     "name": "stdout",
     "output_type": "stream",
     "text": [
      "Confusion Matrix:\n",
      "[[61  0]\n",
      " [39  0]]\n",
      "Accuracy: 0.6100, Recall: 0.0000, Precision: 0.0000, F1-score: 0.0000\n"
     ]
    },
    {
     "name": "stderr",
     "output_type": "stream",
     "text": [
      "c:\\Users\\egorm\\AppData\\Local\\Programs\\Python\\Python310\\lib\\site-packages\\sklearn\\metrics\\_classification.py:1531: UndefinedMetricWarning:\n",
      "\n",
      "Precision is ill-defined and being set to 0.0 due to no predicted samples. Use `zero_division` parameter to control this behavior.\n",
      "\n"
     ]
    }
   ],
   "source": [
    "Y_test2_binary = (Y_test2 > 0.5).astype(int)  \n",
    "Y_pred_2_binary = (Y_pred_2 > 0.5).astype(int)\n",
    "\n",
    "conf_matrix = confusion_matrix(Y_test2_binary, Y_pred_2_binary)\n",
    "accuracy = accuracy_score(Y_test2_binary, Y_pred_2_binary)\n",
    "recall = recall_score(Y_test2_binary, Y_pred_2_binary)\n",
    "precision = precision_score(Y_test2_binary, Y_pred_2_binary)\n",
    "f1 = f1_score(Y_test2_binary, Y_pred_2_binary)\n",
    "\n",
    "print(f\"Confusion Matrix:\\n{conf_matrix}\")\n",
    "print(f\"Accuracy: {accuracy:.4f}, Recall: {recall:.4f}, Precision: {precision:.4f}, F1-score: {f1:.4f}\")\n"
   ]
  },
  {
   "cell_type": "code",
   "execution_count": null,
   "metadata": {},
   "outputs": [
    {
     "name": "stdout",
     "output_type": "stream",
     "text": [
      "Confusion Matrix:\n",
      "[[59  2]\n",
      " [ 6 33]]\n",
      "Accuracy: 0.9200, F1-score: 0.8919\n"
     ]
    }
   ],
   "source": [
    "threshold = 0.5\n",
    "Y_train2_binary = (Y_train2 > threshold).astype(int)\n",
    "Y_test2_binary = (Y_test2 > threshold).astype(int)\n",
    "\n",
    "from sklearn.ensemble import RandomForestClassifier\n",
    "from sklearn.metrics import accuracy_score, confusion_matrix, f1_score\n",
    "\n",
    "Y_pred_rfc = RandomForestClassifier().fit(X_train2, Y_train2_binary).predict(X_test2)\n",
    "\n",
    "conf_matrix = confusion_matrix(Y_test2_binary, Y_pred_rfc)\n",
    "accuracy = accuracy_score(Y_test2_binary, Y_pred_rfc)\n",
    "f1 = f1_score(Y_test2_binary, Y_pred_rfc)\n",
    "\n",
    "print(f\"Confusion Matrix:\\n{conf_matrix}\")\n",
    "print(f\"Accuracy: {accuracy:.4f}, F1-score: {f1:.4f}\")\n"
   ]
  }
 ],
 "metadata": {
  "kernelspec": {
   "display_name": "Python 3",
   "language": "python",
   "name": "python3"
  },
  "language_info": {
   "codemirror_mode": {
    "name": "ipython",
    "version": 3
   },
   "file_extension": ".py",
   "mimetype": "text/x-python",
   "name": "python",
   "nbconvert_exporter": "python",
   "pygments_lexer": "ipython3",
   "version": "3.10.10"
  }
 },
 "nbformat": 4,
 "nbformat_minor": 2
}
