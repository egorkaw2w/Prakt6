{
 "cells": [
  {
   "cell_type": "code",
   "execution_count": 25,
   "metadata": {},
   "outputs": [],
   "source": [
    "import numpy as np\n",
    "import pandas as pd\n",
    "import seaborn as sns\n",
    "from sklearn.ensemble import RandomForestClassifier\n",
    "from sklearn.metrics import r2_score, mean_absolute_error, max_error, mean_squared_error, confusion_matrix, accuracy_score, recall_score, precision_score, f1_score\n",
    "from sklearn.preprocessing import StandardScaler, OrdinalEncoder\n",
    "\n",
    "import keras\n",
    "\n",
    "import plotly.express as px\n",
    "\n",
    "import warnings\n",
    "warnings.simplefilter(action='ignore', category=FutureWarning)"
   ]
  },
  {
   "cell_type": "code",
   "execution_count": 26,
   "metadata": {},
   "outputs": [],
   "source": [
    "df = pd.read_csv(\"./student_depression_dataset.csv\", nrows=1000)\n"
   ]
  },
  {
   "cell_type": "code",
   "execution_count": 27,
   "metadata": {},
   "outputs": [
    {
     "data": {
      "text/html": [
       "<div>\n",
       "<style scoped>\n",
       "    .dataframe tbody tr th:only-of-type {\n",
       "        vertical-align: middle;\n",
       "    }\n",
       "\n",
       "    .dataframe tbody tr th {\n",
       "        vertical-align: top;\n",
       "    }\n",
       "\n",
       "    .dataframe thead th {\n",
       "        text-align: right;\n",
       "    }\n",
       "</style>\n",
       "<table border=\"1\" class=\"dataframe\">\n",
       "  <thead>\n",
       "    <tr style=\"text-align: right;\">\n",
       "      <th></th>\n",
       "      <th>Academic Pressure</th>\n",
       "      <th>Have you ever had suicidal thoughts ?</th>\n",
       "      <th>Financial Stress</th>\n",
       "      <th>Depression</th>\n",
       "    </tr>\n",
       "  </thead>\n",
       "  <tbody>\n",
       "    <tr>\n",
       "      <th>0</th>\n",
       "      <td>5.0</td>\n",
       "      <td>1.0</td>\n",
       "      <td>1.0</td>\n",
       "      <td>1</td>\n",
       "    </tr>\n",
       "    <tr>\n",
       "      <th>1</th>\n",
       "      <td>2.0</td>\n",
       "      <td>0.0</td>\n",
       "      <td>2.0</td>\n",
       "      <td>0</td>\n",
       "    </tr>\n",
       "    <tr>\n",
       "      <th>2</th>\n",
       "      <td>3.0</td>\n",
       "      <td>0.0</td>\n",
       "      <td>1.0</td>\n",
       "      <td>0</td>\n",
       "    </tr>\n",
       "    <tr>\n",
       "      <th>3</th>\n",
       "      <td>3.0</td>\n",
       "      <td>1.0</td>\n",
       "      <td>5.0</td>\n",
       "      <td>1</td>\n",
       "    </tr>\n",
       "    <tr>\n",
       "      <th>4</th>\n",
       "      <td>4.0</td>\n",
       "      <td>1.0</td>\n",
       "      <td>1.0</td>\n",
       "      <td>0</td>\n",
       "    </tr>\n",
       "    <tr>\n",
       "      <th>...</th>\n",
       "      <td>...</td>\n",
       "      <td>...</td>\n",
       "      <td>...</td>\n",
       "      <td>...</td>\n",
       "    </tr>\n",
       "    <tr>\n",
       "      <th>995</th>\n",
       "      <td>4.0</td>\n",
       "      <td>1.0</td>\n",
       "      <td>3.0</td>\n",
       "      <td>0</td>\n",
       "    </tr>\n",
       "    <tr>\n",
       "      <th>996</th>\n",
       "      <td>3.0</td>\n",
       "      <td>1.0</td>\n",
       "      <td>5.0</td>\n",
       "      <td>1</td>\n",
       "    </tr>\n",
       "    <tr>\n",
       "      <th>997</th>\n",
       "      <td>4.0</td>\n",
       "      <td>0.0</td>\n",
       "      <td>1.0</td>\n",
       "      <td>0</td>\n",
       "    </tr>\n",
       "    <tr>\n",
       "      <th>998</th>\n",
       "      <td>3.0</td>\n",
       "      <td>0.0</td>\n",
       "      <td>1.0</td>\n",
       "      <td>0</td>\n",
       "    </tr>\n",
       "    <tr>\n",
       "      <th>999</th>\n",
       "      <td>4.0</td>\n",
       "      <td>1.0</td>\n",
       "      <td>4.0</td>\n",
       "      <td>1</td>\n",
       "    </tr>\n",
       "  </tbody>\n",
       "</table>\n",
       "<p>1000 rows × 4 columns</p>\n",
       "</div>"
      ],
      "text/plain": [
       "     Academic Pressure  Have you ever had suicidal thoughts ?  \\\n",
       "0                  5.0                                    1.0   \n",
       "1                  2.0                                    0.0   \n",
       "2                  3.0                                    0.0   \n",
       "3                  3.0                                    1.0   \n",
       "4                  4.0                                    1.0   \n",
       "..                 ...                                    ...   \n",
       "995                4.0                                    1.0   \n",
       "996                3.0                                    1.0   \n",
       "997                4.0                                    0.0   \n",
       "998                3.0                                    0.0   \n",
       "999                4.0                                    1.0   \n",
       "\n",
       "     Financial Stress  Depression  \n",
       "0                 1.0           1  \n",
       "1                 2.0           0  \n",
       "2                 1.0           0  \n",
       "3                 5.0           1  \n",
       "4                 1.0           0  \n",
       "..                ...         ...  \n",
       "995               3.0           0  \n",
       "996               5.0           1  \n",
       "997               1.0           0  \n",
       "998               1.0           0  \n",
       "999               4.0           1  \n",
       "\n",
       "[1000 rows x 4 columns]"
      ]
     },
     "execution_count": 27,
     "metadata": {},
     "output_type": "execute_result"
    }
   ],
   "source": [
    "df.replace('?', 0, inplace=True)\n",
    "df.drop([\"id\",\"Work Pressure\",\"Family History of Mental Illness\", \"Degree\", \"Study Satisfaction\", \"Sleep Duration\", \"Dietary Habits\",\"Gender\",\"Age\",\"City\",\"Profession\",\"CGPA\",\"Job Satisfaction\",\"Work/Study Hours\"], axis=1, inplace=True)\n",
    "Oenc = OrdinalEncoder()\n",
    "df[[\"Have you ever had suicidal thoughts ?\"]] = Oenc.fit_transform(df[[\"Have you ever had suicidal thoughts ?\" ]])\n",
    "df"
   ]
  },
  {
   "cell_type": "code",
   "execution_count": 28,
   "metadata": {},
   "outputs": [
    {
     "data": {
      "text/plain": [
       "<Axes: >"
      ]
     },
     "execution_count": 28,
     "metadata": {},
     "output_type": "execute_result"
    },
    {
     "data": {
      "image/png": "[encoded data removed]",
      "text/plain": [
       "<Figure size 640x480 with 2 Axes>"
      ]
     },
     "metadata": {},
     "output_type": "display_data"
    }
   ],
   "source": [
    "sns.heatmap(df.corr(), vmin=-1, center=0, vmax=1) "
   ]
  },
  {
   "cell_type": "code",
   "execution_count": 29,
   "metadata": {},
   "outputs": [],
   "source": [
    "train,validation, test = np.split(df, [int(.7*len(df)), int(.9*len(df))])\n"
   ]
  },
  {
   "cell_type": "code",
   "execution_count": 30,
   "metadata": {},
   "outputs": [
    {
     "data": {
      "text/html": [
       "<div>\n",
       "<style scoped>\n",
       "    .dataframe tbody tr th:only-of-type {\n",
       "        vertical-align: middle;\n",
       "    }\n",
       "\n",
       "    .dataframe tbody tr th {\n",
       "        vertical-align: top;\n",
       "    }\n",
       "\n",
       "    .dataframe thead th {\n",
       "        text-align: right;\n",
       "    }\n",
       "</style>\n",
       "<table border=\"1\" class=\"dataframe\">\n",
       "  <thead>\n",
       "    <tr style=\"text-align: right;\">\n",
       "      <th></th>\n",
       "      <th>Academic Pressure</th>\n",
       "      <th>Have you ever had suicidal thoughts ?</th>\n",
       "      <th>Financial Stress</th>\n",
       "      <th>Depression</th>\n",
       "    </tr>\n",
       "  </thead>\n",
       "  <tbody>\n",
       "    <tr>\n",
       "      <th>0</th>\n",
       "      <td>5.0</td>\n",
       "      <td>1.0</td>\n",
       "      <td>1.0</td>\n",
       "      <td>1</td>\n",
       "    </tr>\n",
       "    <tr>\n",
       "      <th>1</th>\n",
       "      <td>2.0</td>\n",
       "      <td>0.0</td>\n",
       "      <td>2.0</td>\n",
       "      <td>0</td>\n",
       "    </tr>\n",
       "    <tr>\n",
       "      <th>2</th>\n",
       "      <td>3.0</td>\n",
       "      <td>0.0</td>\n",
       "      <td>1.0</td>\n",
       "      <td>0</td>\n",
       "    </tr>\n",
       "    <tr>\n",
       "      <th>3</th>\n",
       "      <td>3.0</td>\n",
       "      <td>1.0</td>\n",
       "      <td>5.0</td>\n",
       "      <td>1</td>\n",
       "    </tr>\n",
       "    <tr>\n",
       "      <th>4</th>\n",
       "      <td>4.0</td>\n",
       "      <td>1.0</td>\n",
       "      <td>1.0</td>\n",
       "      <td>0</td>\n",
       "    </tr>\n",
       "    <tr>\n",
       "      <th>...</th>\n",
       "      <td>...</td>\n",
       "      <td>...</td>\n",
       "      <td>...</td>\n",
       "      <td>...</td>\n",
       "    </tr>\n",
       "    <tr>\n",
       "      <th>695</th>\n",
       "      <td>5.0</td>\n",
       "      <td>1.0</td>\n",
       "      <td>4.0</td>\n",
       "      <td>1</td>\n",
       "    </tr>\n",
       "    <tr>\n",
       "      <th>696</th>\n",
       "      <td>4.0</td>\n",
       "      <td>0.0</td>\n",
       "      <td>5.0</td>\n",
       "      <td>1</td>\n",
       "    </tr>\n",
       "    <tr>\n",
       "      <th>697</th>\n",
       "      <td>5.0</td>\n",
       "      <td>1.0</td>\n",
       "      <td>4.0</td>\n",
       "      <td>1</td>\n",
       "    </tr>\n",
       "    <tr>\n",
       "      <th>698</th>\n",
       "      <td>2.0</td>\n",
       "      <td>1.0</td>\n",
       "      <td>5.0</td>\n",
       "      <td>1</td>\n",
       "    </tr>\n",
       "    <tr>\n",
       "      <th>699</th>\n",
       "      <td>1.0</td>\n",
       "      <td>0.0</td>\n",
       "      <td>4.0</td>\n",
       "      <td>1</td>\n",
       "    </tr>\n",
       "  </tbody>\n",
       "</table>\n",
       "<p>700 rows × 4 columns</p>\n",
       "</div>"
      ],
      "text/plain": [
       "     Academic Pressure  Have you ever had suicidal thoughts ?  \\\n",
       "0                  5.0                                    1.0   \n",
       "1                  2.0                                    0.0   \n",
       "2                  3.0                                    0.0   \n",
       "3                  3.0                                    1.0   \n",
       "4                  4.0                                    1.0   \n",
       "..                 ...                                    ...   \n",
       "695                5.0                                    1.0   \n",
       "696                4.0                                    0.0   \n",
       "697                5.0                                    1.0   \n",
       "698                2.0                                    1.0   \n",
       "699                1.0                                    0.0   \n",
       "\n",
       "     Financial Stress  Depression  \n",
       "0                 1.0           1  \n",
       "1                 2.0           0  \n",
       "2                 1.0           0  \n",
       "3                 5.0           1  \n",
       "4                 1.0           0  \n",
       "..                ...         ...  \n",
       "695               4.0           1  \n",
       "696               5.0           1  \n",
       "697               4.0           1  \n",
       "698               5.0           1  \n",
       "699               4.0           1  \n",
       "\n",
       "[700 rows x 4 columns]"
      ]
     },
     "execution_count": 30,
     "metadata": {},
     "output_type": "execute_result"
    }
   ],
   "source": [
    "train"
   ]
  },
  {
   "cell_type": "code",
   "execution_count": 31,
   "metadata": {},
   "outputs": [
    {
     "data": {
      "text/html": [
       "<div>\n",
       "<style scoped>\n",
       "    .dataframe tbody tr th:only-of-type {\n",
       "        vertical-align: middle;\n",
       "    }\n",
       "\n",
       "    .dataframe tbody tr th {\n",
       "        vertical-align: top;\n",
       "    }\n",
       "\n",
       "    .dataframe thead th {\n",
       "        text-align: right;\n",
       "    }\n",
       "</style>\n",
       "<table border=\"1\" class=\"dataframe\">\n",
       "  <thead>\n",
       "    <tr style=\"text-align: right;\">\n",
       "      <th></th>\n",
       "      <th>Academic Pressure</th>\n",
       "      <th>Have you ever had suicidal thoughts ?</th>\n",
       "      <th>Financial Stress</th>\n",
       "      <th>Depression</th>\n",
       "    </tr>\n",
       "  </thead>\n",
       "  <tbody>\n",
       "    <tr>\n",
       "      <th>700</th>\n",
       "      <td>5.0</td>\n",
       "      <td>0.0</td>\n",
       "      <td>5.0</td>\n",
       "      <td>0</td>\n",
       "    </tr>\n",
       "    <tr>\n",
       "      <th>701</th>\n",
       "      <td>5.0</td>\n",
       "      <td>1.0</td>\n",
       "      <td>5.0</td>\n",
       "      <td>1</td>\n",
       "    </tr>\n",
       "    <tr>\n",
       "      <th>702</th>\n",
       "      <td>2.0</td>\n",
       "      <td>1.0</td>\n",
       "      <td>2.0</td>\n",
       "      <td>1</td>\n",
       "    </tr>\n",
       "    <tr>\n",
       "      <th>703</th>\n",
       "      <td>4.0</td>\n",
       "      <td>0.0</td>\n",
       "      <td>4.0</td>\n",
       "      <td>1</td>\n",
       "    </tr>\n",
       "    <tr>\n",
       "      <th>704</th>\n",
       "      <td>4.0</td>\n",
       "      <td>1.0</td>\n",
       "      <td>1.0</td>\n",
       "      <td>0</td>\n",
       "    </tr>\n",
       "    <tr>\n",
       "      <th>...</th>\n",
       "      <td>...</td>\n",
       "      <td>...</td>\n",
       "      <td>...</td>\n",
       "      <td>...</td>\n",
       "    </tr>\n",
       "    <tr>\n",
       "      <th>895</th>\n",
       "      <td>3.0</td>\n",
       "      <td>0.0</td>\n",
       "      <td>1.0</td>\n",
       "      <td>0</td>\n",
       "    </tr>\n",
       "    <tr>\n",
       "      <th>896</th>\n",
       "      <td>5.0</td>\n",
       "      <td>1.0</td>\n",
       "      <td>1.0</td>\n",
       "      <td>1</td>\n",
       "    </tr>\n",
       "    <tr>\n",
       "      <th>897</th>\n",
       "      <td>1.0</td>\n",
       "      <td>1.0</td>\n",
       "      <td>5.0</td>\n",
       "      <td>0</td>\n",
       "    </tr>\n",
       "    <tr>\n",
       "      <th>898</th>\n",
       "      <td>5.0</td>\n",
       "      <td>0.0</td>\n",
       "      <td>2.0</td>\n",
       "      <td>1</td>\n",
       "    </tr>\n",
       "    <tr>\n",
       "      <th>899</th>\n",
       "      <td>5.0</td>\n",
       "      <td>1.0</td>\n",
       "      <td>2.0</td>\n",
       "      <td>1</td>\n",
       "    </tr>\n",
       "  </tbody>\n",
       "</table>\n",
       "<p>200 rows × 4 columns</p>\n",
       "</div>"
      ],
      "text/plain": [
       "     Academic Pressure  Have you ever had suicidal thoughts ?  \\\n",
       "700                5.0                                    0.0   \n",
       "701                5.0                                    1.0   \n",
       "702                2.0                                    1.0   \n",
       "703                4.0                                    0.0   \n",
       "704                4.0                                    1.0   \n",
       "..                 ...                                    ...   \n",
       "895                3.0                                    0.0   \n",
       "896                5.0                                    1.0   \n",
       "897                1.0                                    1.0   \n",
       "898                5.0                                    0.0   \n",
       "899                5.0                                    1.0   \n",
       "\n",
       "     Financial Stress  Depression  \n",
       "700               5.0           0  \n",
       "701               5.0           1  \n",
       "702               2.0           1  \n",
       "703               4.0           1  \n",
       "704               1.0           0  \n",
       "..                ...         ...  \n",
       "895               1.0           0  \n",
       "896               1.0           1  \n",
       "897               5.0           0  \n",
       "898               2.0           1  \n",
       "899               2.0           1  \n",
       "\n",
       "[200 rows x 4 columns]"
      ]
     },
     "execution_count": 31,
     "metadata": {},
     "output_type": "execute_result"
    }
   ],
   "source": [
    "validation "
   ]
  },
  {
   "cell_type": "code",
   "execution_count": 32,
   "metadata": {},
   "outputs": [
    {
     "data": {
      "text/html": [
       "<div>\n",
       "<style scoped>\n",
       "    .dataframe tbody tr th:only-of-type {\n",
       "        vertical-align: middle;\n",
       "    }\n",
       "\n",
       "    .dataframe tbody tr th {\n",
       "        vertical-align: top;\n",
       "    }\n",
       "\n",
       "    .dataframe thead th {\n",
       "        text-align: right;\n",
       "    }\n",
       "</style>\n",
       "<table border=\"1\" class=\"dataframe\">\n",
       "  <thead>\n",
       "    <tr style=\"text-align: right;\">\n",
       "      <th></th>\n",
       "      <th>Academic Pressure</th>\n",
       "      <th>Have you ever had suicidal thoughts ?</th>\n",
       "      <th>Financial Stress</th>\n",
       "      <th>Depression</th>\n",
       "    </tr>\n",
       "  </thead>\n",
       "  <tbody>\n",
       "    <tr>\n",
       "      <th>900</th>\n",
       "      <td>4.0</td>\n",
       "      <td>1.0</td>\n",
       "      <td>4.0</td>\n",
       "      <td>1</td>\n",
       "    </tr>\n",
       "    <tr>\n",
       "      <th>901</th>\n",
       "      <td>3.0</td>\n",
       "      <td>1.0</td>\n",
       "      <td>4.0</td>\n",
       "      <td>1</td>\n",
       "    </tr>\n",
       "    <tr>\n",
       "      <th>902</th>\n",
       "      <td>2.0</td>\n",
       "      <td>1.0</td>\n",
       "      <td>1.0</td>\n",
       "      <td>1</td>\n",
       "    </tr>\n",
       "    <tr>\n",
       "      <th>903</th>\n",
       "      <td>4.0</td>\n",
       "      <td>0.0</td>\n",
       "      <td>4.0</td>\n",
       "      <td>1</td>\n",
       "    </tr>\n",
       "    <tr>\n",
       "      <th>904</th>\n",
       "      <td>5.0</td>\n",
       "      <td>0.0</td>\n",
       "      <td>2.0</td>\n",
       "      <td>0</td>\n",
       "    </tr>\n",
       "    <tr>\n",
       "      <th>...</th>\n",
       "      <td>...</td>\n",
       "      <td>...</td>\n",
       "      <td>...</td>\n",
       "      <td>...</td>\n",
       "    </tr>\n",
       "    <tr>\n",
       "      <th>995</th>\n",
       "      <td>4.0</td>\n",
       "      <td>1.0</td>\n",
       "      <td>3.0</td>\n",
       "      <td>0</td>\n",
       "    </tr>\n",
       "    <tr>\n",
       "      <th>996</th>\n",
       "      <td>3.0</td>\n",
       "      <td>1.0</td>\n",
       "      <td>5.0</td>\n",
       "      <td>1</td>\n",
       "    </tr>\n",
       "    <tr>\n",
       "      <th>997</th>\n",
       "      <td>4.0</td>\n",
       "      <td>0.0</td>\n",
       "      <td>1.0</td>\n",
       "      <td>0</td>\n",
       "    </tr>\n",
       "    <tr>\n",
       "      <th>998</th>\n",
       "      <td>3.0</td>\n",
       "      <td>0.0</td>\n",
       "      <td>1.0</td>\n",
       "      <td>0</td>\n",
       "    </tr>\n",
       "    <tr>\n",
       "      <th>999</th>\n",
       "      <td>4.0</td>\n",
       "      <td>1.0</td>\n",
       "      <td>4.0</td>\n",
       "      <td>1</td>\n",
       "    </tr>\n",
       "  </tbody>\n",
       "</table>\n",
       "<p>100 rows × 4 columns</p>\n",
       "</div>"
      ],
      "text/plain": [
       "     Academic Pressure  Have you ever had suicidal thoughts ?  \\\n",
       "900                4.0                                    1.0   \n",
       "901                3.0                                    1.0   \n",
       "902                2.0                                    1.0   \n",
       "903                4.0                                    0.0   \n",
       "904                5.0                                    0.0   \n",
       "..                 ...                                    ...   \n",
       "995                4.0                                    1.0   \n",
       "996                3.0                                    1.0   \n",
       "997                4.0                                    0.0   \n",
       "998                3.0                                    0.0   \n",
       "999                4.0                                    1.0   \n",
       "\n",
       "     Financial Stress  Depression  \n",
       "900               4.0           1  \n",
       "901               4.0           1  \n",
       "902               1.0           1  \n",
       "903               4.0           1  \n",
       "904               2.0           0  \n",
       "..                ...         ...  \n",
       "995               3.0           0  \n",
       "996               5.0           1  \n",
       "997               1.0           0  \n",
       "998               1.0           0  \n",
       "999               4.0           1  \n",
       "\n",
       "[100 rows x 4 columns]"
      ]
     },
     "execution_count": 32,
     "metadata": {},
     "output_type": "execute_result"
    }
   ],
   "source": [
    "test"
   ]
  },
  {
   "cell_type": "code",
   "execution_count": 33,
   "metadata": {},
   "outputs": [],
   "source": [
    "Y_train = train['Depression']\n",
    "X_train = train.drop(columns='Depression')\n",
    "\n",
    "Y_valid = validation['Depression']\n",
    "X_valid = validation.drop(columns='Depression')\n",
    "\n",
    "Y_test = test['Depression']\n",
    "X_test = test.drop(columns='Depression')"
   ]
  },
  {
   "cell_type": "code",
   "execution_count": 34,
   "metadata": {},
   "outputs": [],
   "source": [
    "model_regression_1 = keras.Sequential([\n",
    "    keras.layers.InputLayer(shape=(3,)),  \n",
    "    keras.layers.Dense(8, activation='relu'),\n",
    "    keras.layers.Dense(18, activation='relu'),\n",
    "    keras.layers.Dense(10, activation='relu'),\n",
    "    keras.layers.Dense(7, activation='relu'),\n",
    "    keras.layers.Dense(1)\n",
    "])\n"
   ]
  },
  {
   "cell_type": "code",
   "execution_count": 35,
   "metadata": {},
   "outputs": [],
   "source": [
    "model_regression_1.compile(\n",
    "    optimizer=keras.optimizers.Adam(),\n",
    "    loss='mse',\n",
    "    metrics=['mean_absolute_error', 'r2_score']\n",
    ")"
   ]
  },
  {
   "cell_type": "code",
   "execution_count": 36,
   "metadata": {},
   "outputs": [
    {
     "name": "stdout",
     "output_type": "stream",
     "text": [
      "Epoch 1/300\n",
      "\u001b[1m5/5\u001b[0m \u001b[32m━━━━━━━━━━━━━━━━━━━━\u001b[0m\u001b[37m\u001b[0m \u001b[1m1s\u001b[0m 56ms/step - loss: 5.6080 - mean_absolute_error: 2.1139 - r2_score: -21.9543 - val_loss: 4.0708 - val_mean_absolute_error: 1.7832 - val_r2_score: -16.1113\n",
      "Epoch 2/300\n",
      "\u001b[1m5/5\u001b[0m \u001b[32m━━━━━━━━━━━━━━━━━━━━\u001b[0m\u001b[37m\u001b[0m \u001b[1m0s\u001b[0m 17ms/step - loss: 3.5888 - mean_absolute_error: 1.6569 - r2_score: -13.8119 - val_loss: 2.4390 - val_mean_absolute_error: 1.3517 - val_r2_score: -9.2523\n",
      "Epoch 3/300\n",
      "\u001b[1m5/5\u001b[0m \u001b[32m━━━━━━━━━━━━━━━━━━━━\u001b[0m\u001b[37m\u001b[0m \u001b[1m0s\u001b[0m 15ms/step - loss: 2.0971 - mean_absolute_error: 1.2217 - r2_score: -7.8040 - val_loss: 1.3545 - val_mean_absolute_error: 0.9883 - val_r2_score: -4.6935\n",
      "Epoch 4/300\n",
      "\u001b[1m5/5\u001b[0m \u001b[32m━━━━━━━━━━━━━━━━━━━━\u001b[0m\u001b[37m\u001b[0m \u001b[1m0s\u001b[0m 16ms/step - loss: 1.1444 - mean_absolute_error: 0.8813 - r2_score: -3.7438 - val_loss: 0.7414 - val_mean_absolute_error: 0.7226 - val_r2_score: -2.1164\n",
      "Epoch 5/300\n",
      "\u001b[1m5/5\u001b[0m \u001b[32m━━━━━━━━━━━━━━━━━━━━\u001b[0m\u001b[37m\u001b[0m \u001b[1m0s\u001b[0m 15ms/step - loss: 0.6272 - mean_absolute_error: 0.6560 - r2_score: -1.5801 - val_loss: 0.4925 - val_mean_absolute_error: 0.5940 - val_r2_score: -1.0703\n",
      "Epoch 6/300\n",
      "\u001b[1m5/5\u001b[0m \u001b[32m━━━━━━━━━━━━━━━━━━━━\u001b[0m\u001b[37m\u001b[0m \u001b[1m0s\u001b[0m 15ms/step - loss: 0.4430 - mean_absolute_error: 0.5543 - r2_score: -0.8269 - val_loss: 0.3819 - val_mean_absolute_error: 0.5198 - val_r2_score: -0.6053\n",
      "Epoch 7/300\n",
      "\u001b[1m5/5\u001b[0m \u001b[32m━━━━━━━━━━━━━━━━━━━━\u001b[0m\u001b[37m\u001b[0m \u001b[1m0s\u001b[0m 15ms/step - loss: 0.3418 - mean_absolute_error: 0.4874 - r2_score: -0.4123 - val_loss: 0.3263 - val_mean_absolute_error: 0.4731 - val_r2_score: -0.3718\n",
      "Epoch 8/300\n",
      "\u001b[1m5/5\u001b[0m \u001b[32m━━━━━━━━━━━━━━━━━━━━\u001b[0m\u001b[37m\u001b[0m \u001b[1m0s\u001b[0m 15ms/step - loss: 0.2969 - mean_absolute_error: 0.4459 - r2_score: -0.2322 - val_loss: 0.2999 - val_mean_absolute_error: 0.4417 - val_r2_score: -0.2606\n",
      "Epoch 9/300\n",
      "\u001b[1m5/5\u001b[0m \u001b[32m━━━━━━━━━━━━━━━━━━━━\u001b[0m\u001b[37m\u001b[0m \u001b[1m0s\u001b[0m 15ms/step - loss: 0.2796 - mean_absolute_error: 0.4295 - r2_score: -0.1644 - val_loss: 0.2870 - val_mean_absolute_error: 0.4233 - val_r2_score: -0.2066\n",
      "Epoch 10/300\n",
      "\u001b[1m5/5\u001b[0m \u001b[32m━━━━━━━━━━━━━━━━━━━━\u001b[0m\u001b[37m\u001b[0m \u001b[1m0s\u001b[0m 16ms/step - loss: 0.2641 - mean_absolute_error: 0.4053 - r2_score: -0.1097 - val_loss: 0.2803 - val_mean_absolute_error: 0.4149 - val_r2_score: -0.1781\n",
      "Epoch 11/300\n",
      "\u001b[1m5/5\u001b[0m \u001b[32m━━━━━━━━━━━━━━━━━━━━\u001b[0m\u001b[37m\u001b[0m \u001b[1m0s\u001b[0m 15ms/step - loss: 0.2538 - mean_absolute_error: 0.3902 - r2_score: -0.0519 - val_loss: 0.2737 - val_mean_absolute_error: 0.4115 - val_r2_score: -0.1505\n",
      "Epoch 12/300\n",
      "\u001b[1m5/5\u001b[0m \u001b[32m━━━━━━━━━━━━━━━━━━━━\u001b[0m\u001b[37m\u001b[0m \u001b[1m0s\u001b[0m 15ms/step - loss: 0.2456 - mean_absolute_error: 0.3930 - r2_score: -0.0163 - val_loss: 0.2674 - val_mean_absolute_error: 0.4105 - val_r2_score: -0.1239\n",
      "Epoch 13/300\n",
      "\u001b[1m5/5\u001b[0m \u001b[32m━━━━━━━━━━━━━━━━━━━━\u001b[0m\u001b[37m\u001b[0m \u001b[1m0s\u001b[0m 16ms/step - loss: 0.2277 - mean_absolute_error: 0.3814 - r2_score: 0.0665 - val_loss: 0.2617 - val_mean_absolute_error: 0.4115 - val_r2_score: -0.1002\n",
      "Epoch 14/300\n",
      "\u001b[1m5/5\u001b[0m \u001b[32m━━━━━━━━━━━━━━━━━━━━\u001b[0m\u001b[37m\u001b[0m \u001b[1m0s\u001b[0m 16ms/step - loss: 0.2409 - mean_absolute_error: 0.3967 - r2_score: 0.0098 - val_loss: 0.2568 - val_mean_absolute_error: 0.4136 - val_r2_score: -0.0796\n",
      "Epoch 15/300\n",
      "\u001b[1m5/5\u001b[0m \u001b[32m━━━━━━━━━━━━━━━━━━━━\u001b[0m\u001b[37m\u001b[0m \u001b[1m0s\u001b[0m 14ms/step - loss: 0.2269 - mean_absolute_error: 0.3904 - r2_score: 0.0670 - val_loss: 0.2529 - val_mean_absolute_error: 0.4153 - val_r2_score: -0.0632\n",
      "Epoch 16/300\n",
      "\u001b[1m5/5\u001b[0m \u001b[32m━━━━━━━━━━━━━━━━━━━━\u001b[0m\u001b[37m\u001b[0m \u001b[1m0s\u001b[0m 14ms/step - loss: 0.2260 - mean_absolute_error: 0.3930 - r2_score: 0.0668 - val_loss: 0.2499 - val_mean_absolute_error: 0.4160 - val_r2_score: -0.0505\n",
      "Epoch 17/300\n",
      "\u001b[1m5/5\u001b[0m \u001b[32m━━━━━━━━━━━━━━━━━━━━\u001b[0m\u001b[37m\u001b[0m \u001b[1m0s\u001b[0m 15ms/step - loss: 0.2251 - mean_absolute_error: 0.3977 - r2_score: 0.0777 - val_loss: 0.2474 - val_mean_absolute_error: 0.4165 - val_r2_score: -0.0399\n",
      "Epoch 18/300\n",
      "\u001b[1m5/5\u001b[0m \u001b[32m━━━━━━━━━━━━━━━━━━━━\u001b[0m\u001b[37m\u001b[0m \u001b[1m0s\u001b[0m 14ms/step - loss: 0.2242 - mean_absolute_error: 0.3961 - r2_score: 0.0740 - val_loss: 0.2451 - val_mean_absolute_error: 0.4158 - val_r2_score: -0.0302\n",
      "Epoch 19/300\n",
      "\u001b[1m5/5\u001b[0m \u001b[32m━━━━━━━━━━━━━━━━━━━━\u001b[0m\u001b[37m\u001b[0m \u001b[1m0s\u001b[0m 14ms/step - loss: 0.2196 - mean_absolute_error: 0.3928 - r2_score: 0.0819 - val_loss: 0.2429 - val_mean_absolute_error: 0.4140 - val_r2_score: -0.0210\n",
      "Epoch 20/300\n",
      "\u001b[1m5/5\u001b[0m \u001b[32m━━━━━━━━━━━━━━━━━━━━\u001b[0m\u001b[37m\u001b[0m \u001b[1m0s\u001b[0m 15ms/step - loss: 0.2185 - mean_absolute_error: 0.3940 - r2_score: 0.0950 - val_loss: 0.2409 - val_mean_absolute_error: 0.4131 - val_r2_score: -0.0126\n",
      "Epoch 21/300\n",
      "\u001b[1m5/5\u001b[0m \u001b[32m━━━━━━━━━━━━━━━━━━━━\u001b[0m\u001b[37m\u001b[0m \u001b[1m0s\u001b[0m 15ms/step - loss: 0.2126 - mean_absolute_error: 0.3868 - r2_score: 0.1133 - val_loss: 0.2389 - val_mean_absolute_error: 0.4117 - val_r2_score: -0.0044\n",
      "Epoch 22/300\n",
      "\u001b[1m5/5\u001b[0m \u001b[32m━━━━━━━━━━━━━━━━━━━━\u001b[0m\u001b[37m\u001b[0m \u001b[1m0s\u001b[0m 18ms/step - loss: 0.2169 - mean_absolute_error: 0.3941 - r2_score: 0.0992 - val_loss: 0.2370 - val_mean_absolute_error: 0.4104 - val_r2_score: 0.0038\n",
      "Epoch 23/300\n",
      "\u001b[1m5/5\u001b[0m \u001b[32m━━━━━━━━━━━━━━━━━━━━\u001b[0m\u001b[37m\u001b[0m \u001b[1m0s\u001b[0m 14ms/step - loss: 0.2096 - mean_absolute_error: 0.3896 - r2_score: 0.1380 - val_loss: 0.2352 - val_mean_absolute_error: 0.4096 - val_r2_score: 0.0115\n",
      "Epoch 24/300\n",
      "\u001b[1m5/5\u001b[0m \u001b[32m━━━━━━━━━━━━━━━━━━━━\u001b[0m\u001b[37m\u001b[0m \u001b[1m0s\u001b[0m 16ms/step - loss: 0.2140 - mean_absolute_error: 0.3910 - r2_score: 0.1200 - val_loss: 0.2332 - val_mean_absolute_error: 0.4085 - val_r2_score: 0.0196\n",
      "Epoch 25/300\n",
      "\u001b[1m5/5\u001b[0m \u001b[32m━━━━━━━━━━━━━━━━━━━━\u001b[0m\u001b[37m\u001b[0m \u001b[1m0s\u001b[0m 16ms/step - loss: 0.2073 - mean_absolute_error: 0.3846 - r2_score: 0.1340 - val_loss: 0.2313 - val_mean_absolute_error: 0.4064 - val_r2_score: 0.0277\n",
      "Epoch 26/300\n",
      "\u001b[1m5/5\u001b[0m \u001b[32m━━━━━━━━━━━━━━━━━━━━\u001b[0m\u001b[37m\u001b[0m \u001b[1m0s\u001b[0m 14ms/step - loss: 0.2165 - mean_absolute_error: 0.3912 - r2_score: 0.1077 - val_loss: 0.2294 - val_mean_absolute_error: 0.4049 - val_r2_score: 0.0359\n",
      "Epoch 27/300\n",
      "\u001b[1m5/5\u001b[0m \u001b[32m━━━━━━━━━━━━━━━━━━━━\u001b[0m\u001b[37m\u001b[0m \u001b[1m0s\u001b[0m 14ms/step - loss: 0.2004 - mean_absolute_error: 0.3765 - r2_score: 0.1604 - val_loss: 0.2275 - val_mean_absolute_error: 0.4031 - val_r2_score: 0.0436\n",
      "Epoch 28/300\n",
      "\u001b[1m5/5\u001b[0m \u001b[32m━━━━━━━━━━━━━━━━━━━━\u001b[0m\u001b[37m\u001b[0m \u001b[1m0s\u001b[0m 15ms/step - loss: 0.2000 - mean_absolute_error: 0.3778 - r2_score: 0.1715 - val_loss: 0.2257 - val_mean_absolute_error: 0.4019 - val_r2_score: 0.0512\n",
      "Epoch 29/300\n",
      "\u001b[1m5/5\u001b[0m \u001b[32m━━━━━━━━━━━━━━━━━━━━\u001b[0m\u001b[37m\u001b[0m \u001b[1m0s\u001b[0m 14ms/step - loss: 0.1988 - mean_absolute_error: 0.3778 - r2_score: 0.1820 - val_loss: 0.2239 - val_mean_absolute_error: 0.4012 - val_r2_score: 0.0588\n",
      "Epoch 30/300\n",
      "\u001b[1m5/5\u001b[0m \u001b[32m━━━━━━━━━━━━━━━━━━━━\u001b[0m\u001b[37m\u001b[0m \u001b[1m0s\u001b[0m 15ms/step - loss: 0.1935 - mean_absolute_error: 0.3717 - r2_score: 0.2002 - val_loss: 0.2222 - val_mean_absolute_error: 0.4010 - val_r2_score: 0.0661\n",
      "Epoch 31/300\n",
      "\u001b[1m5/5\u001b[0m \u001b[32m━━━━━━━━━━━━━━━━━━━━\u001b[0m\u001b[37m\u001b[0m \u001b[1m0s\u001b[0m 15ms/step - loss: 0.2045 - mean_absolute_error: 0.3868 - r2_score: 0.1444 - val_loss: 0.2204 - val_mean_absolute_error: 0.3999 - val_r2_score: 0.0736\n",
      "Epoch 32/300\n",
      "\u001b[1m5/5\u001b[0m \u001b[32m━━━━━━━━━━━━━━━━━━━━\u001b[0m\u001b[37m\u001b[0m \u001b[1m0s\u001b[0m 14ms/step - loss: 0.1941 - mean_absolute_error: 0.3772 - r2_score: 0.1991 - val_loss: 0.2187 - val_mean_absolute_error: 0.3994 - val_r2_score: 0.0807\n",
      "Epoch 33/300\n",
      "\u001b[1m5/5\u001b[0m \u001b[32m━━━━━━━━━━━━━━━━━━━━\u001b[0m\u001b[37m\u001b[0m \u001b[1m0s\u001b[0m 14ms/step - loss: 0.2076 - mean_absolute_error: 0.3921 - r2_score: 0.1486 - val_loss: 0.2170 - val_mean_absolute_error: 0.3988 - val_r2_score: 0.0878\n",
      "Epoch 34/300\n",
      "\u001b[1m5/5\u001b[0m \u001b[32m━━━━━━━━━━━━━━━━━━━━\u001b[0m\u001b[37m\u001b[0m \u001b[1m0s\u001b[0m 16ms/step - loss: 0.1977 - mean_absolute_error: 0.3842 - r2_score: 0.1949 - val_loss: 0.2154 - val_mean_absolute_error: 0.3979 - val_r2_score: 0.0945\n",
      "Epoch 35/300\n",
      "\u001b[1m5/5\u001b[0m \u001b[32m━━━━━━━━━━━━━━━━━━━━\u001b[0m\u001b[37m\u001b[0m \u001b[1m0s\u001b[0m 15ms/step - loss: 0.1931 - mean_absolute_error: 0.3765 - r2_score: 0.1958 - val_loss: 0.2138 - val_mean_absolute_error: 0.3960 - val_r2_score: 0.1014\n",
      "Epoch 36/300\n",
      "\u001b[1m5/5\u001b[0m \u001b[32m━━━━━━━━━━━━━━━━━━━━\u001b[0m\u001b[37m\u001b[0m \u001b[1m0s\u001b[0m 15ms/step - loss: 0.1931 - mean_absolute_error: 0.3786 - r2_score: 0.2095 - val_loss: 0.2122 - val_mean_absolute_error: 0.3947 - val_r2_score: 0.1080\n",
      "Epoch 37/300\n",
      "\u001b[1m5/5\u001b[0m \u001b[32m━━━━━━━━━━━━━━━━━━━━\u001b[0m\u001b[37m\u001b[0m \u001b[1m0s\u001b[0m 15ms/step - loss: 0.1860 - mean_absolute_error: 0.3702 - r2_score: 0.2322 - val_loss: 0.2107 - val_mean_absolute_error: 0.3933 - val_r2_score: 0.1145\n",
      "Epoch 38/300\n",
      "\u001b[1m5/5\u001b[0m \u001b[32m━━━━━━━━━━━━━━━━━━━━\u001b[0m\u001b[37m\u001b[0m \u001b[1m0s\u001b[0m 15ms/step - loss: 0.1924 - mean_absolute_error: 0.3788 - r2_score: 0.2022 - val_loss: 0.2089 - val_mean_absolute_error: 0.3920 - val_r2_score: 0.1218\n",
      "Epoch 39/300\n",
      "\u001b[1m5/5\u001b[0m \u001b[32m━━━━━━━━━━━━━━━━━━━━\u001b[0m\u001b[37m\u001b[0m \u001b[1m0s\u001b[0m 15ms/step - loss: 0.1809 - mean_absolute_error: 0.3651 - r2_score: 0.2545 - val_loss: 0.2071 - val_mean_absolute_error: 0.3911 - val_r2_score: 0.1293\n",
      "Epoch 40/300\n",
      "\u001b[1m5/5\u001b[0m \u001b[32m━━━━━━━━━━━━━━━━━━━━\u001b[0m\u001b[37m\u001b[0m \u001b[1m0s\u001b[0m 15ms/step - loss: 0.1847 - mean_absolute_error: 0.3708 - r2_score: 0.2425 - val_loss: 0.2053 - val_mean_absolute_error: 0.3909 - val_r2_score: 0.1369\n",
      "Epoch 41/300\n",
      "\u001b[1m5/5\u001b[0m \u001b[32m━━━━━━━━━━━━━━━━━━━━\u001b[0m\u001b[37m\u001b[0m \u001b[1m0s\u001b[0m 14ms/step - loss: 0.1800 - mean_absolute_error: 0.3668 - r2_score: 0.2462 - val_loss: 0.2035 - val_mean_absolute_error: 0.3896 - val_r2_score: 0.1446\n",
      "Epoch 42/300\n",
      "\u001b[1m5/5\u001b[0m \u001b[32m━━━━━━━━━━━━━━━━━━━━\u001b[0m\u001b[37m\u001b[0m \u001b[1m0s\u001b[0m 14ms/step - loss: 0.1855 - mean_absolute_error: 0.3753 - r2_score: 0.2403 - val_loss: 0.2016 - val_mean_absolute_error: 0.3897 - val_r2_score: 0.1526\n",
      "Epoch 43/300\n",
      "\u001b[1m5/5\u001b[0m \u001b[32m━━━━━━━━━━━━━━━━━━━━\u001b[0m\u001b[37m\u001b[0m \u001b[1m0s\u001b[0m 16ms/step - loss: 0.1825 - mean_absolute_error: 0.3730 - r2_score: 0.2462 - val_loss: 0.1998 - val_mean_absolute_error: 0.3882 - val_r2_score: 0.1602\n",
      "Epoch 44/300\n",
      "\u001b[1m5/5\u001b[0m \u001b[32m━━━━━━━━━━━━━━━━━━━━\u001b[0m\u001b[37m\u001b[0m \u001b[1m0s\u001b[0m 15ms/step - loss: 0.1775 - mean_absolute_error: 0.3676 - r2_score: 0.2540 - val_loss: 0.1978 - val_mean_absolute_error: 0.3860 - val_r2_score: 0.1686\n",
      "Epoch 45/300\n",
      "\u001b[1m5/5\u001b[0m \u001b[32m━━━━━━━━━━━━━━━━━━━━\u001b[0m\u001b[37m\u001b[0m \u001b[1m0s\u001b[0m 14ms/step - loss: 0.1723 - mean_absolute_error: 0.3616 - r2_score: 0.2869 - val_loss: 0.1957 - val_mean_absolute_error: 0.3845 - val_r2_score: 0.1773\n",
      "Epoch 46/300\n",
      "\u001b[1m5/5\u001b[0m \u001b[32m━━━━━━━━━━━━━━━━━━━━\u001b[0m\u001b[37m\u001b[0m \u001b[1m0s\u001b[0m 14ms/step - loss: 0.1771 - mean_absolute_error: 0.3672 - r2_score: 0.2735 - val_loss: 0.1936 - val_mean_absolute_error: 0.3836 - val_r2_score: 0.1862\n",
      "Epoch 47/300\n",
      "\u001b[1m5/5\u001b[0m \u001b[32m━━━━━━━━━━━━━━━━━━━━\u001b[0m\u001b[37m\u001b[0m \u001b[1m0s\u001b[0m 15ms/step - loss: 0.1709 - mean_absolute_error: 0.3642 - r2_score: 0.3007 - val_loss: 0.1915 - val_mean_absolute_error: 0.3816 - val_r2_score: 0.1949\n",
      "Epoch 48/300\n",
      "\u001b[1m5/5\u001b[0m \u001b[32m━━━━━━━━━━━━━━━━━━━━\u001b[0m\u001b[37m\u001b[0m \u001b[1m0s\u001b[0m 14ms/step - loss: 0.1705 - mean_absolute_error: 0.3605 - r2_score: 0.2894 - val_loss: 0.1894 - val_mean_absolute_error: 0.3792 - val_r2_score: 0.2041\n",
      "Epoch 49/300\n",
      "\u001b[1m5/5\u001b[0m \u001b[32m━━━━━━━━━━━━━━━━━━━━\u001b[0m\u001b[37m\u001b[0m \u001b[1m0s\u001b[0m 14ms/step - loss: 0.1697 - mean_absolute_error: 0.3587 - r2_score: 0.2926 - val_loss: 0.1871 - val_mean_absolute_error: 0.3773 - val_r2_score: 0.2134\n",
      "Epoch 50/300\n",
      "\u001b[1m5/5\u001b[0m \u001b[32m━━━━━━━━━━━━━━━━━━━━\u001b[0m\u001b[37m\u001b[0m \u001b[1m0s\u001b[0m 14ms/step - loss: 0.1654 - mean_absolute_error: 0.3554 - r2_score: 0.2969 - val_loss: 0.1850 - val_mean_absolute_error: 0.3750 - val_r2_score: 0.2222\n",
      "Epoch 51/300\n",
      "\u001b[1m5/5\u001b[0m \u001b[32m━━━━━━━━━━━━━━━━━━━━\u001b[0m\u001b[37m\u001b[0m \u001b[1m0s\u001b[0m 14ms/step - loss: 0.1651 - mean_absolute_error: 0.3549 - r2_score: 0.3168 - val_loss: 0.1830 - val_mean_absolute_error: 0.3741 - val_r2_score: 0.2308\n",
      "Epoch 52/300\n",
      "\u001b[1m5/5\u001b[0m \u001b[32m━━━━━━━━━━━━━━━━━━━━\u001b[0m\u001b[37m\u001b[0m \u001b[1m0s\u001b[0m 15ms/step - loss: 0.1603 - mean_absolute_error: 0.3523 - r2_score: 0.3375 - val_loss: 0.1810 - val_mean_absolute_error: 0.3726 - val_r2_score: 0.2392\n",
      "Epoch 53/300\n",
      "\u001b[1m5/5\u001b[0m \u001b[32m━━━━━━━━━━━━━━━━━━━━\u001b[0m\u001b[37m\u001b[0m \u001b[1m0s\u001b[0m 15ms/step - loss: 0.1598 - mean_absolute_error: 0.3509 - r2_score: 0.3342 - val_loss: 0.1789 - val_mean_absolute_error: 0.3707 - val_r2_score: 0.2479\n",
      "Epoch 54/300\n",
      "\u001b[1m5/5\u001b[0m \u001b[32m━━━━━━━━━━━━━━━━━━━━\u001b[0m\u001b[37m\u001b[0m \u001b[1m0s\u001b[0m 15ms/step - loss: 0.1680 - mean_absolute_error: 0.3613 - r2_score: 0.3095 - val_loss: 0.1769 - val_mean_absolute_error: 0.3686 - val_r2_score: 0.2564\n",
      "Epoch 55/300\n",
      "\u001b[1m5/5\u001b[0m \u001b[32m━━━━━━━━━━━━━━━━━━━━\u001b[0m\u001b[37m\u001b[0m \u001b[1m0s\u001b[0m 15ms/step - loss: 0.1589 - mean_absolute_error: 0.3514 - r2_score: 0.3405 - val_loss: 0.1750 - val_mean_absolute_error: 0.3654 - val_r2_score: 0.2645\n",
      "Epoch 56/300\n",
      "\u001b[1m5/5\u001b[0m \u001b[32m━━━━━━━━━━━━━━━━━━━━\u001b[0m\u001b[37m\u001b[0m \u001b[1m0s\u001b[0m 14ms/step - loss: 0.1503 - mean_absolute_error: 0.3397 - r2_score: 0.3795 - val_loss: 0.1731 - val_mean_absolute_error: 0.3625 - val_r2_score: 0.2723\n",
      "Epoch 57/300\n",
      "\u001b[1m5/5\u001b[0m \u001b[32m━━━━━━━━━━━━━━━━━━━━\u001b[0m\u001b[37m\u001b[0m \u001b[1m0s\u001b[0m 15ms/step - loss: 0.1533 - mean_absolute_error: 0.3410 - r2_score: 0.3635 - val_loss: 0.1713 - val_mean_absolute_error: 0.3592 - val_r2_score: 0.2799\n",
      "Epoch 58/300\n",
      "\u001b[1m5/5\u001b[0m \u001b[32m━━━━━━━━━━━━━━━━━━━━\u001b[0m\u001b[37m\u001b[0m \u001b[1m0s\u001b[0m 14ms/step - loss: 0.1541 - mean_absolute_error: 0.3407 - r2_score: 0.3587 - val_loss: 0.1695 - val_mean_absolute_error: 0.3568 - val_r2_score: 0.2874\n",
      "Epoch 59/300\n",
      "\u001b[1m5/5\u001b[0m \u001b[32m━━━━━━━━━━━━━━━━━━━━\u001b[0m\u001b[37m\u001b[0m \u001b[1m0s\u001b[0m 17ms/step - loss: 0.1428 - mean_absolute_error: 0.3270 - r2_score: 0.3991 - val_loss: 0.1678 - val_mean_absolute_error: 0.3550 - val_r2_score: 0.2948\n",
      "Epoch 60/300\n",
      "\u001b[1m5/5\u001b[0m \u001b[32m━━━━━━━━━━━━━━━━━━━━\u001b[0m\u001b[37m\u001b[0m \u001b[1m0s\u001b[0m 16ms/step - loss: 0.1499 - mean_absolute_error: 0.3353 - r2_score: 0.3791 - val_loss: 0.1660 - val_mean_absolute_error: 0.3541 - val_r2_score: 0.3022\n",
      "Epoch 61/300\n",
      "\u001b[1m5/5\u001b[0m \u001b[32m━━━━━━━━━━━━━━━━━━━━\u001b[0m\u001b[37m\u001b[0m \u001b[1m0s\u001b[0m 17ms/step - loss: 0.1488 - mean_absolute_error: 0.3358 - r2_score: 0.3875 - val_loss: 0.1643 - val_mean_absolute_error: 0.3512 - val_r2_score: 0.3092\n",
      "Epoch 62/300\n",
      "\u001b[1m5/5\u001b[0m \u001b[32m━━━━━━━━━━━━━━━━━━━━\u001b[0m\u001b[37m\u001b[0m \u001b[1m0s\u001b[0m 15ms/step - loss: 0.1394 - mean_absolute_error: 0.3225 - r2_score: 0.4237 - val_loss: 0.1628 - val_mean_absolute_error: 0.3459 - val_r2_score: 0.3155\n",
      "Epoch 63/300\n",
      "\u001b[1m5/5\u001b[0m \u001b[32m━━━━━━━━━━━━━━━━━━━━\u001b[0m\u001b[37m\u001b[0m \u001b[1m0s\u001b[0m 15ms/step - loss: 0.1488 - mean_absolute_error: 0.3311 - r2_score: 0.3812 - val_loss: 0.1613 - val_mean_absolute_error: 0.3436 - val_r2_score: 0.3219\n",
      "Epoch 64/300\n",
      "\u001b[1m5/5\u001b[0m \u001b[32m━━━━━━━━━━━━━━━━━━━━\u001b[0m\u001b[37m\u001b[0m \u001b[1m0s\u001b[0m 15ms/step - loss: 0.1436 - mean_absolute_error: 0.3239 - r2_score: 0.4123 - val_loss: 0.1598 - val_mean_absolute_error: 0.3419 - val_r2_score: 0.3282\n",
      "Epoch 65/300\n",
      "\u001b[1m5/5\u001b[0m \u001b[32m━━━━━━━━━━━━━━━━━━━━\u001b[0m\u001b[37m\u001b[0m \u001b[1m0s\u001b[0m 19ms/step - loss: 0.1428 - mean_absolute_error: 0.3215 - r2_score: 0.4141 - val_loss: 0.1584 - val_mean_absolute_error: 0.3392 - val_r2_score: 0.3340\n",
      "Epoch 66/300\n",
      "\u001b[1m5/5\u001b[0m \u001b[32m━━━━━━━━━━━━━━━━━━━━\u001b[0m\u001b[37m\u001b[0m \u001b[1m0s\u001b[0m 16ms/step - loss: 0.1369 - mean_absolute_error: 0.3131 - r2_score: 0.4333 - val_loss: 0.1571 - val_mean_absolute_error: 0.3369 - val_r2_score: 0.3397\n",
      "Epoch 67/300\n",
      "\u001b[1m5/5\u001b[0m \u001b[32m━━━━━━━━━━━━━━━━━━━━\u001b[0m\u001b[37m\u001b[0m \u001b[1m0s\u001b[0m 16ms/step - loss: 0.1362 - mean_absolute_error: 0.3125 - r2_score: 0.4397 - val_loss: 0.1558 - val_mean_absolute_error: 0.3350 - val_r2_score: 0.3450\n",
      "Epoch 68/300\n",
      "\u001b[1m5/5\u001b[0m \u001b[32m━━━━━━━━━━━━━━━━━━━━\u001b[0m\u001b[37m\u001b[0m \u001b[1m0s\u001b[0m 14ms/step - loss: 0.1439 - mean_absolute_error: 0.3194 - r2_score: 0.4084 - val_loss: 0.1546 - val_mean_absolute_error: 0.3335 - val_r2_score: 0.3503\n",
      "Epoch 69/300\n",
      "\u001b[1m5/5\u001b[0m \u001b[32m━━━━━━━━━━━━━━━━━━━━\u001b[0m\u001b[37m\u001b[0m \u001b[1m0s\u001b[0m 15ms/step - loss: 0.1438 - mean_absolute_error: 0.3197 - r2_score: 0.4160 - val_loss: 0.1534 - val_mean_absolute_error: 0.3317 - val_r2_score: 0.3552\n",
      "Epoch 70/300\n",
      "\u001b[1m5/5\u001b[0m \u001b[32m━━━━━━━━━━━━━━━━━━━━\u001b[0m\u001b[37m\u001b[0m \u001b[1m0s\u001b[0m 15ms/step - loss: 0.1347 - mean_absolute_error: 0.3091 - r2_score: 0.4481 - val_loss: 0.1528 - val_mean_absolute_error: 0.3285 - val_r2_score: 0.3577\n",
      "Epoch 71/300\n",
      "\u001b[1m5/5\u001b[0m \u001b[32m━━━━━━━━━━━━━━━━━━━━\u001b[0m\u001b[37m\u001b[0m \u001b[1m0s\u001b[0m 15ms/step - loss: 0.1390 - mean_absolute_error: 0.3088 - r2_score: 0.4203 - val_loss: 0.1519 - val_mean_absolute_error: 0.3267 - val_r2_score: 0.3616\n",
      "Epoch 72/300\n",
      "\u001b[1m5/5\u001b[0m \u001b[32m━━━━━━━━━━━━━━━━━━━━\u001b[0m\u001b[37m\u001b[0m \u001b[1m0s\u001b[0m 15ms/step - loss: 0.1330 - mean_absolute_error: 0.3030 - r2_score: 0.4475 - val_loss: 0.1507 - val_mean_absolute_error: 0.3256 - val_r2_score: 0.3668\n",
      "Epoch 73/300\n",
      "\u001b[1m5/5\u001b[0m \u001b[32m━━━━━━━━━━━━━━━━━━━━\u001b[0m\u001b[37m\u001b[0m \u001b[1m0s\u001b[0m 15ms/step - loss: 0.1389 - mean_absolute_error: 0.3069 - r2_score: 0.4270 - val_loss: 0.1496 - val_mean_absolute_error: 0.3249 - val_r2_score: 0.3712\n",
      "Epoch 74/300\n",
      "\u001b[1m5/5\u001b[0m \u001b[32m━━━━━━━━━━━━━━━━━━━━\u001b[0m\u001b[37m\u001b[0m \u001b[1m0s\u001b[0m 15ms/step - loss: 0.1312 - mean_absolute_error: 0.2997 - r2_score: 0.4585 - val_loss: 0.1487 - val_mean_absolute_error: 0.3232 - val_r2_score: 0.3748\n",
      "Epoch 75/300\n",
      "\u001b[1m5/5\u001b[0m \u001b[32m━━━━━━━━━━━━━━━━━━━━\u001b[0m\u001b[37m\u001b[0m \u001b[1m0s\u001b[0m 17ms/step - loss: 0.1344 - mean_absolute_error: 0.3033 - r2_score: 0.4481 - val_loss: 0.1481 - val_mean_absolute_error: 0.3209 - val_r2_score: 0.3777\n",
      "Epoch 76/300\n",
      "\u001b[1m5/5\u001b[0m \u001b[32m━━━━━━━━━━━━━━━━━━━━\u001b[0m\u001b[37m\u001b[0m \u001b[1m0s\u001b[0m 15ms/step - loss: 0.1319 - mean_absolute_error: 0.2963 - r2_score: 0.4524 - val_loss: 0.1476 - val_mean_absolute_error: 0.3185 - val_r2_score: 0.3795\n",
      "Epoch 77/300\n",
      "\u001b[1m5/5\u001b[0m \u001b[32m━━━━━━━━━━━━━━━━━━━━\u001b[0m\u001b[37m\u001b[0m \u001b[1m0s\u001b[0m 15ms/step - loss: 0.1294 - mean_absolute_error: 0.2946 - r2_score: 0.4689 - val_loss: 0.1469 - val_mean_absolute_error: 0.3170 - val_r2_score: 0.3825\n",
      "Epoch 78/300\n",
      "\u001b[1m5/5\u001b[0m \u001b[32m━━━━━━━━━━━━━━━━━━━━\u001b[0m\u001b[37m\u001b[0m \u001b[1m0s\u001b[0m 15ms/step - loss: 0.1220 - mean_absolute_error: 0.2841 - r2_score: 0.4957 - val_loss: 0.1460 - val_mean_absolute_error: 0.3163 - val_r2_score: 0.3864\n",
      "Epoch 79/300\n",
      "\u001b[1m5/5\u001b[0m \u001b[32m━━━━━━━━━━━━━━━━━━━━\u001b[0m\u001b[37m\u001b[0m \u001b[1m0s\u001b[0m 15ms/step - loss: 0.1366 - mean_absolute_error: 0.3035 - r2_score: 0.4374 - val_loss: 0.1454 - val_mean_absolute_error: 0.3150 - val_r2_score: 0.3887\n",
      "Epoch 80/300\n",
      "\u001b[1m5/5\u001b[0m \u001b[32m━━━━━━━━━━━━━━━━━━━━\u001b[0m\u001b[37m\u001b[0m \u001b[1m0s\u001b[0m 14ms/step - loss: 0.1290 - mean_absolute_error: 0.2922 - r2_score: 0.4654 - val_loss: 0.1450 - val_mean_absolute_error: 0.3135 - val_r2_score: 0.3903\n",
      "Epoch 81/300\n",
      "\u001b[1m5/5\u001b[0m \u001b[32m━━━━━━━━━━━━━━━━━━━━\u001b[0m\u001b[37m\u001b[0m \u001b[1m0s\u001b[0m 14ms/step - loss: 0.1329 - mean_absolute_error: 0.2950 - r2_score: 0.4546 - val_loss: 0.1447 - val_mean_absolute_error: 0.3120 - val_r2_score: 0.3919\n",
      "Epoch 82/300\n",
      "\u001b[1m5/5\u001b[0m \u001b[32m━━━━━━━━━━━━━━━━━━━━\u001b[0m\u001b[37m\u001b[0m \u001b[1m0s\u001b[0m 14ms/step - loss: 0.1302 - mean_absolute_error: 0.2904 - r2_score: 0.4649 - val_loss: 0.1442 - val_mean_absolute_error: 0.3108 - val_r2_score: 0.3939\n",
      "Epoch 83/300\n",
      "\u001b[1m5/5\u001b[0m \u001b[32m━━━━━━━━━━━━━━━━━━━━\u001b[0m\u001b[37m\u001b[0m \u001b[1m0s\u001b[0m 15ms/step - loss: 0.1281 - mean_absolute_error: 0.2854 - r2_score: 0.4674 - val_loss: 0.1438 - val_mean_absolute_error: 0.3095 - val_r2_score: 0.3955\n",
      "Epoch 84/300\n",
      "\u001b[1m5/5\u001b[0m \u001b[32m━━━━━━━━━━━━━━━━━━━━\u001b[0m\u001b[37m\u001b[0m \u001b[1m0s\u001b[0m 15ms/step - loss: 0.1299 - mean_absolute_error: 0.2891 - r2_score: 0.4613 - val_loss: 0.1434 - val_mean_absolute_error: 0.3082 - val_r2_score: 0.3970\n",
      "Epoch 85/300\n",
      "\u001b[1m5/5\u001b[0m \u001b[32m━━━━━━━━━━━━━━━━━━━━\u001b[0m\u001b[37m\u001b[0m \u001b[1m0s\u001b[0m 14ms/step - loss: 0.1294 - mean_absolute_error: 0.2889 - r2_score: 0.4669 - val_loss: 0.1430 - val_mean_absolute_error: 0.3069 - val_r2_score: 0.3987\n",
      "Epoch 86/300\n",
      "\u001b[1m5/5\u001b[0m \u001b[32m━━━━━━━━━━━━━━━━━━━━\u001b[0m\u001b[37m\u001b[0m \u001b[1m0s\u001b[0m 14ms/step - loss: 0.1313 - mean_absolute_error: 0.2870 - r2_score: 0.4562 - val_loss: 0.1427 - val_mean_absolute_error: 0.3055 - val_r2_score: 0.4000\n",
      "Epoch 87/300\n",
      "\u001b[1m5/5\u001b[0m \u001b[32m━━━━━━━━━━━━━━━━━━━━\u001b[0m\u001b[37m\u001b[0m \u001b[1m0s\u001b[0m 15ms/step - loss: 0.1313 - mean_absolute_error: 0.2878 - r2_score: 0.4567 - val_loss: 0.1424 - val_mean_absolute_error: 0.3038 - val_r2_score: 0.4013\n",
      "Epoch 88/300\n",
      "\u001b[1m5/5\u001b[0m \u001b[32m━━━━━━━━━━━━━━━━━━━━\u001b[0m\u001b[37m\u001b[0m \u001b[1m0s\u001b[0m 15ms/step - loss: 0.1281 - mean_absolute_error: 0.2815 - r2_score: 0.4671 - val_loss: 0.1422 - val_mean_absolute_error: 0.3018 - val_r2_score: 0.4021\n",
      "Epoch 89/300\n",
      "\u001b[1m5/5\u001b[0m \u001b[32m━━━━━━━━━━━━━━━━━━━━\u001b[0m\u001b[37m\u001b[0m \u001b[1m0s\u001b[0m 14ms/step - loss: 0.1289 - mean_absolute_error: 0.2767 - r2_score: 0.4598 - val_loss: 0.1420 - val_mean_absolute_error: 0.2998 - val_r2_score: 0.4031\n",
      "Epoch 90/300\n",
      "\u001b[1m5/5\u001b[0m \u001b[32m━━━━━━━━━━━━━━━━━━━━\u001b[0m\u001b[37m\u001b[0m \u001b[1m0s\u001b[0m 14ms/step - loss: 0.1237 - mean_absolute_error: 0.2716 - r2_score: 0.4819 - val_loss: 0.1411 - val_mean_absolute_error: 0.2973 - val_r2_score: 0.4068\n",
      "Epoch 91/300\n",
      "\u001b[1m5/5\u001b[0m \u001b[32m━━━━━━━━━━━━━━━━━━━━\u001b[0m\u001b[37m\u001b[0m \u001b[1m0s\u001b[0m 14ms/step - loss: 0.1257 - mean_absolute_error: 0.2723 - r2_score: 0.4744 - val_loss: 0.1409 - val_mean_absolute_error: 0.2940 - val_r2_score: 0.4079\n",
      "Epoch 92/300\n",
      "\u001b[1m5/5\u001b[0m \u001b[32m━━━━━━━━━━━━━━━━━━━━\u001b[0m\u001b[37m\u001b[0m \u001b[1m0s\u001b[0m 15ms/step - loss: 0.1201 - mean_absolute_error: 0.2622 - r2_score: 0.5060 - val_loss: 0.1410 - val_mean_absolute_error: 0.2912 - val_r2_score: 0.4072\n",
      "Epoch 93/300\n",
      "\u001b[1m5/5\u001b[0m \u001b[32m━━━━━━━━━━━━━━━━━━━━\u001b[0m\u001b[37m\u001b[0m \u001b[1m0s\u001b[0m 15ms/step - loss: 0.1298 - mean_absolute_error: 0.2698 - r2_score: 0.4668 - val_loss: 0.1423 - val_mean_absolute_error: 0.2936 - val_r2_score: 0.4018\n",
      "Epoch 94/300\n",
      "\u001b[1m5/5\u001b[0m \u001b[32m━━━━━━━━━━━━━━━━━━━━\u001b[0m\u001b[37m\u001b[0m \u001b[1m0s\u001b[0m 14ms/step - loss: 0.1264 - mean_absolute_error: 0.2681 - r2_score: 0.4686 - val_loss: 0.1414 - val_mean_absolute_error: 0.2918 - val_r2_score: 0.4057\n",
      "Epoch 95/300\n",
      "\u001b[1m5/5\u001b[0m \u001b[32m━━━━━━━━━━━━━━━━━━━━\u001b[0m\u001b[37m\u001b[0m \u001b[1m0s\u001b[0m 19ms/step - loss: 0.1242 - mean_absolute_error: 0.2636 - r2_score: 0.4880 - val_loss: 0.1406 - val_mean_absolute_error: 0.2924 - val_r2_score: 0.4088\n",
      "Epoch 96/300\n",
      "\u001b[1m5/5\u001b[0m \u001b[32m━━━━━━━━━━━━━━━━━━━━\u001b[0m\u001b[37m\u001b[0m \u001b[1m0s\u001b[0m 14ms/step - loss: 0.1249 - mean_absolute_error: 0.2640 - r2_score: 0.4749 - val_loss: 0.1411 - val_mean_absolute_error: 0.2920 - val_r2_score: 0.4069\n",
      "Epoch 97/300\n",
      "\u001b[1m5/5\u001b[0m \u001b[32m━━━━━━━━━━━━━━━━━━━━\u001b[0m\u001b[37m\u001b[0m \u001b[1m0s\u001b[0m 15ms/step - loss: 0.1262 - mean_absolute_error: 0.2649 - r2_score: 0.4775 - val_loss: 0.1417 - val_mean_absolute_error: 0.2929 - val_r2_score: 0.4043\n",
      "Epoch 98/300\n",
      "\u001b[1m5/5\u001b[0m \u001b[32m━━━━━━━━━━━━━━━━━━━━\u001b[0m\u001b[37m\u001b[0m \u001b[1m0s\u001b[0m 15ms/step - loss: 0.1276 - mean_absolute_error: 0.2667 - r2_score: 0.4749 - val_loss: 0.1413 - val_mean_absolute_error: 0.2922 - val_r2_score: 0.4060\n",
      "Epoch 99/300\n",
      "\u001b[1m5/5\u001b[0m \u001b[32m━━━━━━━━━━━━━━━━━━━━\u001b[0m\u001b[37m\u001b[0m \u001b[1m0s\u001b[0m 14ms/step - loss: 0.1287 - mean_absolute_error: 0.2700 - r2_score: 0.4680 - val_loss: 0.1412 - val_mean_absolute_error: 0.2921 - val_r2_score: 0.4064\n",
      "Epoch 100/300\n",
      "\u001b[1m5/5\u001b[0m \u001b[32m━━━━━━━━━━━━━━━━━━━━\u001b[0m\u001b[37m\u001b[0m \u001b[1m0s\u001b[0m 14ms/step - loss: 0.1292 - mean_absolute_error: 0.2685 - r2_score: 0.4652 - val_loss: 0.1414 - val_mean_absolute_error: 0.2921 - val_r2_score: 0.4057\n",
      "Epoch 101/300\n",
      "\u001b[1m5/5\u001b[0m \u001b[32m━━━━━━━━━━━━━━━━━━━━\u001b[0m\u001b[37m\u001b[0m \u001b[1m0s\u001b[0m 15ms/step - loss: 0.1255 - mean_absolute_error: 0.2656 - r2_score: 0.4858 - val_loss: 0.1416 - val_mean_absolute_error: 0.2920 - val_r2_score: 0.4048\n",
      "Epoch 102/300\n",
      "\u001b[1m5/5\u001b[0m \u001b[32m━━━━━━━━━━━━━━━━━━━━\u001b[0m\u001b[37m\u001b[0m \u001b[1m0s\u001b[0m 15ms/step - loss: 0.1220 - mean_absolute_error: 0.2609 - r2_score: 0.4888 - val_loss: 0.1416 - val_mean_absolute_error: 0.2920 - val_r2_score: 0.4046\n",
      "Epoch 103/300\n",
      "\u001b[1m5/5\u001b[0m \u001b[32m━━━━━━━━━━━━━━━━━━━━\u001b[0m\u001b[37m\u001b[0m \u001b[1m0s\u001b[0m 16ms/step - loss: 0.1270 - mean_absolute_error: 0.2672 - r2_score: 0.4736 - val_loss: 0.1413 - val_mean_absolute_error: 0.2919 - val_r2_score: 0.4061\n",
      "Epoch 104/300\n",
      "\u001b[1m5/5\u001b[0m \u001b[32m━━━━━━━━━━━━━━━━━━━━\u001b[0m\u001b[37m\u001b[0m \u001b[1m0s\u001b[0m 15ms/step - loss: 0.1238 - mean_absolute_error: 0.2622 - r2_score: 0.4838 - val_loss: 0.1414 - val_mean_absolute_error: 0.2920 - val_r2_score: 0.4057\n",
      "Epoch 105/300\n",
      "\u001b[1m5/5\u001b[0m \u001b[32m━━━━━━━━━━━━━━━━━━━━\u001b[0m\u001b[37m\u001b[0m \u001b[1m0s\u001b[0m 14ms/step - loss: 0.1221 - mean_absolute_error: 0.2622 - r2_score: 0.4945 - val_loss: 0.1416 - val_mean_absolute_error: 0.2922 - val_r2_score: 0.4047\n",
      "Epoch 106/300\n",
      "\u001b[1m5/5\u001b[0m \u001b[32m━━━━━━━━━━━━━━━━━━━━\u001b[0m\u001b[37m\u001b[0m \u001b[1m0s\u001b[0m 15ms/step - loss: 0.1293 - mean_absolute_error: 0.2661 - r2_score: 0.4668 - val_loss: 0.1415 - val_mean_absolute_error: 0.2922 - val_r2_score: 0.4053\n",
      "Epoch 107/300\n",
      "\u001b[1m5/5\u001b[0m \u001b[32m━━━━━━━━━━━━━━━━━━━━\u001b[0m\u001b[37m\u001b[0m \u001b[1m0s\u001b[0m 15ms/step - loss: 0.1248 - mean_absolute_error: 0.2638 - r2_score: 0.4852 - val_loss: 0.1414 - val_mean_absolute_error: 0.2917 - val_r2_score: 0.4054\n",
      "Epoch 108/300\n",
      "\u001b[1m5/5\u001b[0m \u001b[32m━━━━━━━━━━━━━━━━━━━━\u001b[0m\u001b[37m\u001b[0m \u001b[1m0s\u001b[0m 14ms/step - loss: 0.1260 - mean_absolute_error: 0.2661 - r2_score: 0.4674 - val_loss: 0.1413 - val_mean_absolute_error: 0.2910 - val_r2_score: 0.4061\n",
      "Epoch 109/300\n",
      "\u001b[1m5/5\u001b[0m \u001b[32m━━━━━━━━━━━━━━━━━━━━\u001b[0m\u001b[37m\u001b[0m \u001b[1m0s\u001b[0m 14ms/step - loss: 0.1263 - mean_absolute_error: 0.2631 - r2_score: 0.4726 - val_loss: 0.1416 - val_mean_absolute_error: 0.2911 - val_r2_score: 0.4050\n",
      "Epoch 110/300\n",
      "\u001b[1m5/5\u001b[0m \u001b[32m━━━━━━━━━━━━━━━━━━━━\u001b[0m\u001b[37m\u001b[0m \u001b[1m0s\u001b[0m 15ms/step - loss: 0.1243 - mean_absolute_error: 0.2627 - r2_score: 0.4907 - val_loss: 0.1419 - val_mean_absolute_error: 0.2917 - val_r2_score: 0.4037\n",
      "Epoch 111/300\n",
      "\u001b[1m5/5\u001b[0m \u001b[32m━━━━━━━━━━━━━━━━━━━━\u001b[0m\u001b[37m\u001b[0m \u001b[1m0s\u001b[0m 15ms/step - loss: 0.1254 - mean_absolute_error: 0.2624 - r2_score: 0.4809 - val_loss: 0.1417 - val_mean_absolute_error: 0.2913 - val_r2_score: 0.4043\n",
      "Epoch 112/300\n",
      "\u001b[1m5/5\u001b[0m \u001b[32m━━━━━━━━━━━━━━━━━━━━\u001b[0m\u001b[37m\u001b[0m \u001b[1m0s\u001b[0m 15ms/step - loss: 0.1301 - mean_absolute_error: 0.2720 - r2_score: 0.4592 - val_loss: 0.1415 - val_mean_absolute_error: 0.2911 - val_r2_score: 0.4052\n",
      "Epoch 113/300\n",
      "\u001b[1m5/5\u001b[0m \u001b[32m━━━━━━━━━━━━━━━━━━━━\u001b[0m\u001b[37m\u001b[0m \u001b[1m0s\u001b[0m 14ms/step - loss: 0.1275 - mean_absolute_error: 0.2648 - r2_score: 0.4690 - val_loss: 0.1414 - val_mean_absolute_error: 0.2915 - val_r2_score: 0.4058\n",
      "Epoch 114/300\n",
      "\u001b[1m5/5\u001b[0m \u001b[32m━━━━━━━━━━━━━━━━━━━━\u001b[0m\u001b[37m\u001b[0m \u001b[1m0s\u001b[0m 14ms/step - loss: 0.1255 - mean_absolute_error: 0.2659 - r2_score: 0.4845 - val_loss: 0.1418 - val_mean_absolute_error: 0.2921 - val_r2_score: 0.4039\n",
      "Epoch 115/300\n",
      "\u001b[1m5/5\u001b[0m \u001b[32m━━━━━━━━━━━━━━━━━━━━\u001b[0m\u001b[37m\u001b[0m \u001b[1m0s\u001b[0m 14ms/step - loss: 0.1287 - mean_absolute_error: 0.2705 - r2_score: 0.4659 - val_loss: 0.1418 - val_mean_absolute_error: 0.2918 - val_r2_score: 0.4041\n",
      "Epoch 116/300\n",
      "\u001b[1m5/5\u001b[0m \u001b[32m━━━━━━━━━━━━━━━━━━━━\u001b[0m\u001b[37m\u001b[0m \u001b[1m0s\u001b[0m 14ms/step - loss: 0.1259 - mean_absolute_error: 0.2653 - r2_score: 0.4834 - val_loss: 0.1415 - val_mean_absolute_error: 0.2912 - val_r2_score: 0.4051\n",
      "Epoch 117/300\n",
      "\u001b[1m5/5\u001b[0m \u001b[32m━━━━━━━━━━━━━━━━━━━━\u001b[0m\u001b[37m\u001b[0m \u001b[1m0s\u001b[0m 14ms/step - loss: 0.1284 - mean_absolute_error: 0.2670 - r2_score: 0.4684 - val_loss: 0.1415 - val_mean_absolute_error: 0.2911 - val_r2_score: 0.4052\n",
      "Epoch 118/300\n",
      "\u001b[1m5/5\u001b[0m \u001b[32m━━━━━━━━━━━━━━━━━━━━\u001b[0m\u001b[37m\u001b[0m \u001b[1m0s\u001b[0m 17ms/step - loss: 0.1325 - mean_absolute_error: 0.2712 - r2_score: 0.4537 - val_loss: 0.1417 - val_mean_absolute_error: 0.2913 - val_r2_score: 0.4042\n",
      "Epoch 119/300\n",
      "\u001b[1m5/5\u001b[0m \u001b[32m━━━━━━━━━━━━━━━━━━━━\u001b[0m\u001b[37m\u001b[0m \u001b[1m0s\u001b[0m 16ms/step - loss: 0.1194 - mean_absolute_error: 0.2588 - r2_score: 0.5093 - val_loss: 0.1420 - val_mean_absolute_error: 0.2917 - val_r2_score: 0.4030\n",
      "Epoch 120/300\n",
      "\u001b[1m5/5\u001b[0m \u001b[32m━━━━━━━━━━━━━━━━━━━━\u001b[0m\u001b[37m\u001b[0m \u001b[1m0s\u001b[0m 15ms/step - loss: 0.1335 - mean_absolute_error: 0.2711 - r2_score: 0.4463 - val_loss: 0.1417 - val_mean_absolute_error: 0.2912 - val_r2_score: 0.4044\n",
      "Epoch 121/300\n",
      "\u001b[1m5/5\u001b[0m \u001b[32m━━━━━━━━━━━━━━━━━━━━\u001b[0m\u001b[37m\u001b[0m \u001b[1m0s\u001b[0m 15ms/step - loss: 0.1296 - mean_absolute_error: 0.2686 - r2_score: 0.4644 - val_loss: 0.1416 - val_mean_absolute_error: 0.2912 - val_r2_score: 0.4049\n",
      "Epoch 122/300\n",
      "\u001b[1m5/5\u001b[0m \u001b[32m━━━━━━━━━━━━━━━━━━━━\u001b[0m\u001b[37m\u001b[0m \u001b[1m0s\u001b[0m 16ms/step - loss: 0.1222 - mean_absolute_error: 0.2627 - r2_score: 0.4949 - val_loss: 0.1416 - val_mean_absolute_error: 0.2910 - val_r2_score: 0.4049\n",
      "Epoch 123/300\n",
      "\u001b[1m5/5\u001b[0m \u001b[32m━━━━━━━━━━━━━━━━━━━━\u001b[0m\u001b[37m\u001b[0m \u001b[1m0s\u001b[0m 14ms/step - loss: 0.1300 - mean_absolute_error: 0.2731 - r2_score: 0.4692 - val_loss: 0.1418 - val_mean_absolute_error: 0.2915 - val_r2_score: 0.4041\n",
      "Epoch 124/300\n",
      "\u001b[1m5/5\u001b[0m \u001b[32m━━━━━━━━━━━━━━━━━━━━\u001b[0m\u001b[37m\u001b[0m \u001b[1m0s\u001b[0m 14ms/step - loss: 0.1224 - mean_absolute_error: 0.2641 - r2_score: 0.4953 - val_loss: 0.1423 - val_mean_absolute_error: 0.2926 - val_r2_score: 0.4019\n",
      "Epoch 125/300\n",
      "\u001b[1m5/5\u001b[0m \u001b[32m━━━━━━━━━━━━━━━━━━━━\u001b[0m\u001b[37m\u001b[0m \u001b[1m0s\u001b[0m 18ms/step - loss: 0.1254 - mean_absolute_error: 0.2651 - r2_score: 0.4797 - val_loss: 0.1418 - val_mean_absolute_error: 0.2915 - val_r2_score: 0.4041\n",
      "Epoch 126/300\n",
      "\u001b[1m5/5\u001b[0m \u001b[32m━━━━━━━━━━━━━━━━━━━━\u001b[0m\u001b[37m\u001b[0m \u001b[1m0s\u001b[0m 15ms/step - loss: 0.1248 - mean_absolute_error: 0.2640 - r2_score: 0.4895 - val_loss: 0.1413 - val_mean_absolute_error: 0.2916 - val_r2_score: 0.4059\n",
      "Epoch 127/300\n",
      "\u001b[1m5/5\u001b[0m \u001b[32m━━━━━━━━━━━━━━━━━━━━\u001b[0m\u001b[37m\u001b[0m \u001b[1m0s\u001b[0m 14ms/step - loss: 0.1261 - mean_absolute_error: 0.2701 - r2_score: 0.4823 - val_loss: 0.1424 - val_mean_absolute_error: 0.2929 - val_r2_score: 0.4013\n",
      "Epoch 128/300\n",
      "\u001b[1m5/5\u001b[0m \u001b[32m━━━━━━━━━━━━━━━━━━━━\u001b[0m\u001b[37m\u001b[0m \u001b[1m0s\u001b[0m 14ms/step - loss: 0.1233 - mean_absolute_error: 0.2644 - r2_score: 0.4871 - val_loss: 0.1422 - val_mean_absolute_error: 0.2925 - val_r2_score: 0.4022\n",
      "Epoch 129/300\n",
      "\u001b[1m5/5\u001b[0m \u001b[32m━━━━━━━━━━━━━━━━━━━━\u001b[0m\u001b[37m\u001b[0m \u001b[1m0s\u001b[0m 15ms/step - loss: 0.1254 - mean_absolute_error: 0.2650 - r2_score: 0.4830 - val_loss: 0.1416 - val_mean_absolute_error: 0.2914 - val_r2_score: 0.4047\n",
      "Epoch 130/300\n",
      "\u001b[1m5/5\u001b[0m \u001b[32m━━━━━━━━━━━━━━━━━━━━\u001b[0m\u001b[37m\u001b[0m \u001b[1m0s\u001b[0m 14ms/step - loss: 0.1243 - mean_absolute_error: 0.2647 - r2_score: 0.4928 - val_loss: 0.1415 - val_mean_absolute_error: 0.2916 - val_r2_score: 0.4054\n",
      "Epoch 131/300\n",
      "\u001b[1m5/5\u001b[0m \u001b[32m━━━━━━━━━━━━━━━━━━━━\u001b[0m\u001b[37m\u001b[0m \u001b[1m0s\u001b[0m 14ms/step - loss: 0.1305 - mean_absolute_error: 0.2714 - r2_score: 0.4562 - val_loss: 0.1427 - val_mean_absolute_error: 0.2935 - val_r2_score: 0.4004\n",
      "Epoch 132/300\n",
      "\u001b[1m5/5\u001b[0m \u001b[32m━━━━━━━━━━━━━━━━━━━━\u001b[0m\u001b[37m\u001b[0m \u001b[1m0s\u001b[0m 15ms/step - loss: 0.1279 - mean_absolute_error: 0.2665 - r2_score: 0.4765 - val_loss: 0.1417 - val_mean_absolute_error: 0.2919 - val_r2_score: 0.4044\n",
      "Epoch 133/300\n",
      "\u001b[1m5/5\u001b[0m \u001b[32m━━━━━━━━━━━━━━━━━━━━\u001b[0m\u001b[37m\u001b[0m \u001b[1m0s\u001b[0m 14ms/step - loss: 0.1289 - mean_absolute_error: 0.2670 - r2_score: 0.4728 - val_loss: 0.1415 - val_mean_absolute_error: 0.2918 - val_r2_score: 0.4051\n",
      "Epoch 134/300\n",
      "\u001b[1m5/5\u001b[0m \u001b[32m━━━━━━━━━━━━━━━━━━━━\u001b[0m\u001b[37m\u001b[0m \u001b[1m0s\u001b[0m 15ms/step - loss: 0.1248 - mean_absolute_error: 0.2657 - r2_score: 0.4826 - val_loss: 0.1425 - val_mean_absolute_error: 0.2928 - val_r2_score: 0.4009\n",
      "Epoch 135/300\n",
      "\u001b[1m5/5\u001b[0m \u001b[32m━━━━━━━━━━━━━━━━━━━━\u001b[0m\u001b[37m\u001b[0m \u001b[1m0s\u001b[0m 14ms/step - loss: 0.1241 - mean_absolute_error: 0.2648 - r2_score: 0.4930 - val_loss: 0.1419 - val_mean_absolute_error: 0.2915 - val_r2_score: 0.4035\n",
      "Epoch 136/300\n",
      "\u001b[1m5/5\u001b[0m \u001b[32m━━━━━━━━━━━━━━━━━━━━\u001b[0m\u001b[37m\u001b[0m \u001b[1m0s\u001b[0m 15ms/step - loss: 0.1252 - mean_absolute_error: 0.2623 - r2_score: 0.4824 - val_loss: 0.1418 - val_mean_absolute_error: 0.2912 - val_r2_score: 0.4042\n",
      "Epoch 137/300\n",
      "\u001b[1m5/5\u001b[0m \u001b[32m━━━━━━━━━━━━━━━━━━━━\u001b[0m\u001b[37m\u001b[0m \u001b[1m0s\u001b[0m 15ms/step - loss: 0.1227 - mean_absolute_error: 0.2599 - r2_score: 0.4973 - val_loss: 0.1417 - val_mean_absolute_error: 0.2911 - val_r2_score: 0.4044\n",
      "Epoch 138/300\n",
      "\u001b[1m5/5\u001b[0m \u001b[32m━━━━━━━━━━━━━━━━━━━━\u001b[0m\u001b[37m\u001b[0m \u001b[1m0s\u001b[0m 17ms/step - loss: 0.1235 - mean_absolute_error: 0.2637 - r2_score: 0.4887 - val_loss: 0.1422 - val_mean_absolute_error: 0.2922 - val_r2_score: 0.4023\n",
      "Epoch 139/300\n",
      "\u001b[1m5/5\u001b[0m \u001b[32m━━━━━━━━━━━━━━━━━━━━\u001b[0m\u001b[37m\u001b[0m \u001b[1m0s\u001b[0m 14ms/step - loss: 0.1275 - mean_absolute_error: 0.2669 - r2_score: 0.4769 - val_loss: 0.1419 - val_mean_absolute_error: 0.2919 - val_r2_score: 0.4037\n",
      "Epoch 140/300\n",
      "\u001b[1m5/5\u001b[0m \u001b[32m━━━━━━━━━━━━━━━━━━━━\u001b[0m\u001b[37m\u001b[0m \u001b[1m0s\u001b[0m 14ms/step - loss: 0.1235 - mean_absolute_error: 0.2611 - r2_score: 0.4919 - val_loss: 0.1425 - val_mean_absolute_error: 0.2927 - val_r2_score: 0.4011\n",
      "Epoch 141/300\n",
      "\u001b[1m5/5\u001b[0m \u001b[32m━━━━━━━━━━━━━━━━━━━━\u001b[0m\u001b[37m\u001b[0m \u001b[1m0s\u001b[0m 15ms/step - loss: 0.1248 - mean_absolute_error: 0.2638 - r2_score: 0.4759 - val_loss: 0.1416 - val_mean_absolute_error: 0.2910 - val_r2_score: 0.4047\n",
      "Epoch 142/300\n",
      "\u001b[1m5/5\u001b[0m \u001b[32m━━━━━━━━━━━━━━━━━━━━\u001b[0m\u001b[37m\u001b[0m \u001b[1m0s\u001b[0m 15ms/step - loss: 0.1206 - mean_absolute_error: 0.2601 - r2_score: 0.5050 - val_loss: 0.1418 - val_mean_absolute_error: 0.2913 - val_r2_score: 0.4040\n",
      "Epoch 143/300\n",
      "\u001b[1m5/5\u001b[0m \u001b[32m━━━━━━━━━━━━━━━━━━━━\u001b[0m\u001b[37m\u001b[0m \u001b[1m0s\u001b[0m 14ms/step - loss: 0.1242 - mean_absolute_error: 0.2617 - r2_score: 0.4930 - val_loss: 0.1424 - val_mean_absolute_error: 0.2926 - val_r2_score: 0.4013\n",
      "Epoch 144/300\n",
      "\u001b[1m5/5\u001b[0m \u001b[32m━━━━━━━━━━━━━━━━━━━━\u001b[0m\u001b[37m\u001b[0m \u001b[1m0s\u001b[0m 15ms/step - loss: 0.1243 - mean_absolute_error: 0.2622 - r2_score: 0.4815 - val_loss: 0.1424 - val_mean_absolute_error: 0.2927 - val_r2_score: 0.4013\n",
      "Epoch 145/300\n",
      "\u001b[1m5/5\u001b[0m \u001b[32m━━━━━━━━━━━━━━━━━━━━\u001b[0m\u001b[37m\u001b[0m \u001b[1m0s\u001b[0m 15ms/step - loss: 0.1307 - mean_absolute_error: 0.2707 - r2_score: 0.4563 - val_loss: 0.1418 - val_mean_absolute_error: 0.2918 - val_r2_score: 0.4039\n",
      "Epoch 146/300\n",
      "\u001b[1m5/5\u001b[0m \u001b[32m━━━━━━━━━━━━━━━━━━━━\u001b[0m\u001b[37m\u001b[0m \u001b[1m0s\u001b[0m 15ms/step - loss: 0.1252 - mean_absolute_error: 0.2618 - r2_score: 0.4845 - val_loss: 0.1416 - val_mean_absolute_error: 0.2918 - val_r2_score: 0.4047\n",
      "Epoch 147/300\n",
      "\u001b[1m5/5\u001b[0m \u001b[32m━━━━━━━━━━━━━━━━━━━━\u001b[0m\u001b[37m\u001b[0m \u001b[1m0s\u001b[0m 14ms/step - loss: 0.1237 - mean_absolute_error: 0.2625 - r2_score: 0.4848 - val_loss: 0.1424 - val_mean_absolute_error: 0.2927 - val_r2_score: 0.4014\n",
      "Epoch 148/300\n",
      "\u001b[1m5/5\u001b[0m \u001b[32m━━━━━━━━━━━━━━━━━━━━\u001b[0m\u001b[37m\u001b[0m \u001b[1m0s\u001b[0m 14ms/step - loss: 0.1221 - mean_absolute_error: 0.2629 - r2_score: 0.4975 - val_loss: 0.1423 - val_mean_absolute_error: 0.2923 - val_r2_score: 0.4018\n",
      "Epoch 149/300\n",
      "\u001b[1m5/5\u001b[0m \u001b[32m━━━━━━━━━━━━━━━━━━━━\u001b[0m\u001b[37m\u001b[0m \u001b[1m0s\u001b[0m 14ms/step - loss: 0.1232 - mean_absolute_error: 0.2627 - r2_score: 0.4937 - val_loss: 0.1420 - val_mean_absolute_error: 0.2916 - val_r2_score: 0.4033\n",
      "Epoch 150/300\n",
      "\u001b[1m5/5\u001b[0m \u001b[32m━━━━━━━━━━━━━━━━━━━━\u001b[0m\u001b[37m\u001b[0m \u001b[1m0s\u001b[0m 15ms/step - loss: 0.1243 - mean_absolute_error: 0.2626 - r2_score: 0.4785 - val_loss: 0.1417 - val_mean_absolute_error: 0.2911 - val_r2_score: 0.4044\n",
      "Epoch 151/300\n",
      "\u001b[1m5/5\u001b[0m \u001b[32m━━━━━━━━━━━━━━━━━━━━\u001b[0m\u001b[37m\u001b[0m \u001b[1m0s\u001b[0m 15ms/step - loss: 0.1287 - mean_absolute_error: 0.2684 - r2_score: 0.4739 - val_loss: 0.1418 - val_mean_absolute_error: 0.2917 - val_r2_score: 0.4041\n",
      "Epoch 152/300\n",
      "\u001b[1m5/5\u001b[0m \u001b[32m━━━━━━━━━━━━━━━━━━━━\u001b[0m\u001b[37m\u001b[0m \u001b[1m0s\u001b[0m 14ms/step - loss: 0.1259 - mean_absolute_error: 0.2669 - r2_score: 0.4789 - val_loss: 0.1430 - val_mean_absolute_error: 0.2939 - val_r2_score: 0.3990\n",
      "Epoch 153/300\n",
      "\u001b[1m5/5\u001b[0m \u001b[32m━━━━━━━━━━━━━━━━━━━━\u001b[0m\u001b[37m\u001b[0m \u001b[1m0s\u001b[0m 15ms/step - loss: 0.1332 - mean_absolute_error: 0.2739 - r2_score: 0.4536 - val_loss: 0.1419 - val_mean_absolute_error: 0.2922 - val_r2_score: 0.4035\n",
      "Epoch 154/300\n",
      "\u001b[1m5/5\u001b[0m \u001b[32m━━━━━━━━━━━━━━━━━━━━\u001b[0m\u001b[37m\u001b[0m \u001b[1m0s\u001b[0m 16ms/step - loss: 0.1317 - mean_absolute_error: 0.2737 - r2_score: 0.4610 - val_loss: 0.1417 - val_mean_absolute_error: 0.2919 - val_r2_score: 0.4042\n",
      "Epoch 155/300\n",
      "\u001b[1m5/5\u001b[0m \u001b[32m━━━━━━━━━━━━━━━━━━━━\u001b[0m\u001b[37m\u001b[0m \u001b[1m0s\u001b[0m 14ms/step - loss: 0.1295 - mean_absolute_error: 0.2701 - r2_score: 0.4707 - val_loss: 0.1422 - val_mean_absolute_error: 0.2920 - val_r2_score: 0.4023\n",
      "Epoch 156/300\n",
      "\u001b[1m5/5\u001b[0m \u001b[32m━━━━━━━━━━━━━━━━━━━━\u001b[0m\u001b[37m\u001b[0m \u001b[1m0s\u001b[0m 17ms/step - loss: 0.1200 - mean_absolute_error: 0.2582 - r2_score: 0.5080 - val_loss: 0.1422 - val_mean_absolute_error: 0.2915 - val_r2_score: 0.4021\n",
      "Epoch 157/300\n",
      "\u001b[1m5/5\u001b[0m \u001b[32m━━━━━━━━━━━━━━━━━━━━\u001b[0m\u001b[37m\u001b[0m \u001b[1m0s\u001b[0m 15ms/step - loss: 0.1237 - mean_absolute_error: 0.2638 - r2_score: 0.4871 - val_loss: 0.1423 - val_mean_absolute_error: 0.2915 - val_r2_score: 0.4021\n",
      "Epoch 158/300\n",
      "\u001b[1m5/5\u001b[0m \u001b[32m━━━━━━━━━━━━━━━━━━━━\u001b[0m\u001b[37m\u001b[0m \u001b[1m0s\u001b[0m 15ms/step - loss: 0.1274 - mean_absolute_error: 0.2663 - r2_score: 0.4711 - val_loss: 0.1422 - val_mean_absolute_error: 0.2916 - val_r2_score: 0.4025\n",
      "Epoch 159/300\n",
      "\u001b[1m5/5\u001b[0m \u001b[32m━━━━━━━━━━━━━━━━━━━━\u001b[0m\u001b[37m\u001b[0m \u001b[1m0s\u001b[0m 14ms/step - loss: 0.1217 - mean_absolute_error: 0.2541 - r2_score: 0.4966 - val_loss: 0.1418 - val_mean_absolute_error: 0.2913 - val_r2_score: 0.4039\n",
      "Epoch 160/300\n",
      "\u001b[1m5/5\u001b[0m \u001b[32m━━━━━━━━━━━━━━━━━━━━\u001b[0m\u001b[37m\u001b[0m \u001b[1m0s\u001b[0m 15ms/step - loss: 0.1256 - mean_absolute_error: 0.2632 - r2_score: 0.4823 - val_loss: 0.1417 - val_mean_absolute_error: 0.2910 - val_r2_score: 0.4044\n",
      "Epoch 161/300\n",
      "\u001b[1m5/5\u001b[0m \u001b[32m━━━━━━━━━━━━━━━━━━━━\u001b[0m\u001b[37m\u001b[0m \u001b[1m0s\u001b[0m 14ms/step - loss: 0.1293 - mean_absolute_error: 0.2672 - r2_score: 0.4658 - val_loss: 0.1420 - val_mean_absolute_error: 0.2916 - val_r2_score: 0.4032\n",
      "Epoch 162/300\n",
      "\u001b[1m5/5\u001b[0m \u001b[32m━━━━━━━━━━━━━━━━━━━━\u001b[0m\u001b[37m\u001b[0m \u001b[1m0s\u001b[0m 15ms/step - loss: 0.1295 - mean_absolute_error: 0.2722 - r2_score: 0.4632 - val_loss: 0.1421 - val_mean_absolute_error: 0.2916 - val_r2_score: 0.4027\n",
      "Epoch 163/300\n",
      "\u001b[1m5/5\u001b[0m \u001b[32m━━━━━━━━━━━━━━━━━━━━\u001b[0m\u001b[37m\u001b[0m \u001b[1m0s\u001b[0m 14ms/step - loss: 0.1183 - mean_absolute_error: 0.2567 - r2_score: 0.5113 - val_loss: 0.1423 - val_mean_absolute_error: 0.2917 - val_r2_score: 0.4020\n",
      "Epoch 164/300\n",
      "\u001b[1m5/5\u001b[0m \u001b[32m━━━━━━━━━━━━━━━━━━━━\u001b[0m\u001b[37m\u001b[0m \u001b[1m0s\u001b[0m 14ms/step - loss: 0.1217 - mean_absolute_error: 0.2609 - r2_score: 0.4981 - val_loss: 0.1417 - val_mean_absolute_error: 0.2908 - val_r2_score: 0.4044\n",
      "Epoch 165/300\n",
      "\u001b[1m5/5\u001b[0m \u001b[32m━━━━━━━━━━━━━━━━━━━━\u001b[0m\u001b[37m\u001b[0m \u001b[1m0s\u001b[0m 17ms/step - loss: 0.1296 - mean_absolute_error: 0.2704 - r2_score: 0.4612 - val_loss: 0.1419 - val_mean_absolute_error: 0.2914 - val_r2_score: 0.4035\n",
      "Epoch 166/300\n",
      "\u001b[1m5/5\u001b[0m \u001b[32m━━━━━━━━━━━━━━━━━━━━\u001b[0m\u001b[37m\u001b[0m \u001b[1m0s\u001b[0m 14ms/step - loss: 0.1223 - mean_absolute_error: 0.2613 - r2_score: 0.4962 - val_loss: 0.1419 - val_mean_absolute_error: 0.2914 - val_r2_score: 0.4035\n",
      "Epoch 167/300\n",
      "\u001b[1m5/5\u001b[0m \u001b[32m━━━━━━━━━━━━━━━━━━━━\u001b[0m\u001b[37m\u001b[0m \u001b[1m0s\u001b[0m 14ms/step - loss: 0.1248 - mean_absolute_error: 0.2627 - r2_score: 0.4840 - val_loss: 0.1421 - val_mean_absolute_error: 0.2916 - val_r2_score: 0.4028\n",
      "Epoch 168/300\n",
      "\u001b[1m5/5\u001b[0m \u001b[32m━━━━━━━━━━━━━━━━━━━━\u001b[0m\u001b[37m\u001b[0m \u001b[1m0s\u001b[0m 14ms/step - loss: 0.1182 - mean_absolute_error: 0.2571 - r2_score: 0.5090 - val_loss: 0.1422 - val_mean_absolute_error: 0.2913 - val_r2_score: 0.4024\n",
      "Epoch 169/300\n",
      "\u001b[1m5/5\u001b[0m \u001b[32m━━━━━━━━━━━━━━━━━━━━\u001b[0m\u001b[37m\u001b[0m \u001b[1m0s\u001b[0m 15ms/step - loss: 0.1236 - mean_absolute_error: 0.2591 - r2_score: 0.4821 - val_loss: 0.1417 - val_mean_absolute_error: 0.2906 - val_r2_score: 0.4045\n",
      "Epoch 170/300\n",
      "\u001b[1m5/5\u001b[0m \u001b[32m━━━━━━━━━━━━━━━━━━━━\u001b[0m\u001b[37m\u001b[0m \u001b[1m0s\u001b[0m 14ms/step - loss: 0.1302 - mean_absolute_error: 0.2680 - r2_score: 0.4600 - val_loss: 0.1417 - val_mean_absolute_error: 0.2912 - val_r2_score: 0.4046\n",
      "Epoch 171/300\n",
      "\u001b[1m5/5\u001b[0m \u001b[32m━━━━━━━━━━━━━━━━━━━━\u001b[0m\u001b[37m\u001b[0m \u001b[1m0s\u001b[0m 14ms/step - loss: 0.1214 - mean_absolute_error: 0.2577 - r2_score: 0.4995 - val_loss: 0.1418 - val_mean_absolute_error: 0.2912 - val_r2_score: 0.4039\n",
      "Epoch 172/300\n",
      "\u001b[1m5/5\u001b[0m \u001b[32m━━━━━━━━━━━━━━━━━━━━\u001b[0m\u001b[37m\u001b[0m \u001b[1m0s\u001b[0m 14ms/step - loss: 0.1243 - mean_absolute_error: 0.2614 - r2_score: 0.4850 - val_loss: 0.1427 - val_mean_absolute_error: 0.2930 - val_r2_score: 0.4000\n",
      "Epoch 173/300\n",
      "\u001b[1m5/5\u001b[0m \u001b[32m━━━━━━━━━━━━━━━━━━━━\u001b[0m\u001b[37m\u001b[0m \u001b[1m0s\u001b[0m 14ms/step - loss: 0.1225 - mean_absolute_error: 0.2616 - r2_score: 0.4923 - val_loss: 0.1419 - val_mean_absolute_error: 0.2912 - val_r2_score: 0.4034\n",
      "Epoch 174/300\n",
      "\u001b[1m5/5\u001b[0m \u001b[32m━━━━━━━━━━━━━━━━━━━━\u001b[0m\u001b[37m\u001b[0m \u001b[1m0s\u001b[0m 15ms/step - loss: 0.1235 - mean_absolute_error: 0.2612 - r2_score: 0.4842 - val_loss: 0.1416 - val_mean_absolute_error: 0.2911 - val_r2_score: 0.4047\n",
      "Epoch 175/300\n",
      "\u001b[1m5/5\u001b[0m \u001b[32m━━━━━━━━━━━━━━━━━━━━\u001b[0m\u001b[37m\u001b[0m \u001b[1m0s\u001b[0m 15ms/step - loss: 0.1312 - mean_absolute_error: 0.2699 - r2_score: 0.4587 - val_loss: 0.1419 - val_mean_absolute_error: 0.2912 - val_r2_score: 0.4036\n",
      "Epoch 176/300\n",
      "\u001b[1m5/5\u001b[0m \u001b[32m━━━━━━━━━━━━━━━━━━━━\u001b[0m\u001b[37m\u001b[0m \u001b[1m0s\u001b[0m 14ms/step - loss: 0.1202 - mean_absolute_error: 0.2564 - r2_score: 0.5033 - val_loss: 0.1421 - val_mean_absolute_error: 0.2915 - val_r2_score: 0.4028\n",
      "Epoch 177/300\n",
      "\u001b[1m5/5\u001b[0m \u001b[32m━━━━━━━━━━━━━━━━━━━━\u001b[0m\u001b[37m\u001b[0m \u001b[1m0s\u001b[0m 15ms/step - loss: 0.1237 - mean_absolute_error: 0.2616 - r2_score: 0.4906 - val_loss: 0.1418 - val_mean_absolute_error: 0.2908 - val_r2_score: 0.4039\n",
      "Epoch 178/300\n",
      "\u001b[1m5/5\u001b[0m \u001b[32m━━━━━━━━━━━━━━━━━━━━\u001b[0m\u001b[37m\u001b[0m \u001b[1m0s\u001b[0m 16ms/step - loss: 0.1203 - mean_absolute_error: 0.2573 - r2_score: 0.5010 - val_loss: 0.1423 - val_mean_absolute_error: 0.2913 - val_r2_score: 0.4020\n",
      "Epoch 179/300\n",
      "\u001b[1m5/5\u001b[0m \u001b[32m━━━━━━━━━━━━━━━━━━━━\u001b[0m\u001b[37m\u001b[0m \u001b[1m0s\u001b[0m 19ms/step - loss: 0.1249 - mean_absolute_error: 0.2607 - r2_score: 0.4864 - val_loss: 0.1422 - val_mean_absolute_error: 0.2913 - val_r2_score: 0.4025\n",
      "Epoch 180/300\n",
      "\u001b[1m5/5\u001b[0m \u001b[32m━━━━━━━━━━━━━━━━━━━━\u001b[0m\u001b[37m\u001b[0m \u001b[1m0s\u001b[0m 14ms/step - loss: 0.1187 - mean_absolute_error: 0.2583 - r2_score: 0.5129 - val_loss: 0.1420 - val_mean_absolute_error: 0.2908 - val_r2_score: 0.4032\n",
      "Epoch 181/300\n",
      "\u001b[1m5/5\u001b[0m \u001b[32m━━━━━━━━━━━━━━━━━━━━\u001b[0m\u001b[37m\u001b[0m \u001b[1m0s\u001b[0m 15ms/step - loss: 0.1200 - mean_absolute_error: 0.2588 - r2_score: 0.5024 - val_loss: 0.1418 - val_mean_absolute_error: 0.2907 - val_r2_score: 0.4039\n",
      "Epoch 182/300\n",
      "\u001b[1m5/5\u001b[0m \u001b[32m━━━━━━━━━━━━━━━━━━━━\u001b[0m\u001b[37m\u001b[0m \u001b[1m0s\u001b[0m 16ms/step - loss: 0.1260 - mean_absolute_error: 0.2670 - r2_score: 0.4835 - val_loss: 0.1417 - val_mean_absolute_error: 0.2913 - val_r2_score: 0.4042\n",
      "Epoch 183/300\n",
      "\u001b[1m5/5\u001b[0m \u001b[32m━━━━━━━━━━━━━━━━━━━━\u001b[0m\u001b[37m\u001b[0m \u001b[1m0s\u001b[0m 14ms/step - loss: 0.1200 - mean_absolute_error: 0.2575 - r2_score: 0.5054 - val_loss: 0.1423 - val_mean_absolute_error: 0.2921 - val_r2_score: 0.4018\n",
      "Epoch 184/300\n",
      "\u001b[1m5/5\u001b[0m \u001b[32m━━━━━━━━━━━━━━━━━━━━\u001b[0m\u001b[37m\u001b[0m \u001b[1m0s\u001b[0m 14ms/step - loss: 0.1218 - mean_absolute_error: 0.2608 - r2_score: 0.4868 - val_loss: 0.1427 - val_mean_absolute_error: 0.2926 - val_r2_score: 0.4003\n",
      "Epoch 185/300\n",
      "\u001b[1m5/5\u001b[0m \u001b[32m━━━━━━━━━━━━━━━━━━━━\u001b[0m\u001b[37m\u001b[0m \u001b[1m0s\u001b[0m 14ms/step - loss: 0.1336 - mean_absolute_error: 0.2722 - r2_score: 0.4554 - val_loss: 0.1416 - val_mean_absolute_error: 0.2918 - val_r2_score: 0.4049\n",
      "Epoch 186/300\n",
      "\u001b[1m5/5\u001b[0m \u001b[32m━━━━━━━━━━━━━━━━━━━━\u001b[0m\u001b[37m\u001b[0m \u001b[1m0s\u001b[0m 14ms/step - loss: 0.1231 - mean_absolute_error: 0.2614 - r2_score: 0.4855 - val_loss: 0.1422 - val_mean_absolute_error: 0.2915 - val_r2_score: 0.4022\n",
      "Epoch 187/300\n",
      "\u001b[1m5/5\u001b[0m \u001b[32m━━━━━━━━━━━━━━━━━━━━\u001b[0m\u001b[37m\u001b[0m \u001b[1m0s\u001b[0m 14ms/step - loss: 0.1286 - mean_absolute_error: 0.2650 - r2_score: 0.4707 - val_loss: 0.1424 - val_mean_absolute_error: 0.2921 - val_r2_score: 0.4013\n",
      "Epoch 188/300\n",
      "\u001b[1m5/5\u001b[0m \u001b[32m━━━━━━━━━━━━━━━━━━━━\u001b[0m\u001b[37m\u001b[0m \u001b[1m0s\u001b[0m 15ms/step - loss: 0.1313 - mean_absolute_error: 0.2737 - r2_score: 0.4624 - val_loss: 0.1421 - val_mean_absolute_error: 0.2913 - val_r2_score: 0.4026\n",
      "Epoch 189/300\n",
      "\u001b[1m5/5\u001b[0m \u001b[32m━━━━━━━━━━━━━━━━━━━━\u001b[0m\u001b[37m\u001b[0m \u001b[1m0s\u001b[0m 15ms/step - loss: 0.1303 - mean_absolute_error: 0.2682 - r2_score: 0.4635 - val_loss: 0.1421 - val_mean_absolute_error: 0.2911 - val_r2_score: 0.4025\n",
      "Epoch 190/300\n",
      "\u001b[1m5/5\u001b[0m \u001b[32m━━━━━━━━━━━━━━━━━━━━\u001b[0m\u001b[37m\u001b[0m \u001b[1m0s\u001b[0m 14ms/step - loss: 0.1257 - mean_absolute_error: 0.2641 - r2_score: 0.4838 - val_loss: 0.1419 - val_mean_absolute_error: 0.2907 - val_r2_score: 0.4034\n",
      "Epoch 191/300\n",
      "\u001b[1m5/5\u001b[0m \u001b[32m━━━━━━━━━━━━━━━━━━━━\u001b[0m\u001b[37m\u001b[0m \u001b[1m0s\u001b[0m 14ms/step - loss: 0.1294 - mean_absolute_error: 0.2666 - r2_score: 0.4728 - val_loss: 0.1420 - val_mean_absolute_error: 0.2911 - val_r2_score: 0.4033\n",
      "Epoch 192/300\n",
      "\u001b[1m5/5\u001b[0m \u001b[32m━━━━━━━━━━━━━━━━━━━━\u001b[0m\u001b[37m\u001b[0m \u001b[1m0s\u001b[0m 15ms/step - loss: 0.1219 - mean_absolute_error: 0.2597 - r2_score: 0.4997 - val_loss: 0.1425 - val_mean_absolute_error: 0.2922 - val_r2_score: 0.4010\n",
      "Epoch 193/300\n",
      "\u001b[1m5/5\u001b[0m \u001b[32m━━━━━━━━━━━━━━━━━━━━\u001b[0m\u001b[37m\u001b[0m \u001b[1m0s\u001b[0m 14ms/step - loss: 0.1243 - mean_absolute_error: 0.2633 - r2_score: 0.4808 - val_loss: 0.1425 - val_mean_absolute_error: 0.2921 - val_r2_score: 0.4012\n",
      "Epoch 194/300\n",
      "\u001b[1m5/5\u001b[0m \u001b[32m━━━━━━━━━━━━━━━━━━━━\u001b[0m\u001b[37m\u001b[0m \u001b[1m0s\u001b[0m 14ms/step - loss: 0.1299 - mean_absolute_error: 0.2668 - r2_score: 0.4622 - val_loss: 0.1417 - val_mean_absolute_error: 0.2913 - val_r2_score: 0.4045\n",
      "Epoch 195/300\n",
      "\u001b[1m5/5\u001b[0m \u001b[32m━━━━━━━━━━━━━━━━━━━━\u001b[0m\u001b[37m\u001b[0m \u001b[1m0s\u001b[0m 14ms/step - loss: 0.1187 - mean_absolute_error: 0.2559 - r2_score: 0.5091 - val_loss: 0.1419 - val_mean_absolute_error: 0.2908 - val_r2_score: 0.4037\n",
      "Epoch 196/300\n",
      "\u001b[1m5/5\u001b[0m \u001b[32m━━━━━━━━━━━━━━━━━━━━\u001b[0m\u001b[37m\u001b[0m \u001b[1m0s\u001b[0m 14ms/step - loss: 0.1288 - mean_absolute_error: 0.2646 - r2_score: 0.4672 - val_loss: 0.1418 - val_mean_absolute_error: 0.2911 - val_r2_score: 0.4038\n",
      "Epoch 197/300\n",
      "\u001b[1m5/5\u001b[0m \u001b[32m━━━━━━━━━━━━━━━━━━━━\u001b[0m\u001b[37m\u001b[0m \u001b[1m0s\u001b[0m 15ms/step - loss: 0.1246 - mean_absolute_error: 0.2596 - r2_score: 0.4867 - val_loss: 0.1426 - val_mean_absolute_error: 0.2925 - val_r2_score: 0.4006\n",
      "Epoch 198/300\n",
      "\u001b[1m5/5\u001b[0m \u001b[32m━━━━━━━━━━━━━━━━━━━━\u001b[0m\u001b[37m\u001b[0m \u001b[1m0s\u001b[0m 14ms/step - loss: 0.1287 - mean_absolute_error: 0.2700 - r2_score: 0.4667 - val_loss: 0.1422 - val_mean_absolute_error: 0.2916 - val_r2_score: 0.4022\n",
      "Epoch 199/300\n",
      "\u001b[1m5/5\u001b[0m \u001b[32m━━━━━━━━━━━━━━━━━━━━\u001b[0m\u001b[37m\u001b[0m \u001b[1m0s\u001b[0m 14ms/step - loss: 0.1254 - mean_absolute_error: 0.2622 - r2_score: 0.4742 - val_loss: 0.1416 - val_mean_absolute_error: 0.2912 - val_r2_score: 0.4046\n",
      "Epoch 200/300\n",
      "\u001b[1m5/5\u001b[0m \u001b[32m━━━━━━━━━━━━━━━━━━━━\u001b[0m\u001b[37m\u001b[0m \u001b[1m0s\u001b[0m 15ms/step - loss: 0.1199 - mean_absolute_error: 0.2565 - r2_score: 0.5062 - val_loss: 0.1416 - val_mean_absolute_error: 0.2907 - val_r2_score: 0.4049\n",
      "Epoch 201/300\n",
      "\u001b[1m5/5\u001b[0m \u001b[32m━━━━━━━━━━━━━━━━━━━━\u001b[0m\u001b[37m\u001b[0m \u001b[1m0s\u001b[0m 15ms/step - loss: 0.1218 - mean_absolute_error: 0.2603 - r2_score: 0.4925 - val_loss: 0.1433 - val_mean_absolute_error: 0.2931 - val_r2_score: 0.3977\n",
      "Epoch 202/300\n",
      "\u001b[1m5/5\u001b[0m \u001b[32m━━━━━━━━━━━━━━━━━━━━\u001b[0m\u001b[37m\u001b[0m \u001b[1m0s\u001b[0m 15ms/step - loss: 0.1185 - mean_absolute_error: 0.2557 - r2_score: 0.5121 - val_loss: 0.1425 - val_mean_absolute_error: 0.2916 - val_r2_score: 0.4012\n",
      "Epoch 203/300\n",
      "\u001b[1m5/5\u001b[0m \u001b[32m━━━━━━━━━━━━━━━━━━━━\u001b[0m\u001b[37m\u001b[0m \u001b[1m0s\u001b[0m 18ms/step - loss: 0.1239 - mean_absolute_error: 0.2567 - r2_score: 0.4749 - val_loss: 0.1418 - val_mean_absolute_error: 0.2907 - val_r2_score: 0.4038\n",
      "Epoch 204/300\n",
      "\u001b[1m5/5\u001b[0m \u001b[32m━━━━━━━━━━━━━━━━━━━━\u001b[0m\u001b[37m\u001b[0m \u001b[1m0s\u001b[0m 14ms/step - loss: 0.1259 - mean_absolute_error: 0.2604 - r2_score: 0.4768 - val_loss: 0.1421 - val_mean_absolute_error: 0.2912 - val_r2_score: 0.4028\n",
      "Epoch 205/300\n",
      "\u001b[1m5/5\u001b[0m \u001b[32m━━━━━━━━━━━━━━━━━━━━\u001b[0m\u001b[37m\u001b[0m \u001b[1m0s\u001b[0m 14ms/step - loss: 0.1166 - mean_absolute_error: 0.2540 - r2_score: 0.5192 - val_loss: 0.1421 - val_mean_absolute_error: 0.2912 - val_r2_score: 0.4025\n",
      "Epoch 206/300\n",
      "\u001b[1m5/5\u001b[0m \u001b[32m━━━━━━━━━━━━━━━━━━━━\u001b[0m\u001b[37m\u001b[0m \u001b[1m0s\u001b[0m 15ms/step - loss: 0.1312 - mean_absolute_error: 0.2694 - r2_score: 0.4576 - val_loss: 0.1418 - val_mean_absolute_error: 0.2910 - val_r2_score: 0.4039\n",
      "Epoch 207/300\n",
      "\u001b[1m5/5\u001b[0m \u001b[32m━━━━━━━━━━━━━━━━━━━━\u001b[0m\u001b[37m\u001b[0m \u001b[1m0s\u001b[0m 14ms/step - loss: 0.1244 - mean_absolute_error: 0.2629 - r2_score: 0.4835 - val_loss: 0.1420 - val_mean_absolute_error: 0.2910 - val_r2_score: 0.4033\n",
      "Epoch 208/300\n",
      "\u001b[1m5/5\u001b[0m \u001b[32m━━━━━━━━━━━━━━━━━━━━\u001b[0m\u001b[37m\u001b[0m \u001b[1m0s\u001b[0m 14ms/step - loss: 0.1280 - mean_absolute_error: 0.2671 - r2_score: 0.4518 - val_loss: 0.1422 - val_mean_absolute_error: 0.2915 - val_r2_score: 0.4023\n",
      "Epoch 209/300\n",
      "\u001b[1m5/5\u001b[0m \u001b[32m━━━━━━━━━━━━━━━━━━━━\u001b[0m\u001b[37m\u001b[0m \u001b[1m0s\u001b[0m 15ms/step - loss: 0.1306 - mean_absolute_error: 0.2708 - r2_score: 0.4608 - val_loss: 0.1420 - val_mean_absolute_error: 0.2909 - val_r2_score: 0.4031\n",
      "Epoch 210/300\n",
      "\u001b[1m5/5\u001b[0m \u001b[32m━━━━━━━━━━━━━━━━━━━━\u001b[0m\u001b[37m\u001b[0m \u001b[1m0s\u001b[0m 14ms/step - loss: 0.1242 - mean_absolute_error: 0.2604 - r2_score: 0.4814 - val_loss: 0.1418 - val_mean_absolute_error: 0.2904 - val_r2_score: 0.4038\n",
      "Epoch 211/300\n",
      "\u001b[1m5/5\u001b[0m \u001b[32m━━━━━━━━━━━━━━━━━━━━\u001b[0m\u001b[37m\u001b[0m \u001b[1m0s\u001b[0m 14ms/step - loss: 0.1219 - mean_absolute_error: 0.2570 - r2_score: 0.4920 - val_loss: 0.1423 - val_mean_absolute_error: 0.2912 - val_r2_score: 0.4020\n",
      "Epoch 212/300\n",
      "\u001b[1m5/5\u001b[0m \u001b[32m━━━━━━━━━━━━━━━━━━━━\u001b[0m\u001b[37m\u001b[0m \u001b[1m0s\u001b[0m 14ms/step - loss: 0.1203 - mean_absolute_error: 0.2538 - r2_score: 0.5003 - val_loss: 0.1424 - val_mean_absolute_error: 0.2919 - val_r2_score: 0.4013\n",
      "Epoch 213/300\n",
      "\u001b[1m5/5\u001b[0m \u001b[32m━━━━━━━━━━━━━━━━━━━━\u001b[0m\u001b[37m\u001b[0m \u001b[1m0s\u001b[0m 14ms/step - loss: 0.1219 - mean_absolute_error: 0.2595 - r2_score: 0.4985 - val_loss: 0.1416 - val_mean_absolute_error: 0.2911 - val_r2_score: 0.4046\n",
      "Epoch 214/300\n",
      "\u001b[1m5/5\u001b[0m \u001b[32m━━━━━━━━━━━━━━━━━━━━\u001b[0m\u001b[37m\u001b[0m \u001b[1m0s\u001b[0m 15ms/step - loss: 0.1255 - mean_absolute_error: 0.2612 - r2_score: 0.4847 - val_loss: 0.1421 - val_mean_absolute_error: 0.2913 - val_r2_score: 0.4026\n",
      "Epoch 215/300\n",
      "\u001b[1m5/5\u001b[0m \u001b[32m━━━━━━━━━━━━━━━━━━━━\u001b[0m\u001b[37m\u001b[0m \u001b[1m0s\u001b[0m 14ms/step - loss: 0.1186 - mean_absolute_error: 0.2580 - r2_score: 0.5101 - val_loss: 0.1426 - val_mean_absolute_error: 0.2920 - val_r2_score: 0.4006\n",
      "Epoch 216/300\n",
      "\u001b[1m5/5\u001b[0m \u001b[32m━━━━━━━━━━━━━━━━━━━━\u001b[0m\u001b[37m\u001b[0m \u001b[1m0s\u001b[0m 14ms/step - loss: 0.1239 - mean_absolute_error: 0.2636 - r2_score: 0.4920 - val_loss: 0.1420 - val_mean_absolute_error: 0.2907 - val_r2_score: 0.4031\n",
      "Epoch 217/300\n",
      "\u001b[1m5/5\u001b[0m \u001b[32m━━━━━━━━━━━━━━━━━━━━\u001b[0m\u001b[37m\u001b[0m \u001b[1m0s\u001b[0m 14ms/step - loss: 0.1251 - mean_absolute_error: 0.2638 - r2_score: 0.4818 - val_loss: 0.1416 - val_mean_absolute_error: 0.2907 - val_r2_score: 0.4047\n",
      "Epoch 218/300\n",
      "\u001b[1m5/5\u001b[0m \u001b[32m━━━━━━━━━━━━━━━━━━━━\u001b[0m\u001b[37m\u001b[0m \u001b[1m0s\u001b[0m 14ms/step - loss: 0.1355 - mean_absolute_error: 0.2747 - r2_score: 0.4445 - val_loss: 0.1426 - val_mean_absolute_error: 0.2925 - val_r2_score: 0.4005\n",
      "Epoch 219/300\n",
      "\u001b[1m5/5\u001b[0m \u001b[32m━━━━━━━━━━━━━━━━━━━━\u001b[0m\u001b[37m\u001b[0m \u001b[1m0s\u001b[0m 15ms/step - loss: 0.1243 - mean_absolute_error: 0.2633 - r2_score: 0.4897 - val_loss: 0.1424 - val_mean_absolute_error: 0.2918 - val_r2_score: 0.4015\n",
      "Epoch 220/300\n",
      "\u001b[1m5/5\u001b[0m \u001b[32m━━━━━━━━━━━━━━━━━━━━\u001b[0m\u001b[37m\u001b[0m \u001b[1m0s\u001b[0m 17ms/step - loss: 0.1297 - mean_absolute_error: 0.2695 - r2_score: 0.4635 - val_loss: 0.1421 - val_mean_absolute_error: 0.2907 - val_r2_score: 0.4027\n",
      "Epoch 221/300\n",
      "\u001b[1m5/5\u001b[0m \u001b[32m━━━━━━━━━━━━━━━━━━━━\u001b[0m\u001b[37m\u001b[0m \u001b[1m0s\u001b[0m 14ms/step - loss: 0.1223 - mean_absolute_error: 0.2592 - r2_score: 0.4943 - val_loss: 0.1419 - val_mean_absolute_error: 0.2904 - val_r2_score: 0.4035\n",
      "Epoch 222/300\n",
      "\u001b[1m5/5\u001b[0m \u001b[32m━━━━━━━━━━━━━━━━━━━━\u001b[0m\u001b[37m\u001b[0m \u001b[1m0s\u001b[0m 18ms/step - loss: 0.1166 - mean_absolute_error: 0.2489 - r2_score: 0.5200 - val_loss: 0.1421 - val_mean_absolute_error: 0.2908 - val_r2_score: 0.4026\n",
      "Epoch 223/300\n",
      "\u001b[1m5/5\u001b[0m \u001b[32m━━━━━━━━━━━━━━━━━━━━\u001b[0m\u001b[37m\u001b[0m \u001b[1m0s\u001b[0m 15ms/step - loss: 0.1282 - mean_absolute_error: 0.2658 - r2_score: 0.4728 - val_loss: 0.1423 - val_mean_absolute_error: 0.2913 - val_r2_score: 0.4020\n",
      "Epoch 224/300\n",
      "\u001b[1m5/5\u001b[0m \u001b[32m━━━━━━━━━━━━━━━━━━━━\u001b[0m\u001b[37m\u001b[0m \u001b[1m0s\u001b[0m 15ms/step - loss: 0.1281 - mean_absolute_error: 0.2647 - r2_score: 0.4685 - val_loss: 0.1421 - val_mean_absolute_error: 0.2910 - val_r2_score: 0.4025\n",
      "Epoch 225/300\n",
      "\u001b[1m5/5\u001b[0m \u001b[32m━━━━━━━━━━━━━━━━━━━━\u001b[0m\u001b[37m\u001b[0m \u001b[1m0s\u001b[0m 14ms/step - loss: 0.1231 - mean_absolute_error: 0.2598 - r2_score: 0.4842 - val_loss: 0.1417 - val_mean_absolute_error: 0.2908 - val_r2_score: 0.4043\n",
      "Epoch 226/300\n",
      "\u001b[1m5/5\u001b[0m \u001b[32m━━━━━━━━━━━━━━━━━━━━\u001b[0m\u001b[37m\u001b[0m \u001b[1m0s\u001b[0m 15ms/step - loss: 0.1290 - mean_absolute_error: 0.2677 - r2_score: 0.4678 - val_loss: 0.1422 - val_mean_absolute_error: 0.2915 - val_r2_score: 0.4023\n",
      "Epoch 227/300\n",
      "\u001b[1m5/5\u001b[0m \u001b[32m━━━━━━━━━━━━━━━━━━━━\u001b[0m\u001b[37m\u001b[0m \u001b[1m0s\u001b[0m 15ms/step - loss: 0.1300 - mean_absolute_error: 0.2698 - r2_score: 0.4649 - val_loss: 0.1426 - val_mean_absolute_error: 0.2921 - val_r2_score: 0.4007\n",
      "Epoch 228/300\n",
      "\u001b[1m5/5\u001b[0m \u001b[32m━━━━━━━━━━━━━━━━━━━━\u001b[0m\u001b[37m\u001b[0m \u001b[1m0s\u001b[0m 14ms/step - loss: 0.1189 - mean_absolute_error: 0.2559 - r2_score: 0.5042 - val_loss: 0.1420 - val_mean_absolute_error: 0.2905 - val_r2_score: 0.4032\n",
      "Epoch 229/300\n",
      "\u001b[1m5/5\u001b[0m \u001b[32m━━━━━━━━━━━━━━━━━━━━\u001b[0m\u001b[37m\u001b[0m \u001b[1m0s\u001b[0m 14ms/step - loss: 0.1276 - mean_absolute_error: 0.2681 - r2_score: 0.4750 - val_loss: 0.1418 - val_mean_absolute_error: 0.2901 - val_r2_score: 0.4040\n",
      "Epoch 230/300\n",
      "\u001b[1m5/5\u001b[0m \u001b[32m━━━━━━━━━━━━━━━━━━━━\u001b[0m\u001b[37m\u001b[0m \u001b[1m0s\u001b[0m 14ms/step - loss: 0.1290 - mean_absolute_error: 0.2672 - r2_score: 0.4624 - val_loss: 0.1423 - val_mean_absolute_error: 0.2914 - val_r2_score: 0.4018\n",
      "Epoch 231/300\n",
      "\u001b[1m5/5\u001b[0m \u001b[32m━━━━━━━━━━━━━━━━━━━━\u001b[0m\u001b[37m\u001b[0m \u001b[1m0s\u001b[0m 15ms/step - loss: 0.1226 - mean_absolute_error: 0.2596 - r2_score: 0.4976 - val_loss: 0.1418 - val_mean_absolute_error: 0.2908 - val_r2_score: 0.4041\n",
      "Epoch 232/300\n",
      "\u001b[1m5/5\u001b[0m \u001b[32m━━━━━━━━━━━━━━━━━━━━\u001b[0m\u001b[37m\u001b[0m \u001b[1m0s\u001b[0m 14ms/step - loss: 0.1231 - mean_absolute_error: 0.2613 - r2_score: 0.4884 - val_loss: 0.1428 - val_mean_absolute_error: 0.2922 - val_r2_score: 0.3999\n",
      "Epoch 233/300\n",
      "\u001b[1m5/5\u001b[0m \u001b[32m━━━━━━━━━━━━━━━━━━━━\u001b[0m\u001b[37m\u001b[0m \u001b[1m0s\u001b[0m 15ms/step - loss: 0.1299 - mean_absolute_error: 0.2686 - r2_score: 0.4616 - val_loss: 0.1421 - val_mean_absolute_error: 0.2910 - val_r2_score: 0.4029\n",
      "Epoch 234/300\n",
      "\u001b[1m5/5\u001b[0m \u001b[32m━━━━━━━━━━━━━━━━━━━━\u001b[0m\u001b[37m\u001b[0m \u001b[1m0s\u001b[0m 14ms/step - loss: 0.1255 - mean_absolute_error: 0.2632 - r2_score: 0.4867 - val_loss: 0.1418 - val_mean_absolute_error: 0.2908 - val_r2_score: 0.4038\n",
      "Epoch 235/300\n",
      "\u001b[1m5/5\u001b[0m \u001b[32m━━━━━━━━━━━━━━━━━━━━\u001b[0m\u001b[37m\u001b[0m \u001b[1m0s\u001b[0m 14ms/step - loss: 0.1285 - mean_absolute_error: 0.2680 - r2_score: 0.4712 - val_loss: 0.1425 - val_mean_absolute_error: 0.2918 - val_r2_score: 0.4009\n",
      "Epoch 236/300\n",
      "\u001b[1m5/5\u001b[0m \u001b[32m━━━━━━━━━━━━━━━━━━━━\u001b[0m\u001b[37m\u001b[0m \u001b[1m0s\u001b[0m 15ms/step - loss: 0.1329 - mean_absolute_error: 0.2720 - r2_score: 0.4579 - val_loss: 0.1423 - val_mean_absolute_error: 0.2912 - val_r2_score: 0.4018\n",
      "Epoch 237/300\n",
      "\u001b[1m5/5\u001b[0m \u001b[32m━━━━━━━━━━━━━━━━━━━━\u001b[0m\u001b[37m\u001b[0m \u001b[1m0s\u001b[0m 16ms/step - loss: 0.1186 - mean_absolute_error: 0.2538 - r2_score: 0.5136 - val_loss: 0.1420 - val_mean_absolute_error: 0.2906 - val_r2_score: 0.4030\n",
      "Epoch 238/300\n",
      "\u001b[1m5/5\u001b[0m \u001b[32m━━━━━━━━━━━━━━━━━━━━\u001b[0m\u001b[37m\u001b[0m \u001b[1m0s\u001b[0m 16ms/step - loss: 0.1241 - mean_absolute_error: 0.2603 - r2_score: 0.4876 - val_loss: 0.1420 - val_mean_absolute_error: 0.2904 - val_r2_score: 0.4030\n",
      "Epoch 239/300\n",
      "\u001b[1m5/5\u001b[0m \u001b[32m━━━━━━━━━━━━━━━━━━━━\u001b[0m\u001b[37m\u001b[0m \u001b[1m0s\u001b[0m 16ms/step - loss: 0.1299 - mean_absolute_error: 0.2683 - r2_score: 0.4679 - val_loss: 0.1423 - val_mean_absolute_error: 0.2910 - val_r2_score: 0.4019\n",
      "Epoch 240/300\n",
      "\u001b[1m5/5\u001b[0m \u001b[32m━━━━━━━━━━━━━━━━━━━━\u001b[0m\u001b[37m\u001b[0m \u001b[1m0s\u001b[0m 16ms/step - loss: 0.1181 - mean_absolute_error: 0.2530 - r2_score: 0.5099 - val_loss: 0.1422 - val_mean_absolute_error: 0.2907 - val_r2_score: 0.4024\n",
      "Epoch 241/300\n",
      "\u001b[1m5/5\u001b[0m \u001b[32m━━━━━━━━━━━━━━━━━━━━\u001b[0m\u001b[37m\u001b[0m \u001b[1m0s\u001b[0m 15ms/step - loss: 0.1219 - mean_absolute_error: 0.2596 - r2_score: 0.4963 - val_loss: 0.1421 - val_mean_absolute_error: 0.2908 - val_r2_score: 0.4025\n",
      "Epoch 242/300\n",
      "\u001b[1m5/5\u001b[0m \u001b[32m━━━━━━━━━━━━━━━━━━━━\u001b[0m\u001b[37m\u001b[0m \u001b[1m0s\u001b[0m 15ms/step - loss: 0.1280 - mean_absolute_error: 0.2646 - r2_score: 0.4695 - val_loss: 0.1419 - val_mean_absolute_error: 0.2906 - val_r2_score: 0.4034\n",
      "Epoch 243/300\n",
      "\u001b[1m5/5\u001b[0m \u001b[32m━━━━━━━━━━━━━━━━━━━━\u001b[0m\u001b[37m\u001b[0m \u001b[1m0s\u001b[0m 14ms/step - loss: 0.1254 - mean_absolute_error: 0.2620 - r2_score: 0.4870 - val_loss: 0.1417 - val_mean_absolute_error: 0.2907 - val_r2_score: 0.4044\n",
      "Epoch 244/300\n",
      "\u001b[1m5/5\u001b[0m \u001b[32m━━━━━━━━━━━━━━━━━━━━\u001b[0m\u001b[37m\u001b[0m \u001b[1m0s\u001b[0m 14ms/step - loss: 0.1203 - mean_absolute_error: 0.2584 - r2_score: 0.4949 - val_loss: 0.1438 - val_mean_absolute_error: 0.2934 - val_r2_score: 0.3955\n",
      "Epoch 245/300\n",
      "\u001b[1m5/5\u001b[0m \u001b[32m━━━━━━━━━━━━━━━━━━━━\u001b[0m\u001b[37m\u001b[0m \u001b[1m0s\u001b[0m 18ms/step - loss: 0.1302 - mean_absolute_error: 0.2727 - r2_score: 0.4654 - val_loss: 0.1419 - val_mean_absolute_error: 0.2908 - val_r2_score: 0.4033\n",
      "Epoch 246/300\n",
      "\u001b[1m5/5\u001b[0m \u001b[32m━━━━━━━━━━━━━━━━━━━━\u001b[0m\u001b[37m\u001b[0m \u001b[1m0s\u001b[0m 14ms/step - loss: 0.1203 - mean_absolute_error: 0.2583 - r2_score: 0.5054 - val_loss: 0.1417 - val_mean_absolute_error: 0.2907 - val_r2_score: 0.4043\n",
      "Epoch 247/300\n",
      "\u001b[1m5/5\u001b[0m \u001b[32m━━━━━━━━━━━━━━━━━━━━\u001b[0m\u001b[37m\u001b[0m \u001b[1m0s\u001b[0m 15ms/step - loss: 0.1226 - mean_absolute_error: 0.2615 - r2_score: 0.4947 - val_loss: 0.1424 - val_mean_absolute_error: 0.2914 - val_r2_score: 0.4014\n",
      "Epoch 248/300\n",
      "\u001b[1m5/5\u001b[0m \u001b[32m━━━━━━━━━━━━━━━━━━━━\u001b[0m\u001b[37m\u001b[0m \u001b[1m0s\u001b[0m 15ms/step - loss: 0.1279 - mean_absolute_error: 0.2664 - r2_score: 0.4775 - val_loss: 0.1427 - val_mean_absolute_error: 0.2924 - val_r2_score: 0.4002\n",
      "Epoch 249/300\n",
      "\u001b[1m5/5\u001b[0m \u001b[32m━━━━━━━━━━━━━━━━━━━━\u001b[0m\u001b[37m\u001b[0m \u001b[1m0s\u001b[0m 14ms/step - loss: 0.1284 - mean_absolute_error: 0.2665 - r2_score: 0.4652 - val_loss: 0.1424 - val_mean_absolute_error: 0.2917 - val_r2_score: 0.4013\n",
      "Epoch 250/300\n",
      "\u001b[1m5/5\u001b[0m \u001b[32m━━━━━━━━━━━━━━━━━━━━\u001b[0m\u001b[37m\u001b[0m \u001b[1m0s\u001b[0m 14ms/step - loss: 0.1248 - mean_absolute_error: 0.2627 - r2_score: 0.4781 - val_loss: 0.1418 - val_mean_absolute_error: 0.2900 - val_r2_score: 0.4040\n",
      "Epoch 251/300\n",
      "\u001b[1m5/5\u001b[0m \u001b[32m━━━━━━━━━━━━━━━━━━━━\u001b[0m\u001b[37m\u001b[0m \u001b[1m0s\u001b[0m 16ms/step - loss: 0.1315 - mean_absolute_error: 0.2720 - r2_score: 0.4611 - val_loss: 0.1419 - val_mean_absolute_error: 0.2902 - val_r2_score: 0.4035\n",
      "Epoch 252/300\n",
      "\u001b[1m5/5\u001b[0m \u001b[32m━━━━━━━━━━━━━━━━━━━━\u001b[0m\u001b[37m\u001b[0m \u001b[1m0s\u001b[0m 15ms/step - loss: 0.1261 - mean_absolute_error: 0.2662 - r2_score: 0.4752 - val_loss: 0.1429 - val_mean_absolute_error: 0.2923 - val_r2_score: 0.3994\n",
      "Epoch 253/300\n",
      "\u001b[1m5/5\u001b[0m \u001b[32m━━━━━━━━━━━━━━━━━━━━\u001b[0m\u001b[37m\u001b[0m \u001b[1m0s\u001b[0m 14ms/step - loss: 0.1326 - mean_absolute_error: 0.2719 - r2_score: 0.4539 - val_loss: 0.1422 - val_mean_absolute_error: 0.2906 - val_r2_score: 0.4025\n",
      "Epoch 254/300\n",
      "\u001b[1m5/5\u001b[0m \u001b[32m━━━━━━━━━━━━━━━━━━━━\u001b[0m\u001b[37m\u001b[0m \u001b[1m0s\u001b[0m 15ms/step - loss: 0.1194 - mean_absolute_error: 0.2569 - r2_score: 0.5095 - val_loss: 0.1417 - val_mean_absolute_error: 0.2905 - val_r2_score: 0.4042\n",
      "Epoch 255/300\n",
      "\u001b[1m5/5\u001b[0m \u001b[32m━━━━━━━━━━━━━━━━━━━━\u001b[0m\u001b[37m\u001b[0m \u001b[1m0s\u001b[0m 15ms/step - loss: 0.1227 - mean_absolute_error: 0.2605 - r2_score: 0.4820 - val_loss: 0.1422 - val_mean_absolute_error: 0.2905 - val_r2_score: 0.4022\n",
      "Epoch 256/300\n",
      "\u001b[1m5/5\u001b[0m \u001b[32m━━━━━━━━━━━━━━━━━━━━\u001b[0m\u001b[37m\u001b[0m \u001b[1m0s\u001b[0m 14ms/step - loss: 0.1249 - mean_absolute_error: 0.2593 - r2_score: 0.4881 - val_loss: 0.1424 - val_mean_absolute_error: 0.2911 - val_r2_score: 0.4015\n",
      "Epoch 257/300\n",
      "\u001b[1m5/5\u001b[0m \u001b[32m━━━━━━━━━━━━━━━━━━━━\u001b[0m\u001b[37m\u001b[0m \u001b[1m0s\u001b[0m 16ms/step - loss: 0.1260 - mean_absolute_error: 0.2622 - r2_score: 0.4823 - val_loss: 0.1423 - val_mean_absolute_error: 0.2907 - val_r2_score: 0.4020\n",
      "Epoch 258/300\n",
      "\u001b[1m5/5\u001b[0m \u001b[32m━━━━━━━━━━━━━━━━━━━━\u001b[0m\u001b[37m\u001b[0m \u001b[1m0s\u001b[0m 16ms/step - loss: 0.1223 - mean_absolute_error: 0.2597 - r2_score: 0.4890 - val_loss: 0.1421 - val_mean_absolute_error: 0.2904 - val_r2_score: 0.4026\n",
      "Epoch 259/300\n",
      "\u001b[1m5/5\u001b[0m \u001b[32m━━━━━━━━━━━━━━━━━━━━\u001b[0m\u001b[37m\u001b[0m \u001b[1m0s\u001b[0m 15ms/step - loss: 0.1246 - mean_absolute_error: 0.2609 - r2_score: 0.4833 - val_loss: 0.1427 - val_mean_absolute_error: 0.2918 - val_r2_score: 0.4000\n",
      "Epoch 260/300\n",
      "\u001b[1m5/5\u001b[0m \u001b[32m━━━━━━━━━━━━━━━━━━━━\u001b[0m\u001b[37m\u001b[0m \u001b[1m0s\u001b[0m 15ms/step - loss: 0.1249 - mean_absolute_error: 0.2624 - r2_score: 0.4764 - val_loss: 0.1417 - val_mean_absolute_error: 0.2903 - val_r2_score: 0.4044\n",
      "Epoch 261/300\n",
      "\u001b[1m5/5\u001b[0m \u001b[32m━━━━━━━━━━━━━━━━━━━━\u001b[0m\u001b[37m\u001b[0m \u001b[1m0s\u001b[0m 15ms/step - loss: 0.1135 - mean_absolute_error: 0.2473 - r2_score: 0.5239 - val_loss: 0.1417 - val_mean_absolute_error: 0.2902 - val_r2_score: 0.4045\n",
      "Epoch 262/300\n",
      "\u001b[1m5/5\u001b[0m \u001b[32m━━━━━━━━━━━━━━━━━━━━\u001b[0m\u001b[37m\u001b[0m \u001b[1m0s\u001b[0m 15ms/step - loss: 0.1187 - mean_absolute_error: 0.2536 - r2_score: 0.5137 - val_loss: 0.1424 - val_mean_absolute_error: 0.2914 - val_r2_score: 0.4015\n",
      "Epoch 263/300\n",
      "\u001b[1m5/5\u001b[0m \u001b[32m━━━━━━━━━━━━━━━━━━━━\u001b[0m\u001b[37m\u001b[0m \u001b[1m0s\u001b[0m 15ms/step - loss: 0.1253 - mean_absolute_error: 0.2654 - r2_score: 0.4863 - val_loss: 0.1427 - val_mean_absolute_error: 0.2924 - val_r2_score: 0.4004\n",
      "Epoch 264/300\n",
      "\u001b[1m5/5\u001b[0m \u001b[32m━━━━━━━━━━━━━━━━━━━━\u001b[0m\u001b[37m\u001b[0m \u001b[1m0s\u001b[0m 15ms/step - loss: 0.1253 - mean_absolute_error: 0.2620 - r2_score: 0.4818 - val_loss: 0.1422 - val_mean_absolute_error: 0.2918 - val_r2_score: 0.4021\n",
      "Epoch 265/300\n",
      "\u001b[1m5/5\u001b[0m \u001b[32m━━━━━━━━━━━━━━━━━━━━\u001b[0m\u001b[37m\u001b[0m \u001b[1m0s\u001b[0m 15ms/step - loss: 0.1244 - mean_absolute_error: 0.2608 - r2_score: 0.4752 - val_loss: 0.1421 - val_mean_absolute_error: 0.2911 - val_r2_score: 0.4027\n",
      "Epoch 266/300\n",
      "\u001b[1m5/5\u001b[0m \u001b[32m━━━━━━━━━━━━━━━━━━━━\u001b[0m\u001b[37m\u001b[0m \u001b[1m0s\u001b[0m 14ms/step - loss: 0.1299 - mean_absolute_error: 0.2696 - r2_score: 0.4619 - val_loss: 0.1420 - val_mean_absolute_error: 0.2903 - val_r2_score: 0.4032\n",
      "Epoch 267/300\n",
      "\u001b[1m5/5\u001b[0m \u001b[32m━━━━━━━━━━━━━━━━━━━━\u001b[0m\u001b[37m\u001b[0m \u001b[1m0s\u001b[0m 14ms/step - loss: 0.1200 - mean_absolute_error: 0.2523 - r2_score: 0.5071 - val_loss: 0.1423 - val_mean_absolute_error: 0.2904 - val_r2_score: 0.4017\n",
      "Epoch 268/300\n",
      "\u001b[1m5/5\u001b[0m \u001b[32m━━━━━━━━━━━━━━━━━━━━\u001b[0m\u001b[37m\u001b[0m \u001b[1m0s\u001b[0m 14ms/step - loss: 0.1234 - mean_absolute_error: 0.2607 - r2_score: 0.4911 - val_loss: 0.1426 - val_mean_absolute_error: 0.2909 - val_r2_score: 0.4005\n",
      "Epoch 269/300\n",
      "\u001b[1m5/5\u001b[0m \u001b[32m━━━━━━━━━━━━━━━━━━━━\u001b[0m\u001b[37m\u001b[0m \u001b[1m0s\u001b[0m 14ms/step - loss: 0.1279 - mean_absolute_error: 0.2677 - r2_score: 0.4762 - val_loss: 0.1419 - val_mean_absolute_error: 0.2899 - val_r2_score: 0.4035\n",
      "Epoch 270/300\n",
      "\u001b[1m5/5\u001b[0m \u001b[32m━━━━━━━━━━━━━━━━━━━━\u001b[0m\u001b[37m\u001b[0m \u001b[1m0s\u001b[0m 14ms/step - loss: 0.1176 - mean_absolute_error: 0.2546 - r2_score: 0.5175 - val_loss: 0.1427 - val_mean_absolute_error: 0.2918 - val_r2_score: 0.4000\n",
      "Epoch 271/300\n",
      "\u001b[1m5/5\u001b[0m \u001b[32m━━━━━━━━━━━━━━━━━━━━\u001b[0m\u001b[37m\u001b[0m \u001b[1m0s\u001b[0m 15ms/step - loss: 0.1287 - mean_absolute_error: 0.2692 - r2_score: 0.4706 - val_loss: 0.1426 - val_mean_absolute_error: 0.2922 - val_r2_score: 0.4007\n",
      "Epoch 272/300\n",
      "\u001b[1m5/5\u001b[0m \u001b[32m━━━━━━━━━━━━━━━━━━━━\u001b[0m\u001b[37m\u001b[0m \u001b[1m0s\u001b[0m 15ms/step - loss: 0.1239 - mean_absolute_error: 0.2627 - r2_score: 0.4859 - val_loss: 0.1420 - val_mean_absolute_error: 0.2923 - val_r2_score: 0.4033\n",
      "Epoch 273/300\n",
      "\u001b[1m5/5\u001b[0m \u001b[32m━━━━━━━━━━━━━━━━━━━━\u001b[0m\u001b[37m\u001b[0m \u001b[1m0s\u001b[0m 14ms/step - loss: 0.1300 - mean_absolute_error: 0.2730 - r2_score: 0.4633 - val_loss: 0.1421 - val_mean_absolute_error: 0.2919 - val_r2_score: 0.4027\n",
      "Epoch 274/300\n",
      "\u001b[1m5/5\u001b[0m \u001b[32m━━━━━━━━━━━━━━━━━━━━\u001b[0m\u001b[37m\u001b[0m \u001b[1m0s\u001b[0m 14ms/step - loss: 0.1249 - mean_absolute_error: 0.2648 - r2_score: 0.4852 - val_loss: 0.1422 - val_mean_absolute_error: 0.2913 - val_r2_score: 0.4023\n",
      "Epoch 275/300\n",
      "\u001b[1m5/5\u001b[0m \u001b[32m━━━━━━━━━━━━━━━━━━━━\u001b[0m\u001b[37m\u001b[0m \u001b[1m0s\u001b[0m 14ms/step - loss: 0.1261 - mean_absolute_error: 0.2659 - r2_score: 0.4778 - val_loss: 0.1426 - val_mean_absolute_error: 0.2914 - val_r2_score: 0.4008\n",
      "Epoch 276/300\n",
      "\u001b[1m5/5\u001b[0m \u001b[32m━━━━━━━━━━━━━━━━━━━━\u001b[0m\u001b[37m\u001b[0m \u001b[1m0s\u001b[0m 15ms/step - loss: 0.1171 - mean_absolute_error: 0.2535 - r2_score: 0.5208 - val_loss: 0.1422 - val_mean_absolute_error: 0.2903 - val_r2_score: 0.4024\n",
      "Epoch 277/300\n",
      "\u001b[1m5/5\u001b[0m \u001b[32m━━━━━━━━━━━━━━━━━━━━\u001b[0m\u001b[37m\u001b[0m \u001b[1m0s\u001b[0m 19ms/step - loss: 0.1224 - mean_absolute_error: 0.2598 - r2_score: 0.4964 - val_loss: 0.1423 - val_mean_absolute_error: 0.2906 - val_r2_score: 0.4018\n",
      "Epoch 278/300\n",
      "\u001b[1m5/5\u001b[0m \u001b[32m━━━━━━━━━━━━━━━━━━━━\u001b[0m\u001b[37m\u001b[0m \u001b[1m0s\u001b[0m 20ms/step - loss: 0.1291 - mean_absolute_error: 0.2670 - r2_score: 0.4647 - val_loss: 0.1427 - val_mean_absolute_error: 0.2916 - val_r2_score: 0.4003\n",
      "Epoch 279/300\n",
      "\u001b[1m5/5\u001b[0m \u001b[32m━━━━━━━━━━━━━━━━━━━━\u001b[0m\u001b[37m\u001b[0m \u001b[1m0s\u001b[0m 21ms/step - loss: 0.1212 - mean_absolute_error: 0.2579 - r2_score: 0.4986 - val_loss: 0.1421 - val_mean_absolute_error: 0.2906 - val_r2_score: 0.4026\n",
      "Epoch 280/300\n",
      "\u001b[1m5/5\u001b[0m \u001b[32m━━━━━━━━━━━━━━━━━━━━\u001b[0m\u001b[37m\u001b[0m \u001b[1m0s\u001b[0m 19ms/step - loss: 0.1247 - mean_absolute_error: 0.2624 - r2_score: 0.4802 - val_loss: 0.1423 - val_mean_absolute_error: 0.2908 - val_r2_score: 0.4020\n",
      "Epoch 281/300\n",
      "\u001b[1m5/5\u001b[0m \u001b[32m━━━━━━━━━━━━━━━━━━━━\u001b[0m\u001b[37m\u001b[0m \u001b[1m0s\u001b[0m 14ms/step - loss: 0.1160 - mean_absolute_error: 0.2509 - r2_score: 0.5145 - val_loss: 0.1421 - val_mean_absolute_error: 0.2909 - val_r2_score: 0.4028\n",
      "Epoch 282/300\n",
      "\u001b[1m5/5\u001b[0m \u001b[32m━━━━━━━━━━━━━━━━━━━━\u001b[0m\u001b[37m\u001b[0m \u001b[1m0s\u001b[0m 14ms/step - loss: 0.1263 - mean_absolute_error: 0.2628 - r2_score: 0.4703 - val_loss: 0.1419 - val_mean_absolute_error: 0.2914 - val_r2_score: 0.4035\n",
      "Epoch 283/300\n",
      "\u001b[1m5/5\u001b[0m \u001b[32m━━━━━━━━━━━━━━━━━━━━\u001b[0m\u001b[37m\u001b[0m \u001b[1m0s\u001b[0m 14ms/step - loss: 0.1225 - mean_absolute_error: 0.2617 - r2_score: 0.4916 - val_loss: 0.1422 - val_mean_absolute_error: 0.2904 - val_r2_score: 0.4024\n",
      "Epoch 284/300\n",
      "\u001b[1m5/5\u001b[0m \u001b[32m━━━━━━━━━━━━━━━━━━━━\u001b[0m\u001b[37m\u001b[0m \u001b[1m0s\u001b[0m 14ms/step - loss: 0.1323 - mean_absolute_error: 0.2677 - r2_score: 0.4516 - val_loss: 0.1426 - val_mean_absolute_error: 0.2917 - val_r2_score: 0.4004\n",
      "Epoch 285/300\n",
      "\u001b[1m5/5\u001b[0m \u001b[32m━━━━━━━━━━━━━━━━━━━━\u001b[0m\u001b[37m\u001b[0m \u001b[1m0s\u001b[0m 15ms/step - loss: 0.1267 - mean_absolute_error: 0.2621 - r2_score: 0.4752 - val_loss: 0.1424 - val_mean_absolute_error: 0.2907 - val_r2_score: 0.4015\n",
      "Epoch 286/300\n",
      "\u001b[1m5/5\u001b[0m \u001b[32m━━━━━━━━━━━━━━━━━━━━\u001b[0m\u001b[37m\u001b[0m \u001b[1m0s\u001b[0m 15ms/step - loss: 0.1230 - mean_absolute_error: 0.2618 - r2_score: 0.4868 - val_loss: 0.1422 - val_mean_absolute_error: 0.2904 - val_r2_score: 0.4022\n",
      "Epoch 287/300\n",
      "\u001b[1m5/5\u001b[0m \u001b[32m━━━━━━━━━━━━━━━━━━━━\u001b[0m\u001b[37m\u001b[0m \u001b[1m0s\u001b[0m 14ms/step - loss: 0.1256 - mean_absolute_error: 0.2580 - r2_score: 0.4822 - val_loss: 0.1420 - val_mean_absolute_error: 0.2910 - val_r2_score: 0.4030\n",
      "Epoch 288/300\n",
      "\u001b[1m5/5\u001b[0m \u001b[32m━━━━━━━━━━━━━━━━━━━━\u001b[0m\u001b[37m\u001b[0m \u001b[1m0s\u001b[0m 14ms/step - loss: 0.1217 - mean_absolute_error: 0.2587 - r2_score: 0.4960 - val_loss: 0.1421 - val_mean_absolute_error: 0.2905 - val_r2_score: 0.4026\n",
      "Epoch 289/300\n",
      "\u001b[1m5/5\u001b[0m \u001b[32m━━━━━━━━━━━━━━━━━━━━\u001b[0m\u001b[37m\u001b[0m \u001b[1m0s\u001b[0m 14ms/step - loss: 0.1299 - mean_absolute_error: 0.2672 - r2_score: 0.4610 - val_loss: 0.1425 - val_mean_absolute_error: 0.2913 - val_r2_score: 0.4010\n",
      "Epoch 290/300\n",
      "\u001b[1m5/5\u001b[0m \u001b[32m━━━━━━━━━━━━━━━━━━━━\u001b[0m\u001b[37m\u001b[0m \u001b[1m0s\u001b[0m 16ms/step - loss: 0.1175 - mean_absolute_error: 0.2550 - r2_score: 0.5086 - val_loss: 0.1427 - val_mean_absolute_error: 0.2911 - val_r2_score: 0.4003\n",
      "Epoch 291/300\n",
      "\u001b[1m5/5\u001b[0m \u001b[32m━━━━━━━━━━━━━━━━━━━━\u001b[0m\u001b[37m\u001b[0m \u001b[1m0s\u001b[0m 15ms/step - loss: 0.1275 - mean_absolute_error: 0.2664 - r2_score: 0.4685 - val_loss: 0.1418 - val_mean_absolute_error: 0.2905 - val_r2_score: 0.4039\n",
      "Epoch 292/300\n",
      "\u001b[1m5/5\u001b[0m \u001b[32m━━━━━━━━━━━━━━━━━━━━\u001b[0m\u001b[37m\u001b[0m \u001b[1m0s\u001b[0m 15ms/step - loss: 0.1247 - mean_absolute_error: 0.2612 - r2_score: 0.4886 - val_loss: 0.1421 - val_mean_absolute_error: 0.2907 - val_r2_score: 0.4026\n",
      "Epoch 293/300\n",
      "\u001b[1m5/5\u001b[0m \u001b[32m━━━━━━━━━━━━━━━━━━━━\u001b[0m\u001b[37m\u001b[0m \u001b[1m0s\u001b[0m 15ms/step - loss: 0.1222 - mean_absolute_error: 0.2576 - r2_score: 0.4979 - val_loss: 0.1428 - val_mean_absolute_error: 0.2917 - val_r2_score: 0.3998\n",
      "Epoch 294/300\n",
      "\u001b[1m5/5\u001b[0m \u001b[32m━━━━━━━━━━━━━━━━━━━━\u001b[0m\u001b[37m\u001b[0m \u001b[1m0s\u001b[0m 16ms/step - loss: 0.1303 - mean_absolute_error: 0.2673 - r2_score: 0.4605 - val_loss: 0.1423 - val_mean_absolute_error: 0.2908 - val_r2_score: 0.4018\n",
      "Epoch 295/300\n",
      "\u001b[1m5/5\u001b[0m \u001b[32m━━━━━━━━━━━━━━━━━━━━\u001b[0m\u001b[37m\u001b[0m \u001b[1m0s\u001b[0m 16ms/step - loss: 0.1175 - mean_absolute_error: 0.2550 - r2_score: 0.5067 - val_loss: 0.1424 - val_mean_absolute_error: 0.2906 - val_r2_score: 0.4012\n",
      "Epoch 296/300\n",
      "\u001b[1m5/5\u001b[0m \u001b[32m━━━━━━━━━━━━━━━━━━━━\u001b[0m\u001b[37m\u001b[0m \u001b[1m0s\u001b[0m 16ms/step - loss: 0.1263 - mean_absolute_error: 0.2660 - r2_score: 0.4751 - val_loss: 0.1423 - val_mean_absolute_error: 0.2909 - val_r2_score: 0.4019\n",
      "Epoch 297/300\n",
      "\u001b[1m5/5\u001b[0m \u001b[32m━━━━━━━━━━━━━━━━━━━━\u001b[0m\u001b[37m\u001b[0m \u001b[1m0s\u001b[0m 18ms/step - loss: 0.1236 - mean_absolute_error: 0.2607 - r2_score: 0.4914 - val_loss: 0.1422 - val_mean_absolute_error: 0.2911 - val_r2_score: 0.4023\n",
      "Epoch 298/300\n",
      "\u001b[1m5/5\u001b[0m \u001b[32m━━━━━━━━━━━━━━━━━━━━\u001b[0m\u001b[37m\u001b[0m \u001b[1m0s\u001b[0m 15ms/step - loss: 0.1320 - mean_absolute_error: 0.2697 - r2_score: 0.4533 - val_loss: 0.1429 - val_mean_absolute_error: 0.2924 - val_r2_score: 0.3993\n",
      "Epoch 299/300\n",
      "\u001b[1m5/5\u001b[0m \u001b[32m━━━━━━━━━━━━━━━━━━━━\u001b[0m\u001b[37m\u001b[0m \u001b[1m0s\u001b[0m 15ms/step - loss: 0.1324 - mean_absolute_error: 0.2695 - r2_score: 0.4529 - val_loss: 0.1420 - val_mean_absolute_error: 0.2913 - val_r2_score: 0.4032\n",
      "Epoch 300/300\n",
      "\u001b[1m5/5\u001b[0m \u001b[32m━━━━━━━━━━━━━━━━━━━━\u001b[0m\u001b[37m\u001b[0m \u001b[1m0s\u001b[0m 14ms/step - loss: 0.1192 - mean_absolute_error: 0.2554 - r2_score: 0.5134 - val_loss: 0.1419 - val_mean_absolute_error: 0.2905 - val_r2_score: 0.4035\n"
     ]
    }
   ],
   "source": [
    "history = model_regression_1.fit(\n",
    "    X_train,\n",
    "    Y_train,\n",
    "    batch_size=150,\n",
    "    epochs=300,\n",
    "    validation_data=(X_valid, Y_valid),\n",
    "    verbose='auto',\n",
    ")"
   ]
  },
  {
   "cell_type": "code",
   "execution_count": 37,
   "metadata": {},
   "outputs": [
    {
     "data": {
      "application/vnd.plotly.v1+json": {
       "config": {
        "plotlyServerURL": "https://plot.ly"
       },
       "data": [
        {
         "hovertemplate": "variable=loss<br>index=%{x}<br>value=%{y}<extra></extra>",
         "legendgroup": "loss",
         "line": {
          "color": "#636efa",
          "dash": "solid"
         },
         "marker": {
          "symbol": "circle"
         },
         "mode": "lines",
         "name": "loss",
         "orientation": "v",
         "showlegend": true,
         "type": "scatter",
         "x": {
          "bdata": "AAABAAIAAwAEAAUABgAHAAgACQAKAAsADAANAA4ADwAQABEAEgATABQAFQAWABcAGAAZABoAGwAcAB0AHgAfACAAIQAiACMAJAAlACYAJwAoACkAKgArACwALQAuAC8AMAAxADIAMwA0ADUANgA3ADgAOQA6ADsAPAA9AD4APwBAAEEAQgBDAEQARQBGAEcASABJAEoASwBMAE0ATgBPAFAAUQBSAFMAVABVAFYAVwBYAFkAWgBbAFwAXQBeAF8AYABhAGIAYwBkAGUAZgBnAGgAaQBqAGsAbABtAG4AbwBwAHEAcgBzAHQAdQB2AHcAeAB5AHoAewB8AH0AfgB/AIAAgQCCAIMAhACFAIYAhwCIAIkAigCLAIwAjQCOAI8AkACRAJIAkwCUAJUAlgCXAJgAmQCaAJsAnACdAJ4AnwCgAKEAogCjAKQApQCmAKcAqACpAKoAqwCsAK0ArgCvALAAsQCyALMAtAC1ALYAtwC4ALkAugC7ALwAvQC+AL8AwADBAMIAwwDEAMUAxgDHAMgAyQDKAMsAzADNAM4AzwDQANEA0gDTANQA1QDWANcA2ADZANoA2wDcAN0A3gDfAOAA4QDiAOMA5ADlAOYA5wDoAOkA6gDrAOwA7QDuAO8A8ADxAPIA8wD0APUA9gD3APgA+QD6APsA/AD9AP4A/wAAAQEBAgEDAQQBBQEGAQcBCAEJAQoBCwEMAQ0BDgEPARABEQESARMBFAEVARYBFwEYARkBGgEbARwBHQEeAR8BIAEhASIBIwEkASUBJgEnASgBKQEqASsB",
          "dtype": "i2"
         },
         "xaxis": "x",
         "y": {
          "bdata": "AAAAoENPFUAAAABgm78KQAAAAIDd+/4/AAAAwH3Q8D8AAABgaQ3jPwAAAADZyto/AAAAQHE81T8AAABginrSPwAAAMDIE9E/AAAA4MRt0D8AAADgo+3PPwAAAGCxKM8/AAAAANVhzj8AAACAY9DNPwAAACDDSM0/AAAAQH/fzD8AAADgepTMPwAAAOB8Tcw/AAAAAOkOzD8AAACgBszLPwAAACCpkcs/AAAAwDVcyz8AAADg2CLLPwAAAIAu78o/AAAA4OO2yj8AAADga4HKPwAAAMA6SMo/AAAAQBMTyj8AAACAb9/JPwAAAAAArck/AAAAYAB+yT8AAAAAmkfJPwAAAMArGck/AAAAYKbmyD8AAAAgSbbIPwAAAIBYhcg/AAAAQHRTyD8AAACAICPIPwAAAECE6Mc/AAAAYCyzxz8AAADgYnrHPwAAAEAISMc/AAAAgBMNxz8AAAAgsNfGPwAAAAComsY/AAAAgI9gxj8AAAAA5yTGPwAAACCZ6cU/AAAAoJSsxT8AAAAgHXTFPwAAAEByOcU/AAAAIOn/xD8AAADAb8vEPwAAAAC6kcQ/AAAA4AVZxD8AAADAbB3EPwAAAGDJ5cM/AAAAAAetwz8AAACgBXjDPwAAAOCzRsM/AAAAwGwVwz8AAADA8uTCPwAAAACTssI/AAAAYCKGwj8AAAAgPFrCPwAAAIBFNcI/AAAAYGALwj8AAAAAR+nBPwAAAOBkzsE/AAAA4OmkwT8AAACgBozBPwAAAOAeccE/AAAAQA9TwT8AAAAAPD7BPwAAAMAuJcE/AAAAADcQwT8AAADA6P/APwAAAIAk8MA/AAAAAJDdwD8AAABgP8/APwAAAIBCw8A/AAAAAE22wD8AAAAgwavAPwAAAODSoMA/AAAAoEqVwD8AAACg/ofAPwAAAEABfsA/AAAAYHx0wD8AAABgL2jAPwAAAMA5WcA/AAAAoPVIwD8AAABAn0DAPwAAACAuOsA/AAAAwO85wD8AAADASzvAPwAAAEA7OMA/AAAA4OwpwD8AAABgZyXAPwAAAAARI8A/AAAAACgmwD8AAAAgcB/APwAAAKAjIcA/AAAAQCwawD8AAABgyB7APwAAAMAEIcA/AAAAINwawD8AAADgVhvAPwAAAOBKGMA/AAAAIFAZwD8AAADg4hjAPwAAAIDNFsA/AAAAIK0WwD8AAACAYRbAPwAAAGDcFMA/AAAAwK0XwD8AAAAABhfAPwAAAADEEsA/AAAA4PcQwD8AAADAqxPAPwAAAMCFEcA/AAAAIL4RwD8AAABAFxDAPwAAACBrDsA/AAAAgP8SwD8AAABAUBLAPwAAAMB9I8A/AAAA4MAPwD8AAAAgPhTAPwAAAGB+C8A/AAAAALUYwD8AAADgfyXAPwAAACC2FMA/AAAAIBQSwD8AAADAlBDAPwAAAIDnD8A/AAAAQNULwD8AAACgmArAPwAAAAB8B8A/AAAAgEwSwD8AAABAHwzAPwAAAMA0EcA/AAAAQG4MwD8AAACA3QLAPwAAACD7D8A/AAAAIKkIwD8AAACgdQ3APwAAAMCUBcA/AAAAAPALwD8AAADgsQXAPwAAAEDuBcA/AAAAAJgNwD8AAADAHRLAPwAAAOABFsA/AAAAwHUKwD8AAAAAaAHAPwAAAAAmB8A/AAAAgJIGwD8AAADA/QfAPwAAAEB0A8A/AAAAgKsDwD8AAAAgLgTAPwAAACArAsA/AAAAQBUEwD8AAADg9ATAPwAAAMCrAsA/AAAA4AUBwD8AAABgE/+/PwAAACCLCMA/AAAA4PT+vz8AAACApwLAPwAAAMAuBcA/AAAAQAAJwD8AAACgXQPAPwAAAOB3A8A/AAAAoBkEwD8AAAAgu/6/PwAAAMB7AcA/AAAAwM8AwD8AAACgMP6/PwAAAMBR/r8/AAAAAOL6vz8AAABAHwHAPwAAAEBm+L8/AAAAQMwNwD8AAADACBXAPwAAAEDACMA/AAAA4Fr8vz8AAABAEQLAPwAAACAj/r8/AAAAoIT/vz8AAACA//+/PwAAAAAI8r8/AAAAgIcDwD8AAABAJfm/PwAAAKAnBcA/AAAAIKsEwD8AAAAgsv+/PwAAAKDXAcA/AAAAAB7uvz8AAACgmRXAPwAAAEBHAcA/AAAAgBQLwD8AAAAg0v2/PwAAAABV+L8/AAAAoAP4vz8AAADgI/W/PwAAAADL9b8/AAAAYMUKwD8AAAAAxvC/PwAAAKAd/L8/AAAAYJ71vz8AAABA9gDAPwAAAEAgBMA/AAAAQMP2vz8AAABgSvS/PwAAAMDp8r8/AAAAQOIIwD8AAAAAIgDAPwAAAEDq+r8/AAAAoJLyvz8AAADABPG/PwAAAOBN8L8/AAAAQL3xvz8AAAAgCfG/PwAAAOD48b8/AAAAQLXxvz8AAAAguvK/PwAAAGAe7L8/AAAAAKrwvz8AAAAAvwPAPwAAACDkAcA/AAAAoCP9vz8AAADA6/W/PwAAAMA79r8/AAAA4Gnsvz8AAABAW/e/PwAAAEAQ778/AAAAwNvxvz8AAACgiOq/PwAAAABZ7r8/AAAAYKnsvz8AAACAIOe/PwAAAODsCsA/AAAA4MMcwD8AAADAiwjAPwAAAABH/78/AAAAYEbnvz8AAAAgGPW/PwAAAGDG+L8/AAAAwJvmvz8AAAAgAADAPwAAAKCFAcA/AAAAwCr4vz8AAAAgSee/PwAAAMCX7L8/AAAAoP/kvz8AAADAeem/PwAAAOCn578/AAAAQGUIwD8AAADg1tu/PwAAACB6+L8/AAAA4F7ivz8AAABAvfa/PwAAAKB3/78/AAAAYKrnvz8AAABgKeW/PwAAAABX478/AAAAIPvkvz8AAACAHAvAPwAAACBn278/AAAAYFz2vz8AAADgyd6/PwAAAKDw8L8/AAAAYNzkvz8AAABgYOS/PwAAAKBo5L8/AAAAwPPgvz8AAABgc+m/PwAAAKBW3r8/AAAAoLfuvz8AAABggOG/PwAAAOBE478/AAAA4G/pvz8AAABgCNu/PwAAAEB0378/AAAAQFffvz8AAACgqOm/PwAAAIDp5b8/AAAAYDrbvz8AAACAafC/PwAAAOBB1r8/AAAAQBDsvz8AAACgJtm/PwAAAIAQ6r8/AAAAIHblvz8AAABA+de/PwAAAMB55L8/AAAAIDLyvz8AAADgOt2/PwAAAKBlE8A/",
          "dtype": "f8"
         },
         "yaxis": "y"
        },
        {
         "hovertemplate": "variable=val_loss<br>index=%{x}<br>value=%{y}<extra></extra>",
         "legendgroup": "val_loss",
         "line": {
          "color": "#EF553B",
          "dash": "solid"
         },
         "marker": {
          "symbol": "circle"
         },
         "mode": "lines",
         "name": "val_loss",
         "orientation": "v",
         "showlegend": true,
         "type": "scatter",
         "x": {
          "bdata": "AAABAAIAAwAEAAUABgAHAAgACQAKAAsADAANAA4ADwAQABEAEgATABQAFQAWABcAGAAZABoAGwAcAB0AHgAfACAAIQAiACMAJAAlACYAJwAoACkAKgArACwALQAuAC8AMAAxADIAMwA0ADUANgA3ADgAOQA6ADsAPAA9AD4APwBAAEEAQgBDAEQARQBGAEcASABJAEoASwBMAE0ATgBPAFAAUQBSAFMAVABVAFYAVwBYAFkAWgBbAFwAXQBeAF8AYABhAGIAYwBkAGUAZgBnAGgAaQBqAGsAbABtAG4AbwBwAHEAcgBzAHQAdQB2AHcAeAB5AHoAewB8AH0AfgB/AIAAgQCCAIMAhACFAIYAhwCIAIkAigCLAIwAjQCOAI8AkACRAJIAkwCUAJUAlgCXAJgAmQCaAJsAnACdAJ4AnwCgAKEAogCjAKQApQCmAKcAqACpAKoAqwCsAK0ArgCvALAAsQCyALMAtAC1ALYAtwC4ALkAugC7ALwAvQC+AL8AwADBAMIAwwDEAMUAxgDHAMgAyQDKAMsAzADNAM4AzwDQANEA0gDTANQA1QDWANcA2ADZANoA2wDcAN0A3gDfAOAA4QDiAOMA5ADlAOYA5wDoAOkA6gDrAOwA7QDuAO8A8ADxAPIA8wD0APUA9gD3APgA+QD6APsA/AD9AP4A/wAAAQEBAgEDAQQBBQEGAQcBCAEJAQoBCwEMAQ0BDgEPARABEQESARMBFAEVARYBFwEYARkBGgEbARwBHQEeAR8BIAEhASIBIwEkASUBJgEnASgBKQEqASsB",
          "dtype": "i2"
         },
         "xaxis": "x",
         "y": {
          "bdata": "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",
          "dtype": "f8"
         },
         "yaxis": "y"
        }
       ],
       "layout": {
        "legend": {
         "title": {
          "text": "variable"
         },
         "tracegroupgap": 0
        },
        "margin": {
         "t": 60
        },
        "template": {
         "data": {
          "bar": [
           {
            "error_x": {
             "color": "#2a3f5f"
            },
            "error_y": {
             "color": "#2a3f5f"
            },
            "marker": {
             "line": {
              "color": "#E5ECF6",
              "width": 0.5
             },
             "pattern": {
              "fillmode": "overlay",
              "size": 10,
              "solidity": 0.2
             }
            },
            "type": "bar"
           }
          ],
          "barpolar": [
           {
            "marker": {
             "line": {
              "color": "#E5ECF6",
              "width": 0.5
             },
             "pattern": {
              "fillmode": "overlay",
              "size": 10,
              "solidity": 0.2
             }
            },
            "type": "barpolar"
           }
          ],
          "carpet": [
           {
            "aaxis": {
             "endlinecolor": "#2a3f5f",
             "gridcolor": "white",
             "linecolor": "white",
             "minorgridcolor": "white",
             "startlinecolor": "#2a3f5f"
            },
            "baxis": {
             "endlinecolor": "#2a3f5f",
             "gridcolor": "white",
             "linecolor": "white",
             "minorgridcolor": "white",
             "startlinecolor": "#2a3f5f"
            },
            "type": "carpet"
           }
          ],
          "choropleth": [
           {
            "colorbar": {
             "outlinewidth": 0,
             "ticks": ""
            },
            "type": "choropleth"
           }
          ],
          "contour": [
           {
            "colorbar": {
             "outlinewidth": 0,
             "ticks": ""
            },
            "colorscale": [
             [
              0,
              "#0d0887"
             ],
             [
              0.1111111111111111,
              "#46039f"
             ],
             [
              0.2222222222222222,
              "#7201a8"
             ],
             [
              0.3333333333333333,
              "#9c179e"
             ],
             [
              0.4444444444444444,
              "#bd3786"
             ],
             [
              0.5555555555555556,
              "#d8576b"
             ],
             [
              0.6666666666666666,
              "#ed7953"
             ],
             [
              0.7777777777777778,
              "#fb9f3a"
             ],
             [
              0.8888888888888888,
              "#fdca26"
             ],
             [
              1,
              "#f0f921"
             ]
            ],
            "type": "contour"
           }
          ],
          "contourcarpet": [
           {
            "colorbar": {
             "outlinewidth": 0,
             "ticks": ""
            },
            "type": "contourcarpet"
           }
          ],
          "heatmap": [
           {
            "colorbar": {
             "outlinewidth": 0,
             "ticks": ""
            },
            "colorscale": [
             [
              0,
              "#0d0887"
             ],
             [
              0.1111111111111111,
              "#46039f"
             ],
             [
              0.2222222222222222,
              "#7201a8"
             ],
             [
              0.3333333333333333,
              "#9c179e"
             ],
             [
              0.4444444444444444,
              "#bd3786"
             ],
             [
              0.5555555555555556,
              "#d8576b"
             ],
             [
              0.6666666666666666,
              "#ed7953"
             ],
             [
              0.7777777777777778,
              "#fb9f3a"
             ],
             [
              0.8888888888888888,
              "#fdca26"
             ],
             [
              1,
              "#f0f921"
             ]
            ],
            "type": "heatmap"
           }
          ],
          "histogram": [
           {
            "marker": {
             "pattern": {
              "fillmode": "overlay",
              "size": 10,
              "solidity": 0.2
             }
            },
            "type": "histogram"
           }
          ],
          "histogram2d": [
           {
            "colorbar": {
             "outlinewidth": 0,
             "ticks": ""
            },
            "colorscale": [
             [
              0,
              "#0d0887"
             ],
             [
              0.1111111111111111,
              "#46039f"
             ],
             [
              0.2222222222222222,
              "#7201a8"
             ],
             [
              0.3333333333333333,
              "#9c179e"
             ],
             [
              0.4444444444444444,
              "#bd3786"
             ],
             [
              0.5555555555555556,
              "#d8576b"
             ],
             [
              0.6666666666666666,
              "#ed7953"
             ],
             [
              0.7777777777777778,
              "#fb9f3a"
             ],
             [
              0.8888888888888888,
              "#fdca26"
             ],
             [
              1,
              "#f0f921"
             ]
            ],
            "type": "histogram2d"
           }
          ],
          "histogram2dcontour": [
           {
            "colorbar": {
             "outlinewidth": 0,
             "ticks": ""
            },
            "colorscale": [
             [
              0,
              "#0d0887"
             ],
             [
              0.1111111111111111,
              "#46039f"
             ],
             [
              0.2222222222222222,
              "#7201a8"
             ],
             [
              0.3333333333333333,
              "#9c179e"
             ],
             [
              0.4444444444444444,
              "#bd3786"
             ],
             [
              0.5555555555555556,
              "#d8576b"
             ],
             [
              0.6666666666666666,
              "#ed7953"
             ],
             [
              0.7777777777777778,
              "#fb9f3a"
             ],
             [
              0.8888888888888888,
              "#fdca26"
             ],
             [
              1,
              "#f0f921"
             ]
            ],
            "type": "histogram2dcontour"
           }
          ],
          "mesh3d": [
           {
            "colorbar": {
             "outlinewidth": 0,
             "ticks": ""
            },
            "type": "mesh3d"
           }
          ],
          "parcoords": [
           {
            "line": {
             "colorbar": {
              "outlinewidth": 0,
              "ticks": ""
             }
            },
            "type": "parcoords"
           }
          ],
          "pie": [
           {
            "automargin": true,
            "type": "pie"
           }
          ],
          "scatter": [
           {
            "fillpattern": {
             "fillmode": "overlay",
             "size": 10,
             "solidity": 0.2
            },
            "type": "scatter"
           }
          ],
          "scatter3d": [
           {
            "line": {
             "colorbar": {
              "outlinewidth": 0,
              "ticks": ""
             }
            },
            "marker": {
             "colorbar": {
              "outlinewidth": 0,
              "ticks": ""
             }
            },
            "type": "scatter3d"
           }
          ],
          "scattercarpet": [
           {
            "marker": {
             "colorbar": {
              "outlinewidth": 0,
              "ticks": ""
             }
            },
            "type": "scattercarpet"
           }
          ],
          "scattergeo": [
           {
            "marker": {
             "colorbar": {
              "outlinewidth": 0,
              "ticks": ""
             }
            },
            "type": "scattergeo"
           }
          ],
          "scattergl": [
           {
            "marker": {
             "colorbar": {
              "outlinewidth": 0,
              "ticks": ""
             }
            },
            "type": "scattergl"
           }
          ],
          "scattermap": [
           {
            "marker": {
             "colorbar": {
              "outlinewidth": 0,
              "ticks": ""
             }
            },
            "type": "scattermap"
           }
          ],
          "scattermapbox": [
           {
            "marker": {
             "colorbar": {
              "outlinewidth": 0,
              "ticks": ""
             }
            },
            "type": "scattermapbox"
           }
          ],
          "scatterpolar": [
           {
            "marker": {
             "colorbar": {
              "outlinewidth": 0,
              "ticks": ""
             }
            },
            "type": "scatterpolar"
           }
          ],
          "scatterpolargl": [
           {
            "marker": {
             "colorbar": {
              "outlinewidth": 0,
              "ticks": ""
             }
            },
            "type": "scatterpolargl"
           }
          ],
          "scatterternary": [
           {
            "marker": {
             "colorbar": {
              "outlinewidth": 0,
              "ticks": ""
             }
            },
            "type": "scatterternary"
           }
          ],
          "surface": [
           {
            "colorbar": {
             "outlinewidth": 0,
             "ticks": ""
            },
            "colorscale": [
             [
              0,
              "#0d0887"
             ],
             [
              0.1111111111111111,
              "#46039f"
             ],
             [
              0.2222222222222222,
              "#7201a8"
             ],
             [
              0.3333333333333333,
              "#9c179e"
             ],
             [
              0.4444444444444444,
              "#bd3786"
             ],
             [
              0.5555555555555556,
              "#d8576b"
             ],
             [
              0.6666666666666666,
              "#ed7953"
             ],
             [
              0.7777777777777778,
              "#fb9f3a"
             ],
             [
              0.8888888888888888,
              "#fdca26"
             ],
             [
              1,
              "#f0f921"
             ]
            ],
            "type": "surface"
           }
          ],
          "table": [
           {
            "cells": {
             "fill": {
              "color": "#EBF0F8"
             },
             "line": {
              "color": "white"
             }
            },
            "header": {
             "fill": {
              "color": "#C8D4E3"
             },
             "line": {
              "color": "white"
             }
            },
            "type": "table"
           }
          ]
         },
         "layout": {
          "annotationdefaults": {
           "arrowcolor": "#2a3f5f",
           "arrowhead": 0,
           "arrowwidth": 1
          },
          "autotypenumbers": "strict",
          "coloraxis": {
           "colorbar": {
            "outlinewidth": 0,
            "ticks": ""
           }
          },
          "colorscale": {
           "diverging": [
            [
             0,
             "#8e0152"
            ],
            [
             0.1,
             "#c51b7d"
            ],
            [
             0.2,
             "#de77ae"
            ],
            [
             0.3,
             "#f1b6da"
            ],
            [
             0.4,
             "#fde0ef"
            ],
            [
             0.5,
             "#f7f7f7"
            ],
            [
             0.6,
             "#e6f5d0"
            ],
            [
             0.7,
             "#b8e186"
            ],
            [
             0.8,
             "#7fbc41"
            ],
            [
             0.9,
             "#4d9221"
            ],
            [
             1,
             "#276419"
            ]
           ],
           "sequential": [
            [
             0,
             "#0d0887"
            ],
            [
             0.1111111111111111,
             "#46039f"
            ],
            [
             0.2222222222222222,
             "#7201a8"
            ],
            [
             0.3333333333333333,
             "#9c179e"
            ],
            [
             0.4444444444444444,
             "#bd3786"
            ],
            [
             0.5555555555555556,
             "#d8576b"
            ],
            [
             0.6666666666666666,
             "#ed7953"
            ],
            [
             0.7777777777777778,
             "#fb9f3a"
            ],
            [
             0.8888888888888888,
             "#fdca26"
            ],
            [
             1,
             "#f0f921"
            ]
           ],
           "sequentialminus": [
            [
             0,
             "#0d0887"
            ],
            [
             0.1111111111111111,
             "#46039f"
            ],
            [
             0.2222222222222222,
             "#7201a8"
            ],
            [
             0.3333333333333333,
             "#9c179e"
            ],
            [
             0.4444444444444444,
             "#bd3786"
            ],
            [
             0.5555555555555556,
             "#d8576b"
            ],
            [
             0.6666666666666666,
             "#ed7953"
            ],
            [
             0.7777777777777778,
             "#fb9f3a"
            ],
            [
             0.8888888888888888,
             "#fdca26"
            ],
            [
             1,
             "#f0f921"
            ]
           ]
          },
          "colorway": [
           "#636efa",
           "#EF553B",
           "#00cc96",
           "#ab63fa",
           "#FFA15A",
           "#19d3f3",
           "#FF6692",
           "#B6E880",
           "#FF97FF",
           "#FECB52"
          ],
          "font": {
           "color": "#2a3f5f"
          },
          "geo": {
           "bgcolor": "white",
           "lakecolor": "white",
           "landcolor": "#E5ECF6",
           "showlakes": true,
           "showland": true,
           "subunitcolor": "white"
          },
          "hoverlabel": {
           "align": "left"
          },
          "hovermode": "closest",
          "mapbox": {
           "style": "light"
          },
          "paper_bgcolor": "white",
          "plot_bgcolor": "#E5ECF6",
          "polar": {
           "angularaxis": {
            "gridcolor": "white",
            "linecolor": "white",
            "ticks": ""
           },
           "bgcolor": "#E5ECF6",
           "radialaxis": {
            "gridcolor": "white",
            "linecolor": "white",
            "ticks": ""
           }
          },
          "scene": {
           "xaxis": {
            "backgroundcolor": "#E5ECF6",
            "gridcolor": "white",
            "gridwidth": 2,
            "linecolor": "white",
            "showbackground": true,
            "ticks": "",
            "zerolinecolor": "white"
           },
           "yaxis": {
            "backgroundcolor": "#E5ECF6",
            "gridcolor": "white",
            "gridwidth": 2,
            "linecolor": "white",
            "showbackground": true,
            "ticks": "",
            "zerolinecolor": "white"
           },
           "zaxis": {
            "backgroundcolor": "#E5ECF6",
            "gridcolor": "white",
            "gridwidth": 2,
            "linecolor": "white",
            "showbackground": true,
            "ticks": "",
            "zerolinecolor": "white"
           }
          },
          "shapedefaults": {
           "line": {
            "color": "#2a3f5f"
           }
          },
          "ternary": {
           "aaxis": {
            "gridcolor": "white",
            "linecolor": "white",
            "ticks": ""
           },
           "baxis": {
            "gridcolor": "white",
            "linecolor": "white",
            "ticks": ""
           },
           "bgcolor": "#E5ECF6",
           "caxis": {
            "gridcolor": "white",
            "linecolor": "white",
            "ticks": ""
           }
          },
          "title": {
           "x": 0.05
          },
          "xaxis": {
           "automargin": true,
           "gridcolor": "white",
           "linecolor": "white",
           "ticks": "",
           "title": {
            "standoff": 15
           },
           "zerolinecolor": "white",
           "zerolinewidth": 2
          },
          "yaxis": {
           "automargin": true,
           "gridcolor": "white",
           "linecolor": "white",
           "ticks": "",
           "title": {
            "standoff": 15
           },
           "zerolinecolor": "white",
           "zerolinewidth": 2
          }
         }
        },
        "xaxis": {
         "anchor": "y",
         "domain": [
          0,
          1
         ],
         "title": {
          "text": "index"
         }
        },
        "yaxis": {
         "anchor": "x",
         "domain": [
          0,
          1
         ],
         "title": {
          "text": "value"
         }
        }
       }
      }
     },
     "metadata": {},
     "output_type": "display_data"
    }
   ],
   "source": [
    "metrics = {'loss': history.history.get('loss'), 'val_loss': history.history.get('val_loss')}\n",
    "fig = px.line(metrics)\n",
    "fig.show()"
   ]
  },
  {
   "cell_type": "code",
   "execution_count": null,
   "metadata": {},
   "outputs": [],
   "source": []
  },
  {
   "cell_type": "code",
   "execution_count": 38,
   "metadata": {},
   "outputs": [
    {
     "data": {
      "text/html": [
       "<div>\n",
       "<style scoped>\n",
       "    .dataframe tbody tr th:only-of-type {\n",
       "        vertical-align: middle;\n",
       "    }\n",
       "\n",
       "    .dataframe tbody tr th {\n",
       "        vertical-align: top;\n",
       "    }\n",
       "\n",
       "    .dataframe thead th {\n",
       "        text-align: right;\n",
       "    }\n",
       "</style>\n",
       "<table border=\"1\" class=\"dataframe\">\n",
       "  <thead>\n",
       "    <tr style=\"text-align: right;\">\n",
       "      <th></th>\n",
       "      <th>LongestShell</th>\n",
       "      <th>Diameter</th>\n",
       "      <th>Height</th>\n",
       "      <th>WholeWeight</th>\n",
       "      <th>ShuckedWeight</th>\n",
       "      <th>VisceraWeight</th>\n",
       "      <th>ShellWeight</th>\n",
       "      <th>Rings</th>\n",
       "    </tr>\n",
       "  </thead>\n",
       "  <tbody>\n",
       "    <tr>\n",
       "      <th>0</th>\n",
       "      <td>0.455</td>\n",
       "      <td>0.365</td>\n",
       "      <td>0.095</td>\n",
       "      <td>0.5140</td>\n",
       "      <td>0.2245</td>\n",
       "      <td>0.1010</td>\n",
       "      <td>0.150</td>\n",
       "      <td>15</td>\n",
       "    </tr>\n",
       "    <tr>\n",
       "      <th>1</th>\n",
       "      <td>0.350</td>\n",
       "      <td>0.265</td>\n",
       "      <td>0.090</td>\n",
       "      <td>0.2255</td>\n",
       "      <td>0.0995</td>\n",
       "      <td>0.0485</td>\n",
       "      <td>0.070</td>\n",
       "      <td>7</td>\n",
       "    </tr>\n",
       "    <tr>\n",
       "      <th>2</th>\n",
       "      <td>0.530</td>\n",
       "      <td>0.420</td>\n",
       "      <td>0.135</td>\n",
       "      <td>0.6770</td>\n",
       "      <td>0.2565</td>\n",
       "      <td>0.1415</td>\n",
       "      <td>0.210</td>\n",
       "      <td>9</td>\n",
       "    </tr>\n",
       "    <tr>\n",
       "      <th>3</th>\n",
       "      <td>0.440</td>\n",
       "      <td>0.365</td>\n",
       "      <td>0.125</td>\n",
       "      <td>0.5160</td>\n",
       "      <td>0.2155</td>\n",
       "      <td>0.1140</td>\n",
       "      <td>0.155</td>\n",
       "      <td>10</td>\n",
       "    </tr>\n",
       "    <tr>\n",
       "      <th>4</th>\n",
       "      <td>0.330</td>\n",
       "      <td>0.255</td>\n",
       "      <td>0.080</td>\n",
       "      <td>0.2050</td>\n",
       "      <td>0.0895</td>\n",
       "      <td>0.0395</td>\n",
       "      <td>0.055</td>\n",
       "      <td>7</td>\n",
       "    </tr>\n",
       "    <tr>\n",
       "      <th>...</th>\n",
       "      <td>...</td>\n",
       "      <td>...</td>\n",
       "      <td>...</td>\n",
       "      <td>...</td>\n",
       "      <td>...</td>\n",
       "      <td>...</td>\n",
       "      <td>...</td>\n",
       "      <td>...</td>\n",
       "    </tr>\n",
       "    <tr>\n",
       "      <th>995</th>\n",
       "      <td>0.580</td>\n",
       "      <td>0.490</td>\n",
       "      <td>0.130</td>\n",
       "      <td>1.1335</td>\n",
       "      <td>0.5860</td>\n",
       "      <td>0.2565</td>\n",
       "      <td>0.237</td>\n",
       "      <td>9</td>\n",
       "    </tr>\n",
       "    <tr>\n",
       "      <th>996</th>\n",
       "      <td>0.590</td>\n",
       "      <td>0.465</td>\n",
       "      <td>0.155</td>\n",
       "      <td>1.1360</td>\n",
       "      <td>0.5245</td>\n",
       "      <td>0.2615</td>\n",
       "      <td>0.275</td>\n",
       "      <td>11</td>\n",
       "    </tr>\n",
       "    <tr>\n",
       "      <th>997</th>\n",
       "      <td>0.590</td>\n",
       "      <td>0.470</td>\n",
       "      <td>0.160</td>\n",
       "      <td>1.2060</td>\n",
       "      <td>0.4790</td>\n",
       "      <td>0.2425</td>\n",
       "      <td>0.309</td>\n",
       "      <td>8</td>\n",
       "    </tr>\n",
       "    <tr>\n",
       "      <th>998</th>\n",
       "      <td>0.590</td>\n",
       "      <td>0.455</td>\n",
       "      <td>0.145</td>\n",
       "      <td>1.0630</td>\n",
       "      <td>0.5155</td>\n",
       "      <td>0.2445</td>\n",
       "      <td>0.250</td>\n",
       "      <td>8</td>\n",
       "    </tr>\n",
       "    <tr>\n",
       "      <th>999</th>\n",
       "      <td>0.595</td>\n",
       "      <td>0.470</td>\n",
       "      <td>0.155</td>\n",
       "      <td>1.1210</td>\n",
       "      <td>0.4515</td>\n",
       "      <td>0.1780</td>\n",
       "      <td>0.155</td>\n",
       "      <td>11</td>\n",
       "    </tr>\n",
       "  </tbody>\n",
       "</table>\n",
       "<p>1000 rows × 8 columns</p>\n",
       "</div>"
      ],
      "text/plain": [
       "     LongestShell  Diameter  Height  WholeWeight  ShuckedWeight  \\\n",
       "0           0.455     0.365   0.095       0.5140         0.2245   \n",
       "1           0.350     0.265   0.090       0.2255         0.0995   \n",
       "2           0.530     0.420   0.135       0.6770         0.2565   \n",
       "3           0.440     0.365   0.125       0.5160         0.2155   \n",
       "4           0.330     0.255   0.080       0.2050         0.0895   \n",
       "..            ...       ...     ...          ...            ...   \n",
       "995         0.580     0.490   0.130       1.1335         0.5860   \n",
       "996         0.590     0.465   0.155       1.1360         0.5245   \n",
       "997         0.590     0.470   0.160       1.2060         0.4790   \n",
       "998         0.590     0.455   0.145       1.0630         0.5155   \n",
       "999         0.595     0.470   0.155       1.1210         0.4515   \n",
       "\n",
       "     VisceraWeight  ShellWeight  Rings  \n",
       "0           0.1010        0.150     15  \n",
       "1           0.0485        0.070      7  \n",
       "2           0.1415        0.210      9  \n",
       "3           0.1140        0.155     10  \n",
       "4           0.0395        0.055      7  \n",
       "..             ...          ...    ...  \n",
       "995         0.2565        0.237      9  \n",
       "996         0.2615        0.275     11  \n",
       "997         0.2425        0.309      8  \n",
       "998         0.2445        0.250      8  \n",
       "999         0.1780        0.155     11  \n",
       "\n",
       "[1000 rows x 8 columns]"
      ]
     },
     "execution_count": 38,
     "metadata": {},
     "output_type": "execute_result"
    }
   ],
   "source": [
    "df2 = pd.read_csv(\"./abalone.csv\", nrows=1000)\n",
    "df2.drop([\"Type\"], axis=1, inplace=True)\n",
    "df2"
   ]
  },
  {
   "cell_type": "code",
   "execution_count": 39,
   "metadata": {},
   "outputs": [
    {
     "data": {
      "text/plain": [
       "<Axes: >"
      ]
     },
     "execution_count": 39,
     "metadata": {},
     "output_type": "execute_result"
    },
    {
     "data": {
      "image/png": "[encoded data removed]",
      "text/plain": [
       "<Figure size 640x480 with 2 Axes>"
      ]
     },
     "metadata": {},
     "output_type": "display_data"
    }
   ],
   "source": [
    "sns.heatmap(df2.corr(), vmin=-1, center=0, vmax=1)"
   ]
  },
  {
   "cell_type": "code",
   "execution_count": 40,
   "metadata": {},
   "outputs": [
    {
     "data": {
      "text/html": [
       "<div>\n",
       "<style scoped>\n",
       "    .dataframe tbody tr th:only-of-type {\n",
       "        vertical-align: middle;\n",
       "    }\n",
       "\n",
       "    .dataframe tbody tr th {\n",
       "        vertical-align: top;\n",
       "    }\n",
       "\n",
       "    .dataframe thead th {\n",
       "        text-align: right;\n",
       "    }\n",
       "</style>\n",
       "<table border=\"1\" class=\"dataframe\">\n",
       "  <thead>\n",
       "    <tr style=\"text-align: right;\">\n",
       "      <th></th>\n",
       "      <th>LongestShell</th>\n",
       "      <th>Diameter</th>\n",
       "      <th>Height</th>\n",
       "      <th>WholeWeight</th>\n",
       "      <th>ShellWeight</th>\n",
       "      <th>Rings</th>\n",
       "    </tr>\n",
       "  </thead>\n",
       "  <tbody>\n",
       "    <tr>\n",
       "      <th>0</th>\n",
       "      <td>0.455</td>\n",
       "      <td>0.365</td>\n",
       "      <td>0.095</td>\n",
       "      <td>0.5140</td>\n",
       "      <td>0.1500</td>\n",
       "      <td>15</td>\n",
       "    </tr>\n",
       "    <tr>\n",
       "      <th>1</th>\n",
       "      <td>0.350</td>\n",
       "      <td>0.265</td>\n",
       "      <td>0.090</td>\n",
       "      <td>0.2255</td>\n",
       "      <td>0.0700</td>\n",
       "      <td>7</td>\n",
       "    </tr>\n",
       "    <tr>\n",
       "      <th>2</th>\n",
       "      <td>0.530</td>\n",
       "      <td>0.420</td>\n",
       "      <td>0.135</td>\n",
       "      <td>0.6770</td>\n",
       "      <td>0.2100</td>\n",
       "      <td>9</td>\n",
       "    </tr>\n",
       "    <tr>\n",
       "      <th>3</th>\n",
       "      <td>0.440</td>\n",
       "      <td>0.365</td>\n",
       "      <td>0.125</td>\n",
       "      <td>0.5160</td>\n",
       "      <td>0.1550</td>\n",
       "      <td>10</td>\n",
       "    </tr>\n",
       "    <tr>\n",
       "      <th>4</th>\n",
       "      <td>0.330</td>\n",
       "      <td>0.255</td>\n",
       "      <td>0.080</td>\n",
       "      <td>0.2050</td>\n",
       "      <td>0.0550</td>\n",
       "      <td>7</td>\n",
       "    </tr>\n",
       "    <tr>\n",
       "      <th>...</th>\n",
       "      <td>...</td>\n",
       "      <td>...</td>\n",
       "      <td>...</td>\n",
       "      <td>...</td>\n",
       "      <td>...</td>\n",
       "      <td>...</td>\n",
       "    </tr>\n",
       "    <tr>\n",
       "      <th>695</th>\n",
       "      <td>0.315</td>\n",
       "      <td>0.230</td>\n",
       "      <td>0.090</td>\n",
       "      <td>0.1285</td>\n",
       "      <td>0.0400</td>\n",
       "      <td>7</td>\n",
       "    </tr>\n",
       "    <tr>\n",
       "      <th>696</th>\n",
       "      <td>0.155</td>\n",
       "      <td>0.105</td>\n",
       "      <td>0.050</td>\n",
       "      <td>0.0175</td>\n",
       "      <td>0.0050</td>\n",
       "      <td>4</td>\n",
       "    </tr>\n",
       "    <tr>\n",
       "      <th>697</th>\n",
       "      <td>0.280</td>\n",
       "      <td>0.205</td>\n",
       "      <td>0.100</td>\n",
       "      <td>0.1165</td>\n",
       "      <td>0.0300</td>\n",
       "      <td>5</td>\n",
       "    </tr>\n",
       "    <tr>\n",
       "      <th>698</th>\n",
       "      <td>0.430</td>\n",
       "      <td>0.335</td>\n",
       "      <td>0.120</td>\n",
       "      <td>0.4440</td>\n",
       "      <td>0.1400</td>\n",
       "      <td>13</td>\n",
       "    </tr>\n",
       "    <tr>\n",
       "      <th>699</th>\n",
       "      <td>0.395</td>\n",
       "      <td>0.315</td>\n",
       "      <td>0.105</td>\n",
       "      <td>0.3515</td>\n",
       "      <td>0.1195</td>\n",
       "      <td>16</td>\n",
       "    </tr>\n",
       "  </tbody>\n",
       "</table>\n",
       "<p>700 rows × 6 columns</p>\n",
       "</div>"
      ],
      "text/plain": [
       "     LongestShell  Diameter  Height  WholeWeight  ShellWeight  Rings\n",
       "0           0.455     0.365   0.095       0.5140       0.1500     15\n",
       "1           0.350     0.265   0.090       0.2255       0.0700      7\n",
       "2           0.530     0.420   0.135       0.6770       0.2100      9\n",
       "3           0.440     0.365   0.125       0.5160       0.1550     10\n",
       "4           0.330     0.255   0.080       0.2050       0.0550      7\n",
       "..            ...       ...     ...          ...          ...    ...\n",
       "695         0.315     0.230   0.090       0.1285       0.0400      7\n",
       "696         0.155     0.105   0.050       0.0175       0.0050      4\n",
       "697         0.280     0.205   0.100       0.1165       0.0300      5\n",
       "698         0.430     0.335   0.120       0.4440       0.1400     13\n",
       "699         0.395     0.315   0.105       0.3515       0.1195     16\n",
       "\n",
       "[700 rows x 6 columns]"
      ]
     },
     "execution_count": 40,
     "metadata": {},
     "output_type": "execute_result"
    }
   ],
   "source": [
    "df2 = df2.drop(columns=['ShuckedWeight', 'VisceraWeight'])\n",
    "train2,validation2, test2 = np.split(df2, [int(.7*len(df2)), int(.9*len(df2))])\n",
    "\n",
    "train2"
   ]
  },
  {
   "cell_type": "code",
   "execution_count": 41,
   "metadata": {},
   "outputs": [],
   "source": [
    "Y_train2 = train2['LongestShell']\n",
    "X_train2 = train2.drop(columns='LongestShell')\n",
    "\n",
    "Y_valid2 = validation2['LongestShell']\n",
    "X_valid2 = validation2.drop(columns='LongestShell')\n",
    "\n",
    "Y_test2 = test2['LongestShell']\n",
    "X_test2 = test2.drop(columns='LongestShell')"
   ]
  },
  {
   "cell_type": "code",
   "execution_count": 42,
   "metadata": {},
   "outputs": [
    {
     "name": "stdout",
     "output_type": "stream",
     "text": [
      "Epoch 1/300\n",
      "\u001b[1m5/5\u001b[0m \u001b[32m━━━━━━━━━━━━━━━━━━━━\u001b[0m\u001b[37m\u001b[0m \u001b[1m2s\u001b[0m 63ms/step - accuracy: 0.0000e+00 - f1_score: 0.6626 - loss: 0.6927 - val_accuracy: 0.0000e+00 - val_f1_score: 0.6563 - val_loss: 0.6930\n",
      "Epoch 2/300\n",
      "\u001b[1m5/5\u001b[0m \u001b[32m━━━━━━━━━━━━━━━━━━━━\u001b[0m\u001b[37m\u001b[0m \u001b[1m0s\u001b[0m 15ms/step - accuracy: 0.0000e+00 - f1_score: 0.6672 - loss: 0.6924 - val_accuracy: 0.0000e+00 - val_f1_score: 0.6563 - val_loss: 0.6929\n",
      "Epoch 3/300\n",
      "\u001b[1m5/5\u001b[0m \u001b[32m━━━━━━━━━━━━━━━━━━━━\u001b[0m\u001b[37m\u001b[0m \u001b[1m0s\u001b[0m 16ms/step - accuracy: 0.0000e+00 - f1_score: 0.6557 - loss: 0.6912 - val_accuracy: 0.0000e+00 - val_f1_score: 0.6563 - val_loss: 0.6929\n",
      "Epoch 4/300\n",
      "\u001b[1m5/5\u001b[0m \u001b[32m━━━━━━━━━━━━━━━━━━━━\u001b[0m\u001b[37m\u001b[0m \u001b[1m0s\u001b[0m 16ms/step - accuracy: 0.0000e+00 - f1_score: 0.6599 - loss: 0.6904 - val_accuracy: 0.0000e+00 - val_f1_score: 0.6563 - val_loss: 0.6929\n",
      "Epoch 5/300\n",
      "\u001b[1m5/5\u001b[0m \u001b[32m━━━━━━━━━━━━━━━━━━━━\u001b[0m\u001b[37m\u001b[0m \u001b[1m0s\u001b[0m 16ms/step - accuracy: 0.0000e+00 - f1_score: 0.6611 - loss: 0.6894 - val_accuracy: 0.0000e+00 - val_f1_score: 0.6563 - val_loss: 0.6929\n",
      "Epoch 6/300\n",
      "\u001b[1m5/5\u001b[0m \u001b[32m━━━━━━━━━━━━━━━━━━━━\u001b[0m\u001b[37m\u001b[0m \u001b[1m0s\u001b[0m 16ms/step - accuracy: 0.0000e+00 - f1_score: 0.6556 - loss: 0.6878 - val_accuracy: 0.0000e+00 - val_f1_score: 0.6563 - val_loss: 0.6929\n",
      "Epoch 7/300\n",
      "\u001b[1m5/5\u001b[0m \u001b[32m━━━━━━━━━━━━━━━━━━━━\u001b[0m\u001b[37m\u001b[0m \u001b[1m0s\u001b[0m 16ms/step - accuracy: 0.0000e+00 - f1_score: 0.6553 - loss: 0.6860 - val_accuracy: 0.0000e+00 - val_f1_score: 0.6563 - val_loss: 0.6928\n",
      "Epoch 8/300\n",
      "\u001b[1m5/5\u001b[0m \u001b[32m━━━━━━━━━━━━━━━━━━━━\u001b[0m\u001b[37m\u001b[0m \u001b[1m0s\u001b[0m 16ms/step - accuracy: 0.0000e+00 - f1_score: 0.6576 - loss: 0.6841 - val_accuracy: 0.0000e+00 - val_f1_score: 0.6563 - val_loss: 0.6926\n",
      "Epoch 9/300\n",
      "\u001b[1m5/5\u001b[0m \u001b[32m━━━━━━━━━━━━━━━━━━━━\u001b[0m\u001b[37m\u001b[0m \u001b[1m0s\u001b[0m 17ms/step - accuracy: 0.0000e+00 - f1_score: 0.6631 - loss: 0.6821 - val_accuracy: 0.0000e+00 - val_f1_score: 0.6563 - val_loss: 0.6918\n",
      "Epoch 10/300\n",
      "\u001b[1m5/5\u001b[0m \u001b[32m━━━━━━━━━━━━━━━━━━━━\u001b[0m\u001b[37m\u001b[0m \u001b[1m0s\u001b[0m 15ms/step - accuracy: 0.0000e+00 - f1_score: 0.6593 - loss: 0.6785 - val_accuracy: 0.0000e+00 - val_f1_score: 0.6563 - val_loss: 0.6913\n",
      "Epoch 11/300\n",
      "\u001b[1m5/5\u001b[0m \u001b[32m━━━━━━━━━━━━━━━━━━━━\u001b[0m\u001b[37m\u001b[0m \u001b[1m0s\u001b[0m 18ms/step - accuracy: 0.0000e+00 - f1_score: 0.6580 - loss: 0.6752 - val_accuracy: 0.0000e+00 - val_f1_score: 0.6563 - val_loss: 0.6901\n",
      "Epoch 12/300\n",
      "\u001b[1m5/5\u001b[0m \u001b[32m━━━━━━━━━━━━━━━━━━━━\u001b[0m\u001b[37m\u001b[0m \u001b[1m0s\u001b[0m 20ms/step - accuracy: 0.0000e+00 - f1_score: 0.6625 - loss: 0.6742 - val_accuracy: 0.0000e+00 - val_f1_score: 0.6563 - val_loss: 0.6897\n",
      "Epoch 13/300\n",
      "\u001b[1m5/5\u001b[0m \u001b[32m━━━━━━━━━━━━━━━━━━━━\u001b[0m\u001b[37m\u001b[0m \u001b[1m0s\u001b[0m 17ms/step - accuracy: 0.0000e+00 - f1_score: 0.6593 - loss: 0.6709 - val_accuracy: 0.0000e+00 - val_f1_score: 0.6563 - val_loss: 0.6900\n",
      "Epoch 14/300\n",
      "\u001b[1m5/5\u001b[0m \u001b[32m━━━━━━━━━━━━━━━━━━━━\u001b[0m\u001b[37m\u001b[0m \u001b[1m0s\u001b[0m 18ms/step - accuracy: 0.0000e+00 - f1_score: 0.6585 - loss: 0.6691 - val_accuracy: 0.0000e+00 - val_f1_score: 0.6563 - val_loss: 0.6907\n",
      "Epoch 15/300\n",
      "\u001b[1m5/5\u001b[0m \u001b[32m━━━━━━━━━━━━━━━━━━━━\u001b[0m\u001b[37m\u001b[0m \u001b[1m0s\u001b[0m 16ms/step - accuracy: 0.0000e+00 - f1_score: 0.6632 - loss: 0.6721 - val_accuracy: 0.0000e+00 - val_f1_score: 0.6563 - val_loss: 0.6913\n",
      "Epoch 16/300\n",
      "\u001b[1m5/5\u001b[0m \u001b[32m━━━━━━━━━━━━━━━━━━━━\u001b[0m\u001b[37m\u001b[0m \u001b[1m0s\u001b[0m 16ms/step - accuracy: 0.0000e+00 - f1_score: 0.6581 - loss: 0.6688 - val_accuracy: 0.0000e+00 - val_f1_score: 0.6563 - val_loss: 0.6909\n",
      "Epoch 17/300\n",
      "\u001b[1m5/5\u001b[0m \u001b[32m━━━━━━━━━━━━━━━━━━━━\u001b[0m\u001b[37m\u001b[0m \u001b[1m0s\u001b[0m 17ms/step - accuracy: 0.0000e+00 - f1_score: 0.6614 - loss: 0.6694 - val_accuracy: 0.0000e+00 - val_f1_score: 0.6563 - val_loss: 0.6908\n",
      "Epoch 18/300\n",
      "\u001b[1m5/5\u001b[0m \u001b[32m━━━━━━━━━━━━━━━━━━━━\u001b[0m\u001b[37m\u001b[0m \u001b[1m0s\u001b[0m 17ms/step - accuracy: 0.0000e+00 - f1_score: 0.6588 - loss: 0.6675 - val_accuracy: 0.0000e+00 - val_f1_score: 0.6563 - val_loss: 0.6905\n",
      "Epoch 19/300\n",
      "\u001b[1m5/5\u001b[0m \u001b[32m━━━━━━━━━━━━━━━━━━━━\u001b[0m\u001b[37m\u001b[0m \u001b[1m0s\u001b[0m 17ms/step - accuracy: 0.0000e+00 - f1_score: 0.6591 - loss: 0.6676 - val_accuracy: 0.0000e+00 - val_f1_score: 0.6563 - val_loss: 0.6900\n",
      "Epoch 20/300\n",
      "\u001b[1m5/5\u001b[0m \u001b[32m━━━━━━━━━━━━━━━━━━━━\u001b[0m\u001b[37m\u001b[0m \u001b[1m0s\u001b[0m 16ms/step - accuracy: 0.0000e+00 - f1_score: 0.6583 - loss: 0.6673 - val_accuracy: 0.0000e+00 - val_f1_score: 0.6563 - val_loss: 0.6898\n",
      "Epoch 21/300\n",
      "\u001b[1m5/5\u001b[0m \u001b[32m━━━━━━━━━━━━━━━━━━━━\u001b[0m\u001b[37m\u001b[0m \u001b[1m0s\u001b[0m 23ms/step - accuracy: 0.0000e+00 - f1_score: 0.6584 - loss: 0.6669 - val_accuracy: 0.0000e+00 - val_f1_score: 0.6563 - val_loss: 0.6895\n",
      "Epoch 22/300\n",
      "\u001b[1m5/5\u001b[0m \u001b[32m━━━━━━━━━━━━━━━━━━━━\u001b[0m\u001b[37m\u001b[0m \u001b[1m0s\u001b[0m 16ms/step - accuracy: 0.0000e+00 - f1_score: 0.6601 - loss: 0.6672 - val_accuracy: 0.0000e+00 - val_f1_score: 0.6563 - val_loss: 0.6892\n",
      "Epoch 23/300\n",
      "\u001b[1m5/5\u001b[0m \u001b[32m━━━━━━━━━━━━━━━━━━━━\u001b[0m\u001b[37m\u001b[0m \u001b[1m0s\u001b[0m 17ms/step - accuracy: 0.0000e+00 - f1_score: 0.6519 - loss: 0.6647 - val_accuracy: 0.0000e+00 - val_f1_score: 0.6563 - val_loss: 0.6886\n",
      "Epoch 24/300\n",
      "\u001b[1m5/5\u001b[0m \u001b[32m━━━━━━━━━━━━━━━━━━━━\u001b[0m\u001b[37m\u001b[0m \u001b[1m0s\u001b[0m 16ms/step - accuracy: 0.0000e+00 - f1_score: 0.6602 - loss: 0.6691 - val_accuracy: 0.0000e+00 - val_f1_score: 0.6563 - val_loss: 0.6885\n",
      "Epoch 25/300\n",
      "\u001b[1m5/5\u001b[0m \u001b[32m━━━━━━━━━━━━━━━━━━━━\u001b[0m\u001b[37m\u001b[0m \u001b[1m0s\u001b[0m 16ms/step - accuracy: 0.0000e+00 - f1_score: 0.6558 - loss: 0.6661 - val_accuracy: 0.0000e+00 - val_f1_score: 0.6563 - val_loss: 0.6875\n",
      "Epoch 26/300\n",
      "\u001b[1m5/5\u001b[0m \u001b[32m━━━━━━━━━━━━━━━━━━━━\u001b[0m\u001b[37m\u001b[0m \u001b[1m0s\u001b[0m 16ms/step - accuracy: 0.0000e+00 - f1_score: 0.6656 - loss: 0.6685 - val_accuracy: 0.0000e+00 - val_f1_score: 0.6563 - val_loss: 0.6875\n",
      "Epoch 27/300\n",
      "\u001b[1m5/5\u001b[0m \u001b[32m━━━━━━━━━━━━━━━━━━━━\u001b[0m\u001b[37m\u001b[0m \u001b[1m0s\u001b[0m 16ms/step - accuracy: 0.0000e+00 - f1_score: 0.6595 - loss: 0.6659 - val_accuracy: 0.0000e+00 - val_f1_score: 0.6563 - val_loss: 0.6862\n",
      "Epoch 28/300\n",
      "\u001b[1m5/5\u001b[0m \u001b[32m━━━━━━━━━━━━━━━━━━━━\u001b[0m\u001b[37m\u001b[0m \u001b[1m0s\u001b[0m 16ms/step - accuracy: 0.0000e+00 - f1_score: 0.6597 - loss: 0.6663 - val_accuracy: 0.0000e+00 - val_f1_score: 0.6563 - val_loss: 0.6854\n",
      "Epoch 29/300\n",
      "\u001b[1m5/5\u001b[0m \u001b[32m━━━━━━━━━━━━━━━━━━━━\u001b[0m\u001b[37m\u001b[0m \u001b[1m0s\u001b[0m 16ms/step - accuracy: 0.0000e+00 - f1_score: 0.6622 - loss: 0.6674 - val_accuracy: 0.0000e+00 - val_f1_score: 0.6563 - val_loss: 0.6853\n",
      "Epoch 30/300\n",
      "\u001b[1m5/5\u001b[0m \u001b[32m━━━━━━━━━━━━━━━━━━━━\u001b[0m\u001b[37m\u001b[0m \u001b[1m0s\u001b[0m 17ms/step - accuracy: 0.0000e+00 - f1_score: 0.6591 - loss: 0.6649 - val_accuracy: 0.0000e+00 - val_f1_score: 0.6563 - val_loss: 0.6846\n",
      "Epoch 31/300\n",
      "\u001b[1m5/5\u001b[0m \u001b[32m━━━━━━━━━━━━━━━━━━━━\u001b[0m\u001b[37m\u001b[0m \u001b[1m0s\u001b[0m 17ms/step - accuracy: 0.0000e+00 - f1_score: 0.6610 - loss: 0.6666 - val_accuracy: 0.0000e+00 - val_f1_score: 0.6563 - val_loss: 0.6837\n",
      "Epoch 32/300\n",
      "\u001b[1m5/5\u001b[0m \u001b[32m━━━━━━━━━━━━━━━━━━━━\u001b[0m\u001b[37m\u001b[0m \u001b[1m0s\u001b[0m 16ms/step - accuracy: 0.0000e+00 - f1_score: 0.6564 - loss: 0.6648 - val_accuracy: 0.0000e+00 - val_f1_score: 0.6563 - val_loss: 0.6827\n",
      "Epoch 33/300\n",
      "\u001b[1m5/5\u001b[0m \u001b[32m━━━━━━━━━━━━━━━━━━━━\u001b[0m\u001b[37m\u001b[0m \u001b[1m0s\u001b[0m 16ms/step - accuracy: 0.0000e+00 - f1_score: 0.6558 - loss: 0.6656 - val_accuracy: 0.0000e+00 - val_f1_score: 0.6563 - val_loss: 0.6821\n",
      "Epoch 34/300\n",
      "\u001b[1m5/5\u001b[0m \u001b[32m━━━━━━━━━━━━━━━━━━━━\u001b[0m\u001b[37m\u001b[0m \u001b[1m0s\u001b[0m 18ms/step - accuracy: 0.0000e+00 - f1_score: 0.6589 - loss: 0.6651 - val_accuracy: 0.0000e+00 - val_f1_score: 0.6563 - val_loss: 0.6820\n",
      "Epoch 35/300\n",
      "\u001b[1m5/5\u001b[0m \u001b[32m━━━━━━━━━━━━━━━━━━━━\u001b[0m\u001b[37m\u001b[0m \u001b[1m0s\u001b[0m 17ms/step - accuracy: 0.0000e+00 - f1_score: 0.6613 - loss: 0.6661 - val_accuracy: 0.0000e+00 - val_f1_score: 0.6563 - val_loss: 0.6817\n",
      "Epoch 36/300\n",
      "\u001b[1m5/5\u001b[0m \u001b[32m━━━━━━━━━━━━━━━━━━━━\u001b[0m\u001b[37m\u001b[0m \u001b[1m0s\u001b[0m 15ms/step - accuracy: 0.0000e+00 - f1_score: 0.6603 - loss: 0.6655 - val_accuracy: 0.0000e+00 - val_f1_score: 0.6563 - val_loss: 0.6807\n",
      "Epoch 37/300\n",
      "\u001b[1m5/5\u001b[0m \u001b[32m━━━━━━━━━━━━━━━━━━━━\u001b[0m\u001b[37m\u001b[0m \u001b[1m0s\u001b[0m 16ms/step - accuracy: 0.0000e+00 - f1_score: 0.6554 - loss: 0.6623 - val_accuracy: 0.0000e+00 - val_f1_score: 0.6563 - val_loss: 0.6795\n",
      "Epoch 38/300\n",
      "\u001b[1m5/5\u001b[0m \u001b[32m━━━━━━━━━━━━━━━━━━━━\u001b[0m\u001b[37m\u001b[0m \u001b[1m0s\u001b[0m 16ms/step - accuracy: 0.0000e+00 - f1_score: 0.6567 - loss: 0.6634 - val_accuracy: 0.0000e+00 - val_f1_score: 0.6563 - val_loss: 0.6801\n",
      "Epoch 39/300\n",
      "\u001b[1m5/5\u001b[0m \u001b[32m━━━━━━━━━━━━━━━━━━━━\u001b[0m\u001b[37m\u001b[0m \u001b[1m0s\u001b[0m 15ms/step - accuracy: 0.0000e+00 - f1_score: 0.6582 - loss: 0.6637 - val_accuracy: 0.0000e+00 - val_f1_score: 0.6563 - val_loss: 0.6802\n",
      "Epoch 40/300\n",
      "\u001b[1m5/5\u001b[0m \u001b[32m━━━━━━━━━━━━━━━━━━━━\u001b[0m\u001b[37m\u001b[0m \u001b[1m0s\u001b[0m 16ms/step - accuracy: 0.0000e+00 - f1_score: 0.6578 - loss: 0.6643 - val_accuracy: 0.0000e+00 - val_f1_score: 0.6563 - val_loss: 0.6797\n",
      "Epoch 41/300\n",
      "\u001b[1m5/5\u001b[0m \u001b[32m━━━━━━━━━━━━━━━━━━━━\u001b[0m\u001b[37m\u001b[0m \u001b[1m0s\u001b[0m 16ms/step - accuracy: 0.0000e+00 - f1_score: 0.6585 - loss: 0.6642 - val_accuracy: 0.0000e+00 - val_f1_score: 0.6563 - val_loss: 0.6787\n",
      "Epoch 42/300\n",
      "\u001b[1m5/5\u001b[0m \u001b[32m━━━━━━━━━━━━━━━━━━━━\u001b[0m\u001b[37m\u001b[0m \u001b[1m0s\u001b[0m 17ms/step - accuracy: 0.0000e+00 - f1_score: 0.6564 - loss: 0.6636 - val_accuracy: 0.0000e+00 - val_f1_score: 0.6563 - val_loss: 0.6780\n",
      "Epoch 43/300\n",
      "\u001b[1m5/5\u001b[0m \u001b[32m━━━━━━━━━━━━━━━━━━━━\u001b[0m\u001b[37m\u001b[0m \u001b[1m0s\u001b[0m 16ms/step - accuracy: 0.0000e+00 - f1_score: 0.6607 - loss: 0.6638 - val_accuracy: 0.0000e+00 - val_f1_score: 0.6563 - val_loss: 0.6776\n",
      "Epoch 44/300\n",
      "\u001b[1m5/5\u001b[0m \u001b[32m━━━━━━━━━━━━━━━━━━━━\u001b[0m\u001b[37m\u001b[0m \u001b[1m0s\u001b[0m 16ms/step - accuracy: 0.0000e+00 - f1_score: 0.6602 - loss: 0.6638 - val_accuracy: 0.0000e+00 - val_f1_score: 0.6563 - val_loss: 0.6775\n",
      "Epoch 45/300\n",
      "\u001b[1m5/5\u001b[0m \u001b[32m━━━━━━━━━━━━━━━━━━━━\u001b[0m\u001b[37m\u001b[0m \u001b[1m0s\u001b[0m 17ms/step - accuracy: 0.0000e+00 - f1_score: 0.6593 - loss: 0.6632 - val_accuracy: 0.0000e+00 - val_f1_score: 0.6563 - val_loss: 0.6770\n",
      "Epoch 46/300\n",
      "\u001b[1m5/5\u001b[0m \u001b[32m━━━━━━━━━━━━━━━━━━━━\u001b[0m\u001b[37m\u001b[0m \u001b[1m0s\u001b[0m 16ms/step - accuracy: 0.0000e+00 - f1_score: 0.6563 - loss: 0.6625 - val_accuracy: 0.0000e+00 - val_f1_score: 0.6563 - val_loss: 0.6765\n",
      "Epoch 47/300\n",
      "\u001b[1m5/5\u001b[0m \u001b[32m━━━━━━━━━━━━━━━━━━━━\u001b[0m\u001b[37m\u001b[0m \u001b[1m0s\u001b[0m 16ms/step - accuracy: 0.0000e+00 - f1_score: 0.6585 - loss: 0.6651 - val_accuracy: 0.0000e+00 - val_f1_score: 0.6563 - val_loss: 0.6768\n",
      "Epoch 48/300\n",
      "\u001b[1m5/5\u001b[0m \u001b[32m━━━━━━━━━━━━━━━━━━━━\u001b[0m\u001b[37m\u001b[0m \u001b[1m0s\u001b[0m 15ms/step - accuracy: 0.0000e+00 - f1_score: 0.6649 - loss: 0.6656 - val_accuracy: 0.0000e+00 - val_f1_score: 0.6563 - val_loss: 0.6762\n",
      "Epoch 49/300\n",
      "\u001b[1m5/5\u001b[0m \u001b[32m━━━━━━━━━━━━━━━━━━━━\u001b[0m\u001b[37m\u001b[0m \u001b[1m0s\u001b[0m 15ms/step - accuracy: 0.0000e+00 - f1_score: 0.6615 - loss: 0.6639 - val_accuracy: 0.0000e+00 - val_f1_score: 0.6563 - val_loss: 0.6747\n",
      "Epoch 50/300\n",
      "\u001b[1m5/5\u001b[0m \u001b[32m━━━━━━━━━━━━━━━━━━━━\u001b[0m\u001b[37m\u001b[0m \u001b[1m0s\u001b[0m 16ms/step - accuracy: 0.0000e+00 - f1_score: 0.6616 - loss: 0.6646 - val_accuracy: 0.0000e+00 - val_f1_score: 0.6563 - val_loss: 0.6748\n",
      "Epoch 51/300\n",
      "\u001b[1m5/5\u001b[0m \u001b[32m━━━━━━━━━━━━━━━━━━━━\u001b[0m\u001b[37m\u001b[0m \u001b[1m0s\u001b[0m 16ms/step - accuracy: 0.0000e+00 - f1_score: 0.6608 - loss: 0.6643 - val_accuracy: 0.0000e+00 - val_f1_score: 0.6563 - val_loss: 0.6740\n",
      "Epoch 52/300\n",
      "\u001b[1m5/5\u001b[0m \u001b[32m━━━━━━━━━━━━━━━━━━━━\u001b[0m\u001b[37m\u001b[0m \u001b[1m0s\u001b[0m 17ms/step - accuracy: 0.0000e+00 - f1_score: 0.6606 - loss: 0.6646 - val_accuracy: 0.0000e+00 - val_f1_score: 0.6563 - val_loss: 0.6738\n",
      "Epoch 53/300\n",
      "\u001b[1m5/5\u001b[0m \u001b[32m━━━━━━━━━━━━━━━━━━━━\u001b[0m\u001b[37m\u001b[0m \u001b[1m0s\u001b[0m 16ms/step - accuracy: 0.0000e+00 - f1_score: 0.6599 - loss: 0.6632 - val_accuracy: 0.0000e+00 - val_f1_score: 0.6563 - val_loss: 0.6741\n",
      "Epoch 54/300\n",
      "\u001b[1m5/5\u001b[0m \u001b[32m━━━━━━━━━━━━━━━━━━━━\u001b[0m\u001b[37m\u001b[0m \u001b[1m0s\u001b[0m 16ms/step - accuracy: 0.0000e+00 - f1_score: 0.6603 - loss: 0.6650 - val_accuracy: 0.0000e+00 - val_f1_score: 0.6563 - val_loss: 0.6735\n",
      "Epoch 55/300\n",
      "\u001b[1m5/5\u001b[0m \u001b[32m━━━━━━━━━━━━━━━━━━━━\u001b[0m\u001b[37m\u001b[0m \u001b[1m0s\u001b[0m 20ms/step - accuracy: 0.0000e+00 - f1_score: 0.6595 - loss: 0.6621 - val_accuracy: 0.0000e+00 - val_f1_score: 0.6563 - val_loss: 0.6728\n",
      "Epoch 56/300\n",
      "\u001b[1m5/5\u001b[0m \u001b[32m━━━━━━━━━━━━━━━━━━━━\u001b[0m\u001b[37m\u001b[0m \u001b[1m0s\u001b[0m 17ms/step - accuracy: 0.0000e+00 - f1_score: 0.6569 - loss: 0.6631 - val_accuracy: 0.0000e+00 - val_f1_score: 0.6563 - val_loss: 0.6727\n",
      "Epoch 57/300\n",
      "\u001b[1m5/5\u001b[0m \u001b[32m━━━━━━━━━━━━━━━━━━━━\u001b[0m\u001b[37m\u001b[0m \u001b[1m0s\u001b[0m 16ms/step - accuracy: 0.0000e+00 - f1_score: 0.6611 - loss: 0.6642 - val_accuracy: 0.0000e+00 - val_f1_score: 0.6563 - val_loss: 0.6725\n",
      "Epoch 58/300\n",
      "\u001b[1m5/5\u001b[0m \u001b[32m━━━━━━━━━━━━━━━━━━━━\u001b[0m\u001b[37m\u001b[0m \u001b[1m0s\u001b[0m 15ms/step - accuracy: 0.0000e+00 - f1_score: 0.6545 - loss: 0.6620 - val_accuracy: 0.0000e+00 - val_f1_score: 0.6563 - val_loss: 0.6714\n",
      "Epoch 59/300\n",
      "\u001b[1m5/5\u001b[0m \u001b[32m━━━━━━━━━━━━━━━━━━━━\u001b[0m\u001b[37m\u001b[0m \u001b[1m0s\u001b[0m 16ms/step - accuracy: 0.0000e+00 - f1_score: 0.6622 - loss: 0.6632 - val_accuracy: 0.0000e+00 - val_f1_score: 0.6563 - val_loss: 0.6721\n",
      "Epoch 60/300\n",
      "\u001b[1m5/5\u001b[0m \u001b[32m━━━━━━━━━━━━━━━━━━━━\u001b[0m\u001b[37m\u001b[0m \u001b[1m0s\u001b[0m 16ms/step - accuracy: 0.0000e+00 - f1_score: 0.6578 - loss: 0.6638 - val_accuracy: 0.0000e+00 - val_f1_score: 0.6563 - val_loss: 0.6717\n",
      "Epoch 61/300\n",
      "\u001b[1m5/5\u001b[0m \u001b[32m━━━━━━━━━━━━━━━━━━━━\u001b[0m\u001b[37m\u001b[0m \u001b[1m0s\u001b[0m 16ms/step - accuracy: 0.0000e+00 - f1_score: 0.6622 - loss: 0.6638 - val_accuracy: 0.0000e+00 - val_f1_score: 0.6563 - val_loss: 0.6713\n",
      "Epoch 62/300\n",
      "\u001b[1m5/5\u001b[0m \u001b[32m━━━━━━━━━━━━━━━━━━━━\u001b[0m\u001b[37m\u001b[0m \u001b[1m0s\u001b[0m 16ms/step - accuracy: 0.0000e+00 - f1_score: 0.6626 - loss: 0.6643 - val_accuracy: 0.0000e+00 - val_f1_score: 0.6563 - val_loss: 0.6705\n",
      "Epoch 63/300\n",
      "\u001b[1m5/5\u001b[0m \u001b[32m━━━━━━━━━━━━━━━━━━━━\u001b[0m\u001b[37m\u001b[0m \u001b[1m0s\u001b[0m 16ms/step - accuracy: 0.0000e+00 - f1_score: 0.6612 - loss: 0.6655 - val_accuracy: 0.0000e+00 - val_f1_score: 0.6563 - val_loss: 0.6699\n",
      "Epoch 64/300\n",
      "\u001b[1m5/5\u001b[0m \u001b[32m━━━━━━━━━━━━━━━━━━━━\u001b[0m\u001b[37m\u001b[0m \u001b[1m0s\u001b[0m 17ms/step - accuracy: 0.0000e+00 - f1_score: 0.6607 - loss: 0.6627 - val_accuracy: 0.0000e+00 - val_f1_score: 0.6563 - val_loss: 0.6698\n",
      "Epoch 65/300\n",
      "\u001b[1m5/5\u001b[0m \u001b[32m━━━━━━━━━━━━━━━━━━━━\u001b[0m\u001b[37m\u001b[0m \u001b[1m0s\u001b[0m 18ms/step - accuracy: 0.0000e+00 - f1_score: 0.6598 - loss: 0.6624 - val_accuracy: 0.0000e+00 - val_f1_score: 0.6563 - val_loss: 0.6700\n",
      "Epoch 66/300\n",
      "\u001b[1m5/5\u001b[0m \u001b[32m━━━━━━━━━━━━━━━━━━━━\u001b[0m\u001b[37m\u001b[0m \u001b[1m0s\u001b[0m 19ms/step - accuracy: 0.0000e+00 - f1_score: 0.6604 - loss: 0.6641 - val_accuracy: 0.0000e+00 - val_f1_score: 0.6563 - val_loss: 0.6699\n",
      "Epoch 67/300\n",
      "\u001b[1m5/5\u001b[0m \u001b[32m━━━━━━━━━━━━━━━━━━━━\u001b[0m\u001b[37m\u001b[0m \u001b[1m0s\u001b[0m 23ms/step - accuracy: 0.0000e+00 - f1_score: 0.6600 - loss: 0.6641 - val_accuracy: 0.0000e+00 - val_f1_score: 0.6563 - val_loss: 0.6696\n",
      "Epoch 68/300\n",
      "\u001b[1m5/5\u001b[0m \u001b[32m━━━━━━━━━━━━━━━━━━━━\u001b[0m\u001b[37m\u001b[0m \u001b[1m0s\u001b[0m 17ms/step - accuracy: 0.0000e+00 - f1_score: 0.6605 - loss: 0.6639 - val_accuracy: 0.0000e+00 - val_f1_score: 0.6563 - val_loss: 0.6690\n",
      "Epoch 69/300\n",
      "\u001b[1m5/5\u001b[0m \u001b[32m━━━━━━━━━━━━━━━━━━━━\u001b[0m\u001b[37m\u001b[0m \u001b[1m0s\u001b[0m 16ms/step - accuracy: 0.0000e+00 - f1_score: 0.6601 - loss: 0.6639 - val_accuracy: 0.0000e+00 - val_f1_score: 0.6563 - val_loss: 0.6686\n",
      "Epoch 70/300\n",
      "\u001b[1m5/5\u001b[0m \u001b[32m━━━━━━━━━━━━━━━━━━━━\u001b[0m\u001b[37m\u001b[0m \u001b[1m0s\u001b[0m 15ms/step - accuracy: 0.0000e+00 - f1_score: 0.6574 - loss: 0.6614 - val_accuracy: 0.0000e+00 - val_f1_score: 0.6563 - val_loss: 0.6684\n",
      "Epoch 71/300\n",
      "\u001b[1m5/5\u001b[0m \u001b[32m━━━━━━━━━━━━━━━━━━━━\u001b[0m\u001b[37m\u001b[0m \u001b[1m0s\u001b[0m 16ms/step - accuracy: 0.0000e+00 - f1_score: 0.6558 - loss: 0.6620 - val_accuracy: 0.0000e+00 - val_f1_score: 0.6563 - val_loss: 0.6687\n",
      "Epoch 72/300\n",
      "\u001b[1m5/5\u001b[0m \u001b[32m━━━━━━━━━━━━━━━━━━━━\u001b[0m\u001b[37m\u001b[0m \u001b[1m0s\u001b[0m 16ms/step - accuracy: 0.0000e+00 - f1_score: 0.6549 - loss: 0.6629 - val_accuracy: 0.0000e+00 - val_f1_score: 0.6563 - val_loss: 0.6687\n",
      "Epoch 73/300\n",
      "\u001b[1m5/5\u001b[0m \u001b[32m━━━━━━━━━━━━━━━━━━━━\u001b[0m\u001b[37m\u001b[0m \u001b[1m0s\u001b[0m 16ms/step - accuracy: 0.0000e+00 - f1_score: 0.6583 - loss: 0.6627 - val_accuracy: 0.0000e+00 - val_f1_score: 0.6563 - val_loss: 0.6685\n",
      "Epoch 74/300\n",
      "\u001b[1m5/5\u001b[0m \u001b[32m━━━━━━━━━━━━━━━━━━━━\u001b[0m\u001b[37m\u001b[0m \u001b[1m0s\u001b[0m 16ms/step - accuracy: 0.0000e+00 - f1_score: 0.6611 - loss: 0.6619 - val_accuracy: 0.0000e+00 - val_f1_score: 0.6563 - val_loss: 0.6680\n",
      "Epoch 75/300\n",
      "\u001b[1m5/5\u001b[0m \u001b[32m━━━━━━━━━━━━━━━━━━━━\u001b[0m\u001b[37m\u001b[0m \u001b[1m0s\u001b[0m 16ms/step - accuracy: 0.0000e+00 - f1_score: 0.6568 - loss: 0.6615 - val_accuracy: 0.0000e+00 - val_f1_score: 0.6563 - val_loss: 0.6672\n",
      "Epoch 76/300\n",
      "\u001b[1m5/5\u001b[0m \u001b[32m━━━━━━━━━━━━━━━━━━━━\u001b[0m\u001b[37m\u001b[0m \u001b[1m0s\u001b[0m 16ms/step - accuracy: 0.0000e+00 - f1_score: 0.6565 - loss: 0.6609 - val_accuracy: 0.0000e+00 - val_f1_score: 0.6563 - val_loss: 0.6674\n",
      "Epoch 77/300\n",
      "\u001b[1m5/5\u001b[0m \u001b[32m━━━━━━━━━━━━━━━━━━━━\u001b[0m\u001b[37m\u001b[0m \u001b[1m0s\u001b[0m 15ms/step - accuracy: 0.0000e+00 - f1_score: 0.6587 - loss: 0.6622 - val_accuracy: 0.0000e+00 - val_f1_score: 0.6563 - val_loss: 0.6677\n",
      "Epoch 78/300\n",
      "\u001b[1m5/5\u001b[0m \u001b[32m━━━━━━━━━━━━━━━━━━━━\u001b[0m\u001b[37m\u001b[0m \u001b[1m0s\u001b[0m 17ms/step - accuracy: 0.0000e+00 - f1_score: 0.6570 - loss: 0.6623 - val_accuracy: 0.0000e+00 - val_f1_score: 0.6563 - val_loss: 0.6669\n",
      "Epoch 79/300\n",
      "\u001b[1m5/5\u001b[0m \u001b[32m━━━━━━━━━━━━━━━━━━━━\u001b[0m\u001b[37m\u001b[0m \u001b[1m0s\u001b[0m 16ms/step - accuracy: 0.0000e+00 - f1_score: 0.6603 - loss: 0.6637 - val_accuracy: 0.0000e+00 - val_f1_score: 0.6563 - val_loss: 0.6669\n",
      "Epoch 80/300\n",
      "\u001b[1m5/5\u001b[0m \u001b[32m━━━━━━━━━━━━━━━━━━━━\u001b[0m\u001b[37m\u001b[0m \u001b[1m0s\u001b[0m 16ms/step - accuracy: 0.0000e+00 - f1_score: 0.6580 - loss: 0.6625 - val_accuracy: 0.0000e+00 - val_f1_score: 0.6563 - val_loss: 0.6666\n",
      "Epoch 81/300\n",
      "\u001b[1m5/5\u001b[0m \u001b[32m━━━━━━━━━━━━━━━━━━━━\u001b[0m\u001b[37m\u001b[0m \u001b[1m0s\u001b[0m 15ms/step - accuracy: 0.0000e+00 - f1_score: 0.6591 - loss: 0.6621 - val_accuracy: 0.0000e+00 - val_f1_score: 0.6563 - val_loss: 0.6663\n",
      "Epoch 82/300\n",
      "\u001b[1m5/5\u001b[0m \u001b[32m━━━━━━━━━━━━━━━━━━━━\u001b[0m\u001b[37m\u001b[0m \u001b[1m0s\u001b[0m 16ms/step - accuracy: 0.0000e+00 - f1_score: 0.6553 - loss: 0.6605 - val_accuracy: 0.0000e+00 - val_f1_score: 0.6563 - val_loss: 0.6662\n",
      "Epoch 83/300\n",
      "\u001b[1m5/5\u001b[0m \u001b[32m━━━━━━━━━━━━━━━━━━━━\u001b[0m\u001b[37m\u001b[0m \u001b[1m0s\u001b[0m 16ms/step - accuracy: 0.0000e+00 - f1_score: 0.6609 - loss: 0.6622 - val_accuracy: 0.0000e+00 - val_f1_score: 0.6563 - val_loss: 0.6663\n",
      "Epoch 84/300\n",
      "\u001b[1m5/5\u001b[0m \u001b[32m━━━━━━━━━━━━━━━━━━━━\u001b[0m\u001b[37m\u001b[0m \u001b[1m0s\u001b[0m 16ms/step - accuracy: 0.0000e+00 - f1_score: 0.6622 - loss: 0.6631 - val_accuracy: 0.0000e+00 - val_f1_score: 0.6563 - val_loss: 0.6661\n",
      "Epoch 85/300\n",
      "\u001b[1m5/5\u001b[0m \u001b[32m━━━━━━━━━━━━━━━━━━━━\u001b[0m\u001b[37m\u001b[0m \u001b[1m0s\u001b[0m 16ms/step - accuracy: 0.0000e+00 - f1_score: 0.6625 - loss: 0.6611 - val_accuracy: 0.0000e+00 - val_f1_score: 0.6563 - val_loss: 0.6656\n",
      "Epoch 86/300\n",
      "\u001b[1m5/5\u001b[0m \u001b[32m━━━━━━━━━━━━━━━━━━━━\u001b[0m\u001b[37m\u001b[0m \u001b[1m0s\u001b[0m 17ms/step - accuracy: 0.0000e+00 - f1_score: 0.6624 - loss: 0.6618 - val_accuracy: 0.0000e+00 - val_f1_score: 0.6563 - val_loss: 0.6655\n",
      "Epoch 87/300\n",
      "\u001b[1m5/5\u001b[0m \u001b[32m━━━━━━━━━━━━━━━━━━━━\u001b[0m\u001b[37m\u001b[0m \u001b[1m0s\u001b[0m 16ms/step - accuracy: 0.0000e+00 - f1_score: 0.6566 - loss: 0.6620 - val_accuracy: 0.0000e+00 - val_f1_score: 0.6563 - val_loss: 0.6654\n",
      "Epoch 88/300\n",
      "\u001b[1m5/5\u001b[0m \u001b[32m━━━━━━━━━━━━━━━━━━━━\u001b[0m\u001b[37m\u001b[0m \u001b[1m0s\u001b[0m 18ms/step - accuracy: 0.0000e+00 - f1_score: 0.6602 - loss: 0.6632 - val_accuracy: 0.0000e+00 - val_f1_score: 0.6563 - val_loss: 0.6658\n",
      "Epoch 89/300\n",
      "\u001b[1m5/5\u001b[0m \u001b[32m━━━━━━━━━━━━━━━━━━━━\u001b[0m\u001b[37m\u001b[0m \u001b[1m0s\u001b[0m 18ms/step - accuracy: 0.0000e+00 - f1_score: 0.6587 - loss: 0.6633 - val_accuracy: 0.0000e+00 - val_f1_score: 0.6563 - val_loss: 0.6653\n",
      "Epoch 90/300\n",
      "\u001b[1m5/5\u001b[0m \u001b[32m━━━━━━━━━━━━━━━━━━━━\u001b[0m\u001b[37m\u001b[0m \u001b[1m0s\u001b[0m 16ms/step - accuracy: 0.0000e+00 - f1_score: 0.6589 - loss: 0.6602 - val_accuracy: 0.0000e+00 - val_f1_score: 0.6563 - val_loss: 0.6649\n",
      "Epoch 91/300\n",
      "\u001b[1m5/5\u001b[0m \u001b[32m━━━━━━━━━━━━━━━━━━━━\u001b[0m\u001b[37m\u001b[0m \u001b[1m0s\u001b[0m 17ms/step - accuracy: 0.0000e+00 - f1_score: 0.6622 - loss: 0.6636 - val_accuracy: 0.0000e+00 - val_f1_score: 0.6563 - val_loss: 0.6651\n",
      "Epoch 92/300\n",
      "\u001b[1m5/5\u001b[0m \u001b[32m━━━━━━━━━━━━━━━━━━━━\u001b[0m\u001b[37m\u001b[0m \u001b[1m0s\u001b[0m 17ms/step - accuracy: 0.0000e+00 - f1_score: 0.6589 - loss: 0.6633 - val_accuracy: 0.0000e+00 - val_f1_score: 0.6563 - val_loss: 0.6649\n",
      "Epoch 93/300\n",
      "\u001b[1m5/5\u001b[0m \u001b[32m━━━━━━━━━━━━━━━━━━━━\u001b[0m\u001b[37m\u001b[0m \u001b[1m0s\u001b[0m 18ms/step - accuracy: 0.0000e+00 - f1_score: 0.6597 - loss: 0.6623 - val_accuracy: 0.0000e+00 - val_f1_score: 0.6563 - val_loss: 0.6647\n",
      "Epoch 94/300\n",
      "\u001b[1m5/5\u001b[0m \u001b[32m━━━━━━━━━━━━━━━━━━━━\u001b[0m\u001b[37m\u001b[0m \u001b[1m0s\u001b[0m 21ms/step - accuracy: 0.0000e+00 - f1_score: 0.6581 - loss: 0.6623 - val_accuracy: 0.0000e+00 - val_f1_score: 0.6563 - val_loss: 0.6648\n",
      "Epoch 95/300\n",
      "\u001b[1m5/5\u001b[0m \u001b[32m━━━━━━━━━━━━━━━━━━━━\u001b[0m\u001b[37m\u001b[0m \u001b[1m0s\u001b[0m 16ms/step - accuracy: 0.0000e+00 - f1_score: 0.6571 - loss: 0.6619 - val_accuracy: 0.0000e+00 - val_f1_score: 0.6563 - val_loss: 0.6647\n",
      "Epoch 96/300\n",
      "\u001b[1m5/5\u001b[0m \u001b[32m━━━━━━━━━━━━━━━━━━━━\u001b[0m\u001b[37m\u001b[0m \u001b[1m0s\u001b[0m 17ms/step - accuracy: 0.0000e+00 - f1_score: 0.6585 - loss: 0.6635 - val_accuracy: 0.0000e+00 - val_f1_score: 0.6563 - val_loss: 0.6647\n",
      "Epoch 97/300\n",
      "\u001b[1m5/5\u001b[0m \u001b[32m━━━━━━━━━━━━━━━━━━━━\u001b[0m\u001b[37m\u001b[0m \u001b[1m0s\u001b[0m 17ms/step - accuracy: 0.0000e+00 - f1_score: 0.6578 - loss: 0.6620 - val_accuracy: 0.0000e+00 - val_f1_score: 0.6563 - val_loss: 0.6644\n",
      "Epoch 98/300\n",
      "\u001b[1m5/5\u001b[0m \u001b[32m━━━━━━━━━━━━━━━━━━━━\u001b[0m\u001b[37m\u001b[0m \u001b[1m0s\u001b[0m 18ms/step - accuracy: 0.0000e+00 - f1_score: 0.6545 - loss: 0.6622 - val_accuracy: 0.0000e+00 - val_f1_score: 0.6563 - val_loss: 0.6643\n",
      "Epoch 99/300\n",
      "\u001b[1m5/5\u001b[0m \u001b[32m━━━━━━━━━━━━━━━━━━━━\u001b[0m\u001b[37m\u001b[0m \u001b[1m0s\u001b[0m 18ms/step - accuracy: 0.0000e+00 - f1_score: 0.6588 - loss: 0.6609 - val_accuracy: 0.0000e+00 - val_f1_score: 0.6563 - val_loss: 0.6645\n",
      "Epoch 100/300\n",
      "\u001b[1m5/5\u001b[0m \u001b[32m━━━━━━━━━━━━━━━━━━━━\u001b[0m\u001b[37m\u001b[0m \u001b[1m0s\u001b[0m 18ms/step - accuracy: 0.0000e+00 - f1_score: 0.6594 - loss: 0.6619 - val_accuracy: 0.0000e+00 - val_f1_score: 0.6563 - val_loss: 0.6644\n",
      "Epoch 101/300\n",
      "\u001b[1m5/5\u001b[0m \u001b[32m━━━━━━━━━━━━━━━━━━━━\u001b[0m\u001b[37m\u001b[0m \u001b[1m0s\u001b[0m 16ms/step - accuracy: 0.0000e+00 - f1_score: 0.6590 - loss: 0.6620 - val_accuracy: 0.0000e+00 - val_f1_score: 0.6563 - val_loss: 0.6641\n",
      "Epoch 102/300\n",
      "\u001b[1m5/5\u001b[0m \u001b[32m━━━━━━━━━━━━━━━━━━━━\u001b[0m\u001b[37m\u001b[0m \u001b[1m0s\u001b[0m 21ms/step - accuracy: 0.0000e+00 - f1_score: 0.6602 - loss: 0.6622 - val_accuracy: 0.0000e+00 - val_f1_score: 0.6563 - val_loss: 0.6640\n",
      "Epoch 103/300\n",
      "\u001b[1m5/5\u001b[0m \u001b[32m━━━━━━━━━━━━━━━━━━━━\u001b[0m\u001b[37m\u001b[0m \u001b[1m0s\u001b[0m 18ms/step - accuracy: 0.0000e+00 - f1_score: 0.6592 - loss: 0.6623 - val_accuracy: 0.0000e+00 - val_f1_score: 0.6563 - val_loss: 0.6640\n",
      "Epoch 104/300\n",
      "\u001b[1m5/5\u001b[0m \u001b[32m━━━━━━━━━━━━━━━━━━━━\u001b[0m\u001b[37m\u001b[0m \u001b[1m0s\u001b[0m 15ms/step - accuracy: 0.0000e+00 - f1_score: 0.6558 - loss: 0.6637 - val_accuracy: 0.0000e+00 - val_f1_score: 0.6563 - val_loss: 0.6641\n",
      "Epoch 105/300\n",
      "\u001b[1m5/5\u001b[0m \u001b[32m━━━━━━━━━━━━━━━━━━━━\u001b[0m\u001b[37m\u001b[0m \u001b[1m0s\u001b[0m 17ms/step - accuracy: 0.0000e+00 - f1_score: 0.6548 - loss: 0.6613 - val_accuracy: 0.0000e+00 - val_f1_score: 0.6563 - val_loss: 0.6640\n",
      "Epoch 106/300\n",
      "\u001b[1m5/5\u001b[0m \u001b[32m━━━━━━━━━━━━━━━━━━━━\u001b[0m\u001b[37m\u001b[0m \u001b[1m0s\u001b[0m 15ms/step - accuracy: 0.0000e+00 - f1_score: 0.6559 - loss: 0.6614 - val_accuracy: 0.0000e+00 - val_f1_score: 0.6563 - val_loss: 0.6640\n",
      "Epoch 107/300\n",
      "\u001b[1m5/5\u001b[0m \u001b[32m━━━━━━━━━━━━━━━━━━━━\u001b[0m\u001b[37m\u001b[0m \u001b[1m0s\u001b[0m 17ms/step - accuracy: 0.0000e+00 - f1_score: 0.6558 - loss: 0.6613 - val_accuracy: 0.0000e+00 - val_f1_score: 0.6563 - val_loss: 0.6638\n",
      "Epoch 108/300\n",
      "\u001b[1m5/5\u001b[0m \u001b[32m━━━━━━━━━━━━━━━━━━━━\u001b[0m\u001b[37m\u001b[0m \u001b[1m0s\u001b[0m 18ms/step - accuracy: 0.0000e+00 - f1_score: 0.6587 - loss: 0.6616 - val_accuracy: 0.0000e+00 - val_f1_score: 0.6563 - val_loss: 0.6639\n",
      "Epoch 109/300\n",
      "\u001b[1m5/5\u001b[0m \u001b[32m━━━━━━━━━━━━━━━━━━━━\u001b[0m\u001b[37m\u001b[0m \u001b[1m0s\u001b[0m 18ms/step - accuracy: 0.0000e+00 - f1_score: 0.6596 - loss: 0.6616 - val_accuracy: 0.0000e+00 - val_f1_score: 0.6563 - val_loss: 0.6637\n",
      "Epoch 110/300\n",
      "\u001b[1m5/5\u001b[0m \u001b[32m━━━━━━━━━━━━━━━━━━━━\u001b[0m\u001b[37m\u001b[0m \u001b[1m0s\u001b[0m 18ms/step - accuracy: 0.0000e+00 - f1_score: 0.6605 - loss: 0.6628 - val_accuracy: 0.0000e+00 - val_f1_score: 0.6563 - val_loss: 0.6636\n",
      "Epoch 111/300\n",
      "\u001b[1m5/5\u001b[0m \u001b[32m━━━━━━━━━━━━━━━━━━━━\u001b[0m\u001b[37m\u001b[0m \u001b[1m0s\u001b[0m 18ms/step - accuracy: 0.0000e+00 - f1_score: 0.6595 - loss: 0.6620 - val_accuracy: 0.0000e+00 - val_f1_score: 0.6563 - val_loss: 0.6636\n",
      "Epoch 112/300\n",
      "\u001b[1m5/5\u001b[0m \u001b[32m━━━━━━━━━━━━━━━━━━━━\u001b[0m\u001b[37m\u001b[0m \u001b[1m0s\u001b[0m 16ms/step - accuracy: 0.0000e+00 - f1_score: 0.6599 - loss: 0.6628 - val_accuracy: 0.0000e+00 - val_f1_score: 0.6563 - val_loss: 0.6637\n",
      "Epoch 113/300\n",
      "\u001b[1m5/5\u001b[0m \u001b[32m━━━━━━━━━━━━━━━━━━━━\u001b[0m\u001b[37m\u001b[0m \u001b[1m0s\u001b[0m 17ms/step - accuracy: 0.0000e+00 - f1_score: 0.6574 - loss: 0.6609 - val_accuracy: 0.0000e+00 - val_f1_score: 0.6563 - val_loss: 0.6636\n",
      "Epoch 114/300\n",
      "\u001b[1m5/5\u001b[0m \u001b[32m━━━━━━━━━━━━━━━━━━━━\u001b[0m\u001b[37m\u001b[0m \u001b[1m0s\u001b[0m 15ms/step - accuracy: 0.0000e+00 - f1_score: 0.6610 - loss: 0.6614 - val_accuracy: 0.0000e+00 - val_f1_score: 0.6563 - val_loss: 0.6636\n",
      "Epoch 115/300\n",
      "\u001b[1m5/5\u001b[0m \u001b[32m━━━━━━━━━━━━━━━━━━━━\u001b[0m\u001b[37m\u001b[0m \u001b[1m0s\u001b[0m 16ms/step - accuracy: 0.0000e+00 - f1_score: 0.6609 - loss: 0.6637 - val_accuracy: 0.0000e+00 - val_f1_score: 0.6563 - val_loss: 0.6636\n",
      "Epoch 116/300\n",
      "\u001b[1m5/5\u001b[0m \u001b[32m━━━━━━━━━━━━━━━━━━━━\u001b[0m\u001b[37m\u001b[0m \u001b[1m0s\u001b[0m 16ms/step - accuracy: 0.0000e+00 - f1_score: 0.6608 - loss: 0.6627 - val_accuracy: 0.0000e+00 - val_f1_score: 0.6563 - val_loss: 0.6635\n",
      "Epoch 117/300\n",
      "\u001b[1m5/5\u001b[0m \u001b[32m━━━━━━━━━━━━━━━━━━━━\u001b[0m\u001b[37m\u001b[0m \u001b[1m0s\u001b[0m 16ms/step - accuracy: 0.0000e+00 - f1_score: 0.6595 - loss: 0.6617 - val_accuracy: 0.0000e+00 - val_f1_score: 0.6563 - val_loss: 0.6634\n",
      "Epoch 118/300\n",
      "\u001b[1m5/5\u001b[0m \u001b[32m━━━━━━━━━━━━━━━━━━━━\u001b[0m\u001b[37m\u001b[0m \u001b[1m0s\u001b[0m 20ms/step - accuracy: 0.0000e+00 - f1_score: 0.6554 - loss: 0.6627 - val_accuracy: 0.0000e+00 - val_f1_score: 0.6563 - val_loss: 0.6634\n",
      "Epoch 119/300\n",
      "\u001b[1m5/5\u001b[0m \u001b[32m━━━━━━━━━━━━━━━━━━━━\u001b[0m\u001b[37m\u001b[0m \u001b[1m0s\u001b[0m 20ms/step - accuracy: 0.0000e+00 - f1_score: 0.6576 - loss: 0.6615 - val_accuracy: 0.0000e+00 - val_f1_score: 0.6563 - val_loss: 0.6635\n",
      "Epoch 120/300\n",
      "\u001b[1m5/5\u001b[0m \u001b[32m━━━━━━━━━━━━━━━━━━━━\u001b[0m\u001b[37m\u001b[0m \u001b[1m0s\u001b[0m 17ms/step - accuracy: 0.0000e+00 - f1_score: 0.6602 - loss: 0.6634 - val_accuracy: 0.0000e+00 - val_f1_score: 0.6563 - val_loss: 0.6636\n",
      "Epoch 121/300\n",
      "\u001b[1m5/5\u001b[0m \u001b[32m━━━━━━━━━━━━━━━━━━━━\u001b[0m\u001b[37m\u001b[0m \u001b[1m0s\u001b[0m 18ms/step - accuracy: 0.0000e+00 - f1_score: 0.6581 - loss: 0.6638 - val_accuracy: 0.0000e+00 - val_f1_score: 0.6563 - val_loss: 0.6634\n",
      "Epoch 122/300\n",
      "\u001b[1m5/5\u001b[0m \u001b[32m━━━━━━━━━━━━━━━━━━━━\u001b[0m\u001b[37m\u001b[0m \u001b[1m0s\u001b[0m 16ms/step - accuracy: 0.0000e+00 - f1_score: 0.6624 - loss: 0.6628 - val_accuracy: 0.0000e+00 - val_f1_score: 0.6563 - val_loss: 0.6634\n",
      "Epoch 123/300\n",
      "\u001b[1m5/5\u001b[0m \u001b[32m━━━━━━━━━━━━━━━━━━━━\u001b[0m\u001b[37m\u001b[0m \u001b[1m0s\u001b[0m 16ms/step - accuracy: 0.0000e+00 - f1_score: 0.6630 - loss: 0.6629 - val_accuracy: 0.0000e+00 - val_f1_score: 0.6563 - val_loss: 0.6634\n",
      "Epoch 124/300\n",
      "\u001b[1m5/5\u001b[0m \u001b[32m━━━━━━━━━━━━━━━━━━━━\u001b[0m\u001b[37m\u001b[0m \u001b[1m0s\u001b[0m 17ms/step - accuracy: 0.0000e+00 - f1_score: 0.6561 - loss: 0.6611 - val_accuracy: 0.0000e+00 - val_f1_score: 0.6563 - val_loss: 0.6633\n",
      "Epoch 125/300\n",
      "\u001b[1m5/5\u001b[0m \u001b[32m━━━━━━━━━━━━━━━━━━━━\u001b[0m\u001b[37m\u001b[0m \u001b[1m0s\u001b[0m 16ms/step - accuracy: 0.0000e+00 - f1_score: 0.6616 - loss: 0.6633 - val_accuracy: 0.0000e+00 - val_f1_score: 0.6563 - val_loss: 0.6635\n",
      "Epoch 126/300\n",
      "\u001b[1m5/5\u001b[0m \u001b[32m━━━━━━━━━━━━━━━━━━━━\u001b[0m\u001b[37m\u001b[0m \u001b[1m0s\u001b[0m 16ms/step - accuracy: 0.0000e+00 - f1_score: 0.6614 - loss: 0.6618 - val_accuracy: 0.0000e+00 - val_f1_score: 0.6563 - val_loss: 0.6634\n",
      "Epoch 127/300\n",
      "\u001b[1m5/5\u001b[0m \u001b[32m━━━━━━━━━━━━━━━━━━━━\u001b[0m\u001b[37m\u001b[0m \u001b[1m0s\u001b[0m 16ms/step - accuracy: 0.0000e+00 - f1_score: 0.6590 - loss: 0.6629 - val_accuracy: 0.0000e+00 - val_f1_score: 0.6563 - val_loss: 0.6633\n",
      "Epoch 128/300\n",
      "\u001b[1m5/5\u001b[0m \u001b[32m━━━━━━━━━━━━━━━━━━━━\u001b[0m\u001b[37m\u001b[0m \u001b[1m0s\u001b[0m 17ms/step - accuracy: 0.0000e+00 - f1_score: 0.6574 - loss: 0.6611 - val_accuracy: 0.0000e+00 - val_f1_score: 0.6563 - val_loss: 0.6633\n",
      "Epoch 129/300\n",
      "\u001b[1m5/5\u001b[0m \u001b[32m━━━━━━━━━━━━━━━━━━━━\u001b[0m\u001b[37m\u001b[0m \u001b[1m0s\u001b[0m 18ms/step - accuracy: 0.0000e+00 - f1_score: 0.6592 - loss: 0.6623 - val_accuracy: 0.0000e+00 - val_f1_score: 0.6563 - val_loss: 0.6634\n",
      "Epoch 130/300\n",
      "\u001b[1m5/5\u001b[0m \u001b[32m━━━━━━━━━━━━━━━━━━━━\u001b[0m\u001b[37m\u001b[0m \u001b[1m0s\u001b[0m 21ms/step - accuracy: 0.0000e+00 - f1_score: 0.6586 - loss: 0.6615 - val_accuracy: 0.0000e+00 - val_f1_score: 0.6563 - val_loss: 0.6633\n",
      "Epoch 131/300\n",
      "\u001b[1m5/5\u001b[0m \u001b[32m━━━━━━━━━━━━━━━━━━━━\u001b[0m\u001b[37m\u001b[0m \u001b[1m0s\u001b[0m 18ms/step - accuracy: 0.0000e+00 - f1_score: 0.6576 - loss: 0.6631 - val_accuracy: 0.0000e+00 - val_f1_score: 0.6563 - val_loss: 0.6633\n",
      "Epoch 132/300\n",
      "\u001b[1m5/5\u001b[0m \u001b[32m━━━━━━━━━━━━━━━━━━━━\u001b[0m\u001b[37m\u001b[0m \u001b[1m0s\u001b[0m 17ms/step - accuracy: 0.0000e+00 - f1_score: 0.6611 - loss: 0.6614 - val_accuracy: 0.0000e+00 - val_f1_score: 0.6563 - val_loss: 0.6633\n",
      "Epoch 133/300\n",
      "\u001b[1m5/5\u001b[0m \u001b[32m━━━━━━━━━━━━━━━━━━━━\u001b[0m\u001b[37m\u001b[0m \u001b[1m0s\u001b[0m 16ms/step - accuracy: 0.0000e+00 - f1_score: 0.6597 - loss: 0.6632 - val_accuracy: 0.0000e+00 - val_f1_score: 0.6563 - val_loss: 0.6633\n",
      "Epoch 134/300\n",
      "\u001b[1m5/5\u001b[0m \u001b[32m━━━━━━━━━━━━━━━━━━━━\u001b[0m\u001b[37m\u001b[0m \u001b[1m0s\u001b[0m 16ms/step - accuracy: 0.0000e+00 - f1_score: 0.6567 - loss: 0.6606 - val_accuracy: 0.0000e+00 - val_f1_score: 0.6563 - val_loss: 0.6633\n",
      "Epoch 135/300\n",
      "\u001b[1m5/5\u001b[0m \u001b[32m━━━━━━━━━━━━━━━━━━━━\u001b[0m\u001b[37m\u001b[0m \u001b[1m0s\u001b[0m 16ms/step - accuracy: 0.0000e+00 - f1_score: 0.6603 - loss: 0.6613 - val_accuracy: 0.0000e+00 - val_f1_score: 0.6563 - val_loss: 0.6633\n",
      "Epoch 136/300\n",
      "\u001b[1m5/5\u001b[0m \u001b[32m━━━━━━━━━━━━━━━━━━━━\u001b[0m\u001b[37m\u001b[0m \u001b[1m0s\u001b[0m 16ms/step - accuracy: 0.0000e+00 - f1_score: 0.6582 - loss: 0.6625 - val_accuracy: 0.0000e+00 - val_f1_score: 0.6563 - val_loss: 0.6633\n",
      "Epoch 137/300\n",
      "\u001b[1m5/5\u001b[0m \u001b[32m━━━━━━━━━━━━━━━━━━━━\u001b[0m\u001b[37m\u001b[0m \u001b[1m0s\u001b[0m 17ms/step - accuracy: 0.0000e+00 - f1_score: 0.6593 - loss: 0.6614 - val_accuracy: 0.0000e+00 - val_f1_score: 0.6563 - val_loss: 0.6633\n",
      "Epoch 138/300\n",
      "\u001b[1m5/5\u001b[0m \u001b[32m━━━━━━━━━━━━━━━━━━━━\u001b[0m\u001b[37m\u001b[0m \u001b[1m0s\u001b[0m 16ms/step - accuracy: 0.0000e+00 - f1_score: 0.6574 - loss: 0.6609 - val_accuracy: 0.0000e+00 - val_f1_score: 0.6563 - val_loss: 0.6633\n",
      "Epoch 139/300\n",
      "\u001b[1m5/5\u001b[0m \u001b[32m━━━━━━━━━━━━━━━━━━━━\u001b[0m\u001b[37m\u001b[0m \u001b[1m0s\u001b[0m 15ms/step - accuracy: 0.0000e+00 - f1_score: 0.6610 - loss: 0.6639 - val_accuracy: 0.0000e+00 - val_f1_score: 0.6563 - val_loss: 0.6633\n",
      "Epoch 140/300\n",
      "\u001b[1m5/5\u001b[0m \u001b[32m━━━━━━━━━━━━━━━━━━━━\u001b[0m\u001b[37m\u001b[0m \u001b[1m0s\u001b[0m 16ms/step - accuracy: 0.0000e+00 - f1_score: 0.6556 - loss: 0.6610 - val_accuracy: 0.0000e+00 - val_f1_score: 0.6563 - val_loss: 0.6632\n",
      "Epoch 141/300\n",
      "\u001b[1m5/5\u001b[0m \u001b[32m━━━━━━━━━━━━━━━━━━━━\u001b[0m\u001b[37m\u001b[0m \u001b[1m0s\u001b[0m 16ms/step - accuracy: 0.0000e+00 - f1_score: 0.6598 - loss: 0.6630 - val_accuracy: 0.0000e+00 - val_f1_score: 0.6563 - val_loss: 0.6632\n",
      "Epoch 142/300\n",
      "\u001b[1m5/5\u001b[0m \u001b[32m━━━━━━━━━━━━━━━━━━━━\u001b[0m\u001b[37m\u001b[0m \u001b[1m0s\u001b[0m 16ms/step - accuracy: 0.0000e+00 - f1_score: 0.6602 - loss: 0.6616 - val_accuracy: 0.0000e+00 - val_f1_score: 0.6563 - val_loss: 0.6632\n",
      "Epoch 143/300\n",
      "\u001b[1m5/5\u001b[0m \u001b[32m━━━━━━━━━━━━━━━━━━━━\u001b[0m\u001b[37m\u001b[0m \u001b[1m0s\u001b[0m 21ms/step - accuracy: 0.0000e+00 - f1_score: 0.6604 - loss: 0.6606 - val_accuracy: 0.0000e+00 - val_f1_score: 0.6563 - val_loss: 0.6633\n",
      "Epoch 144/300\n",
      "\u001b[1m5/5\u001b[0m \u001b[32m━━━━━━━━━━━━━━━━━━━━\u001b[0m\u001b[37m\u001b[0m \u001b[1m0s\u001b[0m 16ms/step - accuracy: 0.0000e+00 - f1_score: 0.6618 - loss: 0.6614 - val_accuracy: 0.0000e+00 - val_f1_score: 0.6563 - val_loss: 0.6632\n",
      "Epoch 145/300\n",
      "\u001b[1m5/5\u001b[0m \u001b[32m━━━━━━━━━━━━━━━━━━━━\u001b[0m\u001b[37m\u001b[0m \u001b[1m0s\u001b[0m 17ms/step - accuracy: 0.0000e+00 - f1_score: 0.6575 - loss: 0.6619 - val_accuracy: 0.0000e+00 - val_f1_score: 0.6563 - val_loss: 0.6632\n",
      "Epoch 146/300\n",
      "\u001b[1m5/5\u001b[0m \u001b[32m━━━━━━━━━━━━━━━━━━━━\u001b[0m\u001b[37m\u001b[0m \u001b[1m0s\u001b[0m 16ms/step - accuracy: 0.0000e+00 - f1_score: 0.6619 - loss: 0.6630 - val_accuracy: 0.0000e+00 - val_f1_score: 0.6563 - val_loss: 0.6632\n",
      "Epoch 147/300\n",
      "\u001b[1m5/5\u001b[0m \u001b[32m━━━━━━━━━━━━━━━━━━━━\u001b[0m\u001b[37m\u001b[0m \u001b[1m0s\u001b[0m 16ms/step - accuracy: 0.0000e+00 - f1_score: 0.6578 - loss: 0.6618 - val_accuracy: 0.0000e+00 - val_f1_score: 0.6563 - val_loss: 0.6632\n",
      "Epoch 148/300\n",
      "\u001b[1m5/5\u001b[0m \u001b[32m━━━━━━━━━━━━━━━━━━━━\u001b[0m\u001b[37m\u001b[0m \u001b[1m0s\u001b[0m 16ms/step - accuracy: 0.0000e+00 - f1_score: 0.6553 - loss: 0.6599 - val_accuracy: 0.0000e+00 - val_f1_score: 0.6563 - val_loss: 0.6632\n",
      "Epoch 149/300\n",
      "\u001b[1m5/5\u001b[0m \u001b[32m━━━━━━━━━━━━━━━━━━━━\u001b[0m\u001b[37m\u001b[0m \u001b[1m0s\u001b[0m 16ms/step - accuracy: 0.0000e+00 - f1_score: 0.6608 - loss: 0.6620 - val_accuracy: 0.0000e+00 - val_f1_score: 0.6563 - val_loss: 0.6632\n",
      "Epoch 150/300\n",
      "\u001b[1m5/5\u001b[0m \u001b[32m━━━━━━━━━━━━━━━━━━━━\u001b[0m\u001b[37m\u001b[0m \u001b[1m0s\u001b[0m 16ms/step - accuracy: 0.0000e+00 - f1_score: 0.6583 - loss: 0.6600 - val_accuracy: 0.0000e+00 - val_f1_score: 0.6563 - val_loss: 0.6632\n",
      "Epoch 151/300\n",
      "\u001b[1m5/5\u001b[0m \u001b[32m━━━━━━━━━━━━━━━━━━━━\u001b[0m\u001b[37m\u001b[0m \u001b[1m0s\u001b[0m 15ms/step - accuracy: 0.0000e+00 - f1_score: 0.6562 - loss: 0.6619 - val_accuracy: 0.0000e+00 - val_f1_score: 0.6563 - val_loss: 0.6632\n",
      "Epoch 152/300\n",
      "\u001b[1m5/5\u001b[0m \u001b[32m━━━━━━━━━━━━━━━━━━━━\u001b[0m\u001b[37m\u001b[0m \u001b[1m0s\u001b[0m 16ms/step - accuracy: 0.0000e+00 - f1_score: 0.6554 - loss: 0.6608 - val_accuracy: 0.0000e+00 - val_f1_score: 0.6563 - val_loss: 0.6632\n",
      "Epoch 153/300\n",
      "\u001b[1m5/5\u001b[0m \u001b[32m━━━━━━━━━━━━━━━━━━━━\u001b[0m\u001b[37m\u001b[0m \u001b[1m0s\u001b[0m 16ms/step - accuracy: 0.0000e+00 - f1_score: 0.6612 - loss: 0.6634 - val_accuracy: 0.0000e+00 - val_f1_score: 0.6563 - val_loss: 0.6632\n",
      "Epoch 154/300\n",
      "\u001b[1m5/5\u001b[0m \u001b[32m━━━━━━━━━━━━━━━━━━━━\u001b[0m\u001b[37m\u001b[0m \u001b[1m0s\u001b[0m 20ms/step - accuracy: 0.0000e+00 - f1_score: 0.6588 - loss: 0.6614 - val_accuracy: 0.0000e+00 - val_f1_score: 0.6563 - val_loss: 0.6633\n",
      "Epoch 155/300\n",
      "\u001b[1m5/5\u001b[0m \u001b[32m━━━━━━━━━━━━━━━━━━━━\u001b[0m\u001b[37m\u001b[0m \u001b[1m0s\u001b[0m 16ms/step - accuracy: 0.0000e+00 - f1_score: 0.6576 - loss: 0.6614 - val_accuracy: 0.0000e+00 - val_f1_score: 0.6563 - val_loss: 0.6633\n",
      "Epoch 156/300\n",
      "\u001b[1m5/5\u001b[0m \u001b[32m━━━━━━━━━━━━━━━━━━━━\u001b[0m\u001b[37m\u001b[0m \u001b[1m0s\u001b[0m 17ms/step - accuracy: 0.0000e+00 - f1_score: 0.6584 - loss: 0.6603 - val_accuracy: 0.0000e+00 - val_f1_score: 0.6563 - val_loss: 0.6632\n",
      "Epoch 157/300\n",
      "\u001b[1m5/5\u001b[0m \u001b[32m━━━━━━━━━━━━━━━━━━━━\u001b[0m\u001b[37m\u001b[0m \u001b[1m0s\u001b[0m 17ms/step - accuracy: 0.0000e+00 - f1_score: 0.6613 - loss: 0.6627 - val_accuracy: 0.0000e+00 - val_f1_score: 0.6563 - val_loss: 0.6632\n",
      "Epoch 158/300\n",
      "\u001b[1m5/5\u001b[0m \u001b[32m━━━━━━━━━━━━━━━━━━━━\u001b[0m\u001b[37m\u001b[0m \u001b[1m0s\u001b[0m 18ms/step - accuracy: 0.0000e+00 - f1_score: 0.6594 - loss: 0.6621 - val_accuracy: 0.0000e+00 - val_f1_score: 0.6563 - val_loss: 0.6632\n",
      "Epoch 159/300\n",
      "\u001b[1m5/5\u001b[0m \u001b[32m━━━━━━━━━━━━━━━━━━━━\u001b[0m\u001b[37m\u001b[0m \u001b[1m0s\u001b[0m 16ms/step - accuracy: 0.0000e+00 - f1_score: 0.6563 - loss: 0.6614 - val_accuracy: 0.0000e+00 - val_f1_score: 0.6563 - val_loss: 0.6633\n",
      "Epoch 160/300\n",
      "\u001b[1m5/5\u001b[0m \u001b[32m━━━━━━━━━━━━━━━━━━━━\u001b[0m\u001b[37m\u001b[0m \u001b[1m0s\u001b[0m 16ms/step - accuracy: 0.0000e+00 - f1_score: 0.6575 - loss: 0.6606 - val_accuracy: 0.0000e+00 - val_f1_score: 0.6563 - val_loss: 0.6632\n",
      "Epoch 161/300\n",
      "\u001b[1m5/5\u001b[0m \u001b[32m━━━━━━━━━━━━━━━━━━━━\u001b[0m\u001b[37m\u001b[0m \u001b[1m0s\u001b[0m 15ms/step - accuracy: 0.0000e+00 - f1_score: 0.6630 - loss: 0.6620 - val_accuracy: 0.0000e+00 - val_f1_score: 0.6563 - val_loss: 0.6632\n",
      "Epoch 162/300\n",
      "\u001b[1m5/5\u001b[0m \u001b[32m━━━━━━━━━━━━━━━━━━━━\u001b[0m\u001b[37m\u001b[0m \u001b[1m0s\u001b[0m 16ms/step - accuracy: 0.0000e+00 - f1_score: 0.6598 - loss: 0.6604 - val_accuracy: 0.0000e+00 - val_f1_score: 0.6563 - val_loss: 0.6633\n",
      "Epoch 163/300\n",
      "\u001b[1m5/5\u001b[0m \u001b[32m━━━━━━━━━━━━━━━━━━━━\u001b[0m\u001b[37m\u001b[0m \u001b[1m0s\u001b[0m 15ms/step - accuracy: 0.0000e+00 - f1_score: 0.6582 - loss: 0.6622 - val_accuracy: 0.0000e+00 - val_f1_score: 0.6563 - val_loss: 0.6632\n",
      "Epoch 164/300\n",
      "\u001b[1m5/5\u001b[0m \u001b[32m━━━━━━━━━━━━━━━━━━━━\u001b[0m\u001b[37m\u001b[0m \u001b[1m0s\u001b[0m 16ms/step - accuracy: 0.0000e+00 - f1_score: 0.6611 - loss: 0.6624 - val_accuracy: 0.0000e+00 - val_f1_score: 0.6563 - val_loss: 0.6632\n",
      "Epoch 165/300\n",
      "\u001b[1m5/5\u001b[0m \u001b[32m━━━━━━━━━━━━━━━━━━━━\u001b[0m\u001b[37m\u001b[0m \u001b[1m0s\u001b[0m 15ms/step - accuracy: 0.0000e+00 - f1_score: 0.6582 - loss: 0.6627 - val_accuracy: 0.0000e+00 - val_f1_score: 0.6563 - val_loss: 0.6632\n",
      "Epoch 166/300\n",
      "\u001b[1m5/5\u001b[0m \u001b[32m━━━━━━━━━━━━━━━━━━━━\u001b[0m\u001b[37m\u001b[0m \u001b[1m0s\u001b[0m 15ms/step - accuracy: 0.0000e+00 - f1_score: 0.6644 - loss: 0.6626 - val_accuracy: 0.0000e+00 - val_f1_score: 0.6563 - val_loss: 0.6632\n",
      "Epoch 167/300\n",
      "\u001b[1m5/5\u001b[0m \u001b[32m━━━━━━━━━━━━━━━━━━━━\u001b[0m\u001b[37m\u001b[0m \u001b[1m0s\u001b[0m 18ms/step - accuracy: 0.0000e+00 - f1_score: 0.6624 - loss: 0.6638 - val_accuracy: 0.0000e+00 - val_f1_score: 0.6563 - val_loss: 0.6632\n",
      "Epoch 168/300\n",
      "\u001b[1m5/5\u001b[0m \u001b[32m━━━━━━━━━━━━━━━━━━━━\u001b[0m\u001b[37m\u001b[0m \u001b[1m0s\u001b[0m 18ms/step - accuracy: 0.0000e+00 - f1_score: 0.6619 - loss: 0.6638 - val_accuracy: 0.0000e+00 - val_f1_score: 0.6563 - val_loss: 0.6632\n",
      "Epoch 169/300\n",
      "\u001b[1m5/5\u001b[0m \u001b[32m━━━━━━━━━━━━━━━━━━━━\u001b[0m\u001b[37m\u001b[0m \u001b[1m0s\u001b[0m 16ms/step - accuracy: 0.0000e+00 - f1_score: 0.6624 - loss: 0.6634 - val_accuracy: 0.0000e+00 - val_f1_score: 0.6563 - val_loss: 0.6632\n",
      "Epoch 170/300\n",
      "\u001b[1m5/5\u001b[0m \u001b[32m━━━━━━━━━━━━━━━━━━━━\u001b[0m\u001b[37m\u001b[0m \u001b[1m0s\u001b[0m 16ms/step - accuracy: 0.0000e+00 - f1_score: 0.6609 - loss: 0.6624 - val_accuracy: 0.0000e+00 - val_f1_score: 0.6563 - val_loss: 0.6632\n",
      "Epoch 171/300\n",
      "\u001b[1m5/5\u001b[0m \u001b[32m━━━━━━━━━━━━━━━━━━━━\u001b[0m\u001b[37m\u001b[0m \u001b[1m0s\u001b[0m 15ms/step - accuracy: 0.0000e+00 - f1_score: 0.6606 - loss: 0.6636 - val_accuracy: 0.0000e+00 - val_f1_score: 0.6563 - val_loss: 0.6632\n",
      "Epoch 172/300\n",
      "\u001b[1m5/5\u001b[0m \u001b[32m━━━━━━━━━━━━━━━━━━━━\u001b[0m\u001b[37m\u001b[0m \u001b[1m0s\u001b[0m 17ms/step - accuracy: 0.0000e+00 - f1_score: 0.6599 - loss: 0.6613 - val_accuracy: 0.0000e+00 - val_f1_score: 0.6563 - val_loss: 0.6632\n",
      "Epoch 173/300\n",
      "\u001b[1m5/5\u001b[0m \u001b[32m━━━━━━━━━━━━━━━━━━━━\u001b[0m\u001b[37m\u001b[0m \u001b[1m0s\u001b[0m 19ms/step - accuracy: 0.0000e+00 - f1_score: 0.6613 - loss: 0.6640 - val_accuracy: 0.0000e+00 - val_f1_score: 0.6563 - val_loss: 0.6632\n",
      "Epoch 174/300\n",
      "\u001b[1m5/5\u001b[0m \u001b[32m━━━━━━━━━━━━━━━━━━━━\u001b[0m\u001b[37m\u001b[0m \u001b[1m0s\u001b[0m 20ms/step - accuracy: 0.0000e+00 - f1_score: 0.6582 - loss: 0.6629 - val_accuracy: 0.0000e+00 - val_f1_score: 0.6563 - val_loss: 0.6632\n",
      "Epoch 175/300\n",
      "\u001b[1m5/5\u001b[0m \u001b[32m━━━━━━━━━━━━━━━━━━━━\u001b[0m\u001b[37m\u001b[0m \u001b[1m0s\u001b[0m 26ms/step - accuracy: 0.0000e+00 - f1_score: 0.6574 - loss: 0.6617 - val_accuracy: 0.0000e+00 - val_f1_score: 0.6563 - val_loss: 0.6632\n",
      "Epoch 176/300\n",
      "\u001b[1m5/5\u001b[0m \u001b[32m━━━━━━━━━━━━━━━━━━━━\u001b[0m\u001b[37m\u001b[0m \u001b[1m0s\u001b[0m 16ms/step - accuracy: 0.0000e+00 - f1_score: 0.6575 - loss: 0.6599 - val_accuracy: 0.0000e+00 - val_f1_score: 0.6563 - val_loss: 0.6632\n",
      "Epoch 177/300\n",
      "\u001b[1m5/5\u001b[0m \u001b[32m━━━━━━━━━━━━━━━━━━━━\u001b[0m\u001b[37m\u001b[0m \u001b[1m0s\u001b[0m 17ms/step - accuracy: 0.0000e+00 - f1_score: 0.6602 - loss: 0.6623 - val_accuracy: 0.0000e+00 - val_f1_score: 0.6563 - val_loss: 0.6631\n",
      "Epoch 178/300\n",
      "\u001b[1m5/5\u001b[0m \u001b[32m━━━━━━━━━━━━━━━━━━━━\u001b[0m\u001b[37m\u001b[0m \u001b[1m0s\u001b[0m 17ms/step - accuracy: 0.0000e+00 - f1_score: 0.6597 - loss: 0.6612 - val_accuracy: 0.0000e+00 - val_f1_score: 0.6563 - val_loss: 0.6632\n",
      "Epoch 179/300\n",
      "\u001b[1m5/5\u001b[0m \u001b[32m━━━━━━━━━━━━━━━━━━━━\u001b[0m\u001b[37m\u001b[0m \u001b[1m0s\u001b[0m 16ms/step - accuracy: 0.0000e+00 - f1_score: 0.6597 - loss: 0.6623 - val_accuracy: 0.0000e+00 - val_f1_score: 0.6563 - val_loss: 0.6631\n",
      "Epoch 180/300\n",
      "\u001b[1m5/5\u001b[0m \u001b[32m━━━━━━━━━━━━━━━━━━━━\u001b[0m\u001b[37m\u001b[0m \u001b[1m0s\u001b[0m 16ms/step - accuracy: 0.0000e+00 - f1_score: 0.6607 - loss: 0.6617 - val_accuracy: 0.0000e+00 - val_f1_score: 0.6563 - val_loss: 0.6632\n",
      "Epoch 181/300\n",
      "\u001b[1m5/5\u001b[0m \u001b[32m━━━━━━━━━━━━━━━━━━━━\u001b[0m\u001b[37m\u001b[0m \u001b[1m0s\u001b[0m 16ms/step - accuracy: 0.0000e+00 - f1_score: 0.6568 - loss: 0.6603 - val_accuracy: 0.0000e+00 - val_f1_score: 0.6563 - val_loss: 0.6632\n",
      "Epoch 182/300\n",
      "\u001b[1m5/5\u001b[0m \u001b[32m━━━━━━━━━━━━━━━━━━━━\u001b[0m\u001b[37m\u001b[0m \u001b[1m0s\u001b[0m 20ms/step - accuracy: 0.0000e+00 - f1_score: 0.6561 - loss: 0.6619 - val_accuracy: 0.0000e+00 - val_f1_score: 0.6563 - val_loss: 0.6631\n",
      "Epoch 183/300\n",
      "\u001b[1m5/5\u001b[0m \u001b[32m━━━━━━━━━━━━━━━━━━━━\u001b[0m\u001b[37m\u001b[0m \u001b[1m0s\u001b[0m 15ms/step - accuracy: 0.0000e+00 - f1_score: 0.6619 - loss: 0.6622 - val_accuracy: 0.0000e+00 - val_f1_score: 0.6563 - val_loss: 0.6631\n",
      "Epoch 184/300\n",
      "\u001b[1m5/5\u001b[0m \u001b[32m━━━━━━━━━━━━━━━━━━━━\u001b[0m\u001b[37m\u001b[0m \u001b[1m0s\u001b[0m 15ms/step - accuracy: 0.0000e+00 - f1_score: 0.6600 - loss: 0.6621 - val_accuracy: 0.0000e+00 - val_f1_score: 0.6563 - val_loss: 0.6632\n",
      "Epoch 185/300\n",
      "\u001b[1m5/5\u001b[0m \u001b[32m━━━━━━━━━━━━━━━━━━━━\u001b[0m\u001b[37m\u001b[0m \u001b[1m0s\u001b[0m 16ms/step - accuracy: 0.0000e+00 - f1_score: 0.6577 - loss: 0.6619 - val_accuracy: 0.0000e+00 - val_f1_score: 0.6563 - val_loss: 0.6633\n",
      "Epoch 186/300\n",
      "\u001b[1m5/5\u001b[0m \u001b[32m━━━━━━━━━━━━━━━━━━━━\u001b[0m\u001b[37m\u001b[0m \u001b[1m0s\u001b[0m 16ms/step - accuracy: 0.0000e+00 - f1_score: 0.6581 - loss: 0.6611 - val_accuracy: 0.0000e+00 - val_f1_score: 0.6563 - val_loss: 0.6631\n",
      "Epoch 187/300\n",
      "\u001b[1m5/5\u001b[0m \u001b[32m━━━━━━━━━━━━━━━━━━━━\u001b[0m\u001b[37m\u001b[0m \u001b[1m0s\u001b[0m 16ms/step - accuracy: 0.0000e+00 - f1_score: 0.6587 - loss: 0.6621 - val_accuracy: 0.0000e+00 - val_f1_score: 0.6563 - val_loss: 0.6631\n",
      "Epoch 188/300\n",
      "\u001b[1m5/5\u001b[0m \u001b[32m━━━━━━━━━━━━━━━━━━━━\u001b[0m\u001b[37m\u001b[0m \u001b[1m0s\u001b[0m 16ms/step - accuracy: 0.0000e+00 - f1_score: 0.6589 - loss: 0.6619 - val_accuracy: 0.0000e+00 - val_f1_score: 0.6563 - val_loss: 0.6632\n",
      "Epoch 189/300\n",
      "\u001b[1m5/5\u001b[0m \u001b[32m━━━━━━━━━━━━━━━━━━━━\u001b[0m\u001b[37m\u001b[0m \u001b[1m0s\u001b[0m 17ms/step - accuracy: 0.0000e+00 - f1_score: 0.6637 - loss: 0.6618 - val_accuracy: 0.0000e+00 - val_f1_score: 0.6563 - val_loss: 0.6632\n",
      "Epoch 190/300\n",
      "\u001b[1m5/5\u001b[0m \u001b[32m━━━━━━━━━━━━━━━━━━━━\u001b[0m\u001b[37m\u001b[0m \u001b[1m0s\u001b[0m 15ms/step - accuracy: 0.0000e+00 - f1_score: 0.6597 - loss: 0.6630 - val_accuracy: 0.0000e+00 - val_f1_score: 0.6563 - val_loss: 0.6632\n",
      "Epoch 191/300\n",
      "\u001b[1m5/5\u001b[0m \u001b[32m━━━━━━━━━━━━━━━━━━━━\u001b[0m\u001b[37m\u001b[0m \u001b[1m0s\u001b[0m 16ms/step - accuracy: 0.0000e+00 - f1_score: 0.6620 - loss: 0.6643 - val_accuracy: 0.0000e+00 - val_f1_score: 0.6563 - val_loss: 0.6632\n",
      "Epoch 192/300\n",
      "\u001b[1m5/5\u001b[0m \u001b[32m━━━━━━━━━━━━━━━━━━━━\u001b[0m\u001b[37m\u001b[0m \u001b[1m0s\u001b[0m 16ms/step - accuracy: 0.0000e+00 - f1_score: 0.6631 - loss: 0.6629 - val_accuracy: 0.0000e+00 - val_f1_score: 0.6563 - val_loss: 0.6632\n",
      "Epoch 193/300\n",
      "\u001b[1m5/5\u001b[0m \u001b[32m━━━━━━━━━━━━━━━━━━━━\u001b[0m\u001b[37m\u001b[0m \u001b[1m0s\u001b[0m 16ms/step - accuracy: 0.0000e+00 - f1_score: 0.6596 - loss: 0.6602 - val_accuracy: 0.0000e+00 - val_f1_score: 0.6563 - val_loss: 0.6632\n",
      "Epoch 194/300\n",
      "\u001b[1m5/5\u001b[0m \u001b[32m━━━━━━━━━━━━━━━━━━━━\u001b[0m\u001b[37m\u001b[0m \u001b[1m0s\u001b[0m 20ms/step - accuracy: 0.0000e+00 - f1_score: 0.6638 - loss: 0.6649 - val_accuracy: 0.0000e+00 - val_f1_score: 0.6563 - val_loss: 0.6631\n",
      "Epoch 195/300\n",
      "\u001b[1m5/5\u001b[0m \u001b[32m━━━━━━━━━━━━━━━━━━━━\u001b[0m\u001b[37m\u001b[0m \u001b[1m0s\u001b[0m 16ms/step - accuracy: 0.0000e+00 - f1_score: 0.6597 - loss: 0.6626 - val_accuracy: 0.0000e+00 - val_f1_score: 0.6563 - val_loss: 0.6632\n",
      "Epoch 196/300\n",
      "\u001b[1m5/5\u001b[0m \u001b[32m━━━━━━━━━━━━━━━━━━━━\u001b[0m\u001b[37m\u001b[0m \u001b[1m0s\u001b[0m 17ms/step - accuracy: 0.0000e+00 - f1_score: 0.6629 - loss: 0.6634 - val_accuracy: 0.0000e+00 - val_f1_score: 0.6563 - val_loss: 0.6631\n",
      "Epoch 197/300\n",
      "\u001b[1m5/5\u001b[0m \u001b[32m━━━━━━━━━━━━━━━━━━━━\u001b[0m\u001b[37m\u001b[0m \u001b[1m0s\u001b[0m 16ms/step - accuracy: 0.0000e+00 - f1_score: 0.6582 - loss: 0.6626 - val_accuracy: 0.0000e+00 - val_f1_score: 0.6563 - val_loss: 0.6632\n",
      "Epoch 198/300\n",
      "\u001b[1m5/5\u001b[0m \u001b[32m━━━━━━━━━━━━━━━━━━━━\u001b[0m\u001b[37m\u001b[0m \u001b[1m0s\u001b[0m 16ms/step - accuracy: 0.0000e+00 - f1_score: 0.6626 - loss: 0.6642 - val_accuracy: 0.0000e+00 - val_f1_score: 0.6563 - val_loss: 0.6631\n",
      "Epoch 199/300\n",
      "\u001b[1m5/5\u001b[0m \u001b[32m━━━━━━━━━━━━━━━━━━━━\u001b[0m\u001b[37m\u001b[0m \u001b[1m0s\u001b[0m 15ms/step - accuracy: 0.0000e+00 - f1_score: 0.6601 - loss: 0.6617 - val_accuracy: 0.0000e+00 - val_f1_score: 0.6563 - val_loss: 0.6632\n",
      "Epoch 200/300\n",
      "\u001b[1m5/5\u001b[0m \u001b[32m━━━━━━━━━━━━━━━━━━━━\u001b[0m\u001b[37m\u001b[0m \u001b[1m0s\u001b[0m 18ms/step - accuracy: 0.0000e+00 - f1_score: 0.6600 - loss: 0.6626 - val_accuracy: 0.0000e+00 - val_f1_score: 0.6563 - val_loss: 0.6632\n",
      "Epoch 201/300\n",
      "\u001b[1m5/5\u001b[0m \u001b[32m━━━━━━━━━━━━━━━━━━━━\u001b[0m\u001b[37m\u001b[0m \u001b[1m0s\u001b[0m 17ms/step - accuracy: 0.0000e+00 - f1_score: 0.6611 - loss: 0.6620 - val_accuracy: 0.0000e+00 - val_f1_score: 0.6563 - val_loss: 0.6632\n",
      "Epoch 202/300\n",
      "\u001b[1m5/5\u001b[0m \u001b[32m━━━━━━━━━━━━━━━━━━━━\u001b[0m\u001b[37m\u001b[0m \u001b[1m0s\u001b[0m 15ms/step - accuracy: 0.0000e+00 - f1_score: 0.6587 - loss: 0.6630 - val_accuracy: 0.0000e+00 - val_f1_score: 0.6563 - val_loss: 0.6631\n",
      "Epoch 203/300\n",
      "\u001b[1m5/5\u001b[0m \u001b[32m━━━━━━━━━━━━━━━━━━━━\u001b[0m\u001b[37m\u001b[0m \u001b[1m0s\u001b[0m 15ms/step - accuracy: 0.0000e+00 - f1_score: 0.6582 - loss: 0.6611 - val_accuracy: 0.0000e+00 - val_f1_score: 0.6563 - val_loss: 0.6631\n",
      "Epoch 204/300\n",
      "\u001b[1m5/5\u001b[0m \u001b[32m━━━━━━━━━━━━━━━━━━━━\u001b[0m\u001b[37m\u001b[0m \u001b[1m0s\u001b[0m 16ms/step - accuracy: 0.0000e+00 - f1_score: 0.6633 - loss: 0.6621 - val_accuracy: 0.0000e+00 - val_f1_score: 0.6563 - val_loss: 0.6631\n",
      "Epoch 205/300\n",
      "\u001b[1m5/5\u001b[0m \u001b[32m━━━━━━━━━━━━━━━━━━━━\u001b[0m\u001b[37m\u001b[0m \u001b[1m0s\u001b[0m 16ms/step - accuracy: 0.0000e+00 - f1_score: 0.6590 - loss: 0.6602 - val_accuracy: 0.0000e+00 - val_f1_score: 0.6563 - val_loss: 0.6632\n",
      "Epoch 206/300\n",
      "\u001b[1m5/5\u001b[0m \u001b[32m━━━━━━━━━━━━━━━━━━━━\u001b[0m\u001b[37m\u001b[0m \u001b[1m0s\u001b[0m 15ms/step - accuracy: 0.0000e+00 - f1_score: 0.6591 - loss: 0.6623 - val_accuracy: 0.0000e+00 - val_f1_score: 0.6563 - val_loss: 0.6632\n",
      "Epoch 207/300\n",
      "\u001b[1m5/5\u001b[0m \u001b[32m━━━━━━━━━━━━━━━━━━━━\u001b[0m\u001b[37m\u001b[0m \u001b[1m0s\u001b[0m 16ms/step - accuracy: 0.0000e+00 - f1_score: 0.6613 - loss: 0.6610 - val_accuracy: 0.0000e+00 - val_f1_score: 0.6563 - val_loss: 0.6631\n",
      "Epoch 208/300\n",
      "\u001b[1m5/5\u001b[0m \u001b[32m━━━━━━━━━━━━━━━━━━━━\u001b[0m\u001b[37m\u001b[0m \u001b[1m0s\u001b[0m 16ms/step - accuracy: 0.0000e+00 - f1_score: 0.6563 - loss: 0.6615 - val_accuracy: 0.0000e+00 - val_f1_score: 0.6563 - val_loss: 0.6631\n",
      "Epoch 209/300\n",
      "\u001b[1m5/5\u001b[0m \u001b[32m━━━━━━━━━━━━━━━━━━━━\u001b[0m\u001b[37m\u001b[0m \u001b[1m0s\u001b[0m 15ms/step - accuracy: 0.0000e+00 - f1_score: 0.6585 - loss: 0.6613 - val_accuracy: 0.0000e+00 - val_f1_score: 0.6563 - val_loss: 0.6631\n",
      "Epoch 210/300\n",
      "\u001b[1m5/5\u001b[0m \u001b[32m━━━━━━━━━━━━━━━━━━━━\u001b[0m\u001b[37m\u001b[0m \u001b[1m0s\u001b[0m 16ms/step - accuracy: 0.0000e+00 - f1_score: 0.6596 - loss: 0.6624 - val_accuracy: 0.0000e+00 - val_f1_score: 0.6563 - val_loss: 0.6631\n",
      "Epoch 211/300\n",
      "\u001b[1m5/5\u001b[0m \u001b[32m━━━━━━━━━━━━━━━━━━━━\u001b[0m\u001b[37m\u001b[0m \u001b[1m0s\u001b[0m 17ms/step - accuracy: 0.0000e+00 - f1_score: 0.6598 - loss: 0.6611 - val_accuracy: 0.0000e+00 - val_f1_score: 0.6563 - val_loss: 0.6632\n",
      "Epoch 212/300\n",
      "\u001b[1m5/5\u001b[0m \u001b[32m━━━━━━━━━━━━━━━━━━━━\u001b[0m\u001b[37m\u001b[0m \u001b[1m0s\u001b[0m 17ms/step - accuracy: 0.0000e+00 - f1_score: 0.6588 - loss: 0.6621 - val_accuracy: 0.0000e+00 - val_f1_score: 0.6563 - val_loss: 0.6632\n",
      "Epoch 213/300\n",
      "\u001b[1m5/5\u001b[0m \u001b[32m━━━━━━━━━━━━━━━━━━━━\u001b[0m\u001b[37m\u001b[0m \u001b[1m0s\u001b[0m 18ms/step - accuracy: 0.0000e+00 - f1_score: 0.6555 - loss: 0.6604 - val_accuracy: 0.0000e+00 - val_f1_score: 0.6563 - val_loss: 0.6632\n",
      "Epoch 214/300\n",
      "\u001b[1m5/5\u001b[0m \u001b[32m━━━━━━━━━━━━━━━━━━━━\u001b[0m\u001b[37m\u001b[0m \u001b[1m0s\u001b[0m 19ms/step - accuracy: 0.0000e+00 - f1_score: 0.6602 - loss: 0.6620 - val_accuracy: 0.0000e+00 - val_f1_score: 0.6563 - val_loss: 0.6631\n",
      "Epoch 215/300\n",
      "\u001b[1m5/5\u001b[0m \u001b[32m━━━━━━━━━━━━━━━━━━━━\u001b[0m\u001b[37m\u001b[0m \u001b[1m0s\u001b[0m 16ms/step - accuracy: 0.0000e+00 - f1_score: 0.6601 - loss: 0.6632 - val_accuracy: 0.0000e+00 - val_f1_score: 0.6563 - val_loss: 0.6631\n",
      "Epoch 216/300\n",
      "\u001b[1m5/5\u001b[0m \u001b[32m━━━━━━━━━━━━━━━━━━━━\u001b[0m\u001b[37m\u001b[0m \u001b[1m0s\u001b[0m 16ms/step - accuracy: 0.0000e+00 - f1_score: 0.6604 - loss: 0.6622 - val_accuracy: 0.0000e+00 - val_f1_score: 0.6563 - val_loss: 0.6632\n",
      "Epoch 217/300\n",
      "\u001b[1m5/5\u001b[0m \u001b[32m━━━━━━━━━━━━━━━━━━━━\u001b[0m\u001b[37m\u001b[0m \u001b[1m0s\u001b[0m 16ms/step - accuracy: 0.0000e+00 - f1_score: 0.6606 - loss: 0.6621 - val_accuracy: 0.0000e+00 - val_f1_score: 0.6563 - val_loss: 0.6632\n",
      "Epoch 218/300\n",
      "\u001b[1m5/5\u001b[0m \u001b[32m━━━━━━━━━━━━━━━━━━━━\u001b[0m\u001b[37m\u001b[0m \u001b[1m0s\u001b[0m 16ms/step - accuracy: 0.0000e+00 - f1_score: 0.6585 - loss: 0.6619 - val_accuracy: 0.0000e+00 - val_f1_score: 0.6563 - val_loss: 0.6631\n",
      "Epoch 219/300\n",
      "\u001b[1m5/5\u001b[0m \u001b[32m━━━━━━━━━━━━━━━━━━━━\u001b[0m\u001b[37m\u001b[0m \u001b[1m0s\u001b[0m 16ms/step - accuracy: 0.0000e+00 - f1_score: 0.6609 - loss: 0.6612 - val_accuracy: 0.0000e+00 - val_f1_score: 0.6563 - val_loss: 0.6631\n",
      "Epoch 220/300\n",
      "\u001b[1m5/5\u001b[0m \u001b[32m━━━━━━━━━━━━━━━━━━━━\u001b[0m\u001b[37m\u001b[0m \u001b[1m0s\u001b[0m 16ms/step - accuracy: 0.0000e+00 - f1_score: 0.6588 - loss: 0.6624 - val_accuracy: 0.0000e+00 - val_f1_score: 0.6563 - val_loss: 0.6632\n",
      "Epoch 221/300\n",
      "\u001b[1m5/5\u001b[0m \u001b[32m━━━━━━━━━━━━━━━━━━━━\u001b[0m\u001b[37m\u001b[0m \u001b[1m0s\u001b[0m 16ms/step - accuracy: 0.0000e+00 - f1_score: 0.6641 - loss: 0.6627 - val_accuracy: 0.0000e+00 - val_f1_score: 0.6563 - val_loss: 0.6631\n",
      "Epoch 222/300\n",
      "\u001b[1m5/5\u001b[0m \u001b[32m━━━━━━━━━━━━━━━━━━━━\u001b[0m\u001b[37m\u001b[0m \u001b[1m0s\u001b[0m 17ms/step - accuracy: 0.0000e+00 - f1_score: 0.6591 - loss: 0.6614 - val_accuracy: 0.0000e+00 - val_f1_score: 0.6563 - val_loss: 0.6632\n",
      "Epoch 223/300\n",
      "\u001b[1m5/5\u001b[0m \u001b[32m━━━━━━━━━━━━━━━━━━━━\u001b[0m\u001b[37m\u001b[0m \u001b[1m0s\u001b[0m 16ms/step - accuracy: 0.0000e+00 - f1_score: 0.6606 - loss: 0.6636 - val_accuracy: 0.0000e+00 - val_f1_score: 0.6563 - val_loss: 0.6631\n",
      "Epoch 224/300\n",
      "\u001b[1m5/5\u001b[0m \u001b[32m━━━━━━━━━━━━━━━━━━━━\u001b[0m\u001b[37m\u001b[0m \u001b[1m0s\u001b[0m 16ms/step - accuracy: 0.0000e+00 - f1_score: 0.6594 - loss: 0.6613 - val_accuracy: 0.0000e+00 - val_f1_score: 0.6563 - val_loss: 0.6631\n",
      "Epoch 225/300\n",
      "\u001b[1m5/5\u001b[0m \u001b[32m━━━━━━━━━━━━━━━━━━━━\u001b[0m\u001b[37m\u001b[0m \u001b[1m0s\u001b[0m 16ms/step - accuracy: 0.0000e+00 - f1_score: 0.6647 - loss: 0.6640 - val_accuracy: 0.0000e+00 - val_f1_score: 0.6563 - val_loss: 0.6631\n",
      "Epoch 226/300\n",
      "\u001b[1m5/5\u001b[0m \u001b[32m━━━━━━━━━━━━━━━━━━━━\u001b[0m\u001b[37m\u001b[0m \u001b[1m0s\u001b[0m 18ms/step - accuracy: 0.0000e+00 - f1_score: 0.6587 - loss: 0.6612 - val_accuracy: 0.0000e+00 - val_f1_score: 0.6563 - val_loss: 0.6632\n",
      "Epoch 227/300\n",
      "\u001b[1m5/5\u001b[0m \u001b[32m━━━━━━━━━━━━━━━━━━━━\u001b[0m\u001b[37m\u001b[0m \u001b[1m0s\u001b[0m 17ms/step - accuracy: 0.0000e+00 - f1_score: 0.6559 - loss: 0.6608 - val_accuracy: 0.0000e+00 - val_f1_score: 0.6563 - val_loss: 0.6631\n",
      "Epoch 228/300\n",
      "\u001b[1m5/5\u001b[0m \u001b[32m━━━━━━━━━━━━━━━━━━━━\u001b[0m\u001b[37m\u001b[0m \u001b[1m0s\u001b[0m 17ms/step - accuracy: 0.0000e+00 - f1_score: 0.6591 - loss: 0.6620 - val_accuracy: 0.0000e+00 - val_f1_score: 0.6563 - val_loss: 0.6631\n",
      "Epoch 229/300\n",
      "\u001b[1m5/5\u001b[0m \u001b[32m━━━━━━━━━━━━━━━━━━━━\u001b[0m\u001b[37m\u001b[0m \u001b[1m0s\u001b[0m 17ms/step - accuracy: 0.0000e+00 - f1_score: 0.6632 - loss: 0.6630 - val_accuracy: 0.0000e+00 - val_f1_score: 0.6563 - val_loss: 0.6631\n",
      "Epoch 230/300\n",
      "\u001b[1m5/5\u001b[0m \u001b[32m━━━━━━━━━━━━━━━━━━━━\u001b[0m\u001b[37m\u001b[0m \u001b[1m0s\u001b[0m 20ms/step - accuracy: 0.0000e+00 - f1_score: 0.6642 - loss: 0.6624 - val_accuracy: 0.0000e+00 - val_f1_score: 0.6563 - val_loss: 0.6633\n",
      "Epoch 231/300\n",
      "\u001b[1m5/5\u001b[0m \u001b[32m━━━━━━━━━━━━━━━━━━━━\u001b[0m\u001b[37m\u001b[0m \u001b[1m0s\u001b[0m 15ms/step - accuracy: 0.0000e+00 - f1_score: 0.6568 - loss: 0.6619 - val_accuracy: 0.0000e+00 - val_f1_score: 0.6563 - val_loss: 0.6632\n",
      "Epoch 232/300\n",
      "\u001b[1m5/5\u001b[0m \u001b[32m━━━━━━━━━━━━━━━━━━━━\u001b[0m\u001b[37m\u001b[0m \u001b[1m0s\u001b[0m 16ms/step - accuracy: 0.0000e+00 - f1_score: 0.6607 - loss: 0.6620 - val_accuracy: 0.0000e+00 - val_f1_score: 0.6563 - val_loss: 0.6631\n",
      "Epoch 233/300\n",
      "\u001b[1m5/5\u001b[0m \u001b[32m━━━━━━━━━━━━━━━━━━━━\u001b[0m\u001b[37m\u001b[0m \u001b[1m0s\u001b[0m 18ms/step - accuracy: 0.0000e+00 - f1_score: 0.6620 - loss: 0.6626 - val_accuracy: 0.0000e+00 - val_f1_score: 0.6563 - val_loss: 0.6631\n",
      "Epoch 234/300\n",
      "\u001b[1m5/5\u001b[0m \u001b[32m━━━━━━━━━━━━━━━━━━━━\u001b[0m\u001b[37m\u001b[0m \u001b[1m0s\u001b[0m 16ms/step - accuracy: 0.0000e+00 - f1_score: 0.6606 - loss: 0.6610 - val_accuracy: 0.0000e+00 - val_f1_score: 0.6563 - val_loss: 0.6634\n",
      "Epoch 235/300\n",
      "\u001b[1m5/5\u001b[0m \u001b[32m━━━━━━━━━━━━━━━━━━━━\u001b[0m\u001b[37m\u001b[0m \u001b[1m0s\u001b[0m 15ms/step - accuracy: 0.0000e+00 - f1_score: 0.6608 - loss: 0.6627 - val_accuracy: 0.0000e+00 - val_f1_score: 0.6563 - val_loss: 0.6632\n",
      "Epoch 236/300\n",
      "\u001b[1m5/5\u001b[0m \u001b[32m━━━━━━━━━━━━━━━━━━━━\u001b[0m\u001b[37m\u001b[0m \u001b[1m0s\u001b[0m 15ms/step - accuracy: 0.0000e+00 - f1_score: 0.6580 - loss: 0.6616 - val_accuracy: 0.0000e+00 - val_f1_score: 0.6563 - val_loss: 0.6631\n",
      "Epoch 237/300\n",
      "\u001b[1m5/5\u001b[0m \u001b[32m━━━━━━━━━━━━━━━━━━━━\u001b[0m\u001b[37m\u001b[0m \u001b[1m0s\u001b[0m 15ms/step - accuracy: 0.0000e+00 - f1_score: 0.6600 - loss: 0.6627 - val_accuracy: 0.0000e+00 - val_f1_score: 0.6563 - val_loss: 0.6631\n",
      "Epoch 238/300\n",
      "\u001b[1m5/5\u001b[0m \u001b[32m━━━━━━━━━━━━━━━━━━━━\u001b[0m\u001b[37m\u001b[0m \u001b[1m0s\u001b[0m 17ms/step - accuracy: 0.0000e+00 - f1_score: 0.6617 - loss: 0.6616 - val_accuracy: 0.0000e+00 - val_f1_score: 0.6563 - val_loss: 0.6631\n",
      "Epoch 239/300\n",
      "\u001b[1m5/5\u001b[0m \u001b[32m━━━━━━━━━━━━━━━━━━━━\u001b[0m\u001b[37m\u001b[0m \u001b[1m0s\u001b[0m 15ms/step - accuracy: 0.0000e+00 - f1_score: 0.6584 - loss: 0.6636 - val_accuracy: 0.0000e+00 - val_f1_score: 0.6563 - val_loss: 0.6632\n",
      "Epoch 240/300\n",
      "\u001b[1m5/5\u001b[0m \u001b[32m━━━━━━━━━━━━━━━━━━━━\u001b[0m\u001b[37m\u001b[0m \u001b[1m0s\u001b[0m 16ms/step - accuracy: 0.0000e+00 - f1_score: 0.6603 - loss: 0.6627 - val_accuracy: 0.0000e+00 - val_f1_score: 0.6563 - val_loss: 0.6631\n",
      "Epoch 241/300\n",
      "\u001b[1m5/5\u001b[0m \u001b[32m━━━━━━━━━━━━━━━━━━━━\u001b[0m\u001b[37m\u001b[0m \u001b[1m0s\u001b[0m 17ms/step - accuracy: 0.0000e+00 - f1_score: 0.6604 - loss: 0.6622 - val_accuracy: 0.0000e+00 - val_f1_score: 0.6563 - val_loss: 0.6631\n",
      "Epoch 242/300\n",
      "\u001b[1m5/5\u001b[0m \u001b[32m━━━━━━━━━━━━━━━━━━━━\u001b[0m\u001b[37m\u001b[0m \u001b[1m0s\u001b[0m 18ms/step - accuracy: 0.0000e+00 - f1_score: 0.6617 - loss: 0.6627 - val_accuracy: 0.0000e+00 - val_f1_score: 0.6563 - val_loss: 0.6631\n",
      "Epoch 243/300\n",
      "\u001b[1m5/5\u001b[0m \u001b[32m━━━━━━━━━━━━━━━━━━━━\u001b[0m\u001b[37m\u001b[0m \u001b[1m0s\u001b[0m 17ms/step - accuracy: 0.0000e+00 - f1_score: 0.6563 - loss: 0.6627 - val_accuracy: 0.0000e+00 - val_f1_score: 0.6563 - val_loss: 0.6633\n",
      "Epoch 244/300\n",
      "\u001b[1m5/5\u001b[0m \u001b[32m━━━━━━━━━━━━━━━━━━━━\u001b[0m\u001b[37m\u001b[0m \u001b[1m0s\u001b[0m 17ms/step - accuracy: 0.0000e+00 - f1_score: 0.6601 - loss: 0.6622 - val_accuracy: 0.0000e+00 - val_f1_score: 0.6563 - val_loss: 0.6631\n",
      "Epoch 245/300\n",
      "\u001b[1m5/5\u001b[0m \u001b[32m━━━━━━━━━━━━━━━━━━━━\u001b[0m\u001b[37m\u001b[0m \u001b[1m0s\u001b[0m 17ms/step - accuracy: 0.0000e+00 - f1_score: 0.6613 - loss: 0.6629 - val_accuracy: 0.0000e+00 - val_f1_score: 0.6563 - val_loss: 0.6631\n",
      "Epoch 246/300\n",
      "\u001b[1m5/5\u001b[0m \u001b[32m━━━━━━━━━━━━━━━━━━━━\u001b[0m\u001b[37m\u001b[0m \u001b[1m0s\u001b[0m 17ms/step - accuracy: 0.0000e+00 - f1_score: 0.6606 - loss: 0.6625 - val_accuracy: 0.0000e+00 - val_f1_score: 0.6563 - val_loss: 0.6632\n",
      "Epoch 247/300\n",
      "\u001b[1m5/5\u001b[0m \u001b[32m━━━━━━━━━━━━━━━━━━━━\u001b[0m\u001b[37m\u001b[0m \u001b[1m0s\u001b[0m 21ms/step - accuracy: 0.0000e+00 - f1_score: 0.6593 - loss: 0.6638 - val_accuracy: 0.0000e+00 - val_f1_score: 0.6563 - val_loss: 0.6631\n",
      "Epoch 248/300\n",
      "\u001b[1m5/5\u001b[0m \u001b[32m━━━━━━━━━━━━━━━━━━━━\u001b[0m\u001b[37m\u001b[0m \u001b[1m0s\u001b[0m 17ms/step - accuracy: 0.0000e+00 - f1_score: 0.6595 - loss: 0.6634 - val_accuracy: 0.0000e+00 - val_f1_score: 0.6563 - val_loss: 0.6631\n",
      "Epoch 249/300\n",
      "\u001b[1m5/5\u001b[0m \u001b[32m━━━━━━━━━━━━━━━━━━━━\u001b[0m\u001b[37m\u001b[0m \u001b[1m0s\u001b[0m 16ms/step - accuracy: 0.0000e+00 - f1_score: 0.6572 - loss: 0.6610 - val_accuracy: 0.0000e+00 - val_f1_score: 0.6563 - val_loss: 0.6632\n",
      "Epoch 250/300\n",
      "\u001b[1m5/5\u001b[0m \u001b[32m━━━━━━━━━━━━━━━━━━━━\u001b[0m\u001b[37m\u001b[0m \u001b[1m0s\u001b[0m 16ms/step - accuracy: 0.0000e+00 - f1_score: 0.6597 - loss: 0.6616 - val_accuracy: 0.0000e+00 - val_f1_score: 0.6563 - val_loss: 0.6631\n",
      "Epoch 251/300\n",
      "\u001b[1m5/5\u001b[0m \u001b[32m━━━━━━━━━━━━━━━━━━━━\u001b[0m\u001b[37m\u001b[0m \u001b[1m0s\u001b[0m 16ms/step - accuracy: 0.0000e+00 - f1_score: 0.6604 - loss: 0.6609 - val_accuracy: 0.0000e+00 - val_f1_score: 0.6563 - val_loss: 0.6631\n",
      "Epoch 252/300\n",
      "\u001b[1m5/5\u001b[0m \u001b[32m━━━━━━━━━━━━━━━━━━━━\u001b[0m\u001b[37m\u001b[0m \u001b[1m0s\u001b[0m 17ms/step - accuracy: 0.0000e+00 - f1_score: 0.6591 - loss: 0.6606 - val_accuracy: 0.0000e+00 - val_f1_score: 0.6563 - val_loss: 0.6632\n",
      "Epoch 253/300\n",
      "\u001b[1m5/5\u001b[0m \u001b[32m━━━━━━━━━━━━━━━━━━━━\u001b[0m\u001b[37m\u001b[0m \u001b[1m0s\u001b[0m 16ms/step - accuracy: 0.0000e+00 - f1_score: 0.6593 - loss: 0.6613 - val_accuracy: 0.0000e+00 - val_f1_score: 0.6563 - val_loss: 0.6631\n",
      "Epoch 254/300\n",
      "\u001b[1m5/5\u001b[0m \u001b[32m━━━━━━━━━━━━━━━━━━━━\u001b[0m\u001b[37m\u001b[0m \u001b[1m0s\u001b[0m 17ms/step - accuracy: 0.0000e+00 - f1_score: 0.6608 - loss: 0.6614 - val_accuracy: 0.0000e+00 - val_f1_score: 0.6563 - val_loss: 0.6631\n",
      "Epoch 255/300\n",
      "\u001b[1m5/5\u001b[0m \u001b[32m━━━━━━━━━━━━━━━━━━━━\u001b[0m\u001b[37m\u001b[0m \u001b[1m0s\u001b[0m 16ms/step - accuracy: 0.0000e+00 - f1_score: 0.6598 - loss: 0.6613 - val_accuracy: 0.0000e+00 - val_f1_score: 0.6563 - val_loss: 0.6631\n",
      "Epoch 256/300\n",
      "\u001b[1m5/5\u001b[0m \u001b[32m━━━━━━━━━━━━━━━━━━━━\u001b[0m\u001b[37m\u001b[0m \u001b[1m0s\u001b[0m 16ms/step - accuracy: 0.0000e+00 - f1_score: 0.6611 - loss: 0.6613 - val_accuracy: 0.0000e+00 - val_f1_score: 0.6563 - val_loss: 0.6631\n",
      "Epoch 257/300\n",
      "\u001b[1m5/5\u001b[0m \u001b[32m━━━━━━━━━━━━━━━━━━━━\u001b[0m\u001b[37m\u001b[0m \u001b[1m0s\u001b[0m 16ms/step - accuracy: 0.0000e+00 - f1_score: 0.6575 - loss: 0.6614 - val_accuracy: 0.0000e+00 - val_f1_score: 0.6563 - val_loss: 0.6631\n",
      "Epoch 258/300\n",
      "\u001b[1m5/5\u001b[0m \u001b[32m━━━━━━━━━━━━━━━━━━━━\u001b[0m\u001b[37m\u001b[0m \u001b[1m0s\u001b[0m 17ms/step - accuracy: 0.0000e+00 - f1_score: 0.6559 - loss: 0.6608 - val_accuracy: 0.0000e+00 - val_f1_score: 0.6563 - val_loss: 0.6631\n",
      "Epoch 259/300\n",
      "\u001b[1m5/5\u001b[0m \u001b[32m━━━━━━━━━━━━━━━━━━━━\u001b[0m\u001b[37m\u001b[0m \u001b[1m0s\u001b[0m 16ms/step - accuracy: 0.0000e+00 - f1_score: 0.6545 - loss: 0.6607 - val_accuracy: 0.0000e+00 - val_f1_score: 0.6563 - val_loss: 0.6631\n",
      "Epoch 260/300\n",
      "\u001b[1m5/5\u001b[0m \u001b[32m━━━━━━━━━━━━━━━━━━━━\u001b[0m\u001b[37m\u001b[0m \u001b[1m0s\u001b[0m 16ms/step - accuracy: 0.0000e+00 - f1_score: 0.6615 - loss: 0.6628 - val_accuracy: 0.0000e+00 - val_f1_score: 0.6563 - val_loss: 0.6631\n",
      "Epoch 261/300\n",
      "\u001b[1m5/5\u001b[0m \u001b[32m━━━━━━━━━━━━━━━━━━━━\u001b[0m\u001b[37m\u001b[0m \u001b[1m0s\u001b[0m 16ms/step - accuracy: 0.0000e+00 - f1_score: 0.6559 - loss: 0.6613 - val_accuracy: 0.0000e+00 - val_f1_score: 0.6563 - val_loss: 0.6633\n",
      "Epoch 262/300\n",
      "\u001b[1m5/5\u001b[0m \u001b[32m━━━━━━━━━━━━━━━━━━━━\u001b[0m\u001b[37m\u001b[0m \u001b[1m0s\u001b[0m 16ms/step - accuracy: 0.0000e+00 - f1_score: 0.6622 - loss: 0.6616 - val_accuracy: 0.0000e+00 - val_f1_score: 0.6563 - val_loss: 0.6631\n",
      "Epoch 263/300\n",
      "\u001b[1m5/5\u001b[0m \u001b[32m━━━━━━━━━━━━━━━━━━━━\u001b[0m\u001b[37m\u001b[0m \u001b[1m0s\u001b[0m 16ms/step - accuracy: 0.0000e+00 - f1_score: 0.6596 - loss: 0.6613 - val_accuracy: 0.0000e+00 - val_f1_score: 0.6563 - val_loss: 0.6631\n",
      "Epoch 264/300\n",
      "\u001b[1m5/5\u001b[0m \u001b[32m━━━━━━━━━━━━━━━━━━━━\u001b[0m\u001b[37m\u001b[0m \u001b[1m0s\u001b[0m 16ms/step - accuracy: 0.0000e+00 - f1_score: 0.6558 - loss: 0.6616 - val_accuracy: 0.0000e+00 - val_f1_score: 0.6563 - val_loss: 0.6631\n",
      "Epoch 265/300\n",
      "\u001b[1m5/5\u001b[0m \u001b[32m━━━━━━━━━━━━━━━━━━━━\u001b[0m\u001b[37m\u001b[0m \u001b[1m0s\u001b[0m 18ms/step - accuracy: 0.0000e+00 - f1_score: 0.6585 - loss: 0.6631 - val_accuracy: 0.0000e+00 - val_f1_score: 0.6563 - val_loss: 0.6630\n",
      "Epoch 266/300\n",
      "\u001b[1m5/5\u001b[0m \u001b[32m━━━━━━━━━━━━━━━━━━━━\u001b[0m\u001b[37m\u001b[0m \u001b[1m0s\u001b[0m 16ms/step - accuracy: 0.0000e+00 - f1_score: 0.6632 - loss: 0.6627 - val_accuracy: 0.0000e+00 - val_f1_score: 0.6563 - val_loss: 0.6631\n",
      "Epoch 267/300\n",
      "\u001b[1m5/5\u001b[0m \u001b[32m━━━━━━━━━━━━━━━━━━━━\u001b[0m\u001b[37m\u001b[0m \u001b[1m0s\u001b[0m 16ms/step - accuracy: 0.0000e+00 - f1_score: 0.6649 - loss: 0.6621 - val_accuracy: 0.0000e+00 - val_f1_score: 0.6563 - val_loss: 0.6633\n",
      "Epoch 268/300\n",
      "\u001b[1m5/5\u001b[0m \u001b[32m━━━━━━━━━━━━━━━━━━━━\u001b[0m\u001b[37m\u001b[0m \u001b[1m0s\u001b[0m 17ms/step - accuracy: 0.0000e+00 - f1_score: 0.6585 - loss: 0.6613 - val_accuracy: 0.0000e+00 - val_f1_score: 0.6563 - val_loss: 0.6633\n",
      "Epoch 269/300\n",
      "\u001b[1m5/5\u001b[0m \u001b[32m━━━━━━━━━━━━━━━━━━━━\u001b[0m\u001b[37m\u001b[0m \u001b[1m0s\u001b[0m 22ms/step - accuracy: 0.0000e+00 - f1_score: 0.6616 - loss: 0.6621 - val_accuracy: 0.0000e+00 - val_f1_score: 0.6563 - val_loss: 0.6631\n",
      "Epoch 270/300\n",
      "\u001b[1m5/5\u001b[0m \u001b[32m━━━━━━━━━━━━━━━━━━━━\u001b[0m\u001b[37m\u001b[0m \u001b[1m0s\u001b[0m 18ms/step - accuracy: 0.0000e+00 - f1_score: 0.6585 - loss: 0.6619 - val_accuracy: 0.0000e+00 - val_f1_score: 0.6563 - val_loss: 0.6631\n",
      "Epoch 271/300\n",
      "\u001b[1m5/5\u001b[0m \u001b[32m━━━━━━━━━━━━━━━━━━━━\u001b[0m\u001b[37m\u001b[0m \u001b[1m0s\u001b[0m 18ms/step - accuracy: 0.0000e+00 - f1_score: 0.6565 - loss: 0.6619 - val_accuracy: 0.0000e+00 - val_f1_score: 0.6563 - val_loss: 0.6632\n",
      "Epoch 272/300\n",
      "\u001b[1m5/5\u001b[0m \u001b[32m━━━━━━━━━━━━━━━━━━━━\u001b[0m\u001b[37m\u001b[0m \u001b[1m0s\u001b[0m 15ms/step - accuracy: 0.0000e+00 - f1_score: 0.6620 - loss: 0.6626 - val_accuracy: 0.0000e+00 - val_f1_score: 0.6563 - val_loss: 0.6631\n",
      "Epoch 273/300\n",
      "\u001b[1m5/5\u001b[0m \u001b[32m━━━━━━━━━━━━━━━━━━━━\u001b[0m\u001b[37m\u001b[0m \u001b[1m0s\u001b[0m 16ms/step - accuracy: 0.0000e+00 - f1_score: 0.6613 - loss: 0.6633 - val_accuracy: 0.0000e+00 - val_f1_score: 0.6563 - val_loss: 0.6631\n",
      "Epoch 274/300\n",
      "\u001b[1m5/5\u001b[0m \u001b[32m━━━━━━━━━━━━━━━━━━━━\u001b[0m\u001b[37m\u001b[0m \u001b[1m0s\u001b[0m 16ms/step - accuracy: 0.0000e+00 - f1_score: 0.6559 - loss: 0.6605 - val_accuracy: 0.0000e+00 - val_f1_score: 0.6563 - val_loss: 0.6632\n",
      "Epoch 275/300\n",
      "\u001b[1m5/5\u001b[0m \u001b[32m━━━━━━━━━━━━━━━━━━━━\u001b[0m\u001b[37m\u001b[0m \u001b[1m0s\u001b[0m 16ms/step - accuracy: 0.0000e+00 - f1_score: 0.6563 - loss: 0.6614 - val_accuracy: 0.0000e+00 - val_f1_score: 0.6563 - val_loss: 0.6631\n",
      "Epoch 276/300\n",
      "\u001b[1m5/5\u001b[0m \u001b[32m━━━━━━━━━━━━━━━━━━━━\u001b[0m\u001b[37m\u001b[0m \u001b[1m0s\u001b[0m 15ms/step - accuracy: 0.0000e+00 - f1_score: 0.6583 - loss: 0.6635 - val_accuracy: 0.0000e+00 - val_f1_score: 0.6563 - val_loss: 0.6631\n",
      "Epoch 277/300\n",
      "\u001b[1m5/5\u001b[0m \u001b[32m━━━━━━━━━━━━━━━━━━━━\u001b[0m\u001b[37m\u001b[0m \u001b[1m0s\u001b[0m 16ms/step - accuracy: 0.0000e+00 - f1_score: 0.6618 - loss: 0.6617 - val_accuracy: 0.0000e+00 - val_f1_score: 0.6563 - val_loss: 0.6631\n",
      "Epoch 278/300\n",
      "\u001b[1m5/5\u001b[0m \u001b[32m━━━━━━━━━━━━━━━━━━━━\u001b[0m\u001b[37m\u001b[0m \u001b[1m0s\u001b[0m 19ms/step - accuracy: 0.0000e+00 - f1_score: 0.6603 - loss: 0.6624 - val_accuracy: 0.0000e+00 - val_f1_score: 0.6563 - val_loss: 0.6632\n",
      "Epoch 279/300\n",
      "\u001b[1m5/5\u001b[0m \u001b[32m━━━━━━━━━━━━━━━━━━━━\u001b[0m\u001b[37m\u001b[0m \u001b[1m0s\u001b[0m 23ms/step - accuracy: 0.0000e+00 - f1_score: 0.6591 - loss: 0.6621 - val_accuracy: 0.0000e+00 - val_f1_score: 0.6563 - val_loss: 0.6631\n",
      "Epoch 280/300\n",
      "\u001b[1m5/5\u001b[0m \u001b[32m━━━━━━━━━━━━━━━━━━━━\u001b[0m\u001b[37m\u001b[0m \u001b[1m0s\u001b[0m 20ms/step - accuracy: 0.0000e+00 - f1_score: 0.6626 - loss: 0.6623 - val_accuracy: 0.0000e+00 - val_f1_score: 0.6563 - val_loss: 0.6631\n",
      "Epoch 281/300\n",
      "\u001b[1m5/5\u001b[0m \u001b[32m━━━━━━━━━━━━━━━━━━━━\u001b[0m\u001b[37m\u001b[0m \u001b[1m0s\u001b[0m 18ms/step - accuracy: 0.0000e+00 - f1_score: 0.6576 - loss: 0.6624 - val_accuracy: 0.0000e+00 - val_f1_score: 0.6563 - val_loss: 0.6632\n",
      "Epoch 282/300\n",
      "\u001b[1m5/5\u001b[0m \u001b[32m━━━━━━━━━━━━━━━━━━━━\u001b[0m\u001b[37m\u001b[0m \u001b[1m0s\u001b[0m 16ms/step - accuracy: 0.0000e+00 - f1_score: 0.6618 - loss: 0.6619 - val_accuracy: 0.0000e+00 - val_f1_score: 0.6563 - val_loss: 0.6631\n",
      "Epoch 283/300\n",
      "\u001b[1m5/5\u001b[0m \u001b[32m━━━━━━━━━━━━━━━━━━━━\u001b[0m\u001b[37m\u001b[0m \u001b[1m0s\u001b[0m 17ms/step - accuracy: 0.0000e+00 - f1_score: 0.6616 - loss: 0.6637 - val_accuracy: 0.0000e+00 - val_f1_score: 0.6563 - val_loss: 0.6631\n",
      "Epoch 284/300\n",
      "\u001b[1m5/5\u001b[0m \u001b[32m━━━━━━━━━━━━━━━━━━━━\u001b[0m\u001b[37m\u001b[0m \u001b[1m0s\u001b[0m 15ms/step - accuracy: 0.0000e+00 - f1_score: 0.6617 - loss: 0.6614 - val_accuracy: 0.0000e+00 - val_f1_score: 0.6563 - val_loss: 0.6631\n",
      "Epoch 285/300\n",
      "\u001b[1m5/5\u001b[0m \u001b[32m━━━━━━━━━━━━━━━━━━━━\u001b[0m\u001b[37m\u001b[0m \u001b[1m0s\u001b[0m 15ms/step - accuracy: 0.0000e+00 - f1_score: 0.6586 - loss: 0.6611 - val_accuracy: 0.0000e+00 - val_f1_score: 0.6563 - val_loss: 0.6631\n",
      "Epoch 286/300\n",
      "\u001b[1m5/5\u001b[0m \u001b[32m━━━━━━━━━━━━━━━━━━━━\u001b[0m\u001b[37m\u001b[0m \u001b[1m0s\u001b[0m 17ms/step - accuracy: 0.0000e+00 - f1_score: 0.6605 - loss: 0.6610 - val_accuracy: 0.0000e+00 - val_f1_score: 0.6563 - val_loss: 0.6631\n",
      "Epoch 287/300\n",
      "\u001b[1m5/5\u001b[0m \u001b[32m━━━━━━━━━━━━━━━━━━━━\u001b[0m\u001b[37m\u001b[0m \u001b[1m0s\u001b[0m 17ms/step - accuracy: 0.0000e+00 - f1_score: 0.6544 - loss: 0.6589 - val_accuracy: 0.0000e+00 - val_f1_score: 0.6563 - val_loss: 0.6631\n",
      "Epoch 288/300\n",
      "\u001b[1m5/5\u001b[0m \u001b[32m━━━━━━━━━━━━━━━━━━━━\u001b[0m\u001b[37m\u001b[0m \u001b[1m0s\u001b[0m 16ms/step - accuracy: 0.0000e+00 - f1_score: 0.6582 - loss: 0.6615 - val_accuracy: 0.0000e+00 - val_f1_score: 0.6563 - val_loss: 0.6631\n",
      "Epoch 289/300\n",
      "\u001b[1m5/5\u001b[0m \u001b[32m━━━━━━━━━━━━━━━━━━━━\u001b[0m\u001b[37m\u001b[0m \u001b[1m0s\u001b[0m 16ms/step - accuracy: 0.0000e+00 - f1_score: 0.6592 - loss: 0.6623 - val_accuracy: 0.0000e+00 - val_f1_score: 0.6563 - val_loss: 0.6631\n",
      "Epoch 290/300\n",
      "\u001b[1m5/5\u001b[0m \u001b[32m━━━━━━━━━━━━━━━━━━━━\u001b[0m\u001b[37m\u001b[0m \u001b[1m0s\u001b[0m 16ms/step - accuracy: 0.0000e+00 - f1_score: 0.6608 - loss: 0.6621 - val_accuracy: 0.0000e+00 - val_f1_score: 0.6563 - val_loss: 0.6632\n",
      "Epoch 291/300\n",
      "\u001b[1m5/5\u001b[0m \u001b[32m━━━━━━━━━━━━━━━━━━━━\u001b[0m\u001b[37m\u001b[0m \u001b[1m0s\u001b[0m 16ms/step - accuracy: 0.0000e+00 - f1_score: 0.6591 - loss: 0.6609 - val_accuracy: 0.0000e+00 - val_f1_score: 0.6563 - val_loss: 0.6631\n",
      "Epoch 292/300\n",
      "\u001b[1m5/5\u001b[0m \u001b[32m━━━━━━━━━━━━━━━━━━━━\u001b[0m\u001b[37m\u001b[0m \u001b[1m0s\u001b[0m 16ms/step - accuracy: 0.0000e+00 - f1_score: 0.6567 - loss: 0.6607 - val_accuracy: 0.0000e+00 - val_f1_score: 0.6563 - val_loss: 0.6631\n",
      "Epoch 293/300\n",
      "\u001b[1m5/5\u001b[0m \u001b[32m━━━━━━━━━━━━━━━━━━━━\u001b[0m\u001b[37m\u001b[0m \u001b[1m0s\u001b[0m 21ms/step - accuracy: 0.0000e+00 - f1_score: 0.6564 - loss: 0.6619 - val_accuracy: 0.0000e+00 - val_f1_score: 0.6563 - val_loss: 0.6631\n",
      "Epoch 294/300\n",
      "\u001b[1m5/5\u001b[0m \u001b[32m━━━━━━━━━━━━━━━━━━━━\u001b[0m\u001b[37m\u001b[0m \u001b[1m0s\u001b[0m 17ms/step - accuracy: 0.0000e+00 - f1_score: 0.6582 - loss: 0.6615 - val_accuracy: 0.0000e+00 - val_f1_score: 0.6563 - val_loss: 0.6631\n",
      "Epoch 295/300\n",
      "\u001b[1m5/5\u001b[0m \u001b[32m━━━━━━━━━━━━━━━━━━━━\u001b[0m\u001b[37m\u001b[0m \u001b[1m0s\u001b[0m 17ms/step - accuracy: 0.0000e+00 - f1_score: 0.6603 - loss: 0.6605 - val_accuracy: 0.0000e+00 - val_f1_score: 0.6563 - val_loss: 0.6631\n",
      "Epoch 296/300\n",
      "\u001b[1m5/5\u001b[0m \u001b[32m━━━━━━━━━━━━━━━━━━━━\u001b[0m\u001b[37m\u001b[0m \u001b[1m0s\u001b[0m 15ms/step - accuracy: 0.0000e+00 - f1_score: 0.6628 - loss: 0.6613 - val_accuracy: 0.0000e+00 - val_f1_score: 0.6563 - val_loss: 0.6631\n",
      "Epoch 297/300\n",
      "\u001b[1m5/5\u001b[0m \u001b[32m━━━━━━━━━━━━━━━━━━━━\u001b[0m\u001b[37m\u001b[0m \u001b[1m0s\u001b[0m 17ms/step - accuracy: 0.0000e+00 - f1_score: 0.6600 - loss: 0.6627 - val_accuracy: 0.0000e+00 - val_f1_score: 0.6563 - val_loss: 0.6631\n",
      "Epoch 298/300\n",
      "\u001b[1m5/5\u001b[0m \u001b[32m━━━━━━━━━━━━━━━━━━━━\u001b[0m\u001b[37m\u001b[0m \u001b[1m0s\u001b[0m 16ms/step - accuracy: 0.0000e+00 - f1_score: 0.6549 - loss: 0.6617 - val_accuracy: 0.0000e+00 - val_f1_score: 0.6563 - val_loss: 0.6631\n",
      "Epoch 299/300\n",
      "\u001b[1m5/5\u001b[0m \u001b[32m━━━━━━━━━━━━━━━━━━━━\u001b[0m\u001b[37m\u001b[0m \u001b[1m0s\u001b[0m 17ms/step - accuracy: 0.0000e+00 - f1_score: 0.6615 - loss: 0.6617 - val_accuracy: 0.0000e+00 - val_f1_score: 0.6563 - val_loss: 0.6631\n",
      "Epoch 300/300\n",
      "\u001b[1m5/5\u001b[0m \u001b[32m━━━━━━━━━━━━━━━━━━━━\u001b[0m\u001b[37m\u001b[0m \u001b[1m0s\u001b[0m 17ms/step - accuracy: 0.0000e+00 - f1_score: 0.6570 - loss: 0.6609 - val_accuracy: 0.0000e+00 - val_f1_score: 0.6563 - val_loss: 0.6631\n"
     ]
    }
   ],
   "source": [
    "model_classification = keras.Sequential([\n",
    "    keras. layers.InputLayer(shape=(5,)),\n",
    "    keras.layers.BatchNormalization(),\n",
    "    keras.layers.Dense (12, activation='relu'),\n",
    "    keras.layers.Dense (8, activation='relu'),\n",
    "    keras.layers.Dense (4, activation='relu'),\n",
    "    keras.layers.Dense (4, activation='relu'),\n",
    "    keras.layers.Dense (4, activation='relu'),\n",
    "    keras.layers.Dense (4, activation='relu'),\n",
    "    keras.layers.Dense (4, activation='relu'),\n",
    "    keras.layers.Dense (4, activation='relu'),\n",
    "    keras.layers.Dense (1, activation='sigmoid')\n",
    "])\n",
    "\n",
    "model_classification.compile(\n",
    "    optimizer=keras.optimizers.Adam(),\n",
    "    loss='binary_crossentropy',\n",
    "    metrics=['accuracy', 'f1_score']\n",
    ")\n",
    "\n",
    "history_2 = model_classification.fit(\n",
    "    X_train2,\n",
    "    Y_train2,\n",
    "    batch_size=150,\n",
    "    epochs=300,\n",
    "    validation_data=(X_valid2, Y_valid2),\n",
    "    verbose='auto',\n",
    ")"
   ]
  },
  {
   "cell_type": "code",
   "execution_count": 43,
   "metadata": {},
   "outputs": [
    {
     "data": {
      "application/vnd.plotly.v1+json": {
       "config": {
        "plotlyServerURL": "https://plot.ly"
       },
       "data": [
        {
         "hovertemplate": "variable=loss<br>index=%{x}<br>value=%{y}<extra></extra>",
         "legendgroup": "loss",
         "line": {
          "color": "#636efa",
          "dash": "solid"
         },
         "marker": {
          "symbol": "circle"
         },
         "mode": "lines",
         "name": "loss",
         "orientation": "v",
         "showlegend": true,
         "type": "scatter",
         "x": {
          "bdata": "AAABAAIAAwAEAAUABgAHAAgACQAKAAsADAANAA4ADwAQABEAEgATABQAFQAWABcAGAAZABoAGwAcAB0AHgAfACAAIQAiACMAJAAlACYAJwAoACkAKgArACwALQAuAC8AMAAxADIAMwA0ADUANgA3ADgAOQA6ADsAPAA9AD4APwBAAEEAQgBDAEQARQBGAEcASABJAEoASwBMAE0ATgBPAFAAUQBSAFMAVABVAFYAVwBYAFkAWgBbAFwAXQBeAF8AYABhAGIAYwBkAGUAZgBnAGgAaQBqAGsAbABtAG4AbwBwAHEAcgBzAHQAdQB2AHcAeAB5AHoAewB8AH0AfgB/AIAAgQCCAIMAhACFAIYAhwCIAIkAigCLAIwAjQCOAI8AkACRAJIAkwCUAJUAlgCXAJgAmQCaAJsAnACdAJ4AnwCgAKEAogCjAKQApQCmAKcAqACpAKoAqwCsAK0ArgCvALAAsQCyALMAtAC1ALYAtwC4ALkAugC7ALwAvQC+AL8AwADBAMIAwwDEAMUAxgDHAMgAyQDKAMsAzADNAM4AzwDQANEA0gDTANQA1QDWANcA2ADZANoA2wDcAN0A3gDfAOAA4QDiAOMA5ADlAOYA5wDoAOkA6gDrAOwA7QDuAO8A8ADxAPIA8wD0APUA9gD3APgA+QD6APsA/AD9AP4A/wAAAQEBAgEDAQQBBQEGAQcBCAEJAQoBCwEMAQ0BDgEPARABEQESARMBFAEVARYBFwEYARkBGgEbARwBHQEeAR8BIAEhASIBIwEkASUBJgEnASgBKQEqASsB",
          "dtype": "i2"
         },
         "xaxis": "x",
         "y": {
          "bdata": "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",
          "dtype": "f8"
         },
         "yaxis": "y"
        },
        {
         "hovertemplate": "variable=val_loss<br>index=%{x}<br>value=%{y}<extra></extra>",
         "legendgroup": "val_loss",
         "line": {
          "color": "#EF553B",
          "dash": "solid"
         },
         "marker": {
          "symbol": "circle"
         },
         "mode": "lines",
         "name": "val_loss",
         "orientation": "v",
         "showlegend": true,
         "type": "scatter",
         "x": {
          "bdata": "AAABAAIAAwAEAAUABgAHAAgACQAKAAsADAANAA4ADwAQABEAEgATABQAFQAWABcAGAAZABoAGwAcAB0AHgAfACAAIQAiACMAJAAlACYAJwAoACkAKgArACwALQAuAC8AMAAxADIAMwA0ADUANgA3ADgAOQA6ADsAPAA9AD4APwBAAEEAQgBDAEQARQBGAEcASABJAEoASwBMAE0ATgBPAFAAUQBSAFMAVABVAFYAVwBYAFkAWgBbAFwAXQBeAF8AYABhAGIAYwBkAGUAZgBnAGgAaQBqAGsAbABtAG4AbwBwAHEAcgBzAHQAdQB2AHcAeAB5AHoAewB8AH0AfgB/AIAAgQCCAIMAhACFAIYAhwCIAIkAigCLAIwAjQCOAI8AkACRAJIAkwCUAJUAlgCXAJgAmQCaAJsAnACdAJ4AnwCgAKEAogCjAKQApQCmAKcAqACpAKoAqwCsAK0ArgCvALAAsQCyALMAtAC1ALYAtwC4ALkAugC7ALwAvQC+AL8AwADBAMIAwwDEAMUAxgDHAMgAyQDKAMsAzADNAM4AzwDQANEA0gDTANQA1QDWANcA2ADZANoA2wDcAN0A3gDfAOAA4QDiAOMA5ADlAOYA5wDoAOkA6gDrAOwA7QDuAO8A8ADxAPIA8wD0APUA9gD3APgA+QD6APsA/AD9AP4A/wAAAQEBAgEDAQQBBQEGAQcBCAEJAQoBCwEMAQ0BDgEPARABEQESARMBFAEVARYBFwEYARkBGgEbARwBHQEeAR8BIAEhASIBIwEkASUBJgEnASgBKQEqASsB",
          "dtype": "i2"
         },
         "xaxis": "x",
         "y": {
          "bdata": "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",
          "dtype": "f8"
         },
         "yaxis": "y"
        }
       ],
       "layout": {
        "legend": {
         "title": {
          "text": "variable"
         },
         "tracegroupgap": 0
        },
        "margin": {
         "t": 60
        },
        "template": {
         "data": {
          "bar": [
           {
            "error_x": {
             "color": "#2a3f5f"
            },
            "error_y": {
             "color": "#2a3f5f"
            },
            "marker": {
             "line": {
              "color": "#E5ECF6",
              "width": 0.5
             },
             "pattern": {
              "fillmode": "overlay",
              "size": 10,
              "solidity": 0.2
             }
            },
            "type": "bar"
           }
          ],
          "barpolar": [
           {
            "marker": {
             "line": {
              "color": "#E5ECF6",
              "width": 0.5
             },
             "pattern": {
              "fillmode": "overlay",
              "size": 10,
              "solidity": 0.2
             }
            },
            "type": "barpolar"
           }
          ],
          "carpet": [
           {
            "aaxis": {
             "endlinecolor": "#2a3f5f",
             "gridcolor": "white",
             "linecolor": "white",
             "minorgridcolor": "white",
             "startlinecolor": "#2a3f5f"
            },
            "baxis": {
             "endlinecolor": "#2a3f5f",
             "gridcolor": "white",
             "linecolor": "white",
             "minorgridcolor": "white",
             "startlinecolor": "#2a3f5f"
            },
            "type": "carpet"
           }
          ],
          "choropleth": [
           {
            "colorbar": {
             "outlinewidth": 0,
             "ticks": ""
            },
            "type": "choropleth"
           }
          ],
          "contour": [
           {
            "colorbar": {
             "outlinewidth": 0,
             "ticks": ""
            },
            "colorscale": [
             [
              0,
              "#0d0887"
             ],
             [
              0.1111111111111111,
              "#46039f"
             ],
             [
              0.2222222222222222,
              "#7201a8"
             ],
             [
              0.3333333333333333,
              "#9c179e"
             ],
             [
              0.4444444444444444,
              "#bd3786"
             ],
             [
              0.5555555555555556,
              "#d8576b"
             ],
             [
              0.6666666666666666,
              "#ed7953"
             ],
             [
              0.7777777777777778,
              "#fb9f3a"
             ],
             [
              0.8888888888888888,
              "#fdca26"
             ],
             [
              1,
              "#f0f921"
             ]
            ],
            "type": "contour"
           }
          ],
          "contourcarpet": [
           {
            "colorbar": {
             "outlinewidth": 0,
             "ticks": ""
            },
            "type": "contourcarpet"
           }
          ],
          "heatmap": [
           {
            "colorbar": {
             "outlinewidth": 0,
             "ticks": ""
            },
            "colorscale": [
             [
              0,
              "#0d0887"
             ],
             [
              0.1111111111111111,
              "#46039f"
             ],
             [
              0.2222222222222222,
              "#7201a8"
             ],
             [
              0.3333333333333333,
              "#9c179e"
             ],
             [
              0.4444444444444444,
              "#bd3786"
             ],
             [
              0.5555555555555556,
              "#d8576b"
             ],
             [
              0.6666666666666666,
              "#ed7953"
             ],
             [
              0.7777777777777778,
              "#fb9f3a"
             ],
             [
              0.8888888888888888,
              "#fdca26"
             ],
             [
              1,
              "#f0f921"
             ]
            ],
            "type": "heatmap"
           }
          ],
          "histogram": [
           {
            "marker": {
             "pattern": {
              "fillmode": "overlay",
              "size": 10,
              "solidity": 0.2
             }
            },
            "type": "histogram"
           }
          ],
          "histogram2d": [
           {
            "colorbar": {
             "outlinewidth": 0,
             "ticks": ""
            },
            "colorscale": [
             [
              0,
              "#0d0887"
             ],
             [
              0.1111111111111111,
              "#46039f"
             ],
             [
              0.2222222222222222,
              "#7201a8"
             ],
             [
              0.3333333333333333,
              "#9c179e"
             ],
             [
              0.4444444444444444,
              "#bd3786"
             ],
             [
              0.5555555555555556,
              "#d8576b"
             ],
             [
              0.6666666666666666,
              "#ed7953"
             ],
             [
              0.7777777777777778,
              "#fb9f3a"
             ],
             [
              0.8888888888888888,
              "#fdca26"
             ],
             [
              1,
              "#f0f921"
             ]
            ],
            "type": "histogram2d"
           }
          ],
          "histogram2dcontour": [
           {
            "colorbar": {
             "outlinewidth": 0,
             "ticks": ""
            },
            "colorscale": [
             [
              0,
              "#0d0887"
             ],
             [
              0.1111111111111111,
              "#46039f"
             ],
             [
              0.2222222222222222,
              "#7201a8"
             ],
             [
              0.3333333333333333,
              "#9c179e"
             ],
             [
              0.4444444444444444,
              "#bd3786"
             ],
             [
              0.5555555555555556,
              "#d8576b"
             ],
             [
              0.6666666666666666,
              "#ed7953"
             ],
             [
              0.7777777777777778,
              "#fb9f3a"
             ],
             [
              0.8888888888888888,
              "#fdca26"
             ],
             [
              1,
              "#f0f921"
             ]
            ],
            "type": "histogram2dcontour"
           }
          ],
          "mesh3d": [
           {
            "colorbar": {
             "outlinewidth": 0,
             "ticks": ""
            },
            "type": "mesh3d"
           }
          ],
          "parcoords": [
           {
            "line": {
             "colorbar": {
              "outlinewidth": 0,
              "ticks": ""
             }
            },
            "type": "parcoords"
           }
          ],
          "pie": [
           {
            "automargin": true,
            "type": "pie"
           }
          ],
          "scatter": [
           {
            "fillpattern": {
             "fillmode": "overlay",
             "size": 10,
             "solidity": 0.2
            },
            "type": "scatter"
           }
          ],
          "scatter3d": [
           {
            "line": {
             "colorbar": {
              "outlinewidth": 0,
              "ticks": ""
             }
            },
            "marker": {
             "colorbar": {
              "outlinewidth": 0,
              "ticks": ""
             }
            },
            "type": "scatter3d"
           }
          ],
          "scattercarpet": [
           {
            "marker": {
             "colorbar": {
              "outlinewidth": 0,
              "ticks": ""
             }
            },
            "type": "scattercarpet"
           }
          ],
          "scattergeo": [
           {
            "marker": {
             "colorbar": {
              "outlinewidth": 0,
              "ticks": ""
             }
            },
            "type": "scattergeo"
           }
          ],
          "scattergl": [
           {
            "marker": {
             "colorbar": {
              "outlinewidth": 0,
              "ticks": ""
             }
            },
            "type": "scattergl"
           }
          ],
          "scattermap": [
           {
            "marker": {
             "colorbar": {
              "outlinewidth": 0,
              "ticks": ""
             }
            },
            "type": "scattermap"
           }
          ],
          "scattermapbox": [
           {
            "marker": {
             "colorbar": {
              "outlinewidth": 0,
              "ticks": ""
             }
            },
            "type": "scattermapbox"
           }
          ],
          "scatterpolar": [
           {
            "marker": {
             "colorbar": {
              "outlinewidth": 0,
              "ticks": ""
             }
            },
            "type": "scatterpolar"
           }
          ],
          "scatterpolargl": [
           {
            "marker": {
             "colorbar": {
              "outlinewidth": 0,
              "ticks": ""
             }
            },
            "type": "scatterpolargl"
           }
          ],
          "scatterternary": [
           {
            "marker": {
             "colorbar": {
              "outlinewidth": 0,
              "ticks": ""
             }
            },
            "type": "scatterternary"
           }
          ],
          "surface": [
           {
            "colorbar": {
             "outlinewidth": 0,
             "ticks": ""
            },
            "colorscale": [
             [
              0,
              "#0d0887"
             ],
             [
              0.1111111111111111,
              "#46039f"
             ],
             [
              0.2222222222222222,
              "#7201a8"
             ],
             [
              0.3333333333333333,
              "#9c179e"
             ],
             [
              0.4444444444444444,
              "#bd3786"
             ],
             [
              0.5555555555555556,
              "#d8576b"
             ],
             [
              0.6666666666666666,
              "#ed7953"
             ],
             [
              0.7777777777777778,
              "#fb9f3a"
             ],
             [
              0.8888888888888888,
              "#fdca26"
             ],
             [
              1,
              "#f0f921"
             ]
            ],
            "type": "surface"
           }
          ],
          "table": [
           {
            "cells": {
             "fill": {
              "color": "#EBF0F8"
             },
             "line": {
              "color": "white"
             }
            },
            "header": {
             "fill": {
              "color": "#C8D4E3"
             },
             "line": {
              "color": "white"
             }
            },
            "type": "table"
           }
          ]
         },
         "layout": {
          "annotationdefaults": {
           "arrowcolor": "#2a3f5f",
           "arrowhead": 0,
           "arrowwidth": 1
          },
          "autotypenumbers": "strict",
          "coloraxis": {
           "colorbar": {
            "outlinewidth": 0,
            "ticks": ""
           }
          },
          "colorscale": {
           "diverging": [
            [
             0,
             "#8e0152"
            ],
            [
             0.1,
             "#c51b7d"
            ],
            [
             0.2,
             "#de77ae"
            ],
            [
             0.3,
             "#f1b6da"
            ],
            [
             0.4,
             "#fde0ef"
            ],
            [
             0.5,
             "#f7f7f7"
            ],
            [
             0.6,
             "#e6f5d0"
            ],
            [
             0.7,
             "#b8e186"
            ],
            [
             0.8,
             "#7fbc41"
            ],
            [
             0.9,
             "#4d9221"
            ],
            [
             1,
             "#276419"
            ]
           ],
           "sequential": [
            [
             0,
             "#0d0887"
            ],
            [
             0.1111111111111111,
             "#46039f"
            ],
            [
             0.2222222222222222,
             "#7201a8"
            ],
            [
             0.3333333333333333,
             "#9c179e"
            ],
            [
             0.4444444444444444,
             "#bd3786"
            ],
            [
             0.5555555555555556,
             "#d8576b"
            ],
            [
             0.6666666666666666,
             "#ed7953"
            ],
            [
             0.7777777777777778,
             "#fb9f3a"
            ],
            [
             0.8888888888888888,
             "#fdca26"
            ],
            [
             1,
             "#f0f921"
            ]
           ],
           "sequentialminus": [
            [
             0,
             "#0d0887"
            ],
            [
             0.1111111111111111,
             "#46039f"
            ],
            [
             0.2222222222222222,
             "#7201a8"
            ],
            [
             0.3333333333333333,
             "#9c179e"
            ],
            [
             0.4444444444444444,
             "#bd3786"
            ],
            [
             0.5555555555555556,
             "#d8576b"
            ],
            [
             0.6666666666666666,
             "#ed7953"
            ],
            [
             0.7777777777777778,
             "#fb9f3a"
            ],
            [
             0.8888888888888888,
             "#fdca26"
            ],
            [
             1,
             "#f0f921"
            ]
           ]
          },
          "colorway": [
           "#636efa",
           "#EF553B",
           "#00cc96",
           "#ab63fa",
           "#FFA15A",
           "#19d3f3",
           "#FF6692",
           "#B6E880",
           "#FF97FF",
           "#FECB52"
          ],
          "font": {
           "color": "#2a3f5f"
          },
          "geo": {
           "bgcolor": "white",
           "lakecolor": "white",
           "landcolor": "#E5ECF6",
           "showlakes": true,
           "showland": true,
           "subunitcolor": "white"
          },
          "hoverlabel": {
           "align": "left"
          },
          "hovermode": "closest",
          "mapbox": {
           "style": "light"
          },
          "paper_bgcolor": "white",
          "plot_bgcolor": "#E5ECF6",
          "polar": {
           "angularaxis": {
            "gridcolor": "white",
            "linecolor": "white",
            "ticks": ""
           },
           "bgcolor": "#E5ECF6",
           "radialaxis": {
            "gridcolor": "white",
            "linecolor": "white",
            "ticks": ""
           }
          },
          "scene": {
           "xaxis": {
            "backgroundcolor": "#E5ECF6",
            "gridcolor": "white",
            "gridwidth": 2,
            "linecolor": "white",
            "showbackground": true,
            "ticks": "",
            "zerolinecolor": "white"
           },
           "yaxis": {
            "backgroundcolor": "#E5ECF6",
            "gridcolor": "white",
            "gridwidth": 2,
            "linecolor": "white",
            "showbackground": true,
            "ticks": "",
            "zerolinecolor": "white"
           },
           "zaxis": {
            "backgroundcolor": "#E5ECF6",
            "gridcolor": "white",
            "gridwidth": 2,
            "linecolor": "white",
            "showbackground": true,
            "ticks": "",
            "zerolinecolor": "white"
           }
          },
          "shapedefaults": {
           "line": {
            "color": "#2a3f5f"
           }
          },
          "ternary": {
           "aaxis": {
            "gridcolor": "white",
            "linecolor": "white",
            "ticks": ""
           },
           "baxis": {
            "gridcolor": "white",
            "linecolor": "white",
            "ticks": ""
           },
           "bgcolor": "#E5ECF6",
           "caxis": {
            "gridcolor": "white",
            "linecolor": "white",
            "ticks": ""
           }
          },
          "title": {
           "x": 0.05
          },
          "xaxis": {
           "automargin": true,
           "gridcolor": "white",
           "linecolor": "white",
           "ticks": "",
           "title": {
            "standoff": 15
           },
           "zerolinecolor": "white",
           "zerolinewidth": 2
          },
          "yaxis": {
           "automargin": true,
           "gridcolor": "white",
           "linecolor": "white",
           "ticks": "",
           "title": {
            "standoff": 15
           },
           "zerolinecolor": "white",
           "zerolinewidth": 2
          }
         }
        },
        "xaxis": {
         "anchor": "y",
         "domain": [
          0,
          1
         ],
         "title": {
          "text": "index"
         }
        },
        "yaxis": {
         "anchor": "x",
         "domain": [
          0,
          1
         ],
         "title": {
          "text": "value"
         }
        }
       }
      }
     },
     "metadata": {},
     "output_type": "display_data"
    }
   ],
   "source": [
    "metrics_2 = {'loss': history_2.history.get('loss'), 'val_loss': history_2.history.get('val_loss')}\n",
    "fig = px.line(metrics_2)\n",
    "fig.show()"
   ]
  },
  {
   "cell_type": "code",
   "execution_count": 44,
   "metadata": {},
   "outputs": [
    {
     "name": "stdout",
     "output_type": "stream",
     "text": [
      "\u001b[1m4/4\u001b[0m \u001b[32m━━━━━━━━━━━━━━━━━━━━\u001b[0m\u001b[37m\u001b[0m \u001b[1m0s\u001b[0m 16ms/step\n",
      "\u001b[1m4/4\u001b[0m \u001b[32m━━━━━━━━━━━━━━━━━━━━\u001b[0m\u001b[37m\u001b[0m \u001b[1m0s\u001b[0m 24ms/step\n"
     ]
    }
   ],
   "source": [
    "Y_pred_1 = model_regression_1.predict(X_test)\n",
    "Y_pred_2 = model_classification.predict(X_test2)"
   ]
  },
  {
   "cell_type": "code",
   "execution_count": 45,
   "metadata": {},
   "outputs": [
    {
     "name": "stdout",
     "output_type": "stream",
     "text": [
      "Confusion Matrix:\n",
      "[[61  0]\n",
      " [ 6 33]]\n",
      "Accuracy: 0.9400, Recall: 0.8462, Precision: 1.0000, F1-score: 0.9167\n"
     ]
    }
   ],
   "source": [
    "Y_test2_binary = (Y_test2 > 0.5).astype(int)  \n",
    "Y_pred_2_binary = (Y_pred_2 > 0.5).astype(int)\n",
    "\n",
    "conf_matrix = confusion_matrix(Y_test2_binary, Y_pred_2_binary)\n",
    "accuracy = accuracy_score(Y_test2_binary, Y_pred_2_binary)\n",
    "recall = recall_score(Y_test2_binary, Y_pred_2_binary)\n",
    "precision = precision_score(Y_test2_binary, Y_pred_2_binary)\n",
    "f1 = f1_score(Y_test2_binary, Y_pred_2_binary)\n",
    "\n",
    "print(f\"Confusion Matrix:\\n{conf_matrix}\")\n",
    "print(f\"Accuracy: {accuracy:.4f}, Recall: {recall:.4f}, Precision: {precision:.4f}, F1-score: {f1:.4f}\")\n"
   ]
  },
  {
   "cell_type": "code",
   "execution_count": 46,
   "metadata": {},
   "outputs": [
    {
     "name": "stdout",
     "output_type": "stream",
     "text": [
      "Confusion Matrix:\n",
      "[[59  2]\n",
      " [ 6 33]]\n",
      "Accuracy: 0.9200, F1-score: 0.8919\n"
     ]
    }
   ],
   "source": [
    "threshold = 0.5\n",
    "Y_train2_binary = (Y_train2 > threshold).astype(int)\n",
    "Y_test2_binary = (Y_test2 > threshold).astype(int)\n",
    "\n",
    "from sklearn.ensemble import RandomForestClassifier\n",
    "from sklearn.metrics import accuracy_score, confusion_matrix, f1_score\n",
    "\n",
    "Y_pred_rfc = RandomForestClassifier().fit(X_train2, Y_train2_binary).predict(X_test2)\n",
    "\n",
    "conf_matrix = confusion_matrix(Y_test2_binary, Y_pred_rfc)\n",
    "accuracy = accuracy_score(Y_test2_binary, Y_pred_rfc)\n",
    "f1 = f1_score(Y_test2_binary, Y_pred_rfc)\n",
    "\n",
    "print(f\"Confusion Matrix:\\n{conf_matrix}\")\n",
    "print(f\"Accuracy: {accuracy:.4f}, F1-score: {f1:.4f}\")\n"
   ]
  }
 ],
 "metadata": {
  "kernelspec": {
   "display_name": "Python 3",
   "language": "python",
   "name": "python3"
  },
  "language_info": {
   "codemirror_mode": {
    "name": "ipython",
    "version": 3
   },
   "file_extension": ".py",
   "mimetype": "text/x-python",
   "name": "python",
   "nbconvert_exporter": "python",
   "pygments_lexer": "ipython3",
   "version": "3.10.10"
  }
 },
 "nbformat": 4,
 "nbformat_minor": 2
}
